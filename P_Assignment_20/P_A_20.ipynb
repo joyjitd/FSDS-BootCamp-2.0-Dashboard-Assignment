{
 "cells": [
  {
   "cell_type": "markdown",
   "id": "2884957d-cc17-436a-b959-b815329bd7b1",
   "metadata": {},
   "source": [
    "## Program Assignment 20"
   ]
  },
  {
   "cell_type": "markdown",
   "id": "6def696e-7673-48ce-bd6f-4f73e75f7a44",
   "metadata": {},
   "source": [
    "#Question1\n",
    "Create a function that takes a list of strings and integers, and filters out the list so that it returns a list of integers only.\n",
    "Examples\n",
    "filter_list([1, 2, 3, \"a\", \"b\", 4]) ➞ [1, 2, 3, 4]\n",
    "\n",
    "filter_list([\"A\", 0, \"Edabit\", 1729, \"Python\", \"1729\"]) ➞ [0, 1729]\n",
    "\n",
    "filter_list([\"Nothing\", \"here\"]) ➞ []\n"
   ]
  },
  {
   "cell_type": "code",
   "execution_count": 1,
   "id": "decb65e4-92ac-4d00-831b-37a6ac6cc014",
   "metadata": {},
   "outputs": [],
   "source": [
    "def filter_list(lst):\n",
    "    return [i for i in lst if type(i) == int]"
   ]
  },
  {
   "cell_type": "code",
   "execution_count": 2,
   "id": "f220a91f-bd2e-4839-bd09-f3f466d674bc",
   "metadata": {},
   "outputs": [
    {
     "data": {
      "text/plain": [
       "[1, 2, 3, 4]"
      ]
     },
     "execution_count": 2,
     "metadata": {},
     "output_type": "execute_result"
    }
   ],
   "source": [
    "filter_list([1, 2, 3, \"a\", \"b\", 4])"
   ]
  },
  {
   "cell_type": "code",
   "execution_count": null,
   "id": "f50689c7-aa58-4844-8b92-91adb1b85ea4",
   "metadata": {},
   "outputs": [],
   "source": [
    "#Question2\n",
    "Given a list of numbers, create a function which returns the list but with each element's index in the list added to itself. This means you add 0 to the number at index 0, add 1 to the number at index 1, etc...\n",
    "Examples\n",
    "add_indexes([0, 0, 0, 0, 0]) ➞ [0, 1, 2, 3, 4]\n",
    "\n",
    "add_indexes([1, 2, 3, 4, 5]) ➞ [1, 3, 5, 7, 9]\n",
    "\n",
    "add_indexes([5, 4, 3, 2, 1]) ➞ [5, 5, 5, 5, 5]"
   ]
  },
  {
   "cell_type": "code",
   "execution_count": 3,
   "id": "e5dc3273-e980-4c2c-aa90-8120b9539537",
   "metadata": {},
   "outputs": [],
   "source": [
    "def add_indexes(lst):\n",
    "    return [i + lst[i] for i in range(len(lst))]"
   ]
  },
  {
   "cell_type": "code",
   "execution_count": 4,
   "id": "f8252d8f-5d2f-423a-a90e-c4a574d61893",
   "metadata": {},
   "outputs": [
    {
     "data": {
      "text/plain": [
       "[0, 1, 2, 3, 4]"
      ]
     },
     "execution_count": 4,
     "metadata": {},
     "output_type": "execute_result"
    }
   ],
   "source": [
    "add_indexes([0, 0, 0, 0, 0])"
   ]
  },
  {
   "cell_type": "markdown",
   "id": "b900a0d8-9d8c-4a57-864b-9308f4046841",
   "metadata": {},
   "source": [
    "#Question3\n",
    "Create a function that takes the height and radius of a cone as arguments and returns the volume of the cone rounded to the nearest hundredth. See the resources tab for the formula.\n",
    "Examples\n",
    "cone_volume(3, 2) ➞ 12.57\n",
    "cone_volume(15, 6) ➞ 565.49\n",
    "cone_volume(18, 0) ➞ 0"
   ]
  },
  {
   "cell_type": "code",
   "execution_count": 5,
   "id": "c1e4a7dc-0775-43b8-a151-d8984edba8ad",
   "metadata": {},
   "outputs": [
    {
     "name": "stdout",
     "output_type": "stream",
     "text": [
      "\u001b[31mERROR: Could not find a version that satisfies the requirement math (from versions: none)\u001b[0m\u001b[31m\n",
      "\u001b[0m\u001b[31mERROR: No matching distribution found for math\u001b[0m\u001b[31m\n",
      "\u001b[0mNote: you may need to restart the kernel to use updated packages.\n"
     ]
    }
   ],
   "source": [
    "pip install math"
   ]
  },
  {
   "cell_type": "code",
   "execution_count": 6,
   "id": "3497ffaf-cc58-48a2-9d10-e8200af5293a",
   "metadata": {},
   "outputs": [],
   "source": [
    "import math\n",
    "def cone_volume(h, r):\n",
    "    if r == 0:\n",
    "        return 0\n",
    "    else:\n",
    "        volume = (1/3) * math.pi * r**2 * h\n",
    "        return round(volume, 2) # Round is used for rounding the interger to two decimal places. "
   ]
  },
  {
   "cell_type": "code",
   "execution_count": 7,
   "id": "d36630b9-7836-46ab-83d4-b8906e775879",
   "metadata": {},
   "outputs": [
    {
     "name": "stdout",
     "output_type": "stream",
     "text": [
      "12.57\n"
     ]
    }
   ],
   "source": [
    "print(cone_volume(3, 2))"
   ]
  },
  {
   "cell_type": "markdown",
   "id": "0ed10f6f-ace7-4020-8950-d3e508bf3806",
   "metadata": {},
   "source": [
    "#Question 5\n",
    "Create a function that takes a list of numbers \n",
    "between 1 and 10 (excluding one number) \n",
    "and returns the missing number.\n",
    "Examples\n",
    "missing_num([1, 2, 3, 4, 6, 7, 8, 9, 10]) ➞ 5\n",
    "\n",
    "missing_num([7, 2, 3, 6, 5, 9, 1, 4, 8]) ➞ 10\n",
    "\n",
    "missing_num([10, 5, 1, 2, 4, 6, 8, 3, 9]) ➞ 7\n"
   ]
  },
  {
   "cell_type": "code",
   "execution_count": 8,
   "id": "28c818cc-0571-495c-9089-5e27a77df8ba",
   "metadata": {},
   "outputs": [],
   "source": [
    "all_nums = set(range(1, 11))"
   ]
  },
  {
   "cell_type": "code",
   "execution_count": 9,
   "id": "40ce69c0-8565-4622-8fcf-898858066144",
   "metadata": {},
   "outputs": [
    {
     "name": "stdout",
     "output_type": "stream",
     "text": [
      "{1, 2, 3, 4, 5, 6, 7, 8, 9, 10}\n"
     ]
    }
   ],
   "source": [
    "print(all_nums)"
   ]
  },
  {
   "cell_type": "code",
   "execution_count": 10,
   "id": "d0d10a18-6991-4490-ab27-3e8dc3b5c8f0",
   "metadata": {},
   "outputs": [
    {
     "data": {
      "text/plain": [
       "set"
      ]
     },
     "execution_count": 10,
     "metadata": {},
     "output_type": "execute_result"
    }
   ],
   "source": [
    "type(all_nums)"
   ]
  },
  {
   "cell_type": "code",
   "execution_count": 11,
   "id": "cde93257-ece4-4410-ad7f-23e85b0cdacc",
   "metadata": {},
   "outputs": [],
   "source": [
    "def missing_num(lst):\n",
    "    all_nums = set(range(1, 11))\n",
    "    missing_num = all_nums - set(lst)\n",
    "    return list(missing_num)[0]"
   ]
  },
  {
   "cell_type": "code",
   "execution_count": 12,
   "id": "b8816940-6db7-424b-9fb9-86ada2d68bed",
   "metadata": {},
   "outputs": [
    {
     "name": "stdout",
     "output_type": "stream",
     "text": [
      "5\n"
     ]
    }
   ],
   "source": [
    "print(missing_num([1, 2, 3, 4, 6, 7, 8, 9, 10]))"
   ]
  },
  {
   "cell_type": "code",
   "execution_count": null,
   "id": "d1abcd04-fcf8-43ee-9c2b-c61b6f0fa21e",
   "metadata": {},
   "outputs": [],
   "source": []
  }
 ],
 "metadata": {
  "kernelspec": {
   "display_name": "Python 3 (ipykernel)",
   "language": "python",
   "name": "python3"
  },
  "language_info": {
   "codemirror_mode": {
    "name": "ipython",
    "version": 3
   },
   "file_extension": ".py",
   "mimetype": "text/x-python",
   "name": "python",
   "nbconvert_exporter": "python",
   "pygments_lexer": "ipython3",
   "version": "3.10.6"
  }
 },
 "nbformat": 4,
 "nbformat_minor": 5
}
