{
  "nbformat": 4,
  "nbformat_minor": 0,
  "metadata": {
    "colab": {
      "provenance": [],
      "collapsed_sections": []
    },
    "kernelspec": {
      "name": "python3",
      "display_name": "Python 3"
    },
    "language_info": {
      "name": "python"
    }
  },
  "cells": [
    {
      "cell_type": "markdown",
      "source": [
        "# Dashboard_bootcamp_Assignment_008"
      ],
      "metadata": {
        "id": "uq5sBwW6X8hu"
      }
    },
    {
      "cell_type": "markdown",
      "source": [
        "# 1. Is the Python Standard Library included with PyInputPlus?\n",
        "#Answer\n",
        "PyInputPlus is not a part of the Python Standard Library, so you must install it separately using Pip\n"
      ],
      "metadata": {
        "id": "vxE9o8GcX_qd"
      }
    },
    {
      "cell_type": "code",
      "source": [
        "!pip install pyinputplus"
      ],
      "metadata": {
        "colab": {
          "base_uri": "https://localhost:8080/"
        },
        "id": "wiYWJTXaYdzQ",
        "outputId": "8264daf4-a2bb-4409-fdeb-86c2635c9240"
      },
      "execution_count": 1,
      "outputs": [
        {
          "output_type": "stream",
          "name": "stdout",
          "text": [
            "Looking in indexes: https://pypi.org/simple, https://us-python.pkg.dev/colab-wheels/public/simple/\n",
            "Collecting pyinputplus\n",
            "  Downloading PyInputPlus-0.2.12.tar.gz (20 kB)\n",
            "  Installing build dependencies ... \u001b[?25l\u001b[?25hdone\n",
            "  Getting requirements to build wheel ... \u001b[?25l\u001b[?25hdone\n",
            "    Preparing wheel metadata ... \u001b[?25l\u001b[?25hdone\n",
            "Collecting stdiomask>=0.0.3\n",
            "  Downloading stdiomask-0.0.6.tar.gz (3.6 kB)\n",
            "  Installing build dependencies ... \u001b[?25l\u001b[?25hdone\n",
            "  Getting requirements to build wheel ... \u001b[?25l\u001b[?25hdone\n",
            "    Preparing wheel metadata ... \u001b[?25l\u001b[?25hdone\n",
            "Collecting pysimplevalidate>=0.2.7\n",
            "  Downloading PySimpleValidate-0.2.12.tar.gz (22 kB)\n",
            "  Installing build dependencies ... \u001b[?25l\u001b[?25hdone\n",
            "  Getting requirements to build wheel ... \u001b[?25l\u001b[?25hdone\n",
            "    Preparing wheel metadata ... \u001b[?25l\u001b[?25hdone\n",
            "Building wheels for collected packages: pyinputplus, pysimplevalidate, stdiomask\n",
            "  Building wheel for pyinputplus (PEP 517) ... \u001b[?25l\u001b[?25hdone\n",
            "  Created wheel for pyinputplus: filename=PyInputPlus-0.2.12-py3-none-any.whl size=11315 sha256=924b043be3c8a7d9383abfd50590c4bb09518b9951f06ec1052f411b4c01a3ff\n",
            "  Stored in directory: /root/.cache/pip/wheels/e7/33/73/719f8f1bd984d39face880fd22f6c5ef1b85f726e84c687094\n",
            "  Building wheel for pysimplevalidate (PEP 517) ... \u001b[?25l\u001b[?25hdone\n",
            "  Created wheel for pysimplevalidate: filename=PySimpleValidate-0.2.12-py3-none-any.whl size=16193 sha256=b82dd0a5dd467cc02f054fc8e58fd78f96b3ec85af1fba140cf8ad15d0889273\n",
            "  Stored in directory: /root/.cache/pip/wheels/5a/8b/6c/2925d22b93860bdc9b8ce02c3d2cf79336606f7469cef66065\n",
            "  Building wheel for stdiomask (PEP 517) ... \u001b[?25l\u001b[?25hdone\n",
            "  Created wheel for stdiomask: filename=stdiomask-0.0.6-py3-none-any.whl size=3321 sha256=a8613525fd0071b1f7bcbb12aab467c3f658d567bac485a94e87cd9b5d798084\n",
            "  Stored in directory: /root/.cache/pip/wheels/cf/13/89/64d0d3b167759523f4c1e68f883bbc30e7bfa27050edeb418e\n",
            "Successfully built pyinputplus pysimplevalidate stdiomask\n",
            "Installing collected packages: stdiomask, pysimplevalidate, pyinputplus\n",
            "Successfully installed pyinputplus-0.2.12 pysimplevalidate-0.2.12 stdiomask-0.0.6\n"
          ]
        }
      ]
    },
    {
      "cell_type": "markdown",
      "source": [
        "# 2. Why is PyInputPlus commonly imported with import pyinputplus as pypi?\n",
        "#Answer:\n",
        "Ans. pypi is alias of PyInputPlus. The as pyip code in the import statement saves us from typing pyinputplus each time we want to call a PyInputPlus function. Instead we can use the shorter pyip name"
      ],
      "metadata": {
        "id": "Vreciw0LYlGV"
      }
    },
    {
      "cell_type": "markdown",
      "source": [
        "#3.Q. How do you distinguish between inputInt() and inputFloat()?\n",
        "# Answer: \n",
        "The differnce between inputInt() and inputFloat() is as follows:\n",
        " \n",
        "- inputInt() : Accepts an integer value, and returns int value\n",
        "- inputFloat() : Accepts integer/floating point value and returns float value"
      ],
      "metadata": {
        "id": "L1kQvCHLYu6l"
      }
    },
    {
      "cell_type": "code",
      "source": [
        "import pyinputplus as pyip\n",
        "A = tInt(\"Enter an Integer Number\") # Accepts an integer value, and returns int value\n",
        "B = pyip.inputFloat(\"Enter an Decimal or Integer Number\") # Accepts integer/floating point value and returns float value\n",
        "print(A+B)"
      ],
      "metadata": {
        "colab": {
          "base_uri": "https://localhost:8080/"
        },
        "id": "Q1zTMlBgYeFp",
        "outputId": "63c63f89-85ec-4e74-813f-126108842029"
      },
      "execution_count": 6,
      "outputs": [
        {
          "output_type": "stream",
          "name": "stdout",
          "text": [
            "Enter an Integer Number2\n",
            "Enter an Decimal or Integer Number2.2\n",
            "4.2\n"
          ]
        }
      ]
    },
    {
      "cell_type": "markdown",
      "source": [
        "# 4. Using PyInputPlus, how do you ensure that the user enters a whole number between 0 and 99?\n",
        "#Answer \n",
        "\n"
      ],
      "metadata": {
        "id": "bj_S0f_sZu7f"
      }
    },
    {
      "cell_type": "code",
      "source": [
        "pyip.inputInt(\"Enter a number between 0 to 99 \", min = 0, max =99)"
      ],
      "metadata": {
        "colab": {
          "base_uri": "https://localhost:8080/"
        },
        "id": "vL9D_V0lZJ2i",
        "outputId": "177dff4b-04b2-4eec-8a90-b32d586e1ed1"
      },
      "execution_count": 10,
      "outputs": [
        {
          "name": "stdout",
          "output_type": "stream",
          "text": [
            "Enter a number between 0 to 99 100\n",
            "Number must be at maximum 99.\n",
            "Enter a number between 0 to 99 -2\n",
            "Number must be at minimum 0.\n",
            "Enter a number between 0 to 99 2\n"
          ]
        },
        {
          "output_type": "execute_result",
          "data": {
            "text/plain": [
              "2"
            ]
          },
          "metadata": {},
          "execution_count": 10
        }
      ]
    },
    {
      "cell_type": "markdown",
      "source": [
        "# 5. What is transferred to the keyword arguments allowRegexes and blockRegexes?\n",
        "#Answer  UNABLE TO SOLVE\n",
        "The allowRegexes and blockRegexes arguments takes a list of regular expresseion string. PyinputPlus funcsition will accept or reject is defined in that allowRegexes and blockRegexes respectively. \n"
      ],
      "metadata": {
        "id": "NM58okm9bJNY"
      }
    },
    {
      "cell_type": "code",
      "source": [
        "res = pyip.inputNum(allowRegexes=[r'(I|V|X|L|C|D|M)+', r'zero']) # Unable to understand "
      ],
      "metadata": {
        "colab": {
          "base_uri": "https://localhost:8080/"
        },
        "id": "6-zwNqF5iBsV",
        "outputId": "5694a466-a502-4b89-a7a9-e34ce1fedd8b"
      },
      "execution_count": 14,
      "outputs": [
        {
          "name": "stdout",
          "output_type": "stream",
          "text": [
            "\n",
            "Blank values are not allowed.\n",
            "m\n",
            "'m' is not a number.\n",
            "M\n"
          ]
        }
      ]
    },
    {
      "cell_type": "markdown",
      "source": [
        "# 6. If a blank input is entered three times, what does inputStr(limit=3) do?\n",
        "# 7. 7. Q. If blank input is entered three times, what does inputStr(limit=3, default='hello') do?"
      ],
      "metadata": {
        "id": "LLa8qCLAj7hD"
      }
    },
    {
      "cell_type": "code",
      "source": [
        "7. Q. If blank input is entered three times, what does inputStr(limit=3, default='hello') do?"
      ],
      "metadata": {
        "colab": {
          "base_uri": "https://localhost:8080/"
        },
        "id": "sqZCgOkzjyGo",
        "outputId": "1be4383e-189a-4bcb-f386-e5ac398c91c3"
      },
      "execution_count": 16,
      "outputs": [
        {
          "output_type": "stream",
          "name": "stdout",
          "text": [
            "Object `do` not found.\n"
          ]
        }
      ]
    },
    {
      "cell_type": "markdown",
      "source": [],
      "metadata": {
        "id": "hnhC1yS9kADy"
      }
    }
  ]
}