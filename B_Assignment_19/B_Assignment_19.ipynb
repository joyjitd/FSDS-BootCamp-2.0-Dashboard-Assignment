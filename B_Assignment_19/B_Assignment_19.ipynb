{
 "cells": [
  {
   "cell_type": "markdown",
   "id": "bd8dc00a",
   "metadata": {},
   "source": [
    "1. Make a class called Thing with no contents and print it. Then, create an object called example from this class and also print it. Are the printed values the same or different?"
   ]
  },
  {
   "cell_type": "code",
   "execution_count": 1,
   "id": "10e58094",
   "metadata": {},
   "outputs": [
    {
     "name": "stdout",
     "output_type": "stream",
     "text": [
      "<class '__main__.Thing'>\n",
      "<__main__.Thing object at 0x00000213885C4D60>\n"
     ]
    }
   ],
   "source": [
    "class Thing:\n",
    "    pass\n",
    "\n",
    "print(Thing)\n",
    "\n",
    "example = Thing()\n",
    "print(example)\n"
   ]
  },
  {
   "cell_type": "markdown",
   "id": "cc818e91",
   "metadata": {},
   "source": [
    "2. Create a new class called Thing2 and add the value 'abc' to the letters class attribute. Letters should be printed."
   ]
  },
  {
   "cell_type": "code",
   "execution_count": 2,
   "id": "4a16f708",
   "metadata": {},
   "outputs": [
    {
     "name": "stdout",
     "output_type": "stream",
     "text": [
      "abc\n"
     ]
    }
   ],
   "source": [
    "class Thing2:\n",
    "    letters = 'abc'\n",
    "\n",
    "print(Thing2.letters)\n"
   ]
  },
  {
   "cell_type": "markdown",
   "id": "f76abb35",
   "metadata": {},
   "source": [
    "3. Make yet another class called, of course, Thing3. This time, assign the value 'xyz' to an instance (object) attribute called letters. Print letters. Do you need to make an object from the class to do this?"
   ]
  },
  {
   "cell_type": "code",
   "execution_count": 3,
   "id": "0cf6e610",
   "metadata": {},
   "outputs": [
    {
     "name": "stdout",
     "output_type": "stream",
     "text": [
      "xyz\n"
     ]
    }
   ],
   "source": [
    "class Thing3:\n",
    "    def __init__(self):\n",
    "        self.letters = 'xyz'\n",
    "\n",
    "obj = Thing3()\n",
    "print(obj.letters)"
   ]
  },
  {
   "cell_type": "markdown",
   "id": "80bc992b",
   "metadata": {},
   "source": [
    "4. Create an Element class with the instance attributes name, symbol, and number. Create a class object with the values 'Hydrogen,' 'H,' and 1."
   ]
  },
  {
   "cell_type": "code",
   "execution_count": 4,
   "id": "55d81fdb",
   "metadata": {},
   "outputs": [],
   "source": [
    "class Element:\n",
    "    def __init__(self, name, symbol, number):\n",
    "        self.name = name\n",
    "        self.symbol = symbol\n",
    "        self.number = number\n",
    "\n",
    "element_obj = Element('Hydrogen', 'H', 1)\n"
   ]
  },
  {
   "cell_type": "markdown",
   "id": "da610e08",
   "metadata": {},
   "source": [
    "5. Make a dictionary with these keys and values: 'name': 'Hydrogen', 'symbol': 'H', 'number': 1. Then, create an object called hydrogen from class Element using this dictionary."
   ]
  },
  {
   "cell_type": "code",
   "execution_count": null,
   "id": "e761ce78",
   "metadata": {},
   "outputs": [],
   "source": [
    "class Element:\n",
    "    def __init__(self, name, symbol, number):\n",
    "        self.name = name\n",
    "        self.symbol = symbol\n",
    "        self.number = number\n",
    "\n",
    "element_dict = {'name': 'Hydrogen', 'symbol': 'H', 'number': 1}\n",
    "\n",
    "hydrogen = Element(**element_dict)\n"
   ]
  },
  {
   "cell_type": "markdown",
   "id": "548ad99a",
   "metadata": {},
   "source": [
    "6. For the Element class, define a method called dump() that prints the values of the object’s attributes (name, symbol, and number). Create the hydrogen object from this new definition and use dump() to print its attributes."
   ]
  },
  {
   "cell_type": "code",
   "execution_count": 5,
   "id": "07c79278",
   "metadata": {},
   "outputs": [
    {
     "name": "stdout",
     "output_type": "stream",
     "text": [
      "Name: Hydrogen\n",
      "Symbol: H\n",
      "Number: 1\n"
     ]
    }
   ],
   "source": [
    "class Element:\n",
    "    def __init__(self, name, symbol, number):\n",
    "        self.name = name\n",
    "        self.symbol = symbol\n",
    "        self.number = number\n",
    "\n",
    "    def dump(self):\n",
    "        print(\"Name:\", self.name)\n",
    "        print(\"Symbol:\", self.symbol)\n",
    "        print(\"Number:\", self.number)\n",
    "\n",
    "hydrogen = Element('Hydrogen', 'H', 1)\n",
    "hydrogen.dump()\n"
   ]
  },
  {
   "cell_type": "markdown",
   "id": "e79429e3",
   "metadata": {},
   "source": [
    "7. Call print(hydrogen). In the definition of Element, change the name of method dump to __str__, create a new hydrogen object, and call print(hydrogen) again."
   ]
  },
  {
   "cell_type": "code",
   "execution_count": 6,
   "id": "85614c37",
   "metadata": {},
   "outputs": [
    {
     "name": "stdout",
     "output_type": "stream",
     "text": [
      "Name: Hydrogen\n",
      "Symbol: H\n",
      "Number: 1\n",
      "Name: Hydrogen\n",
      "Symbol: H\n",
      "Number: 1\n"
     ]
    }
   ],
   "source": [
    "class Element:\n",
    "    def __init__(self, name, symbol, number):\n",
    "        self.name = name\n",
    "        self.symbol = symbol\n",
    "        self.number = number\n",
    "\n",
    "    def __str__(self):\n",
    "        return f\"Name: {self.name}\\nSymbol: {self.symbol}\\nNumber: {self.number}\"\n",
    "\n",
    "hydrogen = Element('Hydrogen', 'H', 1)\n",
    "\n",
    "# Before the changes\n",
    "print(hydrogen)\n",
    "\n",
    "# After changing the method name to __str__\n",
    "print(hydrogen)\n"
   ]
  },
  {
   "cell_type": "markdown",
   "id": "c4e284dd",
   "metadata": {},
   "source": [
    "8. Modify Element to make the attributes name, symbol, and number private. Define a getter property for each to return its value."
   ]
  },
  {
   "cell_type": "code",
   "execution_count": 7,
   "id": "d2dc9e63",
   "metadata": {},
   "outputs": [
    {
     "name": "stdout",
     "output_type": "stream",
     "text": [
      "Hydrogen\n",
      "H\n",
      "1\n"
     ]
    }
   ],
   "source": [
    "class Element:\n",
    "    def __init__(self, name, symbol, number):\n",
    "        self.__name = name\n",
    "        self.__symbol = symbol\n",
    "        self.__number = number\n",
    "\n",
    "    @property\n",
    "    def name(self):\n",
    "        return self.__name\n",
    "\n",
    "    @property\n",
    "    def symbol(self):\n",
    "        return self.__symbol\n",
    "\n",
    "    @property\n",
    "    def number(self):\n",
    "        return self.__number\n",
    "\n",
    "hydrogen = Element('Hydrogen', 'H', 1)\n",
    "\n",
    "# Accessing private attributes using getter properties\n",
    "print(hydrogen.name)\n",
    "print(hydrogen.symbol)\n",
    "print(hydrogen.number)\n"
   ]
  },
  {
   "cell_type": "markdown",
   "id": "9aab29ec",
   "metadata": {},
   "source": [
    "9. Define three classes: Bear, Rabbit, and Octothorpe. For each, define only one method: eats(). This should return 'berries' (Bear), 'clover' (Rabbit), or 'campers' (Octothorpe). Create one object from each and print what it eats."
   ]
  },
  {
   "cell_type": "code",
   "execution_count": null,
   "id": "225f2ae8",
   "metadata": {},
   "outputs": [],
   "source": [
    "class Bear:\n",
    "    def eats(self):\n",
    "        return 'berries'\n",
    "\n",
    "class Rabbit:\n",
    "    def eats(self):\n",
    "        return 'clover'\n",
    "\n",
    "class Octothorpe:\n",
    "    def eats(self):\n",
    "        return 'campers'\n",
    "\n",
    "bear = Bear()\n",
    "rabbit = Rabbit()\n",
    "octothorpe = Octothorpe()\n",
    "\n",
    "print(bear.eats())\n",
    "print(rabbit.eats())\n",
    "print(octothorpe.eats())\n"
   ]
  },
  {
   "cell_type": "markdown",
   "id": "a388566c",
   "metadata": {},
   "source": [
    "10. Define these classes: Laser, Claw, and SmartPhone. Each has only one method: does(). This returns 'disintegrate' (Laser), 'crush' (Claw), or 'ring' (SmartPhone). Then, define the class Robot that has one instance (object) of each of these. Define a does() method for the Robot that prints what its component objects do."
   ]
  },
  {
   "cell_type": "code",
   "execution_count": 8,
   "id": "2a301b0c",
   "metadata": {},
   "outputs": [
    {
     "name": "stdout",
     "output_type": "stream",
     "text": [
      "Laser does: disintegrate\n",
      "Claw does: crush\n",
      "SmartPhone does: ring\n"
     ]
    }
   ],
   "source": [
    "class Laser:\n",
    "    def does(self):\n",
    "        return 'disintegrate'\n",
    "\n",
    "class Claw:\n",
    "    def does(self):\n",
    "        return 'crush'\n",
    "\n",
    "class SmartPhone:\n",
    "    def does(self):\n",
    "        return 'ring'\n",
    "\n",
    "class Robot:\n",
    "    def __init__(self):\n",
    "        self.laser = Laser()\n",
    "        self.claw = Claw()\n",
    "        self.smartphone = SmartPhone()\n",
    "\n",
    "    def does(self):\n",
    "        print(\"Laser does:\", self.laser.does())\n",
    "        print(\"Claw does:\", self.claw.does())\n",
    "        print(\"SmartPhone does:\", self.smartphone.does())\n",
    "\n",
    "robot = Robot()\n",
    "robot.does()\n"
   ]
  }
 ],
 "metadata": {
  "kernelspec": {
   "display_name": "Python 3 (ipykernel)",
   "language": "python",
   "name": "python3"
  },
  "language_info": {
   "codemirror_mode": {
    "name": "ipython",
    "version": 3
   },
   "file_extension": ".py",
   "mimetype": "text/x-python",
   "name": "python",
   "nbconvert_exporter": "python",
   "pygments_lexer": "ipython3",
   "version": "3.9.13"
  }
 },
 "nbformat": 4,
 "nbformat_minor": 5
}
