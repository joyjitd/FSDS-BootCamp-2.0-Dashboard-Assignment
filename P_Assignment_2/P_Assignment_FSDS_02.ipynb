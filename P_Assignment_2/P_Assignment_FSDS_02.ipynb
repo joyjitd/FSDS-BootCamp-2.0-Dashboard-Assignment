{
  "nbformat": 4,
  "nbformat_minor": 0,
  "metadata": {
    "colab": {
      "provenance": []
    },
    "kernelspec": {
      "name": "python3",
      "display_name": "Python 3"
    },
    "language_info": {
      "name": "python"
    }
  },
  "cells": [
    {
      "cell_type": "markdown",
      "source": [
        "# P_Assignment_FSDS_02"
      ],
      "metadata": {
        "id": "EtFppyyWuymZ"
      }
    },
    {
      "cell_type": "markdown",
      "source": [
        "#1.\tWrite a Python program to convert kilometers to miles?"
      ],
      "metadata": {
        "id": "eOx0yngruWff"
      }
    },
    {
      "cell_type": "code",
      "source": [
        "km =float(input(\"Enter the Kilometer value which needs to be convorted to miles: -\"))\n",
        "mi = km * 0.62137\n",
        "print(f\"{km} km = {mi} miles\")"
      ],
      "metadata": {
        "colab": {
          "base_uri": "https://localhost:8080/"
        },
        "id": "Jw6Ms1HYVY2d",
        "outputId": "4d1f6b77-9153-4075-d219-0a2bcbc4155e"
      },
      "execution_count": 3,
      "outputs": [
        {
          "output_type": "stream",
          "name": "stdout",
          "text": [
            "Enter the Kilometer value which needs to be convorted to miles: -2\n",
            "2.0 km = 1.24274 miles\n"
          ]
        }
      ]
    },
    {
      "cell_type": "markdown",
      "source": [
        "# 2.\tWrite a Python program to convert Celsius to Fahrenheit?"
      ],
      "metadata": {
        "id": "7-ruYx_CuWh7"
      }
    },
    {
      "cell_type": "code",
      "source": [
        "cel =float(input(\"Enter the Celcius value which needs to be convorted to Fahrenheit: -\"))\n",
        "fah = (9/5)*cel + 32\n",
        "print(f\"{cel} Celcius = {fah} Fahrenheit \")"
      ],
      "metadata": {
        "colab": {
          "base_uri": "https://localhost:8080/"
        },
        "id": "Go6VbzzDWNFF",
        "outputId": "df49cb3c-a9b8-4f3f-b794-837b9005e4d2"
      },
      "execution_count": 8,
      "outputs": [
        {
          "output_type": "stream",
          "name": "stdout",
          "text": [
            "Enter the Celcius value which needs to be convorted to Fahrenheit: -1\n",
            "1.0 Celcius = 33.8 Fahrenheit \n"
          ]
        }
      ]
    },
    {
      "cell_type": "markdown",
      "source": [
        "#3.\tWrite a Python program to display calendar?"
      ],
      "metadata": {
        "id": "Y8aiSgNiuWkZ"
      }
    },
    {
      "cell_type": "code",
      "source": [
        "import calendar #Python has a built-in function, calendar to work with date related tasks. \n",
        "year=int(input(\"Enter the Year in YYYY Format To Be Displayed : \"))\n",
        "momth=int(input(\"Enter the Month in MM Format To Be Displayed : \"))\n",
        "print(calendar.month(year,momth))"
      ],
      "metadata": {
        "colab": {
          "base_uri": "https://localhost:8080/"
        },
        "id": "P1MkvwTBXEXB",
        "outputId": "db28bfba-af95-4737-b4fb-ff93f5a0749e"
      },
      "execution_count": 16,
      "outputs": [
        {
          "output_type": "stream",
          "name": "stdout",
          "text": [
            "Enter the Year in YYYY Format To Be Displayed : 2022\n",
            "Enter the Month in MM Format To Be Displayed : 11\n",
            "   November 2022\n",
            "Mo Tu We Th Fr Sa Su\n",
            "    1  2  3  4  5  6\n",
            " 7  8  9 10 11 12 13\n",
            "14 15 16 17 18 19 20\n",
            "21 22 23 24 25 26 27\n",
            "28 29 30\n",
            "\n"
          ]
        }
      ]
    },
    {
      "cell_type": "markdown",
      "source": [
        "# 4.\tWrite a Python program to solve quadratic equation?\n"
      ],
      "metadata": {
        "id": "M-ro1OuEuWnB"
      }
    },
    {
      "cell_type": "code",
      "source": [
        "# In order to solve the quadratic equation ax**2 + bx + c = 0, where a!=0\n",
        "import cmath # import complex math module\n",
        "a = 2\n",
        "b = 5\n",
        "c = 6\n",
        "# Solve the quadratic equation ax**2 + bx + c = 0\n",
        "# import complex math module\n",
        "import cmath\n",
        "a = 1\n",
        "b = 5\n",
        "c = 6\n",
        "# calculate the  discriminantx = bX2 -4ac\n",
        "d = (b**2) - (4*a*c)\n",
        "# find two solutions\n",
        "sol1 = (-b-cmath.sqrt(d))/(2*a)\n",
        "sol2 = (-b+cmath.sqrt(d))/(2*a)\n",
        "print('The solution are {0} and {1}'.format(sol1,sol2))"
      ],
      "metadata": {
        "colab": {
          "base_uri": "https://localhost:8080/"
        },
        "id": "c8x7WQx1b2Ok",
        "outputId": "062e4931-e5d4-4277-c8b9-a063fbdda605"
      },
      "execution_count": 19,
      "outputs": [
        {
          "output_type": "stream",
          "name": "stdout",
          "text": [
            "The solution are (-3+0j) and (-2+0j)\n"
          ]
        }
      ]
    },
    {
      "cell_type": "markdown",
      "source": [
        "#5.\tWrite a Python program to swap two variables without temp variable?\n"
      ],
      "metadata": {
        "id": "kVkckeLluWp1"
      }
    },
    {
      "cell_type": "code",
      "source": [
        "a = \"Hello\"\n",
        "b = \"World\"\n",
        "print (\"Before swapping: \")\n",
        "print(f\"Value of a : {a} and b : {b}\")\n",
        "a, b = b, a # code to swap 'x' and 'y' without temp variable\n",
        "print (\"After swapping: \")\n",
        "print(f\"Value of a : {a} and b : {b}\")"
      ],
      "metadata": {
        "colab": {
          "base_uri": "https://localhost:8080/"
        },
        "id": "OTP7vxtid10Q",
        "outputId": "b225cdf0-fcde-488c-e706-9df8683b0ed2"
      },
      "execution_count": 21,
      "outputs": [
        {
          "output_type": "stream",
          "name": "stdout",
          "text": [
            "Before swapping: \n",
            "Value of a : Hello and b : World\n",
            "After swapping: \n",
            "Value of a : World and b : Hello\n"
          ]
        }
      ]
    },
    {
      "cell_type": "code",
      "source": [],
      "metadata": {
        "id": "SP1NHCx6eQB6"
      },
      "execution_count": null,
      "outputs": []
    }
  ]
}