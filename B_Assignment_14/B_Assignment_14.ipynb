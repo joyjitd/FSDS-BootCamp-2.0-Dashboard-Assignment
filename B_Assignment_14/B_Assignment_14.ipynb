{
 "cells": [
  {
   "cell_type": "markdown",
   "id": "b846c874",
   "metadata": {},
   "source": [
    "1. What does RGBA stand for?"
   ]
  },
  {
   "cell_type": "markdown",
   "id": "592f91aa",
   "metadata": {},
   "source": [
    "In Python, RGBA stands for Red Green Blue Alpha, which is a color model used to represent colors with transparency or opacity. In Python, RGBA values are typically represented as tuples or lists containing four elements: the red component (R), the green component (G), the blue component (B), and the alpha component (A)."
   ]
  },
  {
   "cell_type": "code",
   "execution_count": 1,
   "id": "b86e3cff",
   "metadata": {},
   "outputs": [],
   "source": [
    "rgba_color = (255, 0, 0, 128)"
   ]
  },
  {
   "cell_type": "markdown",
   "id": "c9e58abe",
   "metadata": {},
   "source": [
    "2. From the Pillow module, how do you get the RGBA value of any images?"
   ]
  },
  {
   "cell_type": "code",
   "execution_count": null,
   "id": "f2e9b6fa",
   "metadata": {},
   "outputs": [],
   "source": [
    "from PIL import Image\n",
    "\n",
    "# Open the image file\n",
    "image = Image.open(\"example.png\")\n",
    "\n",
    "# Convert the image to RGBA mode\n",
    "image_rgba = image.convert(\"RGBA\")\n",
    "\n",
    "# Get the RGBA data of the image\n",
    "rgba_data = image_rgba.getdata()\n",
    "\n",
    "# Print the RGBA values of the first pixel\n",
    "first_pixel_rgba = rgba_data[0]\n",
    "print(first_pixel_rgba)\n"
   ]
  },
  {
   "cell_type": "markdown",
   "id": "502eabfa",
   "metadata": {},
   "source": [
    "In this example, we first open an image file using the Image.open() function from the Pillow module. Then, we convert the image to RGBA mode using the convert() method and specifying \"RGBA\" as the mode. This ensures that the image is represented in RGBA format.\n",
    "\n",
    "Next, we use the getdata() method to retrieve the RGBA data of the image. This method returns a sequence of RGBA tuples.\n",
    "\n",
    "Finally, we can access the RGBA values of individual pixels by indexing the rgba_data sequence. In the example, we retrieve the RGBA values of the first pixel by accessing rgba_data[0].\n",
    "\n",
    "Note that rgba_data will be a sequence of RGBA tuples, where each tuple represents the RGBA values of a pixel in the image. The RGBA values will be integers ranging from 0 to 255, representing the intensity of the red, green, blue, and alpha channels respectively."
   ]
  },
  {
   "cell_type": "markdown",
   "id": "8867b6aa",
   "metadata": {},
   "source": [
    "3. What is a box tuple, and how does it work?"
   ]
  },
  {
   "cell_type": "code",
   "execution_count": null,
   "id": "97ce0bab",
   "metadata": {},
   "outputs": [],
   "source": [
    "n the context of the Pillow module in Python, a box tuple refers to a tuple representing a rectangular region or bounding box. It is commonly used in image processing operations to define a specific area within an image. A box tuple consists of four integer values: (left, upper, right, lower).\n",
    "\n",
    "The box tuple defines the coordinates of the rectangular region as follows:\n",
    "\n",
    "left: The x-coordinate of the left edge of the box.\n",
    "upper: The y-coordinate of the upper edge of the box.\n",
    "right: The x-coordinate of the right edge of the box.\n",
    "lower: The y-coordinate of the lower edge of the box.\n",
    "The box tuple represents a rectangle where the left and upper edges are inclusive (belong to the rectangle), while the right and lower edges are exclusive (do not belong to the rectangle).\n",
    "\n",
    "Here's an example to illustrate how a box tuple works:"
   ]
  },
  {
   "cell_type": "code",
   "execution_count": 2,
   "id": "c7479e9b",
   "metadata": {},
   "outputs": [
    {
     "ename": "FileNotFoundError",
     "evalue": "[Errno 2] No such file or directory: 'example.jpg'",
     "output_type": "error",
     "traceback": [
      "\u001b[1;31m---------------------------------------------------------------------------\u001b[0m",
      "\u001b[1;31mFileNotFoundError\u001b[0m                         Traceback (most recent call last)",
      "\u001b[1;32m~\\AppData\\Local\\Temp\\ipykernel_3988\\1024001210.py\u001b[0m in \u001b[0;36m<module>\u001b[1;34m\u001b[0m\n\u001b[0;32m      2\u001b[0m \u001b[1;33m\u001b[0m\u001b[0m\n\u001b[0;32m      3\u001b[0m \u001b[1;31m# Open the image file\u001b[0m\u001b[1;33m\u001b[0m\u001b[1;33m\u001b[0m\u001b[0m\n\u001b[1;32m----> 4\u001b[1;33m \u001b[0mimage\u001b[0m \u001b[1;33m=\u001b[0m \u001b[0mImage\u001b[0m\u001b[1;33m.\u001b[0m\u001b[0mopen\u001b[0m\u001b[1;33m(\u001b[0m\u001b[1;34m\"example.jpg\"\u001b[0m\u001b[1;33m)\u001b[0m\u001b[1;33m\u001b[0m\u001b[1;33m\u001b[0m\u001b[0m\n\u001b[0m\u001b[0;32m      5\u001b[0m \u001b[1;33m\u001b[0m\u001b[0m\n\u001b[0;32m      6\u001b[0m \u001b[1;31m# Define a box tuple representing a region of interest\u001b[0m\u001b[1;33m\u001b[0m\u001b[1;33m\u001b[0m\u001b[0m\n",
      "\u001b[1;32m~\\anaconda3\\lib\\site-packages\\PIL\\Image.py\u001b[0m in \u001b[0;36mopen\u001b[1;34m(fp, mode, formats)\u001b[0m\n\u001b[0;32m   3090\u001b[0m \u001b[1;33m\u001b[0m\u001b[0m\n\u001b[0;32m   3091\u001b[0m     \u001b[1;32mif\u001b[0m \u001b[0mfilename\u001b[0m\u001b[1;33m:\u001b[0m\u001b[1;33m\u001b[0m\u001b[1;33m\u001b[0m\u001b[0m\n\u001b[1;32m-> 3092\u001b[1;33m         \u001b[0mfp\u001b[0m \u001b[1;33m=\u001b[0m \u001b[0mbuiltins\u001b[0m\u001b[1;33m.\u001b[0m\u001b[0mopen\u001b[0m\u001b[1;33m(\u001b[0m\u001b[0mfilename\u001b[0m\u001b[1;33m,\u001b[0m \u001b[1;34m\"rb\"\u001b[0m\u001b[1;33m)\u001b[0m\u001b[1;33m\u001b[0m\u001b[1;33m\u001b[0m\u001b[0m\n\u001b[0m\u001b[0;32m   3093\u001b[0m         \u001b[0mexclusive_fp\u001b[0m \u001b[1;33m=\u001b[0m \u001b[1;32mTrue\u001b[0m\u001b[1;33m\u001b[0m\u001b[1;33m\u001b[0m\u001b[0m\n\u001b[0;32m   3094\u001b[0m \u001b[1;33m\u001b[0m\u001b[0m\n",
      "\u001b[1;31mFileNotFoundError\u001b[0m: [Errno 2] No such file or directory: 'example.jpg'"
     ]
    }
   ],
   "source": [
    "from PIL import Image\n",
    "\n",
    "# Open the image file\n",
    "image = Image.open(\"example.jpg\")\n",
    "\n",
    "# Define a box tuple representing a region of interest\n",
    "box = (100, 100, 300, 300)\n",
    "\n",
    "# Crop the image using the box tuple\n",
    "cropped_image = image.crop(box)\n",
    "\n",
    "# Display the cropped image\n",
    "cropped_image.show()\n"
   ]
  },
  {
   "cell_type": "markdown",
   "id": "c320d871",
   "metadata": {},
   "source": [
    "4. Use your image and load in notebook then, How can you find out the width and height of an Image object?"
   ]
  },
  {
   "cell_type": "markdown",
   "id": "b05cd2a9",
   "metadata": {},
   "source": [
    "To find out the width and height of an Image object in a Jupyter Notebook using the Pillow module, you can use the size attribute or the width and height attributes of the Image object. Here's an example:"
   ]
  },
  {
   "cell_type": "code",
   "execution_count": null,
   "id": "2936d305",
   "metadata": {},
   "outputs": [],
   "source": [
    "from PIL import Image\n",
    "import IPython.display as display\n",
    "\n",
    "# Open the image file\n",
    "image = Image.open(\"example.jpg\")\n",
    "\n",
    "# Display the image in the notebook\n",
    "display.display(image)\n",
    "\n",
    "# Get the width and height of the image using the size attribute\n",
    "width, height = image.size\n",
    "\n",
    "# Print the width and height\n",
    "print(\"Width:\", width)\n",
    "print(\"Height:\", height)\n"
   ]
  },
  {
   "cell_type": "markdown",
   "id": "f8e44188",
   "metadata": {},
   "source": [
    "In this example, we open an image file using the Image.open() function from the Pillow module. Then, we use display.display() from the IPython.display module to show the image directly in the notebook.\n",
    "\n",
    "Next, we retrieve the width and height of the image using the size attribute of the Image object. The size attribute returns a tuple containing the width and height values.\n",
    "\n",
    "Finally, we print the width and height values using print().\n",
    "\n",
    "The size attribute is a convenient way to obtain the dimensions of an Image object, as it returns both the width and height together in a tuple. Alternatively, you can also use the width and height attributes individually to access the dimensions of the image.\n",
    "\n",
    "By using these attributes, you can easily retrieve and work with the width and height of an Image object in a Jupyter Notebook."
   ]
  },
  {
   "cell_type": "markdown",
   "id": "d5de52dc",
   "metadata": {},
   "source": [
    "5. What method would you call to get Image object for a 100×100 image, excluding the lower-left quarter of it?"
   ]
  },
  {
   "cell_type": "code",
   "execution_count": null,
   "id": "1136608d",
   "metadata": {},
   "outputs": [],
   "source": [
    "6. After making changes to an Image object, how could you save it as an image file?\n",
    "7. What module contains Pillow’s shape-drawing code?\n",
    "8. Image objects do not have drawing methods. What kind of object does? How do you get this kind of object?\n"
   ]
  },
  {
   "cell_type": "markdown",
   "id": "80a5dc58",
   "metadata": {},
   "source": [
    "Image objects in the Pillow module do not have built-in drawing methods. However, you can use the ImageDraw module to create a separate drawing object that allows you to draw on an image.\n",
    "\n",
    "To get a drawing object associated with an Image object, you can use the ImageDraw.Draw() function from the Pillow module. Here's an example:"
   ]
  },
  {
   "cell_type": "code",
   "execution_count": null,
   "id": "3949e3e1",
   "metadata": {},
   "outputs": [],
   "source": [
    "from PIL import Image, ImageDraw\n",
    "\n",
    "# Open the image file\n",
    "image = Image.open(\"example.jpg\")\n",
    "\n",
    "# Create a drawing object associated with the image\n",
    "draw = ImageDraw.Draw(image)\n",
    "\n",
    "# Use the drawing object to draw on the image\n",
    "draw.rectangle([(100, 100), (200, 200)], outline=\"red\", width=2)\n",
    "\n",
    "# Save or display the modified image\n",
    "image.save(\"output.jpg\")\n"
   ]
  }
 ],
 "metadata": {
  "kernelspec": {
   "display_name": "Python 3 (ipykernel)",
   "language": "python",
   "name": "python3"
  },
  "language_info": {
   "codemirror_mode": {
    "name": "ipython",
    "version": 3
   },
   "file_extension": ".py",
   "mimetype": "text/x-python",
   "name": "python",
   "nbconvert_exporter": "python",
   "pygments_lexer": "ipython3",
   "version": "3.9.13"
  }
 },
 "nbformat": 4,
 "nbformat_minor": 5
}
