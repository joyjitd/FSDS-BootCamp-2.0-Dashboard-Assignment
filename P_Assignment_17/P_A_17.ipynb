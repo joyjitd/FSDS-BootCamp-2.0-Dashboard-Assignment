{
 "cells": [
  {
   "cell_type": "markdown",
   "id": "5ad10b0b-b33f-4959-b177-752560a33d65",
   "metadata": {},
   "source": [
    "# Program Assignment 17"
   ]
  },
  {
   "cell_type": "markdown",
   "id": "ead4434b-1f6f-4c55-b5b2-42c0575452b8",
   "metadata": {},
   "source": [
    "Question1. Create a function that takes three arguments a, b, c and returns the sum of the numbers that are evenly divided by c from the range a, b inclusive.\n",
    "Examples\n",
    "evenly_divisible(1, 10, 20) ➞ 0\n",
    "# No number between 1 and 10 can be evenly divided by 20.\n",
    "\n",
    "evenly_divisible(1, 10, 2) ➞ 30\n",
    "# 2 + 4 + 6 + 8 + 10 = 30\n",
    "\n",
    "evenly_divisible(1, 10, 3) ➞ 18\n",
    "# 3 + 6 + 9 = 18\n"
   ]
  },
  {
   "cell_type": "code",
   "execution_count": null,
   "id": "2059d735-8175-4999-91e7-5ebfc253e21b",
   "metadata": {},
   "outputs": [],
   "source": [
    "def evenly_divisible(a,b,c):\n",
    "    for i in range(a,b+1):\n",
    "        if i\n",
    "        print i"
   ]
  },
  {
   "cell_type": "code",
   "execution_count": 4,
   "id": "baa32fa6-5b07-4f65-bae7-3faa465021fa",
   "metadata": {},
   "outputs": [
    {
     "name": "stdout",
     "output_type": "stream",
     "text": [
      "1\n",
      "2\n",
      "3\n",
      "4\n",
      "5\n",
      "6\n",
      "7\n",
      "8\n",
      "9\n",
      "10\n"
     ]
    }
   ],
   "source": [
    "for i in range(1,10+1):\n",
    "        print (i)"
   ]
  },
  {
   "cell_type": "markdown",
   "id": "e74dbd23-7807-4e3a-9c80-54fb5206e2a4",
   "metadata": {},
   "source": [
    "Question2. Create a function that returns True if a given inequality expression is correct and False otherwise.\n"
   ]
  },
  {
   "cell_type": "code",
   "execution_count": 1,
   "id": "2676a48f-0e27-49d8-a7da-34fc67e2b80c",
   "metadata": {},
   "outputs": [
    {
     "name": "stdout",
     "output_type": "stream",
     "text": [
      "True\n",
      "False\n",
      "True\n"
     ]
    }
   ],
   "source": [
    "def correct_signs(inequality):\n",
    "    inequality = inequality.split(\" \")\n",
    "    for i in range(0, len(inequality), 2):\n",
    "        if i+2 < len(inequality):\n",
    "            if inequality[i+1] == \"<\":\n",
    "                if not (int(inequality[i]) < int(inequality[i+2])):\n",
    "                    return False\n",
    "            elif inequality[i+1] == \">\":\n",
    "                if not (int(inequality[i]) > int(inequality[i+2])):\n",
    "                    return False\n",
    "        else:\n",
    "            break\n",
    "    return True\n",
    "\n",
    "print(correct_signs(\"3 < 7 < 11\")) # should return True\n",
    "print(correct_signs(\"13 > 44 > 33 > 1\")) # should return False\n",
    "print(correct_signs(\"1 < 2 < 6 < 9 > 3\")) # should return True\n"
   ]
  },
  {
   "cell_type": "markdown",
   "id": "a24c2405-5387-4de9-8eaa-d886459a1004",
   "metadata": {},
   "source": [
    "Question3. Create a function that replaces all the vowels in a string with a specified character.\n",
    "Examples\n",
    "replace_vowels(\"the aardvark\", \"#\") ➞ \"th# ##rdv#rk\"\n",
    "\n",
    "replace_vowels(\"minnie mouse\", \"?\") ➞ \"m?nn?? m??s?\"\n",
    "\n",
    "replace_vowels(\"shakespeare\", \"*\") ➞ \"sh*k*sp**r*\"\n"
   ]
  },
  {
   "cell_type": "code",
   "execution_count": 4,
   "id": "7086dbfc-c9c8-4941-9bde-cf487c2410b1",
   "metadata": {},
   "outputs": [],
   "source": [
    "def replace_vowels(string, replacement):\n",
    "    vowels = \"aeiouAEIOU\"\n",
    "    # Use a list comprehension to replace all vowels in the string with the specified replacement\n",
    "    new_string = \"\".join([replacement if char in vowels else char for char in string])\n",
    "    return new_string"
   ]
  },
  {
   "cell_type": "code",
   "execution_count": 6,
   "id": "2cfd0316-64f2-40f7-95a0-e63bc0b559ae",
   "metadata": {},
   "outputs": [
    {
     "ename": "TypeError",
     "evalue": "replace_vowels() missing 2 required positional arguments: 'string' and 'replacement'",
     "output_type": "error",
     "traceback": [
      "\u001b[0;31m---------------------------------------------------------------------------\u001b[0m",
      "\u001b[0;31mTypeError\u001b[0m                                 Traceback (most recent call last)",
      "Cell \u001b[0;32mIn [6], line 1\u001b[0m\n\u001b[0;32m----> 1\u001b[0m a\u001b[38;5;241m=\u001b[39m\u001b[43mreplace_vowels\u001b[49m\u001b[43m(\u001b[49m\u001b[43m)\u001b[49m\n",
      "\u001b[0;31mTypeError\u001b[0m: replace_vowels() missing 2 required positional arguments: 'string' and 'replacement'"
     ]
    }
   ],
   "source": [
    "a=replace_vowels()"
   ]
  },
  {
   "cell_type": "code",
   "execution_count": null,
   "id": "c65a50dd-87e5-4af8-a39c-cdf198e72e0e",
   "metadata": {},
   "outputs": [],
   "source": []
  }
 ],
 "metadata": {
  "kernelspec": {
   "display_name": "Python 3 (ipykernel)",
   "language": "python",
   "name": "python3"
  },
  "language_info": {
   "codemirror_mode": {
    "name": "ipython",
    "version": 3
   },
   "file_extension": ".py",
   "mimetype": "text/x-python",
   "name": "python",
   "nbconvert_exporter": "python",
   "pygments_lexer": "ipython3",
   "version": "3.10.6"
  }
 },
 "nbformat": 4,
 "nbformat_minor": 5
}
