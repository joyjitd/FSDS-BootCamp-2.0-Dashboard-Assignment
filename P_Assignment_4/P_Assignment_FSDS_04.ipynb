{
  "nbformat": 4,
  "nbformat_minor": 0,
  "metadata": {
    "colab": {
      "provenance": [],
      "collapsed_sections": []
    },
    "kernelspec": {
      "name": "python3",
      "display_name": "Python 3"
    },
    "language_info": {
      "name": "python"
    }
  },
  "cells": [
    {
      "cell_type": "markdown",
      "source": [
        "Question 1: 1.\tWrite a Python Program to Find the Factorial of a Number?\n"
      ],
      "metadata": {
        "id": "2p6yirzZMCyP"
      }
    },
    {
      "cell_type": "code",
      "source": [
        "i = int(input(\"Enter a number: \"))\n",
        "factorial = 1\n",
        "# check if the number is negative, positive or zero\n",
        "if i < 0:\n",
        "   print(\"Sorry, factorial is not present for negative number\")\n",
        "elif i == 0:\n",
        "   print(\"Factorial for 0 == 1\")\n",
        "else:\n",
        "   for i in range(1,i + 1):\n",
        "       factorial = factorial*i\n",
        "   print(\"The factorial of\", i ,\"is\", factorial)"
      ],
      "metadata": {
        "colab": {
          "base_uri": "https://localhost:8080/"
        },
        "id": "AyDxDfWqMGIH",
        "outputId": "63075dd8-4e54-4135-cc21-7a13d2f1602a"
      },
      "execution_count": null,
      "outputs": [
        {
          "output_type": "stream",
          "name": "stdout",
          "text": [
            "Enter a number: 4\n",
            "The factorial of 4 is 24\n"
          ]
        }
      ]
    },
    {
      "cell_type": "markdown",
      "source": [
        "2.\tWrite a Python Program to Display the multiplication Table?"
      ],
      "metadata": {
        "id": "5du3Ew8eQEDK"
      }
    },
    {
      "cell_type": "code",
      "source": [
        "m=1\n",
        "num = int(input(\"Enter the number whoses multiplication table need to be displayed: \"))\n",
        "for i in range(1,11):\n",
        "  m=i*num\n",
        "  print(i,\"X\",num,\"=\",m)"
      ],
      "metadata": {
        "id": "bbCFHPRFQFc_",
        "colab": {
          "base_uri": "https://localhost:8080/"
        },
        "outputId": "df339abc-bbb5-4a69-82d7-90e38048f950"
      },
      "execution_count": 5,
      "outputs": [
        {
          "output_type": "stream",
          "name": "stdout",
          "text": [
            "Enter the number whoses multiplication table need to be displayed: 45\n",
            "1 X 45 = 45\n",
            "2 X 45 = 90\n",
            "3 X 45 = 135\n",
            "4 X 45 = 180\n",
            "5 X 45 = 225\n",
            "6 X 45 = 270\n",
            "7 X 45 = 315\n",
            "8 X 45 = 360\n",
            "9 X 45 = 405\n",
            "10 X 45 = 450\n"
          ]
        }
      ]
    },
    {
      "cell_type": "markdown",
      "source": [
        "3.\tWrite a Python Program to Print the Fibonacci sequence?"
      ],
      "metadata": {
        "id": "0CiAwL3zcn9p"
      }
    },
    {
      "cell_type": "code",
      "source": [
        "terms = int(input(\"How many terms of Fibonacci sequence you want?: \"))\n",
        "n1,n2= 0,1\n",
        "count = 0\n",
        "if terms<=0:\n",
        "  print(\"Invalid input, enter a positive integer\")\n",
        "elif terms==1:\n",
        "  print(f\"Fibonacci sequence of {terms} th term is : \")\n",
        "  print(n1)\n",
        "else:\n",
        "  print(\"Fibonacci sequence\")\n",
        "  while count < terms: #0 < 5 , 1 < 5, 2 < 5,3 < 5, 4 < 5\n",
        "    print(n1)\n",
        "    temp=n1+n2 #  FirstLoop temp= 0+1 = 1\n",
        "    n1 = n2  #FirstLoop now n1 has been replaced to 1 from 0\n",
        "    n2 = temp #FirstLoop now n2 has been replaced to 1 from 1\n",
        "    count = count+1 "
      ],
      "metadata": {
        "colab": {
          "base_uri": "https://localhost:8080/"
        },
        "id": "g0u1RqUecxfN",
        "outputId": "fce17b33-a360-47e1-9303-d7b0252f4824"
      },
      "execution_count": 26,
      "outputs": [
        {
          "output_type": "stream",
          "name": "stdout",
          "text": [
            "How many terms of Fibonacci sequence you want?: 10\n",
            "Fibonacci sequence\n",
            "0\n",
            "1\n",
            "1\n",
            "2\n",
            "3\n",
            "5\n",
            "8\n",
            "13\n",
            "21\n",
            "34\n"
          ]
        }
      ]
    },
    {
      "cell_type": "markdown",
      "source": [
        "4.\tWrite a Python Program to Check Armstrong Number?"
      ],
      "metadata": {
        "id": "XP4aLhHtcpmy"
      }
    },
    {
      "cell_type": "code",
      "source": [
        "# take input from the user\n",
        "num = int(input(\"Enter a number: \"))\n",
        "sum = 0\n",
        "# find the sum of the cube of each digit\n",
        "temp = num\n",
        "while temp > 0:\n",
        "   digit = temp % 10\n",
        "   sum += digit ** 3\n",
        "   temp //= 10\n",
        "if num == sum:\n",
        "   print(num,\"is an Armstrong number\")\n",
        "else:\n",
        "   print(num,\"is not an Armstrong number\")"
      ],
      "metadata": {
        "colab": {
          "base_uri": "https://localhost:8080/"
        },
        "id": "SVsA2JNTnS78",
        "outputId": "90ecf5c1-3dc8-4295-8f1f-6e023854b37b"
      },
      "execution_count": 32,
      "outputs": [
        {
          "name": "stdout",
          "output_type": "stream",
          "text": [
            "Enter a number: 456\n"
          ]
        },
        {
          "output_type": "execute_result",
          "data": {
            "text/plain": [
              "6"
            ]
          },
          "metadata": {},
          "execution_count": 32
        }
      ]
    },
    {
      "cell_type": "markdown",
      "source": [
        "5.\tWrite a Python Program to Find Armstrong Number in an Interval?"
      ],
      "metadata": {
        "id": "IC1yEwIBcrdw"
      }
    },
    {
      "cell_type": "code",
      "source": [
        "lower = 50\n",
        "upper = 1000\n",
        "for num in range(lower, upper + 1):\n",
        "   # order of number\n",
        "   order = len(str(num))   \n",
        "   # initialize sum\n",
        "   sum = 0\n",
        "   temp = num\n",
        "   while temp > 0:\n",
        "       digit = temp % 10\n",
        "       sum += digit ** order\n",
        "       temp //= 10\n",
        "   if num == sum:\n",
        "       print(num)"
      ],
      "metadata": {
        "colab": {
          "base_uri": "https://localhost:8080/"
        },
        "id": "ri_HNdy5oUuZ",
        "outputId": "f564be32-2964-4192-c9d9-e28b1b1e417b"
      },
      "execution_count": 39,
      "outputs": [
        {
          "output_type": "stream",
          "name": "stdout",
          "text": [
            "153\n",
            "370\n",
            "371\n",
            "407\n"
          ]
        }
      ]
    },
    {
      "cell_type": "markdown",
      "source": [
        "6.\tWrite a Python Program to Find the Sum of Natural Numbers?"
      ],
      "metadata": {
        "id": "wU0qyX8Ycr_V"
      }
    },
    {
      "cell_type": "code",
      "source": [
        "# Sum of natural numbers up to num\n",
        "num = 25\n",
        "if num < 0:\n",
        "   print(\"Enter a positive number\")\n",
        "else:\n",
        "   sum = 0\n",
        "   # use while loop to iterate until zero\n",
        "   while(num > 0):\n",
        "       sum = sum+num\n",
        "       num = num-1 #Reducing the number by 1 till 1 so as to add the number. \n",
        "   print(f\"The sum is: {sum}\")"
      ],
      "metadata": {
        "colab": {
          "base_uri": "https://localhost:8080/"
        },
        "id": "0yHpgtVYojcl",
        "outputId": "35a429d5-b5a9-4106-a8d1-3b9759bb5fe4"
      },
      "execution_count": 38,
      "outputs": [
        {
          "output_type": "stream",
          "name": "stdout",
          "text": [
            "The sum is: 325\n"
          ]
        }
      ]
    },
    {
      "cell_type": "code",
      "source": [],
      "metadata": {
        "id": "Fn_ng1iqbRZt"
      },
      "execution_count": null,
      "outputs": []
    }
  ]
}