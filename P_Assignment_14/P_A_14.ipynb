{
 "cells": [
  {
   "cell_type": "markdown",
   "id": "f3b417eb-d676-4f94-bbd8-51d96bdef03b",
   "metadata": {},
   "source": [
    "Question 1:\n",
    "\n",
    "Define a class with a generator which can iterate the numbers, which are divisible by 7, between a given range 0 and n.\n"
   ]
  },
  {
   "cell_type": "code",
   "execution_count": 17,
   "id": "d5806282-cf45-42de-a906-81af68efaf9e",
   "metadata": {},
   "outputs": [
    {
     "data": {
      "text/plain": [
       "<generator object putNumbers at 0x7f39cfff7c30>"
      ]
     },
     "execution_count": 19,
     "metadata": {},
     "output_type": "execute_result"
    }
   ],
   "source": [
    "def putNumbers(n): # Defining a function with 1 argument\n",
    " \n",
    "    i = 0\n",
    " \n",
    "    while i<n: # As long as the condition is true. \n",
    " \n",
    "        j=i #\n",
    " \n",
    "        i=i+1\n",
    " \n",
    "        if j%7==0:\n",
    " \n",
    "            yield j\n",
    "    \n",
    "for i in putNumbers(100): # Generator Object. \n",
    " \n",
    "        print (i)"
   ]
  },
  {
   "cell_type": "markdown",
   "id": "8f2690f1-005e-46e9-8163-7b1ac4885ba9",
   "metadata": {},
   "source": [
    "Question 2:\n",
    "Write a program to compute the frequency of the words from the input. The output should output after sorting the key alphanumerically. \n",
    "\n",
    "Suppose the following input is supplied to the program:\n",
    "\n",
    "New to Python or choosing between Python 2 and Python 3? Read Python 2 or Python 3.\n",
    "\n",
    "Then, the output should be:\n",
    "\n",
    "2:2\n",
    "\n",
    "3.:1\n",
    "\n",
    "3?:1\n",
    "\n",
    "New:1\n",
    "\n",
    "Python:5\n",
    "\n",
    "Read:1\n",
    "\n",
    "and:1\n",
    "\n",
    "between:1\n",
    "\n",
    "choosing:1\n",
    "\n",
    "or:2\n",
    "\n",
    "to:1\n"
   ]
  },
  {
   "cell_type": "markdown",
   "id": "a249513e-50a8-4da0-b28a-846270f43a29",
   "metadata": {},
   "source": [
    "Question 3:\n",
    "\n",
    "\n",
    "\n",
    "Define a class Person and its two child classes: Male and Female. All classes have a method \"getGender\" which can print \"Male\" for Male class and \"Female\" for Female class.\n",
    "\n"
   ]
  },
  {
   "cell_type": "code",
   "execution_count": 6,
   "id": "ac1d5122-1c13-4c45-99b6-470287aeb0f2",
   "metadata": {},
   "outputs": [
    {
     "name": "stdout",
     "output_type": "stream",
     "text": [
      "Male\n",
      "Female\n"
     ]
    }
   ],
   "source": [
    "class Person(object):\n",
    "    def getGender(self):\n",
    "        return \"Unknown\"\n",
    "class Male(Person):\n",
    "    def getGender(self):\n",
    "        return \"Male\"\n",
    "class Female(Person):\n",
    "    def getGender(self):\n",
    "        return \"Female\"\n",
    "aMale= Male()\n",
    "aFemale=Female()\n",
    "print(aMale.getGender())\n",
    "print(aFemale.getGender())"
   ]
  },
  {
   "cell_type": "markdown",
   "id": "01cd936f-62c0-4951-a538-dafe22c80567",
   "metadata": {},
   "source": [
    "Question 4:\n",
    "Please write a program to generate all sentences where subject is in [\"I\", \"You\"] and verb is in [\"Play\", \"Love\"] and the object is in [\"Hockey\",\"Football\"].\n",
    "\n"
   ]
  },
  {
   "cell_type": "code",
   "execution_count": 10,
   "id": "cfc06db4-23ff-43f2-a587-eed29ee093aa",
   "metadata": {},
   "outputs": [
    {
     "name": "stdout",
     "output_type": "stream",
     "text": [
      "I Play Hockey\n",
      "I Play Football\n",
      "I Love Hockey\n",
      "I Love Football\n",
      "You Play Hockey\n",
      "You Play Football\n",
      "You Love Hockey\n",
      "You Love Football\n"
     ]
    }
   ],
   "source": [
    "subject=[\"I\", \"You\"]\n",
    "verbs=[\"Play\", \"Love\"]\n",
    "objects=[\"Hockey\",\"Football\"]\n",
    "for i in range(len(subject)):\n",
    "    for j in range(len(verbs)):\n",
    "        for k in range(len(objects)):\n",
    "            print (subject[i],verbs[j],objects[k]) # This simple gives the combination of all outputs. "
   ]
  },
  {
   "cell_type": "markdown",
   "id": "e65fe53f-fcc3-462e-a05f-3983fde8c105",
   "metadata": {},
   "source": [
    "Question 5:\n",
    "Please write a program to compress and decompress the string \"hello world!hello world!hello world!hello world!\".\n",
    "# Dont Know About Compress and Decompress Functions. \n"
   ]
  },
  {
   "cell_type": "code",
   "execution_count": 23,
   "id": "ccb47454-e222-4697-a3b0-992a4d4a9097",
   "metadata": {},
   "outputs": [
    {
     "name": "stdout",
     "output_type": "stream",
     "text": [
      "<itertools.compress object at 0x7f1d4437d210>\n",
      "h\n",
      "l\n"
     ]
    },
    {
     "ename": "AttributeError",
     "evalue": "module 'itertools' has no attribute 'decompress'",
     "output_type": "error",
     "traceback": [
      "\u001b[0;31m---------------------------------------------------------------------------\u001b[0m",
      "\u001b[0;31mAttributeError\u001b[0m                            Traceback (most recent call last)",
      "Cell \u001b[0;32mIn [23], line 7\u001b[0m\n\u001b[1;32m      5\u001b[0m \u001b[38;5;28;01mfor\u001b[39;00m i \u001b[38;5;129;01min\u001b[39;00m t:\n\u001b[1;32m      6\u001b[0m     \u001b[38;5;28mprint\u001b[39m(i)\n\u001b[0;32m----> 7\u001b[0m \u001b[38;5;28mprint\u001b[39m (\u001b[43mitertools\u001b[49m\u001b[38;5;241;43m.\u001b[39;49m\u001b[43mdecompress\u001b[49m(t))\n",
      "\u001b[0;31mAttributeError\u001b[0m: module 'itertools' has no attribute 'decompress'"
     ]
    }
   ],
   "source": [
    "import itertools\n",
    "#s = 'hello world!hello world!hello world!hello world!'\n",
    "t = itertools.compress('hello world!hello world!hello world!hello world!', [1, 0, 1, 0, 0])\n",
    "print (t)\n",
    "for i in t:\n",
    "    print(i)\n",
    "print (itertools.decompress(t))"
   ]
  },
  {
   "cell_type": "code",
   "execution_count": 18,
   "id": "bcb1f3b8-1af4-4163-b4ac-cd09827962cf",
   "metadata": {},
   "outputs": [
    {
     "name": "stdout",
     "output_type": "stream",
     "text": [
      "A\n",
      "C\n"
     ]
    }
   ],
   "source": [
    "import itertools\n",
    "import operator\n",
    "  \n",
    "  \n",
    "example = itertools.compress('ABCDE', [1, 0, 1, 0, 0])\n",
    "  \n",
    "for each in example:\n",
    "    print(each)"
   ]
  },
  {
   "cell_type": "markdown",
   "id": "e8f3eab5-0648-4b3e-9745-3e85e538885b",
   "metadata": {},
   "source": [
    "Question 6:\n",
    "Please write a binary search function which searches an item in a sorted list. The function should return the index of element to be searched in the list."
   ]
  },
  {
   "cell_type": "code",
   "execution_count": 35,
   "id": "3ffb777b-2771-4500-8507-90332f30d2df",
   "metadata": {},
   "outputs": [
    {
     "name": "stdout",
     "output_type": "stream",
     "text": [
      "7 is absent\n"
     ]
    }
   ],
   "source": [
    "#from bisect import bisect_left # bisect library is used for Binary Search in Python \n",
    "def BinarySearch(l1,s1): \n",
    "    i=bisect_left(l1,s1)\n",
    "    if i!=len(l1) and l1[i] == s1:\n",
    "        return i\n",
    "    else:\n",
    "        return -1\n",
    "l1=[1,4,6,9,9,10]\n",
    "s1=int(7)\n",
    "result=BinarySearch(l1,s1)\n",
    "if result == -1:\n",
    "    print(s1, \"is absent\")\n",
    "else:\n",
    "    print(\"First occurance of\", s1, \"is present at\", result)"
   ]
  },
  {
   "cell_type": "code",
   "execution_count": null,
   "id": "ac020b96-7019-471d-a3a5-3c68b130b63f",
   "metadata": {},
   "outputs": [],
   "source": []
  }
 ],
 "metadata": {
  "kernelspec": {
   "display_name": "Python 3 (ipykernel)",
   "language": "python",
   "name": "python3"
  },
  "language_info": {
   "codemirror_mode": {
    "name": "ipython",
    "version": 3
   },
   "file_extension": ".py",
   "mimetype": "text/x-python",
   "name": "python",
   "nbconvert_exporter": "python",
   "pygments_lexer": "ipython3",
   "version": "3.10.6"
  }
 },
 "nbformat": 4,
 "nbformat_minor": 5
}
