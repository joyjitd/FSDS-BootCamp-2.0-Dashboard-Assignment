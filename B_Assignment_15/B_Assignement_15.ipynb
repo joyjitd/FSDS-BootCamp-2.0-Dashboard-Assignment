{
 "cells": [
  {
   "cell_type": "markdown",
   "id": "2398273d",
   "metadata": {},
   "source": [
    "1.How many seconds are in an hour? Use the interactive interpreter as a calculator and multiply the number of seconds in a minute (60) by the number of minutes in an hour (also 60)."
   ]
  },
  {
   "cell_type": "markdown",
   "id": "f5b035a0",
   "metadata": {},
   "source": [
    "\n",
    "To calculate the number of seconds in an hour using the interactive interpreter as a calculator, you can multiply the number of seconds in a minute (60) by the number of minutes in an hour (also 60). Here's the calculation:"
   ]
  },
  {
   "cell_type": "code",
   "execution_count": 1,
   "id": "f6a0a538",
   "metadata": {},
   "outputs": [
    {
     "name": "stdout",
     "output_type": "stream",
     "text": [
      "3600\n"
     ]
    }
   ],
   "source": [
    "seconds_in_minute = 60\n",
    "minutes_in_hour = 60\n",
    "\n",
    "seconds_in_hour = seconds_in_minute * minutes_in_hour\n",
    "\n",
    "print(seconds_in_hour)\n"
   ]
  },
  {
   "cell_type": "code",
   "execution_count": null,
   "id": "8f75b696",
   "metadata": {},
   "outputs": [],
   "source": [
    "Therefore, there are 3600 seconds in an hour."
   ]
  },
  {
   "cell_type": "markdown",
   "id": "a45b613f",
   "metadata": {},
   "source": [
    "2. Assign the result from the previous task (seconds in an hour) to a variable called seconds_per_hour."
   ]
  },
  {
   "cell_type": "markdown",
   "id": "63c0fff7",
   "metadata": {},
   "source": [
    "To assign the result from the previous task (seconds in an hour) to a variable called seconds_per_hour, you can use the assignment operator (=) as follows:"
   ]
  },
  {
   "cell_type": "code",
   "execution_count": 4,
   "id": "57c8f9d8",
   "metadata": {},
   "outputs": [],
   "source": [
    "seconds_per_hour = seconds_in_hour\n"
   ]
  },
  {
   "cell_type": "markdown",
   "id": "0a6bdb35",
   "metadata": {},
   "source": [
    "Assuming you have already executed the previous code that calculated the seconds_in_hour value, this assignment statement will store the value 3600 in the variable seconds_per_hour. Now you can use the seconds_per_hour variable throughout your code to represent the number of seconds in an hour."
   ]
  },
  {
   "cell_type": "markdown",
   "id": "cec4e2b4",
   "metadata": {},
   "source": [
    "3. How many seconds do you think there are in a day? Make use of the variables seconds per hour and minutes per hour."
   ]
  },
  {
   "cell_type": "markdown",
   "id": "2c1df440",
   "metadata": {},
   "source": [
    "To calculate the number of seconds in a day, we can make use of the variables seconds_per_hour (which is 3600) and minutes_in_hour (which is 60) from the previous tasks. We know that there are 24 hours in a day. Therefore, we can multiply the number of seconds in an hour by the number of hours in a day to calculate the total number of seconds in a day. Here's the calculation:"
   ]
  },
  {
   "cell_type": "code",
   "execution_count": 5,
   "id": "eda37692",
   "metadata": {},
   "outputs": [
    {
     "name": "stdout",
     "output_type": "stream",
     "text": [
      "86400\n"
     ]
    }
   ],
   "source": [
    "hours_in_day = 24\n",
    "\n",
    "seconds_per_day = seconds_per_hour * hours_in_day\n",
    "\n",
    "print(seconds_per_day)\n"
   ]
  },
  {
   "cell_type": "markdown",
   "id": "6c7d8b6d",
   "metadata": {},
   "source": [
    "4. Calculate seconds per day again, but this time save the result in a variable called seconds_per_day"
   ]
  },
  {
   "cell_type": "code",
   "execution_count": null,
   "id": "680cfc9f",
   "metadata": {},
   "outputs": [],
   "source": [
    "To calculate the number of seconds in a day and save the result in a variable called seconds_per_day, you can use the following code:\n",
    "    "
   ]
  },
  {
   "cell_type": "code",
   "execution_count": 6,
   "id": "01e64001",
   "metadata": {},
   "outputs": [
    {
     "name": "stdout",
     "output_type": "stream",
     "text": [
      "86400\n"
     ]
    }
   ],
   "source": [
    "seconds_per_day = seconds_per_hour * hours_in_day\n",
    "\n",
    "print(seconds_per_day)\n"
   ]
  },
  {
   "cell_type": "markdown",
   "id": "aa31cf92",
   "metadata": {},
   "source": [
    "By multiplying seconds_per_hour (which is 3600) by hours_in_day (which is 24), the calculation will yield the total number of seconds in a day. The result will be stored in the seconds_per_day variable.\n",
    "\n",
    "You can then use the seconds_per_day variable throughout your code to represent the number of seconds in a day."
   ]
  },
  {
   "cell_type": "markdown",
   "id": "03f1e7c3",
   "metadata": {},
   "source": [
    "5. Divide seconds_per_day by seconds_per_hour. Use floating-point (/) division."
   ]
  },
  {
   "cell_type": "markdown",
   "id": "e61e914f",
   "metadata": {},
   "source": [
    "To divide the seconds_per_day variable by the seconds_per_hour variable using floating-point division, you can use the following code:"
   ]
  },
  {
   "cell_type": "code",
   "execution_count": 7,
   "id": "2b4f5321",
   "metadata": {},
   "outputs": [
    {
     "name": "stdout",
     "output_type": "stream",
     "text": [
      "24.0\n"
     ]
    }
   ],
   "source": [
    "result = seconds_per_day / seconds_per_hour\n",
    "\n",
    "print(result)\n"
   ]
  },
  {
   "cell_type": "markdown",
   "id": "70904fa8",
   "metadata": {},
   "source": [
    "This code will perform the division operation and store the result in the result variable. By dividing the total number of seconds in a day (86400) by the number of seconds in an hour (3600), the result will be the number of hours in a day.\n",
    "\n",
    "When you run this code, the output will be:\n",
    "\n",
    "The result is 24.0 because floating-point division (/) returns a floating-point number, even if the division is exact. In this case, dividing the total seconds in a day by the seconds in an hour yields a whole number, 24, but the result is represented as a float to indicate that it is a precise fractional value."
   ]
  },
  {
   "cell_type": "code",
   "execution_count": null,
   "id": "8f389538",
   "metadata": {},
   "outputs": [],
   "source": [
    "6. Divide seconds_per_day by seconds_per_hour, using integer (//) division. Did this number agree with the floating-point value from the previous question, aside from the final .0?"
   ]
  },
  {
   "cell_type": "code",
   "execution_count": 8,
   "id": "c984d039",
   "metadata": {},
   "outputs": [
    {
     "name": "stdout",
     "output_type": "stream",
     "text": [
      "24\n"
     ]
    }
   ],
   "source": [
    "result = seconds_per_day // seconds_per_hour\n",
    "\n",
    "print(result)\n"
   ]
  },
  {
   "cell_type": "markdown",
   "id": "3fbfcef9",
   "metadata": {},
   "source": [
    "7. Write a generator, genPrimes, that returns the sequence of prime numbers on successive calls to its next() method: 2, 3, 5, 7, 11, ..."
   ]
  },
  {
   "cell_type": "code",
   "execution_count": 10,
   "id": "1ce58bb0",
   "metadata": {},
   "outputs": [],
   "source": [
    "def genPrimes():\n",
    "    prime_numbers = []  # List to store prime numbers\n",
    "\n",
    "    num = 2  # Start with the first prime number\n",
    "\n",
    "    while True:\n",
    "        if all(num % prime != 0 for prime in prime_numbers):\n",
    "            yield num\n",
    "            prime_numbers.append(num)\n",
    "        num += 1\n"
   ]
  },
  {
   "cell_type": "code",
   "execution_count": 11,
   "id": "2821a039",
   "metadata": {},
   "outputs": [
    {
     "name": "stdout",
     "output_type": "stream",
     "text": [
      "2\n",
      "3\n",
      "5\n",
      "7\n",
      "11\n"
     ]
    }
   ],
   "source": [
    "primes = genPrimes()\n",
    "\n",
    "print(next(primes))  # Output: 2\n",
    "print(next(primes))  # Output: 3\n",
    "print(next(primes))  # Output: 5\n",
    "print(next(primes))  # Output: 7\n",
    "print(next(primes))  # Output: 11\n",
    "# and so on...\n"
   ]
  }
 ],
 "metadata": {
  "kernelspec": {
   "display_name": "Python 3 (ipykernel)",
   "language": "python",
   "name": "python3"
  },
  "language_info": {
   "codemirror_mode": {
    "name": "ipython",
    "version": 3
   },
   "file_extension": ".py",
   "mimetype": "text/x-python",
   "name": "python",
   "nbconvert_exporter": "python",
   "pygments_lexer": "ipython3",
   "version": "3.9.13"
  }
 },
 "nbformat": 4,
 "nbformat_minor": 5
}
