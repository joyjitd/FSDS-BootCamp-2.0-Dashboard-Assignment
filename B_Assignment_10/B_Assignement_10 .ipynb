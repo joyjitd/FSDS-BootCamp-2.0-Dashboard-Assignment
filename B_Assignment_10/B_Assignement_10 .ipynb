{
 "cells": [
  {
   "cell_type": "markdown",
   "id": "9df838d0",
   "metadata": {},
   "source": [
    "1. How do you distinguish between shutil.copy() and shutil.copytree()?"
   ]
  },
  {
   "cell_type": "markdown",
   "id": "4e9efca2",
   "metadata": {},
   "source": [
    "In Python's `shutil` module, `shutil.copy()` and `shutil.copytree()` are used to perform file and directory copying operations, respectively. Here's how you can distinguish between them:\n",
    "\n",
    "1. `shutil.copy(src, dst)`:\n",
    "   - `src` is the path to the source file that you want to copy.\n",
    "   - `dst` is the path to the destination directory or file name where the copy will be placed.\n",
    "   - This function copies the file at `src` to the location specified by `dst`. If `dst` is a directory, the file will be copied with the same name to that directory.\n",
    "   - Example: `shutil.copy('source.txt', 'destination.txt')`\n",
    "\n",
    "2. `shutil.copytree(src, dst)`:\n",
    "   - `src` is the path to the source directory that you want to copy.\n",
    "   - `dst` is the path to the destination directory where the copy will be placed.\n",
    "   - This function recursively copies the entire directory tree rooted at `src` to the directory specified by `dst`.\n",
    "   - The destination directory (`dst`) must not exist before calling `copytree()`.\n",
    "   - Example: `shutil.copytree('source_directory', 'destination_directory')`\n",
    "\n",
    "To summarize, `shutil.copy()` is used to copy individual files, while `shutil.copytree()` is used to copy entire directory trees."
   ]
  },
  {
   "cell_type": "code",
   "execution_count": null,
   "id": "2d77f07f",
   "metadata": {},
   "outputs": [],
   "source": [
    "2. What function is used to rename files??"
   ]
  },
  {
   "cell_type": "markdown",
   "id": "df88023a",
   "metadata": {},
   "source": [
    "n Python, you can use the os.rename() function from the os module to rename files. The os.rename() function takes two arguments: the current file name (or path) and the new desired file name (or path).\n",
    "\n",
    "Here's an example of how to use os.rename() to rename a file:"
   ]
  },
  {
   "cell_type": "code",
   "execution_count": 6,
   "id": "b656b146",
   "metadata": {},
   "outputs": [
    {
     "ename": "FileNotFoundError",
     "evalue": "[WinError 2] The system cannot find the file specified: 'old_filename.txt' -> 'new_filename.txt'",
     "output_type": "error",
     "traceback": [
      "\u001b[1;31m---------------------------------------------------------------------------\u001b[0m",
      "\u001b[1;31mFileNotFoundError\u001b[0m                         Traceback (most recent call last)",
      "\u001b[1;32m~\\AppData\\Local\\Temp\\ipykernel_1384\\1386836122.py\u001b[0m in \u001b[0;36m<module>\u001b[1;34m\u001b[0m\n\u001b[0;32m      4\u001b[0m \u001b[0mnew_name\u001b[0m \u001b[1;33m=\u001b[0m \u001b[1;34m'new_filename.txt'\u001b[0m \u001b[1;31m# THIS WILL BE THE NEW NAME\u001b[0m\u001b[1;33m\u001b[0m\u001b[1;33m\u001b[0m\u001b[0m\n\u001b[0;32m      5\u001b[0m \u001b[1;33m\u001b[0m\u001b[0m\n\u001b[1;32m----> 6\u001b[1;33m \u001b[0mos\u001b[0m\u001b[1;33m.\u001b[0m\u001b[0mrename\u001b[0m\u001b[1;33m(\u001b[0m\u001b[0mcurrent_name\u001b[0m\u001b[1;33m,\u001b[0m \u001b[0mnew_name\u001b[0m\u001b[1;33m)\u001b[0m\u001b[1;33m\u001b[0m\u001b[1;33m\u001b[0m\u001b[0m\n\u001b[0m",
      "\u001b[1;31mFileNotFoundError\u001b[0m: [WinError 2] The system cannot find the file specified: 'old_filename.txt' -> 'new_filename.txt'"
     ]
    }
   ],
   "source": [
    "import os\n",
    "\n",
    "current_name = 'old_filename.txt' # IF OLD FILE IS SAVED\n",
    "new_name = 'new_filename.txt' # THIS WILL BE THE NEW NAME \n",
    "\n",
    "os.rename(current_name, new_name)"
   ]
  },
  {
   "cell_type": "markdown",
   "id": "00e2e439",
   "metadata": {},
   "source": [
    "3. What is the difference between the delete functions in the send2trash and shutil modules?"
   ]
  },
  {
   "cell_type": "markdown",
   "id": "0a791b04",
   "metadata": {},
   "source": [
    "The `send2trash` and `shutil` modules in Python provide different approaches for deleting files and directories. Here's a breakdown of their differences:\n",
    "\n",
    "1. `send2trash` module:\n",
    "   - The `send2trash` module provides a safe way to delete files or directories by moving them to the operating system's trash or recycle bin instead of permanently deleting them.\n",
    "   - The `send2trash.send2trash()` function is used to send files or directories to the trash/recycle bin.\n",
    "   - Example: `send2trash.send2trash('path_to_file_or_directory')`\n",
    "   - By using `send2trash`, you can recover deleted files from the trash/recycle bin if needed.\n",
    "   - This module is useful when you want to delete files but still have the option to restore them later.\n",
    "\n",
    "2. `shutil` module:\n",
    "   - The `shutil` module provides a variety of file and directory operations, including deletion.\n",
    "   - The `shutil.rmtree()` function is used to delete a directory and its contents recursively, including all files and subdirectories within it.\n",
    "   - Example: `shutil.rmtree('path_to_directory')`\n",
    "   - The `os.remove()` function from the `os` module, which `shutil` utilizes, is used to delete individual files.\n",
    "   - Example: `os.remove('path_to_file')`\n",
    "   - Unlike `send2trash`, the deletion performed by `shutil.rmtree()` and `os.remove()` is permanent and cannot be easily undone.\n",
    "   - The `shutil` module is suitable when you want to delete files or directories permanently without the option for recovery.\n",
    "\n",
    "To summarize, the `send2trash` module provides a safe way to delete files and directories by moving them to the trash/recycle bin, allowing for easy restoration. On the other hand, the `shutil` module provides functions for permanent deletion of files and directories."
   ]
  },
  {
   "cell_type": "markdown",
   "id": "d9b1438f",
   "metadata": {},
   "source": [
    "4.ZipFile objects have a close() method just like File objects’ close() method. What ZipFile method is equivalent to File objects’ open() method?"
   ]
  },
  {
   "cell_type": "markdown",
   "id": "a215baf1",
   "metadata": {},
   "source": [
    "The ZipFile class in Python's zipfile module is used for creating, reading, and writing ZIP archive files. The equivalent method in ZipFile to File objects' open() method is the ZipFile() constructor itself."
   ]
  }
 ],
 "metadata": {
  "kernelspec": {
   "display_name": "Python 3 (ipykernel)",
   "language": "python",
   "name": "python3"
  },
  "language_info": {
   "codemirror_mode": {
    "name": "ipython",
    "version": 3
   },
   "file_extension": ".py",
   "mimetype": "text/x-python",
   "name": "python",
   "nbconvert_exporter": "python",
   "pygments_lexer": "ipython3",
   "version": "3.9.13"
  }
 },
 "nbformat": 4,
 "nbformat_minor": 5
}
