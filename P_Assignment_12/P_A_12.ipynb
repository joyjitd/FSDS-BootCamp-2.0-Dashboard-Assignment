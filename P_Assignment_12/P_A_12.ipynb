{
 "cells": [
  {
   "cell_type": "markdown",
   "id": "f32cf3ab-351a-4932-87f9-d3cf1b109cee",
   "metadata": {},
   "source": [
    "##Program_Assignment_12 "
   ]
  },
  {
   "cell_type": "code",
   "execution_count": null,
   "id": "5a2c94e2-e55c-4ab3-aaab-d12ceae6e0d5",
   "metadata": {},
   "outputs": [],
   "source": [
    "1.\tWrite a Python program to Extract Unique values dictionary values?"
   ]
  },
  {
   "cell_type": "code",
   "execution_count": 31,
   "id": "13a3cce6-7f93-4e93-95c4-feef23ffef5c",
   "metadata": {},
   "outputs": [
    {
     "name": "stdout",
     "output_type": "stream",
     "text": [
      "The extraction of the uniques values from the dictionary is [1, 2, 3, 4, 5, 6, 7, 9]\n"
     ]
    }
   ],
   "source": [
    "dic_data={'Z':[9,3,5,2,7,5],'Y':[9,5,6,3,4,1,2],5:[7,5,6,4,5]}\n",
    "t1=str(dic_data)\n",
    "x=[]\n",
    "dic_value=dic_data.values()\n",
    "dic_key=dic_data.keys()\n",
    "for i in dic_data:\n",
    "    #print(dic_data[i])\n",
    "    x=x+dic_data[i] # Addtion two list to extract the uniques values from the dictionary values.  \n",
    "x_sort=set(x)\n",
    "print(f\"The extraction of the uniques values from the dictionary is {list(x_sort)}\")"
   ]
  },
  {
   "cell_type": "markdown",
   "id": "346a3851-d66a-4a61-8166-e3ed950d0a91",
   "metadata": {},
   "source": [
    "2.\tWrite a Python program to find the sum of all items in a dictionary?"
   ]
  },
  {
   "cell_type": "code",
   "execution_count": 64,
   "id": "613afc84-f4d6-4f5b-9123-1c6d409c69da",
   "metadata": {},
   "outputs": [
    {
     "name": "stdout",
     "output_type": "stream",
     "text": [
      "India's total score is 21\n"
     ]
    }
   ],
   "source": [
    "data_dic={\"Virat\":67,\"Rohit\":89,\"Sourav\":110,\"Sachin\":99}\n",
    "score=0\n",
    "#for i in data_dic:\n",
    "    #score=score+data_dic[i]\n",
    "#print (\"India's total score is \",score)\n",
    "score_dic=list[data_dic.values()]\n",
    "#total_score=sum(score_dic)\n",
    "print(\"India's total score is\", total_score)"
   ]
  },
  {
   "cell_type": "markdown",
   "id": "67a671c4-df6d-4174-8238-53cbed4b85bd",
   "metadata": {},
   "source": [
    "3.\tWrite a Python program to Merging two Dictionaries?"
   ]
  },
  {
   "cell_type": "code",
   "execution_count": 71,
   "id": "e592a81f-3d10-4a12-b0b1-0aef40ca672a",
   "metadata": {},
   "outputs": [
    {
     "name": "stdout",
     "output_type": "stream",
     "text": [
      "{'1': 987, 'koko': 234, 'jojo': 1994, 1995: 'srijo'}\n"
     ]
    }
   ],
   "source": [
    "d1={\"jojo\":1994,1995:\"srijo\"}\n",
    "d2={'1':987,\"koko\":234,\"jojo\":2022}\n",
    "d3=d2.copy() # using the copy function \n",
    "d3.update(d1) # using the update in build function \n",
    "print(d3)"
   ]
  },
  {
   "cell_type": "markdown",
   "id": "2410ce12-343d-4cfc-8387-ef8008d3d7b0",
   "metadata": {},
   "source": [
    "4.\tWrite a Python program to convert key-values list to flat dictionary?"
   ]
  },
  {
   "cell_type": "code",
   "execution_count": 78,
   "id": "d67310b2-1b14-430b-a433-4f4558835fc2",
   "metadata": {},
   "outputs": [
    {
     "name": "stdout",
     "output_type": "stream",
     "text": [
      "[[1, 2, 3], ['Jan', 'Feb', 'March']]\n",
      "{1: 'Jan', 2: 'Feb'}\n"
     ]
    }
   ],
   "source": [
    "test_dict = {'month' : [1, 2, 3],\n",
    "             'name' : ['Jan', 'Feb', 'March']} # Key Value List To Flat dictionary. \n",
    "data_values=list(test_dict.values())\n",
    "print(data_values)\n",
    "out_dic={data_values[0][0]:data_values[1][0],data_values[0][1]:data_values[1][1]}\n",
    "print(out_dic)\n",
    "#data_keys=data_dic.keys()}\n",
    "#data_values=data_dic.values()\n",
    "#print(data_keys)\n",
    "#print(data_values)"
   ]
  },
  {
   "cell_type": "markdown",
   "id": "5a64fc34-f4b0-4e6c-a6a2-68302c6ac435",
   "metadata": {},
   "source": [
    "5.\tWrite a Python program to insertion at the beginning in OrderedDict?"
   ]
  },
  {
   "cell_type": "code",
   "execution_count": 85,
   "id": "7c34fd75-446b-40c2-bb99-f40462388558",
   "metadata": {},
   "outputs": [
    {
     "name": "stdout",
     "output_type": "stream",
     "text": [
      "OrderedDict([('c', 3), ('a', 1), ('b', 2)])\n"
     ]
    }
   ],
   "source": [
    "from collections import OrderedDict\n",
    "o_dict={'a':1,'b':2}\n",
    "i_inst={'c':3}\n",
    "x=OrderedDict(o_dict)\n",
    "x.update(i_inst)\n",
    "x.move_to_end('c',last=False) # Making it False makes the condition true\n",
    "print(x)"
   ]
  },
  {
   "cell_type": "markdown",
   "id": "e261eaa2-542d-421d-bd45-54d296ff0797",
   "metadata": {},
   "source": [
    "6.\tWrite a Python program to check order of character in string using OrderedDict()?"
   ]
  },
  {
   "cell_type": "code",
   "execution_count": 88,
   "id": "88c9579b-d355-4dd3-a945-28fded4f35ad",
   "metadata": {},
   "outputs": [
    {
     "name": "stdout",
     "output_type": "stream",
     "text": [
      "OrderedDict([('J', None), ('O', None), ('1', None), ('2', None), ('3', None)])\n"
     ]
    },
    {
     "data": {
      "text/plain": [
       "'true'"
      ]
     },
     "execution_count": 88,
     "metadata": {},
     "output_type": "execute_result"
    }
   ],
   "source": [
    "from collections import OrderedDict \n",
    "  \n",
    "def checkOrder(input, pattern): \n",
    "    dict = OrderedDict.fromkeys(input) \n",
    "    print(dict)"
   ]
  },
  {
   "cell_type": "markdown",
   "id": "cd9382fb-9be6-4f6b-9194-eb4b43b54792",
   "metadata": {},
   "source": [
    "7.\tWrite a Python program to sort Python Dictionaries by Key or Value?"
   ]
  },
  {
   "cell_type": "code",
   "execution_count": 96,
   "id": "e96b1b35-993e-48ce-88c3-48e4831afd69",
   "metadata": {},
   "outputs": [
    {
     "name": "stdout",
     "output_type": "stream",
     "text": [
      "OrderedDict([('1', 10), ('Ankit', '2'), ('Busuem', '32'), ('Coney', '15'), ('mahesh', '9')])\n"
     ]
    }
   ],
   "source": [
    "from collections import OrderedDict\n",
    " \n",
    "dict = {'mahesh': '9',\n",
    "        'Coney': '15', 'Ankit': '2', 'Busuem': '32',\"1\": 10}\n",
    "dict1 = OrderedDict(sorted(dict.items())) # Sorting in case of Alphatetic order. \n",
    "print(dict1)"
   ]
  },
  {
   "cell_type": "code",
   "execution_count": null,
   "id": "d05ef9eb-41c7-4e1b-9da0-eaba6c7111fa",
   "metadata": {},
   "outputs": [],
   "source": []
  }
 ],
 "metadata": {
  "kernelspec": {
   "display_name": "Python 3 (ipykernel)",
   "language": "python",
   "name": "python3"
  },
  "language_info": {
   "codemirror_mode": {
    "name": "ipython",
    "version": 3
   },
   "file_extension": ".py",
   "mimetype": "text/x-python",
   "name": "python",
   "nbconvert_exporter": "python",
   "pygments_lexer": "ipython3",
   "version": "3.10.6"
  }
 },
 "nbformat": 4,
 "nbformat_minor": 5
}
