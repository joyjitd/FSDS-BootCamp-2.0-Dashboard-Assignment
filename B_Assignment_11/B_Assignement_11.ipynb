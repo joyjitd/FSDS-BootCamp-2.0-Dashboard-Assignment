{
 "cells": [
  {
   "cell_type": "markdown",
   "id": "60c4abb6",
   "metadata": {},
   "source": [
    "1. Create an assert statement that throws an AssertionError if the variable spam is a negative integer."
   ]
  },
  {
   "cell_type": "raw",
   "id": "e70538bd",
   "metadata": {},
   "source": [
    "Certainly! Here's an example of an assert statement that throws an AssertionError if the variable spam is a negative integer:"
   ]
  },
  {
   "cell_type": "code",
   "execution_count": 5,
   "id": "13d0bc03",
   "metadata": {},
   "outputs": [
    {
     "ename": "AssertionError",
     "evalue": "spam must be a non-negative integer",
     "output_type": "error",
     "traceback": [
      "\u001b[1;31m---------------------------------------------------------------------------\u001b[0m",
      "\u001b[1;31mAssertionError\u001b[0m                            Traceback (most recent call last)",
      "\u001b[1;32m~\\AppData\\Local\\Temp\\ipykernel_3680\\4113055923.py\u001b[0m in \u001b[0;36m<module>\u001b[1;34m\u001b[0m\n\u001b[0;32m      1\u001b[0m \u001b[0mspam\u001b[0m\u001b[1;33m=\u001b[0m\u001b[1;33m-\u001b[0m\u001b[1;36m1\u001b[0m\u001b[1;33m\u001b[0m\u001b[1;33m\u001b[0m\u001b[0m\n\u001b[1;32m----> 2\u001b[1;33m \u001b[1;32massert\u001b[0m \u001b[0mspam\u001b[0m \u001b[1;33m>=\u001b[0m \u001b[1;36m0\u001b[0m\u001b[1;33m,\u001b[0m \u001b[1;34m\"spam must be a non-negative integer\"\u001b[0m\u001b[1;33m\u001b[0m\u001b[1;33m\u001b[0m\u001b[0m\n\u001b[0m",
      "\u001b[1;31mAssertionError\u001b[0m: spam must be a non-negative integer"
     ]
    }
   ],
   "source": [
    "spam=-1\n",
    "assert spam >= 0, \"spam must be a non-negative integer\""
   ]
  },
  {
   "cell_type": "markdown",
   "id": "8ed5a221",
   "metadata": {},
   "source": [
    "If the value of spam is negative, the assert statement will raise an AssertionError with the specified error message."
   ]
  },
  {
   "cell_type": "markdown",
   "id": "12ad9bb5",
   "metadata": {},
   "source": [
    "2. Write an assert statement that triggers an AssertionError if the variables eggs and bacon contain strings that are the same as each other, even if their cases are different (that is, 'hello' and 'hello' are considered the same, and 'goodbye' and 'GOODbye' are also considered the same)."
   ]
  },
  {
   "cell_type": "markdown",
   "id": "2192d3d1",
   "metadata": {},
   "source": [
    "To compare two strings while ignoring the case, you can convert both strings to lowercase (or uppercase) and then use an assert statement to check if they are equal. Here's an example of an assert statement that triggers an AssertionError if the variables eggs and bacon contain strings that are the same, regardless of their cases:"
   ]
  },
  {
   "cell_type": "code",
   "execution_count": 10,
   "id": "1a05ba29",
   "metadata": {},
   "outputs": [
    {
     "ename": "AssertionError",
     "evalue": "eggs and bacon cannot have the same value (ignoring case)",
     "output_type": "error",
     "traceback": [
      "\u001b[1;31m---------------------------------------------------------------------------\u001b[0m",
      "\u001b[1;31mAssertionError\u001b[0m                            Traceback (most recent call last)",
      "\u001b[1;32m~\\AppData\\Local\\Temp\\ipykernel_3680\\2375457301.py\u001b[0m in \u001b[0;36m<module>\u001b[1;34m\u001b[0m\n\u001b[0;32m      1\u001b[0m \u001b[0meggs\u001b[0m\u001b[1;33m=\u001b[0m\u001b[1;34m\"HEN\"\u001b[0m\u001b[1;33m\u001b[0m\u001b[1;33m\u001b[0m\u001b[0m\n\u001b[0;32m      2\u001b[0m \u001b[0mbacon\u001b[0m\u001b[1;33m=\u001b[0m\u001b[1;34m\"HEN\"\u001b[0m\u001b[1;33m\u001b[0m\u001b[1;33m\u001b[0m\u001b[0m\n\u001b[1;32m----> 3\u001b[1;33m \u001b[1;32massert\u001b[0m \u001b[0meggs\u001b[0m\u001b[1;33m.\u001b[0m\u001b[0mlower\u001b[0m\u001b[1;33m(\u001b[0m\u001b[1;33m)\u001b[0m \u001b[1;33m!=\u001b[0m \u001b[0mbacon\u001b[0m\u001b[1;33m.\u001b[0m\u001b[0mlower\u001b[0m\u001b[1;33m(\u001b[0m\u001b[1;33m)\u001b[0m\u001b[1;33m,\u001b[0m \u001b[1;34m\"eggs and bacon cannot have the same value (ignoring case)\"\u001b[0m\u001b[1;33m\u001b[0m\u001b[1;33m\u001b[0m\u001b[0m\n\u001b[0m",
      "\u001b[1;31mAssertionError\u001b[0m: eggs and bacon cannot have the same value (ignoring case)"
     ]
    }
   ],
   "source": [
    "eggs=\"HEN\"\n",
    "bacon=\"HEN\"\n",
    "assert eggs.lower() != bacon.lower(), \"eggs and bacon cannot have the same value (ignoring case)\""
   ]
  },
  {
   "cell_type": "markdown",
   "id": "1486ec40",
   "metadata": {},
   "source": [
    "In this example, eggs.lower() and bacon.lower() convert the strings to lowercase, and then the assert statement checks if they are not equal. If they are equal, an AssertionError is raised with the specified error message.\n",
    "\n",
    "Please note that the lower() method is used here as an example. You can also use upper() to convert the strings to uppercase, depending on your specific requirements."
   ]
  },
  {
   "cell_type": "markdown",
   "id": "c8e4d6bd",
   "metadata": {},
   "source": [
    "3. Create an assert statement that throws an AssertionError every time."
   ]
  },
  {
   "cell_type": "markdown",
   "id": "788fa9b6",
   "metadata": {},
   "source": [
    "If you want to create an assert statement that always throws an AssertionError, you can simply use assert False as the condition. Here's an example:"
   ]
  },
  {
   "cell_type": "code",
   "execution_count": 12,
   "id": "0d226a81",
   "metadata": {},
   "outputs": [
    {
     "ename": "AssertionError",
     "evalue": "This assert statement always throws an AssertionError",
     "output_type": "error",
     "traceback": [
      "\u001b[1;31m---------------------------------------------------------------------------\u001b[0m",
      "\u001b[1;31mAssertionError\u001b[0m                            Traceback (most recent call last)",
      "\u001b[1;32m~\\AppData\\Local\\Temp\\ipykernel_3680\\2699135438.py\u001b[0m in \u001b[0;36m<module>\u001b[1;34m\u001b[0m\n\u001b[1;32m----> 1\u001b[1;33m \u001b[1;32massert\u001b[0m \u001b[1;32mFalse\u001b[0m\u001b[1;33m,\u001b[0m \u001b[1;34m\"This assert statement always throws an AssertionError\"\u001b[0m\u001b[1;33m\u001b[0m\u001b[1;33m\u001b[0m\u001b[0m\n\u001b[0m",
      "\u001b[1;31mAssertionError\u001b[0m: This assert statement always throws an AssertionError"
     ]
    }
   ],
   "source": [
    "assert False, \"This assert statement always throws an AssertionError\""
   ]
  },
  {
   "cell_type": "markdown",
   "id": "74930c64",
   "metadata": {},
   "source": [
    "In this case, since the condition False is always false, the assert statement will raise an AssertionError regardless of the context or values of other variables.\n",
    "\n",
    "It's important to note that using such assert statements can be useful for debugging and testing purposes, but they should not be used in production code."
   ]
  },
  {
   "cell_type": "markdown",
   "id": "6fa305ca",
   "metadata": {},
   "source": [
    "4. What are the two lines that must be present in your software in order to call logging.debug()?"
   ]
  },
  {
   "cell_type": "code",
   "execution_count": 13,
   "id": "938d0719",
   "metadata": {},
   "outputs": [
    {
     "name": "stderr",
     "output_type": "stream",
     "text": [
      "2023-07-02 22:49:12,764 - DEBUG - This is a debug message\n"
     ]
    }
   ],
   "source": [
    "import logging\n",
    "\n",
    "# Configure the logging level and format (usually done once at the beginning of the program)\n",
    "logging.basicConfig(level=logging.DEBUG, format='%(asctime)s - %(levelname)s - %(message)s')\n",
    "\n",
    "# Call logging.debug() to log a debug message\n",
    "logging.debug(\"This is a debug message\")\n",
    "\n"
   ]
  },
  {
   "cell_type": "markdown",
   "id": "a061ecfc",
   "metadata": {},
   "source": [
    "5. What are the two lines that your program must have in order to have logging.debug() send a logging message to a file named programLog.txt?"
   ]
  },
  {
   "cell_type": "markdown",
   "id": "68c90548",
   "metadata": {},
   "source": [
    "\n",
    "To have the logging.debug() function send logging messages to a file named \"programLog.txt\", you need to include two lines: one for importing the logging module and configuring the logging handlers, and another for setting up a file handler that directs the logging messages to the specified file. Here's an example:"
   ]
  },
  {
   "cell_type": "code",
   "execution_count": null,
   "id": "66db3f25",
   "metadata": {},
   "outputs": [],
   "source": [
    "import logging\n",
    "\n",
    "# Configure the logging level and format (usually done once at the beginning of the program)\n",
    "logging.basicConfig(level=logging.DEBUG, format='%(asctime)s - %(levelname)s - %(message)s')\n",
    "\n",
    "# Set up a file handler to send logging messages to a file\n",
    "file_handler = logging.FileHandler('programLog.txt')\n",
    "file_handler.setLevel(logging.DEBUG)\n",
    "\n",
    "# Configure the format for the file handler (optional)\n",
    "file_formatter = logging.Formatter('%(asctime)s - %(levelname)s - %(message)s')\n",
    "file_handler.setFormatter(file_formatter)\n",
    "\n",
    "# Add the file handler to the root logger\n",
    "logging.getLogger('').addHandler(file_handler)\n",
    "\n",
    "# Call logging.debug() to log a debug message\n",
    "logging.debug(\"This is a debug message\")\n"
   ]
  },
  {
   "cell_type": "markdown",
   "id": "9e99b281",
   "metadata": {},
   "source": [
    "In this example:\n",
    "\n",
    "The first line import logging imports the logging module.\n",
    "\n",
    "The second line logging.basicConfig(...) configures the logging level and format, as explained in the previous answer.\n",
    "\n",
    "The following lines set up a file handler to direct the logging messages to the \"programLog.txt\" file. The logging.FileHandler('programLog.txt') line creates a file handler object that specifies the file name. The file_handler.setLevel(logging.DEBUG) line sets the logging level for the file handler to logging.DEBUG (so it will handle all levels of logging messages).\n",
    "\n",
    "Optionally, you can configure the format for the file handler using the logging.Formatter class. The file_formatter = logging.Formatter('%(asctime)s - %(levelname)s - %(message)s') line specifies the desired format for the log messages. The file_handler.setFormatter(file_formatter) line sets the formatter for the file handler to use the specified format.\n",
    "\n",
    "The logging.getLogger('').addHandler(file_handler) line adds the file handler to the root logger, which ensures that logging messages are sent to the file.\n",
    "\n",
    "Finally, the line logging.debug(\"This is a debug message\") calls the logging.debug() function to log a debug message. The message will be sent to the file \"programLog.txt\" according to the configured settings."
   ]
  },
  {
   "cell_type": "markdown",
   "id": "08ed3356",
   "metadata": {},
   "source": [
    "6. What are the five levels of logging?"
   ]
  },
  {
   "cell_type": "markdown",
   "id": "c4bc81bd",
   "metadata": {},
   "source": [
    "The five levels of logging in Python, in increasing order of severity, are:\n",
    "\n",
    "1. DEBUG: The lowest level of logging. Used for detailed debugging information. Typically used during development and debugging to provide the most granular level of information.\n",
    "\n",
    "2. INFO: Used for general informational messages about the program's execution. These messages can be helpful to track the flow of the program and provide useful information to users or administrators.\n",
    "\n",
    "3. WARNING: Indicates a potential issue or a warning that does not necessarily cause the program to fail. These messages highlight situations that may need attention or could lead to errors if not addressed.\n",
    "\n",
    "4. ERROR: Indicates a more severe problem or error that caused the program to fail or behave unexpectedly. These messages are typically logged when an exception is caught or when there is a significant problem that requires attention.\n",
    "\n",
    "5. CRITICAL: The highest level of logging. Used for critical errors or failures that may result in the program being unable to continue running. These messages indicate a severe issue that requires immediate attention.\n",
    "\n",
    "By assigning appropriate levels to log messages, you can control the amount of information that is logged and easily filter and analyze the log output based on severity."
   ]
  },
  {
   "cell_type": "markdown",
   "id": "c7403e2a",
   "metadata": {},
   "source": [
    "7. What line of code would you add to your software to disable all logging messages?"
   ]
  },
  {
   "cell_type": "code",
   "execution_count": null,
   "id": "b59cb8c8",
   "metadata": {},
   "outputs": [],
   "source": [
    "logging.disable(logging.CRITICAL)"
   ]
  },
  {
   "cell_type": "markdown",
   "id": "75396768",
   "metadata": {},
   "source": [
    "8.Why is using logging messages better than using print() to display the same message?"
   ]
  },
  {
   "cell_type": "markdown",
   "id": "de675d6b",
   "metadata": {},
   "source": [
    "Using logging messages instead of print() statements offers several advantages:\n",
    "\n",
    "1. **Configurability**: With logging, you have more flexibility in configuring the logging behavior. You can define different log levels, control which log messages are displayed, and easily adjust the log output format. This configurability allows you to control the verbosity of your program's logging, making it easier to switch between different levels of detail based on your needs.\n",
    "\n",
    "2. **Granularity**: Logging provides different levels of severity (DEBUG, INFO, WARNING, ERROR, CRITICAL), allowing you to categorize and prioritize messages based on their importance. This granularity helps in distinguishing between different types of messages and focusing on the ones that require immediate attention.\n",
    "\n",
    "3. **Separation of Concerns**: Logging promotes separation of concerns by separating the act of generating log messages from the specific output destination. You can configure log handlers to send messages to various outputs such as files, the console, or even remote servers. This allows you to easily switch between different output destinations without modifying the logging calls in your code.\n",
    "\n",
    "4. **Runtime Control**: Logging allows you to change the logging behavior during runtime without modifying the code. You can dynamically adjust the logging level or redirect the log output without restarting the program. This can be especially helpful for debugging or troubleshooting in production environments.\n",
    "\n",
    "5. **Performance**: Compared to print() statements, logging can offer better performance, especially when the log output is disabled or redirected to a more efficient handler. By using log levels, you can selectively enable or disable logging based on the desired level of detail, reducing the overhead of generating log messages.\n",
    "\n",
    "6. **Integration with Libraries**: Many libraries and frameworks use logging for their internal messages. By using logging consistently in your code, you can seamlessly integrate with these libraries and capture their log messages along with your own, providing a unified logging experience.\n",
    "\n",
    "Overall, using logging messages provides more flexibility, control, and extensibility compared to print() statements, making it a better choice for structured and configurable logging in software development."
   ]
  },
  {
   "cell_type": "markdown",
   "id": "97005d29",
   "metadata": {},
   "source": [
    "9. What are the differences between the Step Over, Step In, and Step Out buttons in the debugger?"
   ]
  },
  {
   "cell_type": "markdown",
   "id": "e6505381",
   "metadata": {},
   "source": [
    "The Step Over, Step In, and Step Out buttons are commonly found in debuggers and are used to control the execution flow during debugging. Here's an overview of the differences between these three buttons:\n",
    "\n",
    "1. **Step Over**: When you click the Step Over button, the debugger executes the current line of code and moves to the next line in the current function. If the current line contains a function call, the function is executed entirely without stepping into it. The debugger will pause at the next line after the function call is completed.\n",
    "\n",
    "   Essentially, Step Over allows you to execute the current line and move to the next line, treating function calls as a single step.\n",
    "\n",
    "2. **Step In**: The Step In button is used to step into a function call. When you click Step In, the debugger will move to the next line of code, even if it is inside a function. If the current line contains a function call, the debugger will enter the called function and pause at the first line inside that function.\n",
    "\n",
    "   Step In allows you to dive into the details of the called function and debug it line by line.\n",
    "\n",
    "3. **Step Out**: Step Out is used to step out of the current function. It allows you to quickly exit the current function being debugged and continue executing the remaining lines of the calling function. When you click Step Out, the debugger will run the remaining lines of the current function and pause at the line where the function was called.\n",
    "\n",
    "   Step Out is useful when you want to quickly return to the caller and skip debugging the remaining lines of the current function.\n",
    "\n",
    "In summary, Step Over executes the current line and moves to the next line, Step In allows you to enter and debug a called function line by line, and Step Out allows you to quickly exit the current function and continue debugging from the calling function. These buttons provide control over the flow of execution during debugging, helping you analyze the behavior of your code step by step."
   ]
  },
  {
   "cell_type": "code",
   "execution_count": null,
   "id": "8dc17d52",
   "metadata": {},
   "outputs": [],
   "source": [
    "10.After you click Continue, when will the debugger stop ?"
   ]
  },
  {
   "cell_type": "markdown",
   "id": "d286a2f4",
   "metadata": {},
   "source": [
    "After clicking the Continue button in a debugger, the debugger will typically continue running the program without any interruption until it encounters one of the following events:\n",
    "\n",
    "1. **Breakpoint**: If a breakpoint is set at a specific line of code, the debugger will stop when it reaches that line. Breakpoints are intentional stopping points that allow you to inspect the program's state and variables at that particular location.\n",
    "\n",
    "2. **Exception**: If an exception occurs during the program's execution and is not caught, the debugger will stop at the point where the exception is raised. This allows you to examine the program's state and the traceback to understand the cause of the exception.\n",
    "\n",
    "3. **Program Completion**: The debugger will stop when the program execution is complete and all the statements in the program have been executed.\n",
    "\n",
    "4. **Interrupt Signal**: If an interrupt signal is received, such as when pressing Ctrl+C in the console or when using specific debugger commands, the debugger will stop the program at that point.\n",
    "\n",
    "5. **Explicit Pause/Stop**: Some debuggers provide options to explicitly pause or stop the program's execution during debugging. This allows you to manually intervene and inspect the program's state.\n",
    "\n",
    "In most cases, after clicking Continue, the debugger will run continuously until it encounters one of the above events. It allows the program to proceed uninterrupted, making it useful for observing the program's behavior over a longer duration or during specific scenarios without breaking at every line of code."
   ]
  },
  {
   "cell_type": "code",
   "execution_count": null,
   "id": "a522a894",
   "metadata": {},
   "outputs": [],
   "source": [
    "11. What is the concept of a breakpoint?"
   ]
  },
  {
   "cell_type": "markdown",
   "id": "096cec33",
   "metadata": {},
   "source": [
    "A breakpoint is a debugging feature that allows you to pause the execution of a program at a specific line of code or at a specific condition. It enables you to examine the program's state, variables, and data at that particular point in order to understand and diagnose any issues or unexpected behavior.\n",
    "\n",
    "Breakpoints serve as intentional stopping points within the code, providing a way to interactively debug and analyze the program's execution flow. They are set by developers during the development process to facilitate debugging and allow for precise control over the program's execution."
   ]
  }
 ],
 "metadata": {
  "kernelspec": {
   "display_name": "Python 3 (ipykernel)",
   "language": "python",
   "name": "python3"
  },
  "language_info": {
   "codemirror_mode": {
    "name": "ipython",
    "version": 3
   },
   "file_extension": ".py",
   "mimetype": "text/x-python",
   "name": "python",
   "nbconvert_exporter": "python",
   "pygments_lexer": "ipython3",
   "version": "3.9.13"
  }
 },
 "nbformat": 4,
 "nbformat_minor": 5
}
