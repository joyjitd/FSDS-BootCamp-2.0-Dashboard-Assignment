{
 "cells": [
  {
   "cell_type": "markdown",
   "id": "e3d0f67a-0cad-4e89-a6ce-ddccb1da4fe4",
   "metadata": {},
   "source": [
    "Question 1:\n",
    "Please write a program using generator to print the numbers which can be divisible by 5 and 7 between 0 and n in comma separated form while n is input by console.\n",
    "Example:\n",
    "If the following n is given as input to the program:\n",
    "100\n",
    "Then, the output of the program should be:\n",
    "0,35,70\n"
   ]
  },
  {
   "cell_type": "code",
   "execution_count": null,
   "id": "d1f2aed6-8e74-42bc-8f6a-daeeea235a7e",
   "metadata": {},
   "outputs": [],
   "source": [
    "def generate(n):\n",
    "    for i in range(n+1):\n",
    "        if i % 35 == 0:    # 5*7 = 35, if a number is divisible by a & b then it is also divisible by a*b\n",
    "            yield i\n",
    "n = int(input())\n",
    "resp = [str(i) for i in generate(n)]\n",
    "print(\",\".join(resp))"
   ]
  },
  {
   "cell_type": "code",
   "execution_count": null,
   "id": "5c86668e-2871-447f-b716-1ae98a870d88",
   "metadata": {},
   "outputs": [],
   "source": [
    "def divby5and7(n):\n",
    "    for i in range(1,n+1):\n",
    "        if i%5 == 0 and i%7 ==0:\n",
    "            yield i\n",
    "n=input(\"Enter the last range number\")\n",
    "result=[]\n",
    "for i in divby5and7(n):\n",
    "    result.append(str(i))\n",
    "print(\",\".join(results))"
   ]
  },
  {
   "cell_type": "code",
   "execution_count": null,
   "id": "00e7c2a0-1c15-4406-accf-6e682a0290fc",
   "metadata": {},
   "outputs": [],
   "source": [
    "n=input(\"Enter the last range number\")\n",
    "def divby5and7(n):\n",
    "    result=[]\n",
    "    for i in range(1,n+1):\n",
    "        if i%5 == 0 and i%7 ==0:\n",
    "            result.append()\n",
    "            yield result\n",
    "#for i in range(n):\n",
    "#    print(divby5and7(100))\n",
    "type(divby5and7(n))"
   ]
  },
  {
   "cell_type": "markdown",
   "id": "ae85ba11-f387-4e26-9f83-34a5b3771308",
   "metadata": {},
   "source": [
    "Question 2:\n",
    "Please write a program using generator to print the even numbers between 0 and n in comma separated form while n is input by console.\n",
    "Example:\n",
    "If the following n is given as input to the program:\n",
    "10\n",
    "Then, the output of the program should be:\n",
    "0,2,4,6,8,10\n",
    "\n"
   ]
  },
  {
   "cell_type": "code",
   "execution_count": 2,
   "id": "86ef856b-1429-42f7-816f-d29492fb9ce4",
   "metadata": {},
   "outputs": [
    {
     "name": "stdin",
     "output_type": "stream",
     "text": [
      " 50\n"
     ]
    },
    {
     "name": "stdout",
     "output_type": "stream",
     "text": [
      "0,2,4,6,8,10,12,14,16,18,20,22,24,26,28,30,32,34,36,38,40,42,44,46,48,50\n"
     ]
    }
   ],
   "source": [
    "def gene(n):\n",
    "    for i in range(n+1):\n",
    "        if i % 2 == 0:    # 5*7 = 35, if a number is divisible by a & b then it is also divisible by a*b\n",
    "            yield i\n",
    "n = int(input())\n",
    "resp = [str(i) for i in gene(n)]\n",
    "print(\",\".join(resp))"
   ]
  },
  {
   "cell_type": "markdown",
   "id": "756f1f32-0a6c-4a0a-bc44-400f756f4b7c",
   "metadata": {},
   "source": [
    "Question 3:\n",
    "The Fibonacci Sequence is computed based on the following formula:\n",
    "f(n)=0 if n=0\n",
    "f(n)=1 if n=1\n",
    "f(n)=f(n-1)+f(n-2) if n>1\n",
    "Please write a program using list comprehension to print the Fibonacci Sequence in comma separated form with a given n input by console.\n",
    "Example:\n",
    "If the following n is given as input to the program:\n",
    "7\n",
    "\n",
    "Then, the output of the program should be:\n",
    "0,1,1,2,3,5,8,13\n"
   ]
  },
  {
   "cell_type": "code",
   "execution_count": 11,
   "id": "e6b038e0-eb46-4a65-bd62-0e1f27449d94",
   "metadata": {},
   "outputs": [
    {
     "name": "stdout",
     "output_type": "stream",
     "text": [
      "Fibonacci Series - \n",
      "0 , 1 , 1 , 2 , 3 , 5 , 8 , 13 , 21 , 34 , 55 , 89 , 144 , 233 , 377 , "
     ]
    }
   ],
   "source": [
    "def PrintFibonacci(length):\n",
    "    #Initial variable for the base case. \n",
    "    first = 0\n",
    "    second = 1\n",
    "\n",
    "    #Printing the initial Fibonacci number.\n",
    "    print(first ,\",\", second , \",\", end=\" \")\n",
    "\n",
    "    #decreasing the length by two because the first 2 Fibonacci numbers \n",
    "    #already printed.\n",
    "    length =length - 2\n",
    "    \n",
    "    #Loop until the length becomes 0.\n",
    "    while length > 0:\n",
    "\n",
    "        #Printing the next Fibonacci number.\n",
    "        print(first + second ,\",\", end=\" \")\n",
    "\n",
    "        #Updating the first and second variables for finding the next number. \n",
    "        temp = second\n",
    "        second = first + second\n",
    "        first = temp\n",
    "\n",
    "        #Decreasing the length that states the Fibonacci numbers to be \n",
    "        #printed more.\n",
    "        length -= 1\n",
    "\n",
    "if __name__ == \"__main__\":\n",
    "    print(\"Fibonacci Series - \")\n",
    "    PrintFibonacci(15)\n",
    "    pass"
   ]
  },
  {
   "cell_type": "markdown",
   "id": "87ad3281-5393-4cbd-99b8-d7d6f6e66fb4",
   "metadata": {},
   "source": [
    "\n",
    "Question 4:\n",
    "Assuming that we have some email addresses in the \"username@companyname.com\" format, please write program to print the user name of a given email address. Both user names and company names are composed of letters only.\n",
    "Example:\n",
    "If the following email address is given as input to the program:\n",
    "john@google.com\n",
    "Then, the output of the program should be:\n",
    "john\n"
   ]
  },
  {
   "cell_type": "code",
   "execution_count": 12,
   "id": "490ad09b-39fb-45ea-b3f6-ace8c7e29902",
   "metadata": {},
   "outputs": [
    {
     "name": "stdin",
     "output_type": "stream",
     "text": [
      " joyjit@ineuron.com\n"
     ]
    },
    {
     "name": "stdout",
     "output_type": "stream",
     "text": [
      "ineuron\n"
     ]
    }
   ],
   "source": [
    "import re # Using regular expression\n",
    "emailAddress = input()\n",
    "pat2 = \"(\\w+)@(\\w+)\\.(com)\"\n",
    "r2 = re.match(pat2,emailAddress)\n",
    "print(r2.group(2))"
   ]
  },
  {
   "cell_type": "markdown",
   "id": "6012662a-419c-48e4-8909-862428659cb1",
   "metadata": {},
   "source": [
    "Question 5:\n",
    "Define a class named Shape and its subclass Square. The Square class has an init function which takes a length as argument. Both classes have a area function which can print the area of the shape where Shape's area is 0 by default.\n",
    "\n"
   ]
  },
  {
   "cell_type": "code",
   "execution_count": 15,
   "id": "19254ce2-867c-40cd-b898-d41a868ab90a",
   "metadata": {},
   "outputs": [
    {
     "name": "stdout",
     "output_type": "stream",
     "text": [
      "9\n",
      "0\n"
     ]
    }
   ],
   "source": [
    "class Shape():# Parent Class \n",
    "    def __init__(self):\n",
    "        pass\n",
    "\n",
    "    def area(self):\n",
    "        return 0\n",
    "\n",
    "class Square(Shape): # Sub-Class or Child Class\n",
    "    def __init__(self,length = 0):\n",
    "        Shape.__init__(self)\n",
    "        self.length = length\n",
    "\n",
    "    def area(self):\n",
    "        return self.length*self.length\n",
    "\n",
    "Asqr = Square(3)\n",
    "print(Asqr.area())      # prints 25 as given argument\n",
    "\n",
    "print(Square().area())  # prints zero as default area"
   ]
  },
  {
   "cell_type": "code",
   "execution_count": 16,
   "id": "741a2888-41d9-4279-8b9e-a79e63c8f3fd",
   "metadata": {},
   "outputs": [
    {
     "data": {
      "text/plain": [
       "9"
      ]
     },
     "execution_count": 16,
     "metadata": {},
     "output_type": "execute_result"
    }
   ],
   "source": [
    "Asqr.area()"
   ]
  },
  {
   "cell_type": "code",
   "execution_count": 17,
   "id": "408d96de-a446-444f-a8d6-772c748fc21a",
   "metadata": {},
   "outputs": [
    {
     "data": {
      "text/plain": [
       "3"
      ]
     },
     "execution_count": 17,
     "metadata": {},
     "output_type": "execute_result"
    }
   ],
   "source": [
    "Asqr.length"
   ]
  },
  {
   "cell_type": "code",
   "execution_count": null,
   "id": "e89f1da0-97b0-4f23-8216-221bd239032e",
   "metadata": {},
   "outputs": [],
   "source": []
  }
 ],
 "metadata": {
  "kernelspec": {
   "display_name": "Python 3 (ipykernel)",
   "language": "python",
   "name": "python3"
  },
  "language_info": {
   "codemirror_mode": {
    "name": "ipython",
    "version": 3
   },
   "file_extension": ".py",
   "mimetype": "text/x-python",
   "name": "python",
   "nbconvert_exporter": "python",
   "pygments_lexer": "ipython3",
   "version": "3.10.6"
  }
 },
 "nbformat": 4,
 "nbformat_minor": 5
}
