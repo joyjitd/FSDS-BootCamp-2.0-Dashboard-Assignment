{
  "nbformat": 4,
  "nbformat_minor": 0,
  "metadata": {
    "colab": {
      "provenance": []
    },
    "kernelspec": {
      "name": "python3",
      "display_name": "Python 3"
    },
    "language_info": {
      "name": "python"
    }
  },
  "cells": [
    {
      "cell_type": "markdown",
      "source": [
        "1.\tWrite a Python Program to Add Two Matrices?"
      ],
      "metadata": {
        "id": "SQn_AflrtXY1"
      }
    },
    {
      "cell_type": "code",
      "source": [
        "X=[[1,2,3],\n",
        "   [4,5,6],\n",
        "   [7,8,9]]\n",
        "Y=[[7,2,1],\n",
        "   [5,5,4],\n",
        "   [1,9,3]]\n",
        "answer=[[0,0,0],\n",
        "        [0,0,0],\n",
        "        [0,0,0]]\n",
        "for i in range(len(X)):\n",
        "  for j in range(len(X[0])):\n",
        "    answer[i][j]=X[i][j] + Y[i][j] # Using addition \n",
        "for r in answer:\n",
        "   print(r)"
      ],
      "metadata": {
        "colab": {
          "base_uri": "https://localhost:8080/"
        },
        "id": "YoHKKBsDtgww",
        "outputId": "11cdd208-12db-47cf-8f9c-7995de75a63f"
      },
      "execution_count": 3,
      "outputs": [
        {
          "output_type": "stream",
          "name": "stdout",
          "text": [
            "[8, 4, 4]\n",
            "[9, 10, 10]\n",
            "[8, 17, 12]\n"
          ]
        }
      ]
    },
    {
      "cell_type": "markdown",
      "source": [
        "2.\tWrite a Python Program to Multiply Two Matrices?"
      ],
      "metadata": {
        "id": "GrDzwjywtbTq"
      }
    },
    {
      "cell_type": "code",
      "source": [
        "X=[[1,2,3],\n",
        "   [4,5,6],\n",
        "   [7,8,9]]\n",
        "Y=[[7,2,1],\n",
        "   [5,5,4],\n",
        "   [1,9,3]]\n",
        "answer=[[0,0,0],\n",
        "        [0,0,0],\n",
        "        [0,0,0]]\n",
        "for i in range(len(X)):\n",
        "  for j in range(len(X[0])):\n",
        "    answer[i][j]=X[i][j] * Y[i][j] # Using amultiplication\n",
        "for r in answer:\n",
        "   print(r)"
      ],
      "metadata": {
        "colab": {
          "base_uri": "https://localhost:8080/"
        },
        "id": "tGmInbSj6YLw",
        "outputId": "ac0ce0e3-f615-4c73-ee84-6229e28ad362"
      },
      "execution_count": 4,
      "outputs": [
        {
          "output_type": "stream",
          "name": "stdout",
          "text": [
            "[7, 4, 3]\n",
            "[20, 25, 24]\n",
            "[7, 72, 27]\n"
          ]
        }
      ]
    },
    {
      "cell_type": "markdown",
      "source": [
        "3.\tWrite a Python Program to Transpose a Matrix?"
      ],
      "metadata": {
        "id": "X-NRKYyvtcr5"
      }
    },
    {
      "cell_type": "code",
      "source": [
        "X=[[1,2],\n",
        "   [4,5],\n",
        "   [7,8]]\n",
        "len(X)\n",
        "answer=[[0,0,0],\n",
        "        [0,0,0],]\n",
        "for i in range(len(X)): #  for i in range(3) --> i = O,1,2  \n",
        "  for j in range(len(X[0])): #for j in range(len(X[0])= 2) --> j = O,1, \n",
        "    answer[j][i]=X[i][j] # Using transposing\n",
        "for r in answer:\n",
        "   print(r)"
      ],
      "metadata": {
        "colab": {
          "base_uri": "https://localhost:8080/"
        },
        "id": "gPpAhn686oFU",
        "outputId": "0bada77c-94e0-452d-aa22-70484ce2181f"
      },
      "execution_count": 11,
      "outputs": [
        {
          "output_type": "stream",
          "name": "stdout",
          "text": [
            "[1, 4, 7]\n",
            "[2, 5, 8]\n"
          ]
        }
      ]
    },
    {
      "cell_type": "markdown",
      "source": [
        "4.\tWrite a Python Program to Sort Words in Alphabetic Order?"
      ],
      "metadata": {
        "id": "5HTA_fFQteQo"
      }
    },
    {
      "cell_type": "code",
      "source": [
        "my_str = \"This is my first program for alphabetic ordering\"\n",
        "lst_strng=my_str.split()\n",
        "# breakdown the string into a list of words\n",
        "words = [word.lower() for word in my_str.split()]\n",
        "# sort the list\n",
        "words.sort() # in-built function used for sorting the alphabets \n",
        "# display the sorted words\n",
        "print(\"TSorted order\")\n",
        "for word in words:\n",
        "   print(word)"
      ],
      "metadata": {
        "colab": {
          "base_uri": "https://localhost:8080/"
        },
        "id": "F6h7GZow-B2x",
        "outputId": "43812ede-683b-475a-dd2f-553e38fdee27"
      },
      "execution_count": 20,
      "outputs": [
        {
          "output_type": "stream",
          "name": "stdout",
          "text": [
            "TSorted order\n",
            "alphabetic\n",
            "first\n",
            "for\n",
            "is\n",
            "my\n",
            "ordering\n",
            "program\n",
            "this\n"
          ]
        }
      ]
    },
    {
      "cell_type": "markdown",
      "source": [
        "5.\tWrite a Python Program to Remove Punctuation From a String?"
      ],
      "metadata": {
        "id": "ZHx7AqCctfIh"
      }
    },
    {
      "cell_type": "code",
      "source": [
        "import string# using a library to remove the puntuation from a string \n",
        "s=0\n",
        "text = \"Welcome to iNeuron, You are #$ a part of FSDS Bootcamp 2 in iNeuron. I hope you are enjoying the course by iNeuron.\"\n",
        "text = text.translate(str.maketrans('', '', string.punctuation))\n",
        "print(text)"
      ],
      "metadata": {
        "colab": {
          "base_uri": "https://localhost:8080/"
        },
        "id": "aB5PMWqi_LgG",
        "outputId": "d6fb09be-6337-4ac8-c9f1-44367f1fcbcb"
      },
      "execution_count": 22,
      "outputs": [
        {
          "output_type": "stream",
          "name": "stdout",
          "text": [
            "Welcome to iNeuron You are  a part of FSDS Bootcamp 2 in iNeuron I hope you are enjoying the course by iNeuron\n"
          ]
        }
      ]
    },
    {
      "cell_type": "code",
      "source": [],
      "metadata": {
        "id": "tAZ6l-hj_QNM"
      },
      "execution_count": null,
      "outputs": []
    }
  ]
}