{
 "cells": [
  {
   "cell_type": "markdown",
   "id": "b9a0ca28",
   "metadata": {},
   "source": [
    "1. In what modes should the PdfFileReader() and PdfFileWriter() File objects will be opened?"
   ]
  },
  {
   "cell_type": "code",
   "execution_count": null,
   "id": "2f96dee2",
   "metadata": {},
   "outputs": [],
   "source": [
    "When working with PdfFileReader and PdfFileWriter objects in the PyPDF2 library, the File objects used to read or write PDF files should be opened in different modes.\n",
    "\n",
    "PdfFileReader:\n",
    "The PdfFileReader object is used for reading an existing PDF file. The File object associated with PdfFileReader should be opened in read-binary mode ('rb'). This is because PDF files are binary files, and reading them in binary mode ensures that the file is properly processed.\n",
    "\n",
    "Example:"
   ]
  },
  {
   "cell_type": "code",
   "execution_count": null,
   "id": "500a8682",
   "metadata": {},
   "outputs": [],
   "source": [
    "from PyPDF2 import PdfFileReader\n",
    "\n",
    "# Open the PDF file in read-binary mode\n",
    "pdf_file = open('input.pdf', 'rb')\n",
    "\n",
    "# Create a PdfFileReader object\n",
    "pdf_reader = PdfFileReader(pdf_file)\n",
    "\n",
    "# Perform operations with PdfFileReader\n",
    "\n",
    "# Close the PDF file\n",
    "pdf_file.close()\n"
   ]
  },
  {
   "cell_type": "markdown",
   "id": "7e54304f",
   "metadata": {},
   "source": [
    "PdfFileWriter:\n",
    "The PdfFileWriter object is used for creating a new PDF file or modifying an existing one. The File object associated with PdfFileWriter should be opened in write-binary mode ('wb'). Writing PDF files requires binary mode to ensure the correct handling of the file contents.\n",
    "\n",
    "Example:"
   ]
  },
  {
   "cell_type": "code",
   "execution_count": 2,
   "id": "2174cc48",
   "metadata": {},
   "outputs": [
    {
     "ename": "ModuleNotFoundError",
     "evalue": "No module named 'PyPDF2'",
     "output_type": "error",
     "traceback": [
      "\u001b[1;31m---------------------------------------------------------------------------\u001b[0m",
      "\u001b[1;31mModuleNotFoundError\u001b[0m                       Traceback (most recent call last)",
      "\u001b[1;32m~\\AppData\\Local\\Temp\\ipykernel_18088\\150514116.py\u001b[0m in \u001b[0;36m<module>\u001b[1;34m\u001b[0m\n\u001b[1;32m----> 1\u001b[1;33m \u001b[1;32mfrom\u001b[0m \u001b[0mPyPDF2\u001b[0m \u001b[1;32mimport\u001b[0m \u001b[0mPdfFileWriter\u001b[0m\u001b[1;33m\u001b[0m\u001b[1;33m\u001b[0m\u001b[0m\n\u001b[0m\u001b[0;32m      2\u001b[0m \u001b[1;33m\u001b[0m\u001b[0m\n\u001b[0;32m      3\u001b[0m \u001b[1;31m# Open a new or existing PDF file in write-binary mode\u001b[0m\u001b[1;33m\u001b[0m\u001b[1;33m\u001b[0m\u001b[0m\n\u001b[0;32m      4\u001b[0m \u001b[0mpdf_file\u001b[0m \u001b[1;33m=\u001b[0m \u001b[0mopen\u001b[0m\u001b[1;33m(\u001b[0m\u001b[1;34m'output.pdf'\u001b[0m\u001b[1;33m,\u001b[0m \u001b[1;34m'wb'\u001b[0m\u001b[1;33m)\u001b[0m\u001b[1;33m\u001b[0m\u001b[1;33m\u001b[0m\u001b[0m\n\u001b[0;32m      5\u001b[0m \u001b[1;33m\u001b[0m\u001b[0m\n",
      "\u001b[1;31mModuleNotFoundError\u001b[0m: No module named 'PyPDF2'"
     ]
    }
   ],
   "source": [
    "from PyPDF2 import PdfFileWriter\n",
    "\n",
    "# Open a new or existing PDF file in write-binary mode\n",
    "pdf_file = open('output.pdf', 'wb')\n",
    "\n",
    "# Create a PdfFileWriter object\n",
    "pdf_writer = PdfFileWriter()\n",
    "\n",
    "# Perform operations with PdfFileWriter\n",
    "\n",
    "# Write the modified PDF to the file\n",
    "pdf_writer.write(pdf_file)\n",
    "\n",
    "# Close the PDF file\n",
    "pdf_file.close()"
   ]
  },
  {
   "cell_type": "markdown",
   "id": "d6fd7a1c",
   "metadata": {},
   "source": [
    "It's important to ensure that you open the file in the appropriate mode (read-binary or write-binary) based on whether you are reading from or writing to the PDF file."
   ]
  },
  {
   "cell_type": "markdown",
   "id": "f1091529",
   "metadata": {},
   "source": [
    "2. From a PdfFileReader object, how do you get a Page object for page 5?"
   ]
  },
  {
   "cell_type": "markdown",
   "id": "841cf764",
   "metadata": {},
   "source": [
    "To get a Page object for page 5 from a PdfFileReader object, you can use the getPage() method with the page index as an argument. However, it's important to note that the page index is zero-based, meaning the first page is at index 0, the second page at index 1, and so on. Here's an example:"
   ]
  },
  {
   "cell_type": "code",
   "execution_count": 1,
   "id": "b545f9ec",
   "metadata": {},
   "outputs": [
    {
     "ename": "ModuleNotFoundError",
     "evalue": "No module named 'PyPDF2'",
     "output_type": "error",
     "traceback": [
      "\u001b[1;31m---------------------------------------------------------------------------\u001b[0m",
      "\u001b[1;31mModuleNotFoundError\u001b[0m                       Traceback (most recent call last)",
      "\u001b[1;32m~\\AppData\\Local\\Temp\\ipykernel_18088\\1591974581.py\u001b[0m in \u001b[0;36m<module>\u001b[1;34m\u001b[0m\n\u001b[1;32m----> 1\u001b[1;33m \u001b[1;32mfrom\u001b[0m \u001b[0mPyPDF2\u001b[0m \u001b[1;32mimport\u001b[0m \u001b[0mPdfFileReader\u001b[0m\u001b[1;33m\u001b[0m\u001b[1;33m\u001b[0m\u001b[0m\n\u001b[0m\u001b[0;32m      2\u001b[0m \u001b[1;33m\u001b[0m\u001b[0m\n\u001b[0;32m      3\u001b[0m \u001b[1;31m# Assuming you have a PdfFileReader object named 'pdf_reader'\u001b[0m\u001b[1;33m\u001b[0m\u001b[1;33m\u001b[0m\u001b[0m\n\u001b[0;32m      4\u001b[0m \u001b[0mpage_index\u001b[0m \u001b[1;33m=\u001b[0m \u001b[1;36m4\u001b[0m  \u001b[1;31m# Zero-based index for page 5\u001b[0m\u001b[1;33m\u001b[0m\u001b[1;33m\u001b[0m\u001b[0m\n\u001b[0;32m      5\u001b[0m \u001b[1;33m\u001b[0m\u001b[0m\n",
      "\u001b[1;31mModuleNotFoundError\u001b[0m: No module named 'PyPDF2'"
     ]
    }
   ],
   "source": [
    "from PyPDF2 import PdfFileReader\n",
    "\n",
    "# Assuming you have a PdfFileReader object named 'pdf_reader'\n",
    "page_index = 4  # Zero-based index for page 5\n",
    "\n",
    "# Get the Page object for page 5\n",
    "page = pdf_reader.getPage(page_index)\n"
   ]
  },
  {
   "cell_type": "markdown",
   "id": "8ec5eddb",
   "metadata": {},
   "source": [
    "In this example, the variable pdf_reader is assumed to be a PdfFileReader object that represents the PDF file you are working with. The getPage() method is called with the page_index set to 4, which corresponds to page 5 (since the index starts from 0).\n",
    "\n",
    "After executing this code, the page variable will hold the Page object representing the desired page (in this case, page 5), which you can further manipulate or extract information from as needed."
   ]
  },
  {
   "cell_type": "code",
   "execution_count": null,
   "id": "04e0a0a6",
   "metadata": {},
   "outputs": [],
   "source": [
    "3. What PdfFileReader variable stores the number of pages in the PDF document?"
   ]
  },
  {
   "cell_type": "code",
   "execution_count": null,
   "id": "cd11d293",
   "metadata": {},
   "outputs": [],
   "source": [
    "n the PyPDF2 library, the number of pages in a PDF document can be obtained using the numPages variable of the PdfFileReader object.\n",
    "\n",
    "Here's an example of how to access the numPages variable:"
   ]
  },
  {
   "cell_type": "code",
   "execution_count": null,
   "id": "d1c852cd",
   "metadata": {},
   "outputs": [],
   "source": [
    "from PyPDF2 import PdfFileReader\n",
    "\n",
    "# Open the PDF file\n",
    "pdf_file = open('document.pdf', 'rb')\n",
    "\n",
    "# Create a PdfFileReader object\n",
    "pdf_reader = PdfFileReader(pdf_file)\n",
    "\n",
    "# Get the number of pages in the PDF document\n",
    "num_pages = pdf_reader.numPages\n",
    "\n",
    "# Close the PDF file\n",
    "pdf_file.close()\n",
    "\n",
    "# Print the number of pages\n",
    "print(f\"The PDF document has {num_pages} pages.\")\n"
   ]
  },
  {
   "cell_type": "markdown",
   "id": "5659744b",
   "metadata": {},
   "source": [
    "n this example, the numPages variable is accessed using the pdf_reader.numPages syntax. It returns an integer representing the total number of pages in the PDF document."
   ]
  },
  {
   "cell_type": "code",
   "execution_count": null,
   "id": "c6481e7b",
   "metadata": {},
   "outputs": [],
   "source": [
    "5. What methods do you use to rotate a page?"
   ]
  },
  {
   "cell_type": "code",
   "execution_count": null,
   "id": "7915d067",
   "metadata": {},
   "outputs": [],
   "source": [
    "from PyPDF2 import PdfFileReader, PdfFileWriter\n",
    "\n",
    "# Open the PDF file in read-binary mode\n",
    "pdf_file = open('input.pdf', 'rb')\n",
    "\n",
    "# Create a PdfFileReader object\n",
    "pdf_reader = PdfFileReader(pdf_file)\n",
    "\n",
    "# Get the first page of the PDF (index 0)\n",
    "page = pdf_reader.getPage(0)\n",
    "\n",
    "# Rotate the page clockwise by 90 degrees\n",
    "page.rotateClockwise(90)\n",
    "\n",
    "# Rotate the page counter-clockwise by 180 degrees\n",
    "page.rotateCounterClockwise(180)\n",
    "\n",
    "# Create a new PDF file for output\n",
    "output_pdf = PdfFileWriter()\n",
    "\n",
    "# Add the modified page to the output PDF\n",
    "output_pdf.addPage(page)\n",
    "\n",
    "# Open a new PDF file in write-binary mode\n",
    "output_file = open('output.pdf', 'wb')\n",
    "\n",
    "# Write the modified PDF to the output file\n",
    "output_pdf.write(output_file)\n",
    "\n",
    "# Close the files\n",
    "pdf_file.close()\n",
    "output_file.close()\n"
   ]
  },
  {
   "cell_type": "code",
   "execution_count": null,
   "id": "bc5b4430",
   "metadata": {},
   "outputs": [],
   "source": [
    "6. What is the difference between a Run object and a Paragraph object?"
   ]
  },
  {
   "cell_type": "markdown",
   "id": "f6e0fb78",
   "metadata": {},
   "source": [
    "In the context of document processing, a Run object and a Paragraph object are typically associated with rich text formatting within a document. The main difference between the two lies in their granularity and usage.\n",
    "\n",
    "Run object:\n",
    "\n",
    "Granularity: A Run object represents a contiguous run of text within a paragraph that shares the same character formatting.\n",
    "Usage: Run objects are used to apply specific formatting styles, such as font size, font family, bold, italic, underline, etc., to a portion of text within a paragraph. They allow for fine-grained control over the formatting of individual sections of text within a paragraph.\n",
    "Paragraph object:\n",
    "\n",
    "Granularity: A Paragraph object represents a single paragraph of text, consisting of one or more runs.\n",
    "Usage: Paragraph objects are used to structure and format blocks of text within a document. They typically contain multiple runs and can be styled as a whole, including attributes such as alignment, indentation, spacing, and bullet points. Paragraphs provide the higher-level structure within a document.\n",
    "In summary, a Run object represents a smaller unit of text within a paragraph with specific character formatting, while a Paragraph object represents a larger block of text and provides the overall structure and formatting for a paragraph. By combining multiple runs within a paragraph, you can achieve more complex formatting and styling effects."
   ]
  },
  {
   "cell_type": "markdown",
   "id": "eeb4a418",
   "metadata": {},
   "source": [
    "7. How do you obtain a list of Paragraph objects for a Document object that’s stored in a variable named doc?"
   ]
  },
  {
   "cell_type": "code",
   "execution_count": null,
   "id": "4f57e0f9",
   "metadata": {},
   "outputs": [],
   "source": [
    "To obtain a list of Paragraph objects for a Document object stored in a variable named doc, you can use the paragraphs attribute of the Document object. It provides a list of all the paragraphs in the document.\n",
    "\n",
    "Here's an example:"
   ]
  },
  {
   "cell_type": "code",
   "execution_count": null,
   "id": "334db929",
   "metadata": {},
   "outputs": [],
   "source": [
    "from docx import Document\n",
    "\n",
    "# Assuming the 'doc' variable holds a Document object\n",
    "\n",
    "# Get the list of Paragraph objects\n",
    "paragraphs = doc.paragraphs\n",
    "\n",
    "# Iterate over the paragraphs and print their text\n",
    "for paragraph in paragraphs:\n",
    "    print(paragraph.text)\n"
   ]
  },
  {
   "cell_type": "markdown",
   "id": "76d69afa",
   "metadata": {},
   "source": [
    "In this example, we access the paragraphs attribute of the doc variable, which is assumed to be a Document object. It returns a list of Paragraph objects representing all the paragraphs in the document. We can then iterate over the paragraphs list and access the text attribute of each Paragraph object to obtain the text content of each paragraph.\n",
    "\n",
    "You can perform various operations on the Paragraph objects in the list, such as accessing their styling properties, modifying the text content, or applying formatting changes."
   ]
  },
  {
   "cell_type": "code",
   "execution_count": null,
   "id": "58e77355",
   "metadata": {},
   "outputs": [],
   "source": [
    "8. What type of object has bold, underline, italic, strike, and outline variables?"
   ]
  },
  {
   "cell_type": "markdown",
   "id": "bd46b4cf",
   "metadata": {},
   "source": [
    "The `Run` object in document processing libraries, such as `python-docx` for working with Microsoft Word documents, has the following variables related to text formatting:\n",
    "\n",
    "1. `bold`: A variable that indicates whether the text is formatted as bold or not. It is a boolean value that can be `True` if the text is bold or `False` if it is not.\n",
    "\n",
    "2. `underline`: A variable that indicates whether the text is underlined or not. It can have different values representing various types of underline styles, such as `True` for a single underline, `'single'` for a single underline explicitly specified, `'double'` for a double underline, `'dash'` for a dashed underline, and so on.\n",
    "\n",
    "3. `italic`: A variable that indicates whether the text is formatted as italic or not. It is a boolean value that can be `True` if the text is italic or `False` if it is not.\n",
    "\n",
    "4. `strike`: A variable that indicates whether the text has a strike-through formatting or not. It is a boolean value that can be `True` if the text has a strike-through or `False` if it does not.\n",
    "\n",
    "5. `outline`: A variable that indicates whether the text has an outlined formatting or not. It is a boolean value that can be `True` if the text is outlined or `False` if it is not.\n",
    "\n",
    "These variables allow you to access and modify the formatting attributes of a `Run` object to apply bold, underline, italic, strike-through, or outline styles to the associated text within a document."
   ]
  },
  {
   "cell_type": "markdown",
   "id": "d2766fed",
   "metadata": {},
   "source": [
    "9. What is the difference between False, True, and None for the bold variable?"
   ]
  },
  {
   "cell_type": "markdown",
   "id": "34b7cda9",
   "metadata": {},
   "source": [
    "In the context of the `bold` variable for text formatting, the values `False`, `True`, and `None` represent different states for the bold formatting attribute. Here's an explanation of each:\n",
    "\n",
    "1. `False`: When the `bold` variable is set to `False`, it means that the associated text is not formatted as bold. It indicates that the bold styling is explicitly disabled for that particular text. Setting `bold` to `False` ensures that the text is rendered without any bold formatting.\n",
    "\n",
    "2. `True`: When the `bold` variable is set to `True`, it means that the associated text is formatted as bold. It indicates that the bold styling is explicitly enabled for that particular text. Setting `bold` to `True` ensures that the text is rendered with bold formatting.\n",
    "\n",
    "3. `None`: When the `bold` variable is set to `None`, it means that the associated text inherits its bold formatting from the surrounding context or the default styling. In this case, the `bold` attribute of the `Run` object is not explicitly set, allowing the text to adopt the bold formatting determined by the parent element or the document's default style. \n",
    "\n",
    "By using these different values for the `bold` variable, you can control the bold formatting of specific sections of text within a document. You can explicitly enable or disable bold styling, or let the text inherit the formatting based on the context."
   ]
  },
  {
   "cell_type": "markdown",
   "id": "33753a1e",
   "metadata": {},
   "source": [
    "10. How do you create a Document object for a new Word document?"
   ]
  },
  {
   "cell_type": "code",
   "execution_count": null,
   "id": "e5ced974",
   "metadata": {},
   "outputs": [],
   "source": [
    "To create a Document object for a new Word document using the python-docx library, you can use the Document() constructor. Here's an example:"
   ]
  },
  {
   "cell_type": "code",
   "execution_count": null,
   "id": "790862db",
   "metadata": {},
   "outputs": [],
   "source": [
    "from docx import Document\n",
    "\n",
    "# Create a new Document object\n",
    "doc = Document()\n",
    "\n",
    "# Perform operations with the Document object\n",
    "\n",
    "# Save the Document to a file\n",
    "doc.save('new_document.docx')\n"
   ]
  },
  {
   "cell_type": "markdown",
   "id": "c40be3d8",
   "metadata": {},
   "source": [
    "In this example, we use the Document() constructor to create a new Document object named doc. This object represents an empty Word document. You can then perform various operations with the doc object, such as adding paragraphs, modifying formatting, inserting tables, and more.\n",
    "\n",
    "Once you have finished working with the doc object, you can save it to a file using the save() method. In the example above, we save the document to a file named \"new_document.docx\". Make sure to provide the desired filename with the appropriate extension, such as \".docx\" for Word documents.\n",
    "\n",
    "After executing the code, you will have a new Word document created and saved with the specified filename, which can be opened and modified using word processing software."
   ]
  },
  {
   "cell_type": "markdown",
   "id": "2da663c8",
   "metadata": {},
   "source": [
    "11. How do you add a paragraph with the text 'Hello, there!' to a Document object stored in a variable named doc?"
   ]
  },
  {
   "cell_type": "code",
   "execution_count": null,
   "id": "1359725d",
   "metadata": {},
   "outputs": [],
   "source": [
    "To add a paragraph with the text \"Hello, there!\" to a Document object stored in a variable named doc, you can use the add_paragraph() method of the Document object. Here's an example:"
   ]
  },
  {
   "cell_type": "code",
   "execution_count": null,
   "id": "3c7839cd",
   "metadata": {},
   "outputs": [],
   "source": [
    "from docx import Document\n",
    "\n",
    "# Assuming the 'doc' variable holds a Document object\n",
    "\n",
    "# Add a paragraph with the text 'Hello, there!'\n",
    "doc.add_paragraph('Hello, there!')\n",
    "\n",
    "# Save the Document to a file\n",
    "doc.save('new_document.docx')\n"
   ]
  },
  {
   "cell_type": "markdown",
   "id": "f2d66afe",
   "metadata": {},
   "source": [
    "In this example, we use the add_paragraph() method of the Document object (doc) to add a new paragraph with the specified text \"Hello, there!\". The add_paragraph() method creates a new paragraph within the document and returns a Paragraph object representing that paragraph. The specified text is added as the content of the paragraph.\n",
    "\n",
    "After adding the paragraph, you can perform additional operations with the doc object, such as modifying formatting, adding more paragraphs, or saving the document to a file using the save() method.\n",
    "\n",
    "Once you save the document, it will contain the added paragraph with the text \"Hello, there!\" in the specified file.\n"
   ]
  },
  {
   "cell_type": "code",
   "execution_count": null,
   "id": "d339ad38",
   "metadata": {},
   "outputs": [],
   "source": [
    "12. What integers represent the levels of headings available in Word documents?"
   ]
  },
  {
   "cell_type": "markdown",
   "id": "01f102b4",
   "metadata": {},
   "source": [
    "In Word documents, the levels of headings are represented by integers ranging from 1 to 9. Each integer corresponds to a specific heading level, with 1 being the highest level and 9 being the lowest level.\n",
    "\n",
    "Here is the mapping of heading levels to integers commonly used in Word documents:\n",
    "\n",
    "- Heading 1: Level 1\n",
    "- Heading 2: Level 2\n",
    "- Heading 3: Level 3\n",
    "- Heading 4: Level 4\n",
    "- Heading 5: Level 5\n",
    "- Heading 6: Level 6\n",
    "- Heading 7: Level 7\n",
    "- Heading 8: Level 8\n",
    "- Heading 9: Level 9\n",
    "\n",
    "These heading levels allow you to create a hierarchical structure in your document, with higher-level headings indicating major sections and lower-level headings representing subsections or subheadings. By applying different heading levels, you can generate automatic table of contents, navigate through the document, and apply consistent styling to the headings."
   ]
  }
 ],
 "metadata": {
  "kernelspec": {
   "display_name": "Python 3 (ipykernel)",
   "language": "python",
   "name": "python3"
  },
  "language_info": {
   "codemirror_mode": {
    "name": "ipython",
    "version": 3
   },
   "file_extension": ".py",
   "mimetype": "text/x-python",
   "name": "python",
   "nbconvert_exporter": "python",
   "pygments_lexer": "ipython3",
   "version": "3.9.13"
  }
 },
 "nbformat": 4,
 "nbformat_minor": 5
}
