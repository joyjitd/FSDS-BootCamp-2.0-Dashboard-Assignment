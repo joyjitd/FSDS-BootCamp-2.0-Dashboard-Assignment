{
  "nbformat": 4,
  "nbformat_minor": 0,
  "metadata": {
    "colab": {
      "provenance": []
    },
    "kernelspec": {
      "name": "python3",
      "display_name": "Python 3"
    },
    "language_info": {
      "name": "python"
    }
  },
  "cells": [
    {
      "cell_type": "markdown",
      "source": [
        "1.\tWrite a Python Program to find sum of array?"
      ],
      "metadata": {
        "id": "IgDh9ZgsZZjz"
      }
    },
    {
      "cell_type": "code",
      "source": [
        "arr=[1,2,3]\n",
        "sum=0\n",
        "for i in arr:\n",
        "  sum=sum+i\n",
        "print(\"The sum is \", sum)"
      ],
      "metadata": {
        "colab": {
          "base_uri": "https://localhost:8080/"
        },
        "id": "UMIcHmaTeBL2",
        "outputId": "91474f3c-a751-4cec-dca2-a2017cc7cb7b"
      },
      "execution_count": 1,
      "outputs": [
        {
          "output_type": "stream",
          "name": "stdout",
          "text": [
            "The sum is  6\n"
          ]
        }
      ]
    },
    {
      "cell_type": "markdown",
      "source": [
        "2.\tWrite a Python Program to find largest element in an array?"
      ],
      "metadata": {
        "id": "KtVraXd0ZaIh"
      }
    },
    {
      "cell_type": "code",
      "source": [
        "arr=[1,2,3]\n",
        "max(arr)"
      ],
      "metadata": {
        "colab": {
          "base_uri": "https://localhost:8080/"
        },
        "id": "tf-pki09e6u_",
        "outputId": "b603db05-944c-4b16-f741-10ccf802ec76"
      },
      "execution_count": 2,
      "outputs": [
        {
          "output_type": "execute_result",
          "data": {
            "text/plain": [
              "3"
            ]
          },
          "metadata": {},
          "execution_count": 2
        }
      ]
    },
    {
      "cell_type": "markdown",
      "source": [
        "3.\tWrite a Python Program for array rotation?"
      ],
      "metadata": {
        "id": "zsMymcoAZcDO"
      }
    },
    {
      "cell_type": "code",
      "source": [
        "arr=[1,2,3]\n",
        "arr[len(arr)::-1]"
      ],
      "metadata": {
        "colab": {
          "base_uri": "https://localhost:8080/"
        },
        "id": "M7aEYxtvfKDS",
        "outputId": "13818852-b831-4395-b70c-3605bddc131b"
      },
      "execution_count": 9,
      "outputs": [
        {
          "output_type": "execute_result",
          "data": {
            "text/plain": [
              "[3, 2, 1]"
            ]
          },
          "metadata": {},
          "execution_count": 9
        }
      ]
    },
    {
      "cell_type": "markdown",
      "source": [
        "4.\tWrite a Python Program to Split the array and add the first part to the end?"
      ],
      "metadata": {
        "id": "FsBiNcKCZeEE"
      }
    },
    {
      "cell_type": "code",
      "source": [
        "# Python program to split array and move first\n",
        "# part to end\n",
        "def splitArr(a, n, k):\n",
        "  b = a[:k]\n",
        "  return (a[k::]+b[::])\n",
        "# main\n",
        "arr = [12, 10, 5, 6, 52, 36]\n",
        "n = len(arr)\n",
        "position = 1\n",
        "arr = splitArr(arr, n, position)\n",
        "for i in range(0, n):\n",
        "\tprint(arr[i], end = ' ')"
      ],
      "metadata": {
        "colab": {
          "base_uri": "https://localhost:8080/"
        },
        "id": "Pv8AI0zAqXnZ",
        "outputId": "9801526c-7cf7-4d4c-a93e-bf9065608db1"
      },
      "execution_count": 21,
      "outputs": [
        {
          "output_type": "stream",
          "name": "stdout",
          "text": [
            "10 5 6 52 36 12 "
          ]
        }
      ]
    },
    {
      "cell_type": "markdown",
      "source": [
        "5.\tWrite a Python Program to check if given array is Monotonic?\n"
      ],
      "metadata": {
        "id": "wr3KO6jsZe5K"
      }
    }
  ]
}