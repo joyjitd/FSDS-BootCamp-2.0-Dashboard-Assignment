{
 "cells": [
  {
   "cell_type": "markdown",
   "id": "78aa1d0e",
   "metadata": {},
   "source": [
    "1. What is the result of the code, and explain?\n",
    "\n",
    "\n",
    ">>> X = 'iNeuron'\n",
    ">>> def func():\n",
    "print(X)\n",
    "\n",
    "\n",
    ">>> func()\n"
   ]
  },
  {
   "cell_type": "markdown",
   "id": "e602b1aa",
   "metadata": {},
   "source": [
    "The code will produce an error. Here's an explanation of why this error occurs:\n",
    "\n",
    "The code defines a variable X and assigns it the value 'iNeuron'. Then, it defines a function called func without any parameters. Inside the function, it attempts to print the value of the variable X.\n",
    "\n",
    "However, when the func() function is called, an error occurs because the variable X is not defined within the function's scope. The function func() does not have access to variables defined outside of its own scope, unless they are explicitly passed as arguments or declared as global variables within the function.\n",
    "\n",
    "To fix this error, you can either pass the variable X as an argument to the function or declare X as a global variable within the function.\n",
    "\n",
    "Here's an example of how you can fix the code:"
   ]
  },
  {
   "cell_type": "code",
   "execution_count": 1,
   "id": "b53ab385",
   "metadata": {},
   "outputs": [
    {
     "name": "stdout",
     "output_type": "stream",
     "text": [
      "iNeuron\n"
     ]
    }
   ],
   "source": [
    "X = 'iNeuron'\n",
    "\n",
    "def func():\n",
    "    global X\n",
    "    print(X)\n",
    "\n",
    "func()\n"
   ]
  },
  {
   "cell_type": "markdown",
   "id": "1338d6af",
   "metadata": {},
   "source": [
    "2. What is the result of the code, and explain?\n",
    "\n",
    "\n",
    ">>> X = 'iNeuron'\n",
    ">>> def func():\n",
    "X = 'NI!'\n",
    "\n",
    "\n",
    ">>> func()\n",
    ">>> print(X)\n"
   ]
  },
  {
   "cell_type": "code",
   "execution_count": 6,
   "id": "69574850",
   "metadata": {},
   "outputs": [
    {
     "ename": "IndentationError",
     "evalue": "unexpected indent (1862421972.py, line 2)",
     "output_type": "error",
     "traceback": [
      "\u001b[1;36m  File \u001b[1;32m\"C:\\Users\\joyji\\AppData\\Local\\Temp\\ipykernel_11668\\1862421972.py\"\u001b[1;36m, line \u001b[1;32m2\u001b[0m\n\u001b[1;33m    def func():\u001b[0m\n\u001b[1;37m    ^\u001b[0m\n\u001b[1;31mIndentationError\u001b[0m\u001b[1;31m:\u001b[0m unexpected indent\n"
     ]
    }
   ],
   "source": [
    "X = 'iNeuron'\n",
    "    def func():\n",
    "    X = 'NI!'\n",
    "\n",
    "\n",
    "    func()\n",
    "print(X)"
   ]
  },
  {
   "cell_type": "code",
   "execution_count": null,
   "id": "3c375739",
   "metadata": {},
   "outputs": [],
   "source": [
    "There is an Identation Error in The code. "
   ]
  },
  {
   "cell_type": "markdown",
   "id": "9acd7a16",
   "metadata": {},
   "source": [
    "\n",
    "3. What does this code print, and why?\n",
    "\n",
    "\n",
    ">>> X = 'iNeuron'\n",
    ">>> def func():\n",
    "X = 'NI'\n",
    "print(X)\n",
    "\n",
    "\n",
    ">>> func()\n",
    ">>> print(X)\n"
   ]
  },
  {
   "cell_type": "markdown",
   "id": "c57b2a3a",
   "metadata": {},
   "source": [
    "NI\n",
    "iNeuron\n",
    "The code willl print this. "
   ]
  },
  {
   "cell_type": "markdown",
   "id": "22c2447c",
   "metadata": {},
   "source": [
    "\n",
    "4. What output does this code produce? Why?\n",
    "\n",
    "\n",
    ">>> X = 'iNeuron'\n",
    ">>> def func():\n",
    "global X\n",
    "X = 'NI'\n",
    "\n",
    "\n",
    ">>> func()\n",
    ">>> print(X)\n"
   ]
  },
  {
   "cell_type": "markdown",
   "id": "f318e314",
   "metadata": {},
   "source": [
    "Here's an explanation of why this is the result:\n",
    "\n",
    "The code first assigns the value 'iNeuron' to the variable X. Then, it defines a function called func() without any parameters. Inside the function, the global keyword is used to declare that the variable X is a global variable, allowing it to be modified within the function.\n",
    "\n",
    "When the func() function is called, it modifies the global variable X by assigning it the value 'NI'.\n",
    "\n",
    "After calling the func() function, the code prints the value of the global variable X using print(X). Since the global variable X was modified within the function, its value is now 'NI'. Hence, the output is 'NI'.\n",
    "\n",
    "In summary, by declaring the variable X as global within the func() function, the function is able to modify the value of the global variable X, and that modified value is printed outside the function."
   ]
  },
  {
   "cell_type": "markdown",
   "id": "fba2b2a8",
   "metadata": {},
   "source": [
    "5. What about this code—what’s the output, and why?\n",
    "\n",
    "\n",
    ">>> X = 'iNeuron'\n",
    ">>> def func():\n",
    "X = 'NI'\n",
    "def nested():\n",
    "print(X)\n",
    "nested()\n",
    "\n",
    "\n",
    ">>> func()\n",
    ">>> X\n"
   ]
  },
  {
   "cell_type": "raw",
   "id": "61836239",
   "metadata": {},
   "source": [
    "NI\n",
    "'iNeuron'\n"
   ]
  },
  {
   "cell_type": "markdown",
   "id": "6eb3b803",
   "metadata": {},
   "source": [
    "\n",
    "6. How about this code: what is its output in Python 3, and explain?\n",
    "\n",
    "\n",
    ">>> def func():\n",
    "X = 'NI'\n",
    "def nested():\n",
    "nonlocal X\n",
    "X = 'Spam'\n",
    "nested()\n",
    "print(X)\n",
    "\n",
    "\n",
    ">>> func()\n",
    "\n"
   ]
  },
  {
   "cell_type": "markdown",
   "id": "cdda1baa",
   "metadata": {},
   "source": [
    "The output of the code will be:\n",
    "\n",
    "```\n",
    "Spam\n",
    "```\n",
    "\n",
    "Here's an explanation of why this is the result:\n",
    "\n",
    "The code defines a function called `func()` without any parameters. Inside the `func()` function, there is a nested function called `nested()`. \n",
    "\n",
    "Inside the `nested()` function, the `nonlocal` keyword is used to indicate that the variable `X` is a nonlocal variable, which means it is not local to `nested()` but also not a global variable. The `nonlocal` keyword allows the `nested()` function to access and modify the variable `X` in its nearest enclosing scope, which in this case is the `func()` function.\n",
    "\n",
    "The `nested()` function assigns the value `'Spam'` to the nonlocal variable `X`.\n",
    "\n",
    "After defining the nested functions, the `func()` function is called.\n",
    "\n",
    "When the `func()` function is called, it invokes the `nested()` function, which modifies the value of the nonlocal variable `X` to `'Spam'`. The modification affects the variable `X` within the `func()` function as well.\n",
    "\n",
    "Finally, after the `nested()` function is called, the `print(X)` statement in the `func()` function is executed. It prints the value of the nonlocal variable `X`, which is `'Spam'`.\n",
    "\n",
    "In summary, the use of the `nonlocal` keyword allows the nested function `nested()` to access and modify the nonlocal variable `X` within the nearest enclosing scope (`func()`). This allows the modification to be visible to the `print(X)` statement in `func()`, resulting in the output `'Spam'`."
   ]
  }
 ],
 "metadata": {
  "kernelspec": {
   "display_name": "Python 3 (ipykernel)",
   "language": "python",
   "name": "python3"
  },
  "language_info": {
   "codemirror_mode": {
    "name": "ipython",
    "version": 3
   },
   "file_extension": ".py",
   "mimetype": "text/x-python",
   "name": "python",
   "nbconvert_exporter": "python",
   "pygments_lexer": "ipython3",
   "version": "3.9.13"
  }
 },
 "nbformat": 4,
 "nbformat_minor": 5
}
