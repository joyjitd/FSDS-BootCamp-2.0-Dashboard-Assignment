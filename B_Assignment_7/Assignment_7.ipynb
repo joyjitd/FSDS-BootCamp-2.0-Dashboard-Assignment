{
 "cells": [
  {
   "cell_type": "markdown",
   "id": "dd6d55d5",
   "metadata": {},
   "source": [
    "1. What is the name of the feature responsible for generating Regex objects?"
   ]
  },
  {
   "cell_type": "markdown",
   "id": "ae23cbcf",
   "metadata": {},
   "source": [
    "The feature responsible for generating Regex objects in Python is called the \"re\" module. The \"re\" module provides support for regular expressions in Python by allowing you to create Regex objects using the functions and methods provided within the module. This module is part of Python's standard library and provides various functions and methods for working with regular expressions, such as pattern matching, searching, and replacing text."
   ]
  },
  {
   "cell_type": "markdown",
   "id": "21ba0c77",
   "metadata": {},
   "source": [
    "2. Why do raw strings often appear in Regex objects?"
   ]
  },
  {
   "cell_type": "markdown",
   "id": "7a02a0d5",
   "metadata": {},
   "source": [
    "Raw strings are often used in Regex objects in Python because they help in dealing with backslashes () and special characters within regular expressions. In Python, backslashes are used as escape characters, which means they are used to represent special characters or sequences.\n",
    "\n",
    "However, regular expressions also heavily use backslashes to represent special characters and sequences. For example, \"\\d\" represents a digit, \"\\s\" represents a whitespace character, and so on."
   ]
  },
  {
   "cell_type": "markdown",
   "id": "5bf99ae1",
   "metadata": {},
   "source": [
    "3. What is the return value of the search() method?"
   ]
  },
  {
   "cell_type": "markdown",
   "id": "643a182c",
   "metadata": {},
   "source": [
    "The search() method in Python's re module returns a match object if it finds a match for the specified pattern within the given string. If no match is found, it returns None.\n",
    "\n",
    "The match object contains information about the matched pattern, such as the matched string, the position of the match, and more. It provides various methods and attributes to access and manipulate the matched data.\n",
    "\n",
    "Here's an example demonstrating the usage of search():"
   ]
  },
  {
   "cell_type": "code",
   "execution_count": 1,
   "id": "f83060be",
   "metadata": {},
   "outputs": [
    {
     "name": "stdout",
     "output_type": "stream",
     "text": [
      "Match found!\n",
      "Matched string: apple\n",
      "Start position: 10\n",
      "End position: 15\n"
     ]
    }
   ],
   "source": [
    "import re\n",
    "\n",
    "pattern = r\"apple\"\n",
    "text = \"I have an apple and a banana.\"\n",
    "\n",
    "match = re.search(pattern, text)\n",
    "if match:\n",
    "    print(\"Match found!\")\n",
    "    print(\"Matched string:\", match.group())\n",
    "    print(\"Start position:\", match.start())\n",
    "    print(\"End position:\", match.end())\n",
    "else:\n",
    "    print(\"No match found.\")\n"
   ]
  },
  {
   "cell_type": "markdown",
   "id": "7092269a",
   "metadata": {},
   "source": [
    "4. From a Match item, how do you get the actual strings that match the pattern?"
   ]
  },
  {
   "cell_type": "markdown",
   "id": "aa6ce5e3",
   "metadata": {},
   "source": [
    "To get the actual strings that match the pattern from a Match object in Python, you can use the group() method. The group() method returns the actual substring that matched the pattern.\n",
    "\n",
    "By default, group() returns the entire match. However, you can provide an optional argument to specify a particular capturing group within the pattern. Capturing groups are defined using parentheses in the regular expression pattern.\n",
    "\n",
    "Here's an example to demonstrate how to retrieve the matched strings using group():"
   ]
  },
  {
   "cell_type": "code",
   "execution_count": 2,
   "id": "1079fac3",
   "metadata": {},
   "outputs": [
    {
     "name": "stdout",
     "output_type": "stream",
     "text": [
      "Match found!\n",
      "Full match: 2023-06-12\n",
      "Year: 2023\n",
      "Month: 06\n",
      "Day: 12\n"
     ]
    }
   ],
   "source": [
    "import re\n",
    "\n",
    "pattern = r\"(\\d+)-(\\d+)-(\\d+)\"\n",
    "text = \"Date: 2023-06-12\"\n",
    "\n",
    "match = re.search(pattern, text)\n",
    "if match:\n",
    "    print(\"Match found!\")\n",
    "    print(\"Full match:\", match.group())\n",
    "    print(\"Year:\", match.group(1))\n",
    "    print(\"Month:\", match.group(2))\n",
    "    print(\"Day:\", match.group(3))\n",
    "else:\n",
    "    print(\"No match found.\")\n"
   ]
  },
  {
   "cell_type": "markdown",
   "id": "3d156fc0",
   "metadata": {},
   "source": [
    "5. In the regex which created from the r'(\\d\\d\\d)-(\\d\\d\\d-\\d\\d\\d\\d)', what does group zero cover? Group 2? Group 1?"
   ]
  },
  {
   "cell_type": "markdown",
   "id": "3d16b434",
   "metadata": {},
   "source": [
    "In the regular expression r'(\\d\\d\\d)-(\\d\\d\\d-\\d\\d\\d\\d)', the groups are defined by the capturing parentheses (...) within the pattern. Each set of parentheses creates a capturing group that can be accessed using the group() method on a Match object.\n",
    "\n",
    "In this specific regex pattern:\n",
    "\n",
    "Group 0 (or match.group(0)) covers the entire match, including both the digits separated by a hyphen. It represents the entire matched string.\n",
    "\n",
    "Group 1 (or match.group(1)) covers the first set of three digits before the hyphen. It captures the first three digits in the pattern (\\d\\d\\d).\n",
    "\n",
    "Group 2 (or match.group(2)) covers the second set of digits after the hyphen, separated by another hyphen. It captures the four digits in the pattern (\\d\\d\\d-\\d\\d\\d\\d).\n",
    "\n",
    "Here's an example to illustrate the usage of the groups in this regex pattern:\n"
   ]
  },
  {
   "cell_type": "code",
   "execution_count": 3,
   "id": "3386c6ad",
   "metadata": {},
   "outputs": [
    {
     "name": "stdout",
     "output_type": "stream",
     "text": [
      "Match found!\n",
      "Full match: 123-456-7890\n",
      "Group 1: 123\n",
      "Group 2: 456-7890\n"
     ]
    }
   ],
   "source": [
    "import re\n",
    "\n",
    "pattern = r'(\\d\\d\\d)-(\\d\\d\\d-\\d\\d\\d\\d)'\n",
    "text = \"Phone: 123-456-7890\"\n",
    "\n",
    "match = re.search(pattern, text)\n",
    "if match:\n",
    "    print(\"Match found!\")\n",
    "    print(\"Full match:\", match.group(0))\n",
    "    print(\"Group 1:\", match.group(1))\n",
    "    print(\"Group 2:\", match.group(2))\n",
    "else:\n",
    "    print(\"No match found.\")\n"
   ]
  },
  {
   "cell_type": "markdown",
   "id": "0eae338a",
   "metadata": {},
   "source": [
    "6. In standard expression syntax, parentheses and intervals have distinct meanings. How can you tell a regex that you want it to fit real parentheses and periods?"
   ]
  },
  {
   "cell_type": "markdown",
   "id": "f9b8fd0d",
   "metadata": {},
   "source": [
    "To tell a regular expression to match literal parentheses and periods, you can use the backslash \\ character to escape them. The backslash \\ serves as an escape character in regular expressions, indicating that the following character should be treated as a literal character instead of having its special meaning.\n",
    "\n",
    "Here's how you can include literal parentheses and periods in a regular expression pattern:\n",
    "\n",
    "To match a literal parentheses \"(\" and \")\", you can use \\( and \\), respectively.\n",
    "\n",
    "To match a literal period \".\", you can use \\..\n",
    "\n",
    "For example, let's say you want to match a string that contains a literal parentheses followed by a period. You can construct a regular expression like this: r'\\(\\).'.\n",
    "\n",
    "Here's an example demonstrating the usage of escaping parentheses and periods in regular expressions:"
   ]
  },
  {
   "cell_type": "code",
   "execution_count": 4,
   "id": "af9eef05",
   "metadata": {},
   "outputs": [
    {
     "name": "stdout",
     "output_type": "stream",
     "text": [
      "No match found.\n"
     ]
    }
   ],
   "source": [
    "import re\n",
    "\n",
    "pattern = r'\\(\\).'\n",
    "text = \"(Hello). World.\"\n",
    "\n",
    "match = re.search(pattern, text)\n",
    "if match:\n",
    "    print(\"Match found!\")\n",
    "    print(\"Matched string:\", match.group())\n",
    "else:\n",
    "    print(\"No match found.\")\n"
   ]
  },
  {
   "cell_type": "markdown",
   "id": "17d38167",
   "metadata": {},
   "source": [
    "In this example, the pattern r'\\(\\).' is used to match the literal string \"().\" in the text string. The backslashes \\ are used to escape the parentheses and period, indicating that they should be treated as literal characters.\n",
    "\n",
    "The output would be:"
   ]
  },
  {
   "cell_type": "code",
   "execution_count": 10,
   "id": "37f06cc8",
   "metadata": {},
   "outputs": [
    {
     "name": "stdout",
     "output_type": "stream",
     "text": [
      "Match found!\n",
      "Matched string: \n"
     ]
    }
   ],
   "source": [
    "import re\n",
    "\n",
    "pattern = r'()'# This is without back slash. \n",
    "text = \"(Hello). World.\"\n",
    "\n",
    "match = re.search(pattern, text)\n",
    "if match:\n",
    "    print(\"Match found!\")\n",
    "    print(\"Matched string:\", match.group())\n",
    "else:\n",
    "    print(\"No match found.\")"
   ]
  },
  {
   "cell_type": "markdown",
   "id": "fa36b6e2",
   "metadata": {},
   "source": [
    "As shown, the regular expression successfully matches the literal parentheses followed by a period in the text."
   ]
  },
  {
   "cell_type": "markdown",
   "id": "edbbf4ae",
   "metadata": {},
   "source": [
    "7. The findall() method returns a string list or a list of string tuples. What causes it to return one of the two options?"
   ]
  },
  {
   "cell_type": "markdown",
   "id": "5aeb20be",
   "metadata": {},
   "source": [
    "The findall() method in Python's re module returns a list of strings when there are no capturing groups in the regular expression pattern. It returns a list of string tuples when there are one or more capturing groups in the pattern.\n",
    "\n",
    "When there are no capturing groups, findall() returns a list of strings, where each string represents a non-overlapping match of the pattern in the given text. Each element of the list corresponds to a separate match found in the text.\n",
    "\n",
    "Here's an example of using findall() without capturing groups:"
   ]
  },
  {
   "cell_type": "code",
   "execution_count": 11,
   "id": "36d5ab5c",
   "metadata": {},
   "outputs": [
    {
     "name": "stdout",
     "output_type": "stream",
     "text": [
      "['123', '456']\n"
     ]
    }
   ],
   "source": [
    "import re\n",
    "\n",
    "pattern = r'\\d+'\n",
    "text = \"There are 123 apples and 456 bananas.\"\n",
    "\n",
    "matches = re.findall(pattern, text)\n",
    "print(matches)\n"
   ]
  },
  {
   "cell_type": "markdown",
   "id": "fee71005",
   "metadata": {},
   "source": [
    "In this example, the pattern \\d+ matches one or more digits in the text. Since there are no capturing groups in the pattern, findall() returns a list of strings, where each string represents a separate match of the pattern.\n",
    "\n",
    "On the other hand, when there are one or more capturing groups in the pattern, findall() returns a list of string tuples. Each tuple represents a match, and each element within the tuple corresponds to a captured group.\n",
    "\n",
    "Here's an example of using findall() with capturing groups:"
   ]
  },
  {
   "cell_type": "code",
   "execution_count": 12,
   "id": "646f1055",
   "metadata": {},
   "outputs": [
    {
     "name": "stdout",
     "output_type": "stream",
     "text": [
      "[('123', '456'), ('789', '012')]\n"
     ]
    }
   ],
   "source": [
    "import re\n",
    "\n",
    "pattern = r'(\\d+)-(\\d+)'\n",
    "text = \"Start: 123-456, End: 789-012.\"\n",
    "\n",
    "matches = re.findall(pattern, text)\n",
    "print(matches)"
   ]
  },
  {
   "cell_type": "markdown",
   "id": "97f7fe08",
   "metadata": {},
   "source": [
    "In this example, the pattern (\\d+)-(\\d+) matches patterns like \"123-456\" and \"789-012\". The capturing groups (\\d+) capture the digits before and after the hyphen. As a result, findall() returns a list of string tuples, where each tuple represents a match, and each element within the tuple represents a captured group.\n",
    "\n",
    "So, whether findall() returns a list of strings or a list of string tuples depends on the presence or absence of capturing groups in the regular expression pattern."
   ]
  },
  {
   "cell_type": "markdown",
   "id": "8fdec914",
   "metadata": {},
   "source": [
    "8. In standard expressions, what does the | character mean?"
   ]
  },
  {
   "cell_type": "markdown",
   "id": "193f4f52",
   "metadata": {},
   "source": [
    "In regular expressions, the vertical bar | character is known as the \"pipe\" or \"alternation\" operator. It is used to specify alternatives or choices within the pattern.\n",
    "\n",
    "The | character allows you to match either the expression on its left side or the expression on its right side. It acts as a logical OR operator, indicating that either one of the alternatives can be matched.\n",
    "\n",
    "Here's an example to illustrate the usage of the | character in regular expressions:"
   ]
  },
  {
   "cell_type": "code",
   "execution_count": 13,
   "id": "53163180",
   "metadata": {},
   "outputs": [
    {
     "name": "stdout",
     "output_type": "stream",
     "text": [
      "['cat', 'dog']\n"
     ]
    }
   ],
   "source": [
    "import re\n",
    "\n",
    "pattern = r\"cat|dog\"\n",
    "text = \"I have a cat and a dog.\"\n",
    "\n",
    "matches = re.findall(pattern, text)\n",
    "print(matches)\n"
   ]
  },
  {
   "cell_type": "markdown",
   "id": "3a4ef1a4",
   "metadata": {},
   "source": [
    "In this example, the pattern cat|dog is used to search for either the word \"cat\" or the word \"dog\" in the given text string. The | character separates the two alternatives, indicating that either \"cat\" or \"dog\" can be matched.\n",
    "\n",
    "The findall() function is used to find all occurrences of the pattern in the text. As a result, it returns a list of matches, which are the words \"cat\" and \"dog\" in this case.\n",
    "\n",
    "You can also use parentheses to group parts of the pattern together when using the | operator. For example, (cat|dog)fish would match either \"catfish\" or \"dogfish\". The | operator has a relatively low precedence, so using parentheses helps to clarify the desired grouping and avoid unexpected behavior.\n",
    "\n",
    "\n",
    "\n",
    "\n",
    "\n",
    "Regenerate response"
   ]
  },
  {
   "cell_type": "markdown",
   "id": "8fb24c17",
   "metadata": {},
   "source": [
    "10.In regular expressions, what is the difference between the + and * characters?\n"
   ]
  },
  {
   "cell_type": "markdown",
   "id": "fb9d815d",
   "metadata": {},
   "source": [
    "In regular expressions, the \"+\" and \"*\" characters are known as quantifiers and are used to specify the repetition of the preceding element in the pattern. The key difference between the two is as follows:\n",
    "\n",
    "\"+\" (Plus) Quantifier: The \"+\" quantifier indicates that the preceding element must occur one or more times, but it cannot be absent. It matches if the preceding element appears at least once and may repeat multiple times.\n",
    "For example:\n",
    "\n",
    "Pattern: \"a+\"\n",
    "Matches: \"a\", \"aa\", \"aaa\", etc.\n",
    "Does not match: \"\", because the preceding element \"a\" must occur at least once.\n",
    "\"\" (Asterisk) Quantifier: The \"\" quantifier indicates that the preceding element can occur zero or more times. It matches if the preceding element appears zero or more times.\n",
    "For example:\n",
    "\n",
    "Pattern: \"a*\"\n",
    "Matches: \"\", \"a\", \"aa\", \"aaa\", etc.\n",
    "Note: An empty string is a valid match because the preceding element \"a\" can occur zero times.\n",
    "In summary:\n",
    "\n",
    "\"+\" requires the preceding element to occur at least once, but it can repeat multiple times.\n",
    "\"*\" allows the preceding element to occur zero or more times, including the possibility of repeating multiple times.\n",
    "Here are a few additional examples to illustrate the difference:\n",
    "\n",
    "Pattern: \"go+d\"\n",
    "\n",
    "Matches: \"god\", \"good\", \"gooood\", etc.\n",
    "Does not match: \"gd\" because the \"+\" quantifier requires at least one \"o\" after \"g\".\n",
    "Pattern: \"go*d\"\n",
    "\n",
    "Matches: \"gd\", \"god\", \"good\", \"gooood\", etc.\n",
    "Note: The \"*\" quantifier allows for zero \"o\"s after \"g\", so \"gd\" is a valid match.\n",
    "In summary, the \"+\" quantifier ensures that the preceding element occurs one or more times, while the \"*\" quantifier allows for zero or more occurrences of the preceding element."
   ]
  },
  {
   "cell_type": "markdown",
   "id": "58abf1b7",
   "metadata": {},
   "source": [
    "11. What is the difference between {4} and {4,5} in regular expression?"
   ]
  },
  {
   "cell_type": "markdown",
   "id": "f5526371",
   "metadata": {},
   "source": [
    "In regular expressions, the notation {4} and {4,5} are used to specify the exact repetition of the preceding element in the pattern. The difference between the two is as follows:\n",
    "\n",
    "{4}: The {4} notation specifies that the preceding element must occur exactly four times.\n",
    "For example:\n",
    "\n",
    "Pattern: \"a{4}\"\n",
    "Matches: \"aaaa\"\n",
    "Does not match: \"aaa\" (less than four \"a\" characters) or \"aaaaa\" (more than four \"a\" characters)\n",
    "In this case, the pattern will only match if the preceding element \"a\" appears exactly four times consecutively.\n",
    "\n",
    "{4,5}: The {4,5} notation specifies that the preceding element must occur between four and five times, inclusive.\n",
    "For example:\n",
    "\n",
    "Pattern: \"a{4,5}\"\n",
    "Matches: \"aaaa\", \"aaaaa\"\n",
    "Does not match: \"aaa\" (less than four \"a\" characters) or \"aaaaaa\" (more than five \"a\" characters)\n",
    "In this case, the pattern will match if the preceding element \"a\" appears either four or five times consecutively.\n",
    "\n",
    "Here's a summary of the differences:\n",
    "\n",
    "{4} requires the preceding element to occur exactly four times.\n",
    "{4,5} allows the preceding element to occur between four and five times, inclusive.\n",
    "The curly braces notation is useful when you want to specify a specific number of repetitions for the preceding element in the regular expression pattern."
   ]
  },
  {
   "cell_type": "markdown",
   "id": "75db51a9",
   "metadata": {},
   "source": [
    "12. What do you mean by the \\d, \\w, and \\s shorthand character classes signify in regular expressions?"
   ]
  },
  {
   "cell_type": "markdown",
   "id": "01314745",
   "metadata": {},
   "source": [
    "In regular expressions, the shorthand character classes \\d, \\w, and \\s represent predefined sets of characters with specific meanings. Here's what each of these shorthand character classes signifies:\n",
    "\n",
    "\\d: The \\d shorthand character class represents any digit character from 0 to 9. It is equivalent to the character range [0-9].\n",
    "For example:\n",
    "\n",
    "Pattern: \\d\\d\\d\n",
    "Matches: \"123\", \"456\", \"789\", etc.\n",
    "Does not match: \"abc\", \"xyz\", etc.\n",
    "\\w: The \\w shorthand character class represents any alphanumeric character (letters, digits, or underscores). It is equivalent to the character range [a-zA-Z0-9_].\n",
    "For example:\n",
    "\n",
    "Pattern: \\w+\n",
    "Matches: \"hello\", \"world\", \"123\", \"abc_def\", etc.\n",
    "Does not match: \"!@#\", \"$%^\", etc.\n",
    "\\s: The \\s shorthand character class represents any whitespace character, including spaces, tabs, and newline characters.\n",
    "For example:\n",
    "\n",
    "Pattern: \\s\\w+\n",
    "Matches: \" hello\", \" world\", \"\\t\\tfoo\", etc.\n",
    "Does not match: \"no whitespace\", \"123\", etc.\n",
    "In summary:\n",
    "\n",
    "\\d represents any digit character (0-9).\n",
    "\\w represents any alphanumeric character (letters, digits, or underscores).\n",
    "\\s represents any whitespace character (spaces, tabs, or newlines).\n",
    "These shorthand character classes are commonly used in regular expressions to match specific types of characters or patterns.\n"
   ]
  },
  {
   "cell_type": "markdown",
   "id": "8c2f4280",
   "metadata": {},
   "source": [
    "13. What do means by \\D, \\W, and \\S shorthand character classes signify in regular expressions?"
   ]
  },
  {
   "cell_type": "markdown",
   "id": "44ff66f8",
   "metadata": {},
   "source": [
    "In regular expressions, the shorthand character classes \\D, \\W, and \\S are negations of their counterparts \\d, \\w, and \\s, respectively. They represent predefined sets of characters with specific meanings. Here's what each of these negated shorthand character classes signifies:\n",
    "\n",
    "\\D: The \\D shorthand character class represents any character that is not a digit (0-9). It is equivalent to the negation of \\d.\n",
    "For example:\n",
    "\n",
    "Pattern: \\D+\n",
    "Matches: \"hello\", \"world\", \"abc_def\", etc.\n",
    "Does not match: \"123\", \"456\", etc.\n",
    "\\W: The \\W shorthand character class represents any character that is not alphanumeric (letters, digits, or underscores). It is equivalent to the negation of \\w.\n",
    "For example:\n",
    "\n",
    "Pattern: \\W+\n",
    "Matches: \"!@#\", \"$%^\", etc.\n",
    "Does not match: \"hello\", \"world\", \"123\", \"abc_def\", etc.\n",
    "\\S: The \\S shorthand character class represents any character that is not a whitespace character. It is equivalent to the negation of \\s.\n",
    "For example:\n",
    "\n",
    "Pattern: \\S+\n",
    "Matches: \"hello\", \"world\", \"123\", \"abc_def\", etc.\n",
    "Does not match: \" \", \"\\t\\t\", etc.\n",
    "In summary:\n",
    "\n",
    "\\D represents any character that is not a digit (0-9).\n",
    "\\W represents any character that is not alphanumeric (letters, digits, or underscores).\n",
    "\\S represents any character that is not a whitespace character.\n",
    "These negated shorthand character classes are commonly used in regular expressions to match characters that do not belong to specific categories.\n",
    "\n",
    "\n",
    "\n",
    "\n"
   ]
  },
  {
   "cell_type": "markdown",
   "id": "06a98eab",
   "metadata": {},
   "source": [
    "The difference between .*? and .* lies in their behavior when it comes to matching text in regular expressions. Let's explore each one:\n",
    "\n",
    ".*? - Lazy or Non-greedy Matching:\n",
    "The .*? pattern is a non-greedy or lazy match. It matches as few characters as possible to satisfy the overall pattern. It tries to find the shortest possible match.\n",
    "For example:\n",
    "\n",
    "Pattern: a.*?b\n",
    "Text: \"aabab\"\n",
    "Matches: \"aab\" and \"ab\" (shortest possible matches)\n",
    "In this case, the .*? pattern matches the characters between \"a\" and \"b\" in a non-greedy manner, resulting in the shortest possible matches. It matches \"aab\" and \"ab\" separately.\n",
    "\n",
    ".* - Greedy Matching:\n",
    "The .* pattern is a greedy match. It matches as many characters as possible to satisfy the overall pattern. It tries to find the longest possible match.\n",
    "For example:\n",
    "\n",
    "Pattern: a.*b\n",
    "Text: \"aabab\"\n",
    "Matches: \"aabab\" (longest possible match)\n",
    "In this case, the .* pattern matches the characters between \"a\" and \"b\" in a greedy manner, resulting in the longest possible match. It matches the entire substring \"aabab\".\n",
    "\n",
    "To summarize:\n",
    "\n",
    ".*? performs a lazy or non-greedy match, finding the shortest possible match.\n",
    ".* performs a greedy match, finding the longest possible match.\n",
    "The behavior of .*? and .* can be particularly relevant when combined with other patterns or when used in situations where you need to control the matching behavior based on the specific requirements of your regular expression."
   ]
  },
  {
   "cell_type": "markdown",
   "id": "eb629122",
   "metadata": {},
   "source": [
    "15. What is the syntax for matching both numbers and lowercase letters with a character class?"
   ]
  },
  {
   "cell_type": "markdown",
   "id": "ecb15021",
   "metadata": {},
   "source": [
    "To match both numbers and lowercase letters with a character class in a regular expression, you can use the range notation within square brackets [ ]. Here's the syntax you can use:"
   ]
  },
  {
   "cell_type": "code",
   "execution_count": 15,
   "id": "158c8857",
   "metadata": {},
   "outputs": [
    {
     "name": "stdout",
     "output_type": "stream",
     "text": [
      "['a', 'b', 'c', '1', '2', '3', '7', '8', '9']\n"
     ]
    }
   ],
   "source": [
    "import re\n",
    "\n",
    "pattern = r'[0-9a-z]'\n",
    "text = \"abc123XYZ789\"\n",
    "\n",
    "matches = re.findall(pattern, text)\n",
    "print(matches)\n"
   ]
  },
  {
   "cell_type": "markdown",
   "id": "6f3f978a",
   "metadata": {},
   "source": [
    "In this example, the pattern [0-9a-z] matches all the lowercase letters (\"a\", \"b\", \"c\") and numbers (\"1\", \"2\", \"3\", \"7\", \"8\", \"9\") in the given text.\n",
    "\n",
    "You can further customize the pattern based on your requirements. For example, if you want to match multiple characters at once, you can use quantifiers such as + or *. For instance, [0-9a-z]+ will match one or more consecutive lowercase letters or numbers.\n",
    "\n",
    "Remember that the character class within square brackets allows you to define a set of characters to match within a single position in the regular expression."
   ]
  },
  {
   "cell_type": "markdown",
   "id": "8ed03dda",
   "metadata": {},
   "source": [
    "16. What is the procedure for making a normal expression in regax case insensitive?"
   ]
  },
  {
   "cell_type": "markdown",
   "id": "b4c267a6",
   "metadata": {},
   "source": [
    "To make a regular expression case insensitive in Python, you can use the re.IGNORECASE flag or the re.I flag. Both flags provide the same functionality, allowing you to match patterns regardless of the letter case. Here's the procedure:\n",
    "\n",
    "Import the re module:"
   ]
  },
  {
   "cell_type": "code",
   "execution_count": 16,
   "id": "a87b9390",
   "metadata": {},
   "outputs": [],
   "source": [
    "import re"
   ]
  },
  {
   "cell_type": "markdown",
   "id": "8e5831d8",
   "metadata": {},
   "source": [
    "Compile the regular expression pattern using the re.compile() function and include the re.IGNORECASE or re.I flag as the second argument:"
   ]
  },
  {
   "cell_type": "code",
   "execution_count": 17,
   "id": "b003f0ff",
   "metadata": {},
   "outputs": [],
   "source": [
    "pattern = re.compile(r'pattern', re.IGNORECASE)"
   ]
  },
  {
   "cell_type": "code",
   "execution_count": 18,
   "id": "83472313",
   "metadata": {},
   "outputs": [],
   "source": [
    "pattern = re.compile(r'pattern', re.I)"
   ]
  },
  {
   "cell_type": "markdown",
   "id": "e8076d88",
   "metadata": {},
   "source": [
    "Replace 'pattern' with your desired regular expression.\n",
    "\n",
    "Use the compiled pattern with the desired method (e.g., search(), match(), findall(), etc.) to perform case-insensitive matching:"
   ]
  },
  {
   "cell_type": "code",
   "execution_count": 19,
   "id": "c143778e",
   "metadata": {},
   "outputs": [],
   "source": [
    "match = pattern.search(text)"
   ]
  },
  {
   "cell_type": "code",
   "execution_count": 20,
   "id": "f1487804",
   "metadata": {},
   "outputs": [
    {
     "name": "stdout",
     "output_type": "stream",
     "text": [
      "Match found: apple\n"
     ]
    }
   ],
   "source": [
    "import re\n",
    "\n",
    "pattern = re.compile(r'apple', re.IGNORECASE)\n",
    "text = \"I have an apple and an Apple.\"\n",
    "\n",
    "match = pattern.search(text)\n",
    "if match:\n",
    "    print(\"Match found:\", match.group())"
   ]
  },
  {
   "cell_type": "markdown",
   "id": "a1dc02c1",
   "metadata": {},
   "source": [
    "n this example, the regular expression pattern 'apple' is compiled with the re.IGNORECASE flag. The search() method is used to find a match in the given text, resulting in a case-insensitive match for both instances of \"apple\" in the string.\n",
    "\n",
    "By including the re.IGNORECASE or re.I flag, you can create case-insensitive regular expressions in Python.\n",
    "\n",
    "\n",
    "\n",
    "\n"
   ]
  },
  {
   "cell_type": "markdown",
   "id": "fcf5a01a",
   "metadata": {},
   "source": [
    "17. What does the . character normally match? What does it match if re.DOTALL is passed as 2nd argument in re.compile()?"
   ]
  },
  {
   "cell_type": "markdown",
   "id": "85ce5fbf",
   "metadata": {},
   "source": [
    "In regular expressions, the \".\" (dot) character normally matches any character except a newline character (\\n). However, when the re.DOTALL flag is passed as the second argument in the re.compile() function, the dot matches any character including newline characters.\n",
    "\n",
    "Let's examine each case:\n",
    "\n",
    "Without re.DOTALL:\n"
   ]
  },
  {
   "cell_type": "code",
   "execution_count": 21,
   "id": "a3b0b638",
   "metadata": {},
   "outputs": [],
   "source": [
    "import re\n",
    "\n",
    "pattern = re.compile(r'a.b')\n",
    "text = \"a\\nb\"\n",
    "\n",
    "match = pattern.search(text)\n",
    "if match:\n",
    "    print(\"Match found:\", match.group())"
   ]
  },
  {
   "cell_type": "markdown",
   "id": "128136f3",
   "metadata": {},
   "source": [
    "In this case, the dot (.) matches any character except newline. Since the string contains a newline character between \"a\" and \"b\", the pattern \"a.b\" does not match and the output is None."
   ]
  },
  {
   "cell_type": "code",
   "execution_count": 22,
   "id": "1e7c2e30",
   "metadata": {},
   "outputs": [
    {
     "name": "stdout",
     "output_type": "stream",
     "text": [
      "Match found: a\n",
      "b\n"
     ]
    }
   ],
   "source": [
    "import re\n",
    "\n",
    "pattern = re.compile(r'a.b', re.DOTALL)\n",
    "text = \"a\\nb\"\n",
    "\n",
    "match = pattern.search(text)\n",
    "if match:\n",
    "    print(\"Match found:\", match.group())"
   ]
  },
  {
   "cell_type": "markdown",
   "id": "25f65626",
   "metadata": {},
   "source": [
    "In this case, the dot (.) matches any character including newline because the re.DOTALL flag is used. The pattern \"a.b\" matches the \"a\", newline, and \"b\" characters in the string, resulting in a match.\n",
    "\n",
    "By including the re.DOTALL flag, you modify the behavior of the dot character in the regular expression. It allows the dot to match any character, including newline characters.\n",
    "\n",
    "\n",
    "\n",
    "\n"
   ]
  },
  {
   "cell_type": "markdown",
   "id": "e640b4f6",
   "metadata": {},
   "source": [
    "18. If numReg = re.compile(r'\\d+'), what will numRegex.sub('X', '11 drummers, 10 pipers, five rings, 4 hen') return?"
   ]
  },
  {
   "cell_type": "code",
   "execution_count": 23,
   "id": "df5d91fc",
   "metadata": {},
   "outputs": [
    {
     "name": "stdout",
     "output_type": "stream",
     "text": [
      "X drummers, X pipers, five rings, X hen\n"
     ]
    }
   ],
   "source": [
    "import re\n",
    "\n",
    "numRegex = re.compile(r'\\d+')\n",
    "result = numRegex.sub('X', '11 drummers, 10 pipers, five rings, 4 hen')\n",
    "print(result)\n"
   ]
  },
  {
   "cell_type": "markdown",
   "id": "5ad65f31",
   "metadata": {},
   "source": [
    "In this case, the numRegex.sub('X', '11 drummers, 10 pipers, five rings, 4 hen') statement replaces all occurrences of one or more digits (\\d+) in the input string with the letter \"X\". The resulting string replaces all numeric substrings with \"X\", while leaving the non-numeric parts unchanged.\n",
    "\n",
    "\n",
    "\n",
    "\n"
   ]
  },
  {
   "cell_type": "markdown",
   "id": "41e255ef",
   "metadata": {},
   "source": [
    "19. What does passing re.VERBOSE as the 2nd argument to re.compile() allow to do?"
   ]
  },
  {
   "cell_type": "markdown",
   "id": "94bef7c5",
   "metadata": {},
   "source": [
    "\n",
    "Passing re.VERBOSE as the second argument to re.compile() allows you to create regular expressions with improved readability and increased documentation. It enables the use of comments and whitespace within the regular expression pattern, without affecting the pattern's functionality.\n",
    "\n",
    "Here's what re.VERBOSE allows you to do:\n",
    "\n",
    "Add comments: You can include comments within the regular expression pattern using the # symbol. Comments can help explain complex patterns and make the regular expression easier to understand.\n",
    "\n",
    "Ignore whitespace: Whitespace characters (spaces, tabs, and newlines) within the regular expression pattern are ignored when using re.VERBOSE. This allows you to format the pattern across multiple lines and add indentation to enhance readability.\n",
    "\n",
    "Disable line-end comments: Line-end comments (comments that appear at the end of a line) are treated as literal characters instead of comments when using re.VERBOSE. This can be useful when you need to match a pattern that includes a \"#\" character."
   ]
  },
  {
   "cell_type": "markdown",
   "id": "187cc62d",
   "metadata": {},
   "source": [
    "20. How would you write a regex that match a number with comma for every three digits? It must match the given following:\n",
    "'42'\n",
    "'1,234'\n",
    "'6,368,745'\n",
    "but not the following:\n",
    "'12,34,567' (which has only two digits between the commas)\n",
    "'1234' (which lacks commas)\n"
   ]
  },
  {
   "cell_type": "markdown",
   "id": "c67d4b4f",
   "metadata": {},
   "source": [
    "\n",
    "To match a number with commas for every three digits, you can use the following regular expression:"
   ]
  },
  {
   "cell_type": "code",
   "execution_count": 25,
   "id": "07ec589e",
   "metadata": {},
   "outputs": [
    {
     "ename": "SyntaxError",
     "evalue": "invalid syntax (600499497.py, line 1)",
     "output_type": "error",
     "traceback": [
      "\u001b[1;36m  File \u001b[1;32m\"C:\\Users\\joyji\\AppData\\Local\\Temp\\ipykernel_8544\\600499497.py\"\u001b[1;36m, line \u001b[1;32m1\u001b[0m\n\u001b[1;33m    ^\\d{1,3}(,\\d{3})*$\u001b[0m\n\u001b[1;37m    ^\u001b[0m\n\u001b[1;31mSyntaxError\u001b[0m\u001b[1;31m:\u001b[0m invalid syntax\n"
     ]
    }
   ],
   "source": [
    "^\\d{1,3}(,\\d{3})*$"
   ]
  },
  {
   "cell_type": "markdown",
   "id": "c2e86fe6",
   "metadata": {},
   "source": [
    "Let's break down the pattern:\n",
    "\n",
    "^ asserts the start of the string.\n",
    "\\d{1,3} matches one to three digits at the beginning.\n",
    "(,\\d{3})* matches zero or more occurrences of a comma followed by exactly three digits.\n",
    "$ asserts the end of the string.\n",
    "Here's an example usage:"
   ]
  },
  {
   "cell_type": "code",
   "execution_count": 26,
   "id": "9686d436",
   "metadata": {},
   "outputs": [
    {
     "name": "stdout",
     "output_type": "stream",
     "text": [
      "42 matches\n",
      "1,234 matches\n",
      "6,368,745 matches\n",
      "12,34,567 does not match\n",
      "1234 does not match\n"
     ]
    }
   ],
   "source": [
    "import re\n",
    "\n",
    "pattern = re.compile(r'^\\d{1,3}(,\\d{3})*$')\n",
    "\n",
    "numbers = ['42', '1,234', '6,368,745', '12,34,567', '1234']\n",
    "\n",
    "for number in numbers:\n",
    "    if pattern.match(number):\n",
    "        print(f\"{number} matches\")\n",
    "    else:\n",
    "        print(f\"{number} does not match\")\n"
   ]
  },
  {
   "cell_type": "markdown",
   "id": "6a78e7c2",
   "metadata": {},
   "source": [
    "In this example, the regular expression pattern ^\\d{1,3}(,\\d{3})*$ matches the desired number format. It matches numbers with one to three digits at the beginning, followed by zero or more occurrences of a comma and exactly three digits. The pattern correctly identifies the matching numbers with commas for every three digits and excludes the ones without commas or with incorrect comma placement.\n",
    "\n",
    "\n",
    "\n",
    "\n"
   ]
  },
  {
   "cell_type": "markdown",
   "id": "145398e5",
   "metadata": {},
   "source": [
    "21. How would you write a regex that matches the full name of someone whose last name is Watanabe? You can assume that the first name that comes before it will always be one word that begins with a capital letter. The regex must match the following:\n",
    "'Haruto Watanabe'\n",
    "'Alice Watanabe'\n",
    "'RoboCop Watanabe'\n",
    "but not the following:\n",
    "'haruto Watanabe' (where the first name is not capitalized)\n",
    "'Mr. Watanabe' (where the preceding word has a nonletter character)\n",
    "'Watanabe' (which has no first name)\n",
    "'Haruto watanabe' (where Watanabe is not capitalized)\n"
   ]
  },
  {
   "cell_type": "markdown",
   "id": "e09b2b2e",
   "metadata": {},
   "source": [
    "To match the full name of someone whose last name is \"Watanabe\" and the preceding word is a single capitalized word, you can use the following regular expression:"
   ]
  },
  {
   "cell_type": "code",
   "execution_count": 27,
   "id": "1286416e",
   "metadata": {},
   "outputs": [
    {
     "ename": "SyntaxError",
     "evalue": "invalid syntax (209086047.py, line 1)",
     "output_type": "error",
     "traceback": [
      "\u001b[1;36m  File \u001b[1;32m\"C:\\Users\\joyji\\AppData\\Local\\Temp\\ipykernel_8544\\209086047.py\"\u001b[1;36m, line \u001b[1;32m1\u001b[0m\n\u001b[1;33m    ^[A-Z][a-zA-Z]*\\sWatanabe$\u001b[0m\n\u001b[1;37m    ^\u001b[0m\n\u001b[1;31mSyntaxError\u001b[0m\u001b[1;31m:\u001b[0m invalid syntax\n"
     ]
    }
   ],
   "source": [
    "^[A-Z][a-zA-Z]*\\sWatanabe$"
   ]
  },
  {
   "cell_type": "markdown",
   "id": "14dd41ec",
   "metadata": {},
   "source": [
    "Let's break down the pattern:\n",
    "\n",
    "^ asserts the start of the string.\n",
    "[A-Z] matches a single uppercase letter as the first character of the name.\n",
    "[a-zA-Z]* matches zero or more lowercase or uppercase letters for the remaining characters of the first name.\n",
    "\\s matches a single whitespace character to separate the first and last name.\n",
    "Watanabe matches the last name exactly.\n",
    "$ asserts the end of the string.\n"
   ]
  },
  {
   "cell_type": "code",
   "execution_count": 28,
   "id": "822380c8",
   "metadata": {},
   "outputs": [
    {
     "name": "stdout",
     "output_type": "stream",
     "text": [
      "Haruto Watanabe matches\n",
      "Alice Watanabe matches\n",
      "RoboCop Watanabe matches\n",
      "haruto Watanabe does not match\n",
      "Mr. Watanabe does not match\n",
      "Watanabe does not match\n",
      "Haruto watanabe does not match\n"
     ]
    }
   ],
   "source": [
    "import re\n",
    "\n",
    "pattern = re.compile(r'^[A-Z][a-zA-Z]*\\sWatanabe$')\n",
    "\n",
    "names = ['Haruto Watanabe', 'Alice Watanabe', 'RoboCop Watanabe', 'haruto Watanabe',\n",
    "         'Mr. Watanabe', 'Watanabe', 'Haruto watanabe']\n",
    "\n",
    "for name in names:\n",
    "    if pattern.match(name):\n",
    "        print(f\"{name} matches\")\n",
    "    else:\n",
    "        print(f\"{name} does not match\")\n"
   ]
  },
  {
   "cell_type": "markdown",
   "id": "bbfe8bb7",
   "metadata": {},
   "source": [
    "In this example, the regular expression pattern ^[A-Z][a-zA-Z]*\\sWatanabe$ matches the desired name format. It matches names with a single capitalized word as the first name, followed by a whitespace character, and the last name \"Watanabe\". The pattern correctly identifies the matching names that satisfy the given conditions and excludes the ones that do not meet the requirements.\n",
    "\n",
    "\n",
    "\n",
    "\n"
   ]
  },
  {
   "cell_type": "markdown",
   "id": "3fadb8b3",
   "metadata": {},
   "source": [
    "22. How would you write a regex that matches a sentence where the first word is either Alice, Bob, or Carol; the second word is either eats, pets, or throws; the third word is apples, cats, or baseballs; and the sentence ends with a period? This regex should be case-insensitive. It must match the following:\n",
    "'Alice eats apples.'\n",
    "'Bob pets cats.'\n",
    "'Carol throws baseballs.'\n",
    "'Alice throws Apples.'\n",
    "'BOB EATS CATS.'\n",
    "but not the following:\n",
    "'RoboCop eats apples.'\n",
    "'ALICE THROWS FOOTBALLS.'\n",
    "'Carol eats 7 cats.'\n"
   ]
  },
  {
   "cell_type": "code",
   "execution_count": 30,
   "id": "c864bf52",
   "metadata": {},
   "outputs": [
    {
     "name": "stdout",
     "output_type": "stream",
     "text": [
      "Alice eats apples. matches\n",
      "Bob pets cats. matches\n",
      "Carol throws baseballs. matches\n",
      "Alice throws Apples. matches\n",
      "BOB EATS CATS. matches\n",
      "RoboCop eats apples. does not match\n",
      "ALICE THROWS FOOTBALLS. does not match\n",
      "Carol eats 7 cats. does not match\n"
     ]
    }
   ],
   "source": [
    "import re\n",
    "\n",
    "pattern = re.compile(r'^(Alice|Bob|Carol)\\s(eats|pets|throws)\\s(apples|cats|baseballs)\\.$', re.IGNORECASE)\n",
    "\n",
    "sentences = ['Alice eats apples.', 'Bob pets cats.', 'Carol throws baseballs.',\n",
    "             'Alice throws Apples.', 'BOB EATS CATS.', 'RoboCop eats apples.',\n",
    "             'ALICE THROWS FOOTBALLS.', 'Carol eats 7 cats.']\n",
    "\n",
    "for sentence in sentences:\n",
    "    if pattern.match(sentence):\n",
    "        print(f\"{sentence} matches\")\n",
    "    else:\n",
    "        print(f\"{sentence} does not match\")\n"
   ]
  },
  {
   "cell_type": "markdown",
   "id": "d0e2f2da",
   "metadata": {},
   "source": [
    "In this example, the regular expression pattern ^(Alice|Bob|Carol)\\s(eats|pets|throws)\\s(apples|cats|baseballs)\\.$ matches the desired sentence format. It matches sentences where the first word is one of \"Alice\", \"Bob\", or \"Carol\"; the second word is one of \"eats\", \"pets\", or \"throws\"; the third word is one of \"apples\", \"cats\", or \"baseballs\"; and the sentence ends with a period. The pattern is case-insensitive, allowing matches regardless of the letter case. The pattern correctly identifies the matching sentences and excludes the ones that do not meet the specified criteria."
   ]
  }
 ],
 "metadata": {
  "kernelspec": {
   "display_name": "Python 3 (ipykernel)",
   "language": "python",
   "name": "python3"
  },
  "language_info": {
   "codemirror_mode": {
    "name": "ipython",
    "version": 3
   },
   "file_extension": ".py",
   "mimetype": "text/x-python",
   "name": "python",
   "nbconvert_exporter": "python",
   "pygments_lexer": "ipython3",
   "version": "3.9.13"
  }
 },
 "nbformat": 4,
 "nbformat_minor": 5
}
