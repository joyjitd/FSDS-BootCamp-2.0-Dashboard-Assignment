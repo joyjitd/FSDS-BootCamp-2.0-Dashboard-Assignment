{
 "cells": [
  {
   "cell_type": "markdown",
   "id": "4b5c4123-5aa7-4703-bdb5-50a2d528e577",
   "metadata": {},
   "source": [
    "#Program Assignment 19"
   ]
  },
  {
   "cell_type": "markdown",
   "id": "7f6b291a-62af-4560-89ce-d9fd6d2f9503",
   "metadata": {},
   "source": [
    "#Question 1: Create a function that takes a string and returns a string in which each character is repeated once.\n",
    "Examples\n",
    "double_char(\"String\") ➞ \"SSttrriinngg\"\n",
    "\n",
    "double_char(\"Hello World!\") ➞ \"HHeelllloo  WWoorrlldd!!\"\n",
    "\n",
    "double_char(\"1234!_ \") ➞ \"11223344!!__  \"\n"
   ]
  },
  {
   "cell_type": "code",
   "execution_count": 4,
   "id": "08d724c0-ffc5-49c4-9a44-c2ca2a71663d",
   "metadata": {},
   "outputs": [],
   "source": [
    "def double_char(cha):\n",
    "    cha=\"\"\n",
    "    if type(cha)==str:\n",
    "        for i in cha:\n",
    "            new_cha = new_cha*2\n",
    "        return new_cha\n",
    "    else:\n",
    "        return \"Invalid character\""
   ]
  },
  {
   "cell_type": "code",
   "execution_count": 6,
   "id": "3d653598-a4f7-44f8-b52b-c79921e6519d",
   "metadata": {},
   "outputs": [
    {
     "ename": "UnboundLocalError",
     "evalue": "local variable 'new_cha' referenced before assignment",
     "output_type": "error",
     "traceback": [
      "\u001b[0;31m---------------------------------------------------------------------------\u001b[0m",
      "\u001b[0;31mUnboundLocalError\u001b[0m                         Traceback (most recent call last)",
      "Cell \u001b[0;32mIn [6], line 1\u001b[0m\n\u001b[0;32m----> 1\u001b[0m \u001b[43mdouble_char\u001b[49m\u001b[43m(\u001b[49m\u001b[38;5;124;43m\"\u001b[39;49m\u001b[38;5;124;43m1\u001b[39;49m\u001b[38;5;124;43m\"\u001b[39;49m\u001b[43m)\u001b[49m\n",
      "Cell \u001b[0;32mIn [4], line 6\u001b[0m, in \u001b[0;36mdouble_char\u001b[0;34m(cha)\u001b[0m\n\u001b[1;32m      4\u001b[0m     \u001b[38;5;28;01mfor\u001b[39;00m i \u001b[38;5;129;01min\u001b[39;00m cha:\n\u001b[1;32m      5\u001b[0m         new_cha \u001b[38;5;241m=\u001b[39m new_cha\u001b[38;5;241m*\u001b[39m\u001b[38;5;241m2\u001b[39m\n\u001b[0;32m----> 6\u001b[0m     \u001b[38;5;28;01mreturn\u001b[39;00m \u001b[43mnew_cha\u001b[49m\n\u001b[1;32m      7\u001b[0m \u001b[38;5;28;01melse\u001b[39;00m:\n\u001b[1;32m      8\u001b[0m     \u001b[38;5;28;01mreturn\u001b[39;00m \u001b[38;5;124m\"\u001b[39m\u001b[38;5;124mInvalid character\u001b[39m\u001b[38;5;124m\"\u001b[39m\n",
      "\u001b[0;31mUnboundLocalError\u001b[0m: local variable 'new_cha' referenced before assignment"
     ]
    }
   ],
   "source": [
    "double_char(\"1\")"
   ]
  },
  {
   "cell_type": "code",
   "execution_count": 7,
   "id": "1fe2ba7d-5915-4805-bfa7-53daf82d68d4",
   "metadata": {},
   "outputs": [],
   "source": [
    "def double_char1(string):\n",
    "    new_string = \"\"\n",
    "    for char in string:\n",
    "        new_string += char * 2\n",
    "    return new_string"
   ]
  },
  {
   "cell_type": "code",
   "execution_count": 8,
   "id": "77a17d39-00cf-4cc2-9abe-5956f7429ba8",
   "metadata": {},
   "outputs": [],
   "source": [
    "def double_char2(cha):\n",
    "    new_cha = \"\"\n",
    "    if type(cha) == str:\n",
    "        for i in cha:\n",
    "            new_cha += i * 2\n",
    "        return new_cha\n",
    "    else:\n",
    "        return \"Invalid character\"\n"
   ]
  },
  {
   "cell_type": "code",
   "execution_count": 9,
   "id": "c47413b9-3d77-47d4-ba3b-1b0d1f5f1613",
   "metadata": {},
   "outputs": [
    {
     "data": {
      "text/plain": [
       "'Invalid character'"
      ]
     },
     "execution_count": 9,
     "metadata": {},
     "output_type": "execute_result"
    }
   ],
   "source": [
    "double_char2(1)"
   ]
  },
  {
   "cell_type": "markdown",
   "id": "b6e65a4d-d3f5-429b-b9cc-6496ad0b7cd8",
   "metadata": {},
   "source": [
    "#Question2\n",
    "Create a function that reverses a boolean value and returns the string \"boolean expected\" if another variable type is given.\n",
    "Examples\n",
    "reverse(True) ➞ False\n",
    "\n",
    "reverse(False) ➞ True\n",
    "\n",
    "reverse(0) ➞ \"boolean expected\"\n",
    "\n",
    "reverse(None) ➞ \"boolean expected\""
   ]
  },
  {
   "cell_type": "code",
   "execution_count": 17,
   "id": "4da4eadc-573e-45c1-aeea-a633d17a6b05",
   "metadata": {},
   "outputs": [],
   "source": [
    "def reverse(boolean):\n",
    "    if type(boolean) == bool:\n",
    "        return not boolean\n",
    "    else:\n",
    "        return \"boolean expected\""
   ]
  },
  {
   "cell_type": "code",
   "execution_count": 18,
   "id": "1ed222bb-1134-4213-a8ce-7df56ac4cb53",
   "metadata": {},
   "outputs": [
    {
     "data": {
      "text/plain": [
       "False"
      ]
     },
     "execution_count": 18,
     "metadata": {},
     "output_type": "execute_result"
    }
   ],
   "source": [
    "reverse(True)"
   ]
  },
  {
   "cell_type": "code",
   "execution_count": 19,
   "id": "be19476d-9f9c-4efd-8eeb-0aa73737a149",
   "metadata": {},
   "outputs": [
    {
     "data": {
      "text/plain": [
       "False"
      ]
     },
     "execution_count": 19,
     "metadata": {},
     "output_type": "execute_result"
    }
   ],
   "source": [
    "not True "
   ]
  },
  {
   "cell_type": "markdown",
   "id": "f904bd56-481c-40e4-a3e6-503df84f8737",
   "metadata": {},
   "source": [
    "#Question3\n",
    "Create a function that returns the thickness (in meters) of a piece of paper after folding it n number of times. The paper starts off with a thickness of 0.5mm.\n",
    "Examples\n",
    "num_layers(1) ➞ \"0.001m\"\n",
    "# Paper folded once is 1mm (equal to 0.001m)\n",
    "\n",
    "num_layers(4) ➞ \"0.008m\"\n",
    "# Paper folded 4 times is 8mm (equal to 0.008m)\n",
    "\n",
    "num_layers(21) ➞ \"1048.576m\"\n",
    "# Paper folded 21 times is 1048576mm (equal to 1048.576m)"
   ]
  },
  {
   "cell_type": "code",
   "execution_count": 27,
   "id": "2f6490be-dff5-4e6a-9c52-669eb8342efd",
   "metadata": {},
   "outputs": [],
   "source": [
    "def num_layer(num): # num defines the number of folds\n",
    "    thick_in_meter=0.5/1000\n",
    "    for i in range(num):\n",
    "         thick_in_meter= thick_in_meter*2 # the number of time the fold is made the thickness increases 2 times. \n",
    "    return str(thick_in_meter) + \"m\"    "
   ]
  },
  {
   "cell_type": "code",
   "execution_count": 28,
   "id": "2bb30371-e5d0-40c2-a34a-48cf88143b9b",
   "metadata": {},
   "outputs": [
    {
     "data": {
      "text/plain": [
       "'0.002m'"
      ]
     },
     "execution_count": 28,
     "metadata": {},
     "output_type": "execute_result"
    }
   ],
   "source": [
    "num_layer(2)"
   ]
  },
  {
   "cell_type": "code",
   "execution_count": 29,
   "id": "9031d0c9-6889-4630-ab97-9843ca2ddb27",
   "metadata": {},
   "outputs": [
    {
     "data": {
      "text/plain": [
       "'0.008m'"
      ]
     },
     "execution_count": 29,
     "metadata": {},
     "output_type": "execute_result"
    }
   ],
   "source": [
    "num_layer(4)"
   ]
  },
  {
   "cell_type": "markdown",
   "id": "a7baf07a-95bc-4b4f-9650-d008a753412e",
   "metadata": {},
   "source": [
    "#Question 4: Question4\n",
    "Create a function that takes a single string as argument and returns an ordered list containing the indices of all capital letters in the string.\n",
    "Examples\n",
    "index_of_caps(\"eDaBiT\") ➞ [1, 3, 5]\n",
    "\n",
    "index_of_caps(\"eQuINoX\") ➞ [1, 3, 4, 6]\n",
    "\n",
    "index_of_caps(\"determine\") ➞ []\n",
    "\n",
    "index_of_caps(\"STRIKE\") ➞ [0, 1, 2, 3, 4, 5]\n",
    "\n",
    "index_of_caps(\"sUn\") ➞ [1]"
   ]
  },
  {
   "cell_type": "code",
   "execution_count": 33,
   "id": "82ebbb7e-ac2c-4ff0-a3a9-4b036b96e407",
   "metadata": {},
   "outputs": [],
   "source": [
    "def index_of_caps(word):\n",
    "    caps_indices=[]\n",
    "    for i in range(len(word)):\n",
    "        if word[i].isupper():\n",
    "            caps_indices.append(i)\n",
    "    return caps_indices"
   ]
  },
  {
   "cell_type": "code",
   "execution_count": 34,
   "id": "deaf1ede-eb7f-48c3-b148-d819329263fe",
   "metadata": {},
   "outputs": [
    {
     "data": {
      "text/plain": [
       "[1, 3, 5]"
      ]
     },
     "execution_count": 34,
     "metadata": {},
     "output_type": "execute_result"
    }
   ],
   "source": [
    "index_of_caps(\"eDaBiT\")"
   ]
  },
  {
   "cell_type": "markdown",
   "id": "36d2ff1f-0787-4343-9415-30dbeef0c54e",
   "metadata": {},
   "source": [
    "#Question5\n",
    "Using list comprehensions, create a function that finds all even numbers from 1 to the given number.\n",
    "Examples\n",
    "find_even_nums(8) ➞ [2, 4, 6, 8]\n",
    "\n",
    "find_even_nums(4) ➞ [2, 4]\n",
    "\n",
    "find_even_nums(2) ➞ [2]"
   ]
  },
  {
   "cell_type": "code",
   "execution_count": null,
   "id": "5c430c30-fc3e-4a54-b29e-4b9cf5423772",
   "metadata": {},
   "outputs": [],
   "source": [
    "def find_even_nums(num):\n",
    "    return [i for i in range(1, num+1) if i % 2 == 0]\n"
   ]
  }
 ],
 "metadata": {
  "kernelspec": {
   "display_name": "Python 3 (ipykernel)",
   "language": "python",
   "name": "python3"
  },
  "language_info": {
   "codemirror_mode": {
    "name": "ipython",
    "version": 3
   },
   "file_extension": ".py",
   "mimetype": "text/x-python",
   "name": "python",
   "nbconvert_exporter": "python",
   "pygments_lexer": "ipython3",
   "version": "3.10.6"
  }
 },
 "nbformat": 4,
 "nbformat_minor": 5
}
