{
 "cells": [
  {
   "cell_type": "code",
   "execution_count": null,
   "id": "d78e47a0-fb5f-4828-b53f-95ac13ad3f95",
   "metadata": {},
   "outputs": [],
   "source": [
    "##Program_Assignment_13"
   ]
  },
  {
   "cell_type": "markdown",
   "id": "10f27e08-a0f2-486f-896d-577811dea19a",
   "metadata": {},
   "source": [
    "Question 1:\n",
    "\n",
    "Write a program that calculates and prints the value according to the given formula:\n",
    "\n",
    "Q = Square root of [(2 * C * D)/H]\n",
    "\n",
    "Following are the fixed values of C and H:\n",
    "\n",
    "C is 50. H is 30.\n",
    "\n",
    "D is the variable whose values should be input to your program in a comma-separated sequence.\n",
    "\n",
    "Example\n",
    "\n",
    "Let us assume the following comma separated input sequence is given to the program:\n",
    "\n",
    "100,150,180\n",
    "\n",
    "The output of the program should be:\n",
    "\n",
    "18,22,24\n"
   ]
  },
  {
   "cell_type": "code",
   "execution_count": 31,
   "id": "c459d802-178f-42be-987d-35391dc8431c",
   "metadata": {},
   "outputs": [
    {
     "name": "stdin",
     "output_type": "stream",
     "text": [
      "Enter the number in a comma-separated sequence 1,2,3\n"
     ]
    },
    {
     "name": "stdout",
     "output_type": "stream",
     "text": [
      "<class 'list'>\n",
      "[1.8257418583505538, 2.581988897471611, 3.1622776601683795]\n"
     ]
    }
   ],
   "source": [
    "import math # importing the maths library to do the calculation of square root. \n",
    "C = 50\n",
    "H = 30\n",
    "D=input(\"Enter the number in a comma-separated sequence\")\n",
    "D=D.split(',')\n",
    "result=[ ]\n",
    "print(type(result))\n",
    "for i in D:\n",
    "    q=(2 * C * int(i))/H\n",
    "    Q = math.sqrt(q) \n",
    "    result.append(Q) # Append operator cannot be assigned to a variable. \n",
    "print(result)"
   ]
  },
  {
   "cell_type": "markdown",
   "id": "ab39ca00-65a5-4df5-9d6d-11ce88f7a98d",
   "metadata": {},
   "source": [
    "Question 2: # Doubt \n",
    "Write a program which takes 2 digits, X,Y as input and generates a 2-dimensional array. The element value in the i-th row and j-th column of the array should be i*j.\n",
    "\n",
    "Note: i=0,1.., X-1; j=0,1,¡¬Y-1.\n",
    "\n",
    "Example\n",
    "\n",
    "Suppose the following inputs are given to the program:\n",
    "\n",
    "3,5\n",
    "\n",
    "Then, the output of the program should be:\n",
    "\n",
    "[[0, 0, 0, 0, 0], [0, 1, 2, 3, 4], [0, 2, 4, 6, 8]] \n"
   ]
  },
  {
   "cell_type": "code",
   "execution_count": 38,
   "id": "8bfd635b-c071-4e8a-8d73-e39947bb79ad",
   "metadata": {},
   "outputs": [
    {
     "name": "stdin",
     "output_type": "stream",
     "text": [
      "Row: 3\n",
      "Column: 3\n"
     ]
    },
    {
     "name": "stdout",
     "output_type": "stream",
     "text": [
      "The blank matrix is  : [[0, 0, 0], [0, 0, 0], [0, 0, 0]]\n",
      "The blank matrix is  : [[0, 0, 0], [0, 1, 2], [0, 2, 4]]\n"
     ]
    }
   ],
   "source": [
    "m=int(input(\"Row:\")) # Taking the number of rows. # Doubt \n",
    "n=int(input(\"Column:\")) # Taking the number of columns. \n",
    "matrix=[[0 for col in range(n)] for row in range(m)] # A Blank Matrix of mth row and nth column has been created. \n",
    "print(f\"The blank matrix is  : {matrix}\")\n",
    "for row in range(m):\n",
    "    for col in range(n):\n",
    "        matrix[row][col]=row*col\n",
    "print(f\"The blank matrix is  : {matrix}\")"
   ]
  },
  {
   "cell_type": "markdown",
   "id": "584aee8d-787a-4539-ab36-ef4beeb016b1",
   "metadata": {},
   "source": [
    "Question 3:\n",
    "Write a program that accepts a comma separated sequence of words as input and prints the words in a comma-separated sequence after sorting them alphabetically.\n",
    "\n",
    "Suppose the following input is supplied to the program:\n",
    "\n",
    "without,hello,bag,world\n",
    "\n",
    "Then, the output should be:\n",
    "\n",
    "bag,hello,without,world\n",
    "\n"
   ]
  },
  {
   "cell_type": "code",
   "execution_count": 2,
   "id": "c878b492-6046-4505-a45f-204d1f65b7a8",
   "metadata": {},
   "outputs": [
    {
     "name": "stdin",
     "output_type": "stream",
     "text": [
      "Enter the words in a comma separated sequence without,hello,bag,world\n"
     ]
    },
    {
     "name": "stdout",
     "output_type": "stream",
     "text": [
      "['bag', 'hello', 'without', 'world']\n",
      "bag, hello, without, world\n"
     ]
    }
   ],
   "source": [
    "string=input(\"Enter the words in a comma separated sequence\")\n",
    "string_split= string.split(',')\n",
    "string_split.sort()\n",
    "print(string_split)\n",
    "print((', ').join(string_split))# Using the Join Operation to get the required output. "
   ]
  },
  {
   "cell_type": "markdown",
   "id": "d294318f-3fb2-4bf4-943c-d53ee610a939",
   "metadata": {},
   "source": [
    "Question 4:\n",
    "Write a program that accepts a sequence of whitespace separated words as input and prints the words after removing all duplicate words and sorting them alphanumerically.\n",
    "\n",
    "Suppose the following input is supplied to the program:\n",
    "\n",
    "hello world and practice makes perfect and hello world again\n",
    "\n",
    "Then, the output should be:\n",
    "\n",
    "again and hello makes perfect practice world.\n"
   ]
  },
  {
   "cell_type": "code",
   "execution_count": 11,
   "id": "4579fec5-ab7e-4091-b206-44c6bf3330ee",
   "metadata": {},
   "outputs": [
    {
     "name": "stdin",
     "output_type": "stream",
     "text": [
      " Enter the words:  hello world and practice makes perfect and hello world again\n"
     ]
    },
    {
     "name": "stdout",
     "output_type": "stream",
     "text": [
      "['hello', 'world', 'and', 'practice', 'makes', 'perfect', 'and', 'hello', 'world', 'again']\n",
      "again and hello makes perfect practice world\n"
     ]
    }
   ],
   "source": [
    "phase=input(\" Enter the words: \" )\n",
    "phase_split=phase.split(\" \") # This will split based on whitespace\n",
    "print(phase_split)\n",
    "a=list(set(phase_split)) # Removing all the duplicates\n",
    "a.sort()\n",
    "print((' ').join(a))"
   ]
  },
  {
   "cell_type": "markdown",
   "id": "d22ec496-a87f-4158-b2f3-d60c51d271fc",
   "metadata": {},
   "source": [
    "Question 5:\n",
    "Write a program that accepts a sentence and calculate the number of letters and digits.\n",
    "\n",
    "Suppose the following input is supplied to the program:\n",
    "\n",
    "hello world! 123\n",
    "\n",
    "Then, the output should be:\n",
    "\n",
    "LETTERS 10\n",
    "\n",
    "DIGITS 3\n",
    "\n"
   ]
  },
  {
   "cell_type": "code",
   "execution_count": 14,
   "id": "e8abc558-29ca-474b-b645-48dfe5618206",
   "metadata": {},
   "outputs": [
    {
     "name": "stdin",
     "output_type": "stream",
     "text": [
      "Input a string hello world! 123\n"
     ]
    },
    {
     "name": "stdout",
     "output_type": "stream",
     "text": [
      "LETTERS  10\n",
      "DIGITS  3\n"
     ]
    }
   ],
   "source": [
    "st = input(\"Input a string\")\n",
    "d=0\n",
    "l=0\n",
    "for i in st:\n",
    "    if i.isdigit():\n",
    "        d+=1\n",
    "    elif i.isalpha():\n",
    "        l+=1\n",
    "    else:\n",
    "        pass\n",
    "print(\"LETTERS \", l)\n",
    "print(\"DIGITS \", d)\n"
   ]
  },
  {
   "cell_type": "markdown",
   "id": "8f2499a0-8bdf-4eae-8bb0-d6a9a3b24eb3",
   "metadata": {},
   "source": [
    "Question 6:\n",
    "A website requires the users to input username and password to register. Write a program to check the validity of password input by users.\n",
    "\n",
    "Following are the criteria for checking the password:\n",
    "\n",
    "1. At least 1 letter between [a-z]\n",
    "\n",
    "2. At least 1 number between [0-9]\n",
    "\n",
    "1. At least 1 letter between [A-Z]\n",
    "\n",
    "3. At least 1 character from [$#@]\n",
    "\n",
    "4. Minimum length of transaction password: 6\n",
    "\n",
    "5. Maximum length of transaction password: 12\n",
    "\n",
    "Your program should accept a sequence of comma separated passwords and will check them according to the above criteria. Passwords that match the criteria are to be printed, each separated by a comma.\n",
    "\n",
    "Example\n",
    "\n",
    "If the following passwords are given as input to the program:\n",
    "\n",
    "ABd1234@1,a F1#,2w3E*,2We3345\n",
    "\n",
    "Then, the output of the program should be:\n",
    "\n",
    "ABd1234@1\n"
   ]
  },
  {
   "cell_type": "code",
   "execution_count": 31,
   "id": "7c0b7d8f-19ad-40dd-9a91-54cbaa4525b3",
   "metadata": {},
   "outputs": [
    {
     "ename": "SyntaxError",
     "evalue": "invalid syntax (251417105.py, line 9)",
     "output_type": "error",
     "traceback": [
      "\u001b[0;36m  Cell \u001b[0;32mIn [31], line 9\u001b[0;36m\u001b[0m\n\u001b[0;31m    elif not re.search(\"([a-z])+\", i):\u001b[0m\n\u001b[0m    ^\u001b[0m\n\u001b[0;31mSyntaxError\u001b[0m\u001b[0;31m:\u001b[0m invalid syntax\n"
     ]
    }
   ],
   "source": [
    "import re # Importing regular expression library. \n",
    "pas=input(\"Enter the username and password by giving , in between\")\n",
    "pas=pas.split(',') # List will be created with username and password\n",
    "print(pas)\n",
    "acc_pass=[]\n",
    "for i in pas: # First i=joyjitdhar Second i=Mavic@1234\n",
    "           if len(i) < 6 or len(i) > 12: \n",
    "            continue\n",
    "            elif not re.search(\"([a-z])+\", i):\n",
    "            continue\n",
    "\n",
    "            elif not re.search(\"([A-Z])+\", i):\n",
    "            continue\n",
    "\n",
    "            elif not re.search(\"([0-9])+\", i):\n",
    "            continue\n",
    "\n",
    "            elif not re.search(\"([!@$%^&])+\", i):\n",
    "            continue\n",
    "            else:\n",
    "            acc_pass.append(i)\n",
    "\n",
    "print((\" \").join(accepted_pass))\n"
   ]
  },
  {
   "cell_type": "code",
   "execution_count": null,
   "id": "57eacaab-cecc-4202-bb7b-fb87d6867792",
   "metadata": {},
   "outputs": [],
   "source": []
  },
  {
   "cell_type": "code",
   "execution_count": null,
   "id": "97da6311-a1fc-45ab-836b-6a60f7bd91d1",
   "metadata": {},
   "outputs": [],
   "source": []
  }
 ],
 "metadata": {
  "kernelspec": {
   "display_name": "Python 3 (ipykernel)",
   "language": "python",
   "name": "python3"
  },
  "language_info": {
   "codemirror_mode": {
    "name": "ipython",
    "version": 3
   },
   "file_extension": ".py",
   "mimetype": "text/x-python",
   "name": "python",
   "nbconvert_exporter": "python",
   "pygments_lexer": "ipython3",
   "version": "3.10.6"
  }
 },
 "nbformat": 4,
 "nbformat_minor": 5
}
