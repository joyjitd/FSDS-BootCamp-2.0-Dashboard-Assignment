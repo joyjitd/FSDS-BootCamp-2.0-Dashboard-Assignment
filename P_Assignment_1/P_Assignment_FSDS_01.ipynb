{
  "nbformat": 4,
  "nbformat_minor": 0,
  "metadata": {
    "colab": {
      "provenance": [],
      "collapsed_sections": []
    },
    "kernelspec": {
      "name": "python3",
      "display_name": "Python 3"
    },
    "language_info": {
      "name": "python"
    }
  },
  "cells": [
    {
      "cell_type": "code",
      "execution_count": null,
      "metadata": {
        "id": "xsKJHbnAoZBd"
      },
      "outputs": [],
      "source": []
    },
    {
      "cell_type": "markdown",
      "source": [
        "#P_Assignment_FSDS_01\n"
      ],
      "metadata": {
        "id": "CsOaDsxco43u"
      }
    },
    {
      "cell_type": "markdown",
      "source": [
        "# 1.\tWrite a Python program to print \"Hello Python\"?"
      ],
      "metadata": {
        "id": "riLQuwY5o8hg"
      }
    },
    {
      "cell_type": "code",
      "source": [
        "print(\"Hello Python\")"
      ],
      "metadata": {
        "colab": {
          "base_uri": "https://localhost:8080/"
        },
        "id": "CgL2moOopC5h",
        "outputId": "7475170e-4cd5-4562-e6b6-0b3efefe9e74"
      },
      "execution_count": 1,
      "outputs": [
        {
          "output_type": "stream",
          "name": "stdout",
          "text": [
            "Hello Python\n"
          ]
        }
      ]
    },
    {
      "cell_type": "markdown",
      "source": [
        "# 2.Write a Python program to do arithmetical operations addition and division.?"
      ],
      "metadata": {
        "id": "2kj4f-DApI4L"
      }
    },
    {
      "cell_type": "code",
      "source": [
        "A= int(input(\"Enter First Number: \"))\n",
        "B=int(input(\"Enter Second number: \"))\n",
        "C = A+B \n",
        "D =float(B/A)\n",
        "print(f\"The sum of first number and second number is : {C} \")\n",
        "print(f\"The division of second number by first number is : {D} \")"
      ],
      "metadata": {
        "colab": {
          "base_uri": "https://localhost:8080/"
        },
        "id": "W3DISy86pNqB",
        "outputId": "ae4172d9-856e-4942-e6ed-800cac7dd1d4"
      },
      "execution_count": 3,
      "outputs": [
        {
          "output_type": "stream",
          "name": "stdout",
          "text": [
            "Enter First Number: 6\n",
            "Enter Second number: 12\n",
            "The sum of first number and second number is : 18 \n",
            "The division of second number by first number is : 2.0 \n"
          ]
        }
      ]
    },
    {
      "cell_type": "markdown",
      "source": [
        "# 3.\tWrite a Python program to find the area of a triangle?\n",
        "Formula for finding the area of a triangle\n",
        "= 1/2 X Base X Height\n"
      ],
      "metadata": {
        "id": "wKLTYafDqE4n"
      }
    },
    {
      "cell_type": "code",
      "source": [
        "Base_Triangle = float(input(\"Enter the base of the Triangle: \"))\n",
        "Height_Triangle = float(input(\"Enter the height of the Triangle: \"))\n",
        "Area_Triangle = 1/2 * Base_Triangle * Height_Triangle \n",
        "print(f\"The area of a triangle is : {Area_Triangle} unit square\")"
      ],
      "metadata": {
        "colab": {
          "base_uri": "https://localhost:8080/"
        },
        "id": "jTKq5K-zqRTf",
        "outputId": "6c18b317-1b27-4684-cfef-133cb69962ba"
      },
      "execution_count": 7,
      "outputs": [
        {
          "output_type": "stream",
          "name": "stdout",
          "text": [
            "Enter the base of the Triangle: 1\n",
            "Enter the height of the Triangle: 2\n",
            "The area of a triangle is : 1.0 unit square\n"
          ]
        }
      ]
    },
    {
      "cell_type": "markdown",
      "source": [
        "# 4.Write a Python program to swap two variables?\n"
      ],
      "metadata": {
        "id": "DwR8Q1AsrQN7"
      }
    },
    {
      "cell_type": "code",
      "source": [
        "a= 1\n",
        "b=2\n",
        "print(f\"Value of a variable: {a}\")\n",
        "print(f\"Value of b variable: {b}\")\n",
        "temp = a\n",
        "a=b\n",
        "b=temp \n",
        "print(f\"Value of a variable after swap: {a}\")\n",
        "print(f\"Value of b variable after swap: {b}\")"
      ],
      "metadata": {
        "colab": {
          "base_uri": "https://localhost:8080/"
        },
        "id": "8gKEqQrjrTy6",
        "outputId": "5cb75846-b615-476e-b17e-b1b3f426a0fd"
      },
      "execution_count": 12,
      "outputs": [
        {
          "output_type": "stream",
          "name": "stdout",
          "text": [
            "Value of a variable: 1\n",
            "Value of b variable: 2\n",
            "Value of a variable after swap: 2\n",
            "Value of b variable after swap: 1\n"
          ]
        }
      ]
    },
    {
      "cell_type": "markdown",
      "source": [
        "# 5.\tWrite a Python program to generate a random number?"
      ],
      "metadata": {
        "id": "11qx-NvPtHHQ"
      }
    },
    {
      "cell_type": "code",
      "source": [
        "import random\n",
        "n=random.randint(0,100)\n",
        "print(n)"
      ],
      "metadata": {
        "colab": {
          "base_uri": "https://localhost:8080/"
        },
        "id": "Qd0jz9p1qHYA",
        "outputId": "af21e9b4-5e84-4603-ab92-00925b490afb"
      },
      "execution_count": 17,
      "outputs": [
        {
          "output_type": "stream",
          "name": "stdout",
          "text": [
            "88\n"
          ]
        }
      ]
    },
    {
      "cell_type": "markdown",
      "source": [],
      "metadata": {
        "id": "brM4BWido6RM"
      }
    }
  ]
}