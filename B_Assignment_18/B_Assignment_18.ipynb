{
 "cells": [
  {
   "cell_type": "markdown",
   "id": "bf9bc6aa",
   "metadata": {},
   "source": [
    "1. Create a zoo.py file first. Define the hours() function, which prints the string 'Open 9-5 daily'. Then, use the interactive interpreter to import the zoo module and call its hours() function."
   ]
  },
  {
   "cell_type": "code",
   "execution_count": 2,
   "id": "07757391",
   "metadata": {},
   "outputs": [],
   "source": [
    "# zoo.py # This needs to be done in the Virtual Studio. \n",
    "\n",
    "def hours():\n",
    "    print('Open 9-5 daily')\n"
   ]
  },
  {
   "cell_type": "markdown",
   "id": "b0dfd731",
   "metadata": {},
   "source": [
    "Next, you can use the interactive interpreter to import the zoo module and call its hours() function. Here's how you can do it:\n",
    "\n",
    "Open your Python interpreter or interactive shell.\n",
    "Enter the following commands:"
   ]
  },
  {
   "cell_type": "code",
   "execution_count": 3,
   "id": "5fb85ad1",
   "metadata": {},
   "outputs": [
    {
     "ename": "ModuleNotFoundError",
     "evalue": "No module named 'zoo'",
     "output_type": "error",
     "traceback": [
      "\u001b[1;31m---------------------------------------------------------------------------\u001b[0m",
      "\u001b[1;31mModuleNotFoundError\u001b[0m                       Traceback (most recent call last)",
      "\u001b[1;32m~\\AppData\\Local\\Temp\\ipykernel_12316\\2832858985.py\u001b[0m in \u001b[0;36m<module>\u001b[1;34m\u001b[0m\n\u001b[1;32m----> 1\u001b[1;33m \u001b[1;32mimport\u001b[0m \u001b[0mzoo\u001b[0m\u001b[1;33m\u001b[0m\u001b[1;33m\u001b[0m\u001b[0m\n\u001b[0m\u001b[0;32m      2\u001b[0m \u001b[0mzoo\u001b[0m\u001b[1;33m.\u001b[0m\u001b[0mhours\u001b[0m\u001b[1;33m(\u001b[0m\u001b[1;33m)\u001b[0m\u001b[1;33m\u001b[0m\u001b[1;33m\u001b[0m\u001b[0m\n",
      "\u001b[1;31mModuleNotFoundError\u001b[0m: No module named 'zoo'"
     ]
    }
   ],
   "source": [
    "import zoo\n",
    "zoo.hours()"
   ]
  },
  {
   "cell_type": "markdown",
   "id": "d70aac56",
   "metadata": {},
   "source": [
    "2. In the interactive interpreter, import the zoo module as menagerie and call its hours() function."
   ]
  },
  {
   "cell_type": "code",
   "execution_count": null,
   "id": "01c35442",
   "metadata": {},
   "outputs": [],
   "source": [
    "import zoo as menagerie\n",
    "menagerie.hours()\n"
   ]
  },
  {
   "cell_type": "markdown",
   "id": "61ed4210",
   "metadata": {},
   "source": [
    "In this code, the zoo module is imported with the alias menagerie. By using the as keyword, you can provide an alternate name for the module.\n",
    "\n",
    "When you run these commands, the zoo module will be imported with the alias menagerie, and the hours() function from the zoo module will be called. The output will be:"
   ]
  },
  {
   "cell_type": "markdown",
   "id": "68e05879",
   "metadata": {},
   "source": [
    "3. Using the interpreter, explicitly import and call the hours() function from zoo."
   ]
  },
  {
   "cell_type": "markdown",
   "id": "c5721c90",
   "metadata": {},
   "source": [
    "To explicitly import and call the hours() function from the zoo module using the interpreter, follow these steps:\n",
    "\n",
    "Open your Python interpreter or interactive shell.\n",
    "Enter the following command:"
   ]
  },
  {
   "cell_type": "code",
   "execution_count": 4,
   "id": "2bff4ba4",
   "metadata": {},
   "outputs": [
    {
     "ename": "SyntaxError",
     "evalue": "invalid syntax (2851852862.py, line 3)",
     "output_type": "error",
     "traceback": [
      "\u001b[1;36m  File \u001b[1;32m\"C:\\Users\\joyji\\AppData\\Local\\Temp\\ipykernel_12316\\2851852862.py\"\u001b[1;36m, line \u001b[1;32m3\u001b[0m\n\u001b[1;33m    In this code, the from zoo import hours statement explicitly imports only the hours() function from the zoo module. This allows you to directly use the function without having to specify the module name.\u001b[0m\n\u001b[1;37m       ^\u001b[0m\n\u001b[1;31mSyntaxError\u001b[0m\u001b[1;31m:\u001b[0m invalid syntax\n"
     ]
    }
   ],
   "source": [
    "from zoo import hours\n",
    "hours()\n",
    "In this code, the from zoo import hours statement explicitly imports only the hours() function from the zoo module. This allows you to directly use the function without having to specify the module name.\n",
    "\n",
    "When you run these commands, the hours() function from the zoo module will be imported and called. The output will be:"
   ]
  },
  {
   "cell_type": "markdown",
   "id": "6140b3aa",
   "metadata": {},
   "source": [
    "5. Create a plain dictionary with the key-value pairs 'a': 1, 'b': 2, and 'c': 3, and print it out."
   ]
  },
  {
   "cell_type": "code",
   "execution_count": 5,
   "id": "d438fbb3",
   "metadata": {},
   "outputs": [
    {
     "name": "stdout",
     "output_type": "stream",
     "text": [
      "{'a': 1, 'b': 2, 'c': 3}\n"
     ]
    }
   ],
   "source": [
    "my_dict = {'a': 1, 'b': 2, 'c': 3}\n",
    "print(my_dict)\n"
   ]
  },
  {
   "cell_type": "markdown",
   "id": "203e9e79",
   "metadata": {},
   "source": [
    "7. Make a default dictionary called dict_of_lists and pass it the argument list. Make the list dict_of_lists['a'] and append the value 'something for a' to it in one assignment. Print dict_of_lists['a']."
   ]
  },
  {
   "cell_type": "code",
   "execution_count": 6,
   "id": "4912964a",
   "metadata": {},
   "outputs": [
    {
     "name": "stdout",
     "output_type": "stream",
     "text": [
      "['something for a']\n"
     ]
    }
   ],
   "source": [
    "from collections import defaultdict\n",
    "\n",
    "dict_of_lists = defaultdict(list)\n",
    "dict_of_lists['a'].append('something for a')\n",
    "\n",
    "print(dict_of_lists['a'])\n"
   ]
  }
 ],
 "metadata": {
  "kernelspec": {
   "display_name": "Python 3 (ipykernel)",
   "language": "python",
   "name": "python3"
  },
  "language_info": {
   "codemirror_mode": {
    "name": "ipython",
    "version": 3
   },
   "file_extension": ".py",
   "mimetype": "text/x-python",
   "name": "python",
   "nbconvert_exporter": "python",
   "pygments_lexer": "ipython3",
   "version": "3.9.13"
  }
 },
 "nbformat": 4,
 "nbformat_minor": 5
}
