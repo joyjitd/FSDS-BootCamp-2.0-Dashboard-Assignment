{
 "cells": [
  {
   "cell_type": "markdown",
   "id": "1bf10bdc",
   "metadata": {},
   "source": [
    "1. To what does a relative path refer?"
   ]
  },
  {
   "cell_type": "markdown",
   "id": "16f8f9fc",
   "metadata": {},
   "source": [
    "In Python, a relative path refers to the location of a file or directory relative to the current working directory. The current working directory is the directory from which the Python script is being executed.\n",
    "\n",
    "Relative paths are specified without the complete path starting from the root directory. Instead, they indicate the path relative to the current working directory or another specified directory. Relative paths are useful when you want to refer to files or directories within the same project or folder structure."
   ]
  },
  {
   "cell_type": "markdown",
   "id": "26aca3d8",
   "metadata": {},
   "source": [
    "2. What does an absolute path start with your operating system?"
   ]
  },
  {
   "cell_type": "markdown",
   "id": "400e0160",
   "metadata": {},
   "source": [
    "In most operating systems, including Windows, Linux, and macOS, an absolute path starts with the root directory. The root directory is denoted by a forward slash (/) in Unix-like systems (Linux and macOS) and by a drive letter followed by a colon (C:, D:, etc.) in Windows.\n",
    "\n",
    "Here are some examples of absolute paths in different operating systems:\n",
    "\n",
    "Unix-like systems (Linux and macOS):\n",
    "\n",
    "/home/user/documents/file.txt\n",
    "/var/www/html/index.html\n",
    "/usr/bin/python"
   ]
  },
  {
   "cell_type": "markdown",
   "id": "7c65e5c8",
   "metadata": {},
   "source": [
    "3. What do the functions os.getcwd() and os.chdir() do?"
   ]
  },
  {
   "cell_type": "markdown",
   "id": "f1fbaee0",
   "metadata": {},
   "source": [
    "The functions os.getcwd() and os.chdir() are part of the os module in Python, which provides a way to interact with the operating system. These functions are used to work with directories (folders) in the file system."
   ]
  },
  {
   "cell_type": "markdown",
   "id": "a84bf0c9",
   "metadata": {},
   "source": [
    "\n",
    "The functions os.getcwd() and os.chdir() are part of the os module in Python, which provides a way to interact with the operating system. These functions are used to work with directories (folders) in the file system.\n",
    "\n",
    "os.getcwd():\n",
    "\n",
    "os.getcwd() returns a string representing the current working directory (CWD) of the Python script or the shell where the Python interpreter is running.\n",
    "The current working directory is the directory in which the script is executed or the directory from which the Python interpreter is launched.\n",
    "It can be useful to determine the current location in the file system, especially when you need to perform operations relative to the current directory."
   ]
  },
  {
   "cell_type": "code",
   "execution_count": 1,
   "id": "14113570",
   "metadata": {},
   "outputs": [
    {
     "name": "stdout",
     "output_type": "stream",
     "text": [
      "D:\\Education\\Jupyter Notebook File\n"
     ]
    }
   ],
   "source": [
    "import os\n",
    "\n",
    "current_directory = os.getcwd()\n",
    "print(current_directory)\n"
   ]
  },
  {
   "cell_type": "markdown",
   "id": "fc7f8ea6",
   "metadata": {},
   "source": [
    "os.chdir(path):\n",
    "\n",
    "os.chdir() is used to change the current working directory to the specified path.\n",
    "The path parameter is a string representing the new directory you want to navigate to.\n",
    "It allows you to move to a different directory in the file system, which is helpful when you want to perform operations in a specific directory.\n",
    "Here's an example:"
   ]
  },
  {
   "cell_type": "code",
   "execution_count": 4,
   "id": "28c2a8f8",
   "metadata": {},
   "outputs": [],
   "source": [
    "os.chdir('D:\\Education\\Jupyter Notebook File') \n",
    "# This is used the change the current directory. "
   ]
  },
  {
   "cell_type": "markdown",
   "id": "c93ca23d",
   "metadata": {},
   "source": [
    "4. What are the . and .. folders?"
   ]
  },
  {
   "cell_type": "markdown",
   "id": "0da2edb6",
   "metadata": {},
   "source": [
    "The `.` and `..` folders are special directory notations used in file systems. They represent the current directory and the parent directory, respectively.\n",
    "\n",
    "1. `.` (dot):\n",
    "   - The dot (`.`) represents the current directory.\n",
    "   - It is used to refer to the directory you are currently in.\n",
    "   - For example, if you are in the directory `/home/user/documents`, the path `./file.txt` refers to a file named `file.txt` in the current directory.\n",
    "\n",
    "2. `..` (dot-dot):\n",
    "   - The dot-dot (`..`) represents the parent directory.\n",
    "   - It is used to refer to the directory one level above the current directory.\n",
    "   - For example, if you are in the directory `/home/user/documents`, the path `../images/image.jpg` refers to a file named `image.jpg` in the `images` directory that is located in the parent directory of `/home/user/documents`.\n",
    "\n",
    "These notations provide a way to navigate and reference directories relative to the current directory. They are particularly useful when specifying file paths and performing operations on files or directories located nearby in the directory hierarchy.\n",
    "\n",
    "It's important to note that the `.` and `..` notations are interpreted by the file system and are not actual folders stored on the disk. They are conventions used to represent specific directory locations in the file system structure."
   ]
  },
  {
   "cell_type": "markdown",
   "id": "ed366c01",
   "metadata": {},
   "source": [
    "5. In C:\\bacon\\eggs\\spam.txt, which part is the dir name, and which part is the base name?"
   ]
  },
  {
   "cell_type": "markdown",
   "id": "271df952",
   "metadata": {},
   "source": [
    "In the path \"C:\\bacon\\eggs\\spam.txt\":\n",
    "\n",
    "- The directory name, or dir name, is \"C:\\bacon\\eggs\". It represents the path to the directory containing the file \"spam.txt\".\n",
    "- The base name refers to the actual file name without the directory path or extension. In this case, the base name is \"spam\".\n",
    "\n",
    "To summarize:\n",
    "- Dir name: \"C:\\bacon\\eggs\"\n",
    "- Base name: \"spam\""
   ]
  },
  {
   "cell_type": "markdown",
   "id": "ba55b92a",
   "metadata": {},
   "source": [
    "6. What are the three “mode” arguments that can be passed to the open() function?"
   ]
  },
  {
   "cell_type": "markdown",
   "id": "ec9c207b",
   "metadata": {},
   "source": [
    "The `open()` function in Python is used to open files and returns a file object. It accepts several arguments, including the \"mode\" argument, which specifies the purpose and behavior of the file operation. There are three common mode arguments that can be passed to the `open()` function:\n",
    "\n",
    "1. \"r\" (Read mode):\n",
    "   - This is the default mode if no mode is specified.\n",
    "   - It is used to open a file for reading.\n",
    "   - The file must exist; otherwise, an error will occur.\n",
    "   - Example: `open(\"file.txt\", \"r\")`\n",
    "\n",
    "2. \"w\" (Write mode):\n",
    "   - This mode is used to open a file for writing.\n",
    "   - If the file exists, it will be truncated (cleared) before writing.\n",
    "   - If the file does not exist, a new file will be created.\n",
    "   - Example: `open(\"file.txt\", \"w\")`\n",
    "\n",
    "3. \"a\" (Append mode):\n",
    "   - This mode is used to open a file for appending data at the end.\n",
    "   - If the file exists, the new data will be added at the end of the file.\n",
    "   - If the file does not exist, a new file will be created.\n",
    "   - Example: `open(\"file.txt\", \"a\")`\n",
    "\n",
    "These are the three common mode arguments, but there are additional modes available, such as \"x\" (exclusive creation), \"b\" (binary mode), \"t\" (text mode), and combinations of these modes. The mode argument can be modified or extended to suit specific requirements when working with files in Python."
   ]
  },
  {
   "cell_type": "markdown",
   "id": "da854d69",
   "metadata": {},
   "source": [
    "7. What happens if an existing file is opened in write mode?"
   ]
  },
  {
   "cell_type": "markdown",
   "id": "58cf28f6",
   "metadata": {},
   "source": [
    "If the file exists, it will be truncated (cleared) before writing."
   ]
  },
  {
   "cell_type": "markdown",
   "id": "2f4e313c",
   "metadata": {},
   "source": [
    "8. How do you tell the difference between read() and readlines()?"
   ]
  },
  {
   "cell_type": "code",
   "execution_count": null,
   "id": "0007f5a7",
   "metadata": {},
   "outputs": [],
   "source": [
    "In Python, the read() and readlines() methods are used to read data from a file. Although they both read from a file, there are differences in how they process the data:\n",
    "\n",
    "read() method:\n",
    "\n",
    "The read() method reads the entire contents of a file as a single string.\n",
    "It reads from the current file position up to the specified number of characters, or if no argument is provided, it reads the entire file.\n",
    "The returned value is a string containing the file's contents.\n",
    "Example:"
   ]
  },
  {
   "cell_type": "code",
   "execution_count": 8,
   "id": "fe60080f",
   "metadata": {},
   "outputs": [
    {
     "ename": "FileNotFoundError",
     "evalue": "[Errno 2] No such file or directory: 'file.txt'",
     "output_type": "error",
     "traceback": [
      "\u001b[1;31m---------------------------------------------------------------------------\u001b[0m",
      "\u001b[1;31mFileNotFoundError\u001b[0m                         Traceback (most recent call last)",
      "\u001b[1;32m~\\AppData\\Local\\Temp\\ipykernel_14044\\3291430652.py\u001b[0m in \u001b[0;36m<module>\u001b[1;34m\u001b[0m\n\u001b[1;32m----> 1\u001b[1;33m \u001b[1;32mwith\u001b[0m \u001b[0mopen\u001b[0m\u001b[1;33m(\u001b[0m\u001b[1;34m\"file.txt\"\u001b[0m\u001b[1;33m,\u001b[0m \u001b[1;34m\"r\"\u001b[0m\u001b[1;33m)\u001b[0m \u001b[1;32mas\u001b[0m \u001b[0mfile\u001b[0m\u001b[1;33m:\u001b[0m\u001b[1;33m\u001b[0m\u001b[1;33m\u001b[0m\u001b[0m\n\u001b[0m\u001b[0;32m      2\u001b[0m     \u001b[0mcontent\u001b[0m \u001b[1;33m=\u001b[0m \u001b[0mfile\u001b[0m\u001b[1;33m.\u001b[0m\u001b[0mread\u001b[0m\u001b[1;33m(\u001b[0m\u001b[1;33m)\u001b[0m\u001b[1;33m\u001b[0m\u001b[1;33m\u001b[0m\u001b[0m\n\u001b[0;32m      3\u001b[0m     \u001b[0mprint\u001b[0m\u001b[1;33m(\u001b[0m\u001b[0mcontent\u001b[0m\u001b[1;33m)\u001b[0m\u001b[1;33m\u001b[0m\u001b[1;33m\u001b[0m\u001b[0m\n",
      "\u001b[1;31mFileNotFoundError\u001b[0m: [Errno 2] No such file or directory: 'file.txt'"
     ]
    }
   ],
   "source": [
    "with open(\"file.txt\", \"r\") as file:\n",
    "    content = file.read()\n",
    "    print(content)"
   ]
  },
  {
   "cell_type": "markdown",
   "id": "37841d9f",
   "metadata": {},
   "source": [
    "readlines() method:\n",
    "\n",
    "The readlines() method reads the entire contents of a file line by line and returns a list of strings, where each string represents a line.\n",
    "It reads from the current file position and continues until the end of the file.\n",
    "The returned value is a list of strings, with each string representing a line in the file."
   ]
  },
  {
   "cell_type": "markdown",
   "id": "671e6e1e",
   "metadata": {},
   "source": [
    "9. What data structure does a shelf value resemble?"
   ]
  },
  {
   "cell_type": "markdown",
   "id": "5047ddd2",
   "metadata": {},
   "source": [
    "In Python, the shelf module provides a dictionary-like interface for accessing and storing data persistently in a file. The shelf module uses a file as a storage backend and internally uses a serialization mechanism to store Python objects. The data structure that a shelf value resembles is a dictionary.\n",
    "\n",
    "Similar to a dictionary, a shelf value allows you to store and retrieve data using key-value pairs. You can assign values to keys and retrieve them later. The keys in a shelf can be strings or any other hashable object, while the values can be any Python object that can be pickled (serialized).\n",
    "\n",
    "Here's an example of how to use a shelf:"
   ]
  },
  {
   "cell_type": "code",
   "execution_count": 10,
   "id": "ed529b67",
   "metadata": {},
   "outputs": [
    {
     "name": "stdout",
     "output_type": "stream",
     "text": [
      "John\n",
      "30\n"
     ]
    }
   ],
   "source": [
    "import shelve\n",
    "\n",
    "# Create or open a shelf file\n",
    "with shelve.open(\"mydata\") as shelf:\n",
    "    # Assign values to keys\n",
    "    shelf[\"name\"] = \"John\"\n",
    "    shelf[\"age\"] = 30\n",
    "\n",
    "    # Retrieve values using keys\n",
    "    print(shelf[\"name\"])\n",
    "    print(shelf[\"age\"])\n"
   ]
  },
  {
   "cell_type": "markdown",
   "id": "dd09cba6",
   "metadata": {},
   "source": [
    "In this example, the shelf behaves like a dictionary, allowing you to store and retrieve values using keys. It provides persistence, as the data stored in the shelf will persist even after the program is closed and can be accessed again when the program is run.\n",
    "\n",
    "In summary, a shelf value in Python resembles a dictionary and provides a convenient way to persistently store and retrieve data using key-value pairs."
   ]
  }
 ],
 "metadata": {
  "kernelspec": {
   "display_name": "Python 3 (ipykernel)",
   "language": "python",
   "name": "python3"
  },
  "language_info": {
   "codemirror_mode": {
    "name": "ipython",
    "version": 3
   },
   "file_extension": ".py",
   "mimetype": "text/x-python",
   "name": "python",
   "nbconvert_exporter": "python",
   "pygments_lexer": "ipython3",
   "version": "3.9.13"
  }
 },
 "nbformat": 4,
 "nbformat_minor": 5
}
