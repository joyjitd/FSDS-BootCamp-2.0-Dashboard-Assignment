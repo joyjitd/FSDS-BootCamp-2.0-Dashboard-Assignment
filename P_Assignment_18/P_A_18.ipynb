{
 "cells": [
  {
   "cell_type": "markdown",
   "id": "83b37106-9573-4604-bc09-febb168f660d",
   "metadata": {},
   "source": [
    "# Program Assignment 18"
   ]
  },
  {
   "cell_type": "raw",
   "id": "89368da3-e164-45a0-a176-9e6a9c04cafa",
   "metadata": {},
   "source": [
    "Question1.Create a function that takes a list of non-negative integers and strings and return a new list without the strings.\n",
    "Examples\n",
    "filter_list([1, 2, \"a\", \"b\"]) ➞ [1, 2]\n",
    "\n",
    "filter_list([1, \"a\", \"b\", 0, 15]) ➞ [1, 0, 15]\n",
    "\n",
    "filter_list([1, 2, \"aasf\", \"1\", \"123\", 123]) ➞ [1, 2, 123]"
   ]
  },
  {
   "cell_type": "code",
   "execution_count": 4,
   "id": "e8c593a6-928a-473f-9995-714f72a1bd42",
   "metadata": {},
   "outputs": [],
   "source": [
    "def filter_list1(lst):\n",
    "    # Define an empty list to hold the filtered elements\n",
    "    filtered_lst = []\n",
    "\n",
    "    # Loop over each element in the input list\n",
    "    for x in lst:\n",
    "        # Check if the element is an integer\n",
    "        if type(x) == int:\n",
    "            # If it is, add it to the filtered list\n",
    "            filtered_lst.append(x)\n",
    "\n",
    "    # Return the filtered list\n",
    "    return filtered_lst"
   ]
  },
  {
   "cell_type": "code",
   "execution_count": 6,
   "id": "02af2dc2-a619-45d1-9679-a75fddedbb2c",
   "metadata": {},
   "outputs": [
    {
     "data": {
      "text/plain": [
       "[1, 2]"
      ]
     },
     "execution_count": 6,
     "metadata": {},
     "output_type": "execute_result"
    }
   ],
   "source": [
    "filter_list1([1, 2, \"a\", \"b\"])"
   ]
  },
  {
   "cell_type": "code",
   "execution_count": 8,
   "id": "59823f8f-1fad-4ff4-a3a1-e754de7f1b34",
   "metadata": {},
   "outputs": [
    {
     "data": {
      "text/plain": [
       "[1, 0, 15]"
      ]
     },
     "execution_count": 8,
     "metadata": {},
     "output_type": "execute_result"
    }
   ],
   "source": [
    "filter_list1([1, \"a\", \"b\", 0, 15])"
   ]
  },
  {
   "cell_type": "code",
   "execution_count": 12,
   "id": "ac781224-4290-406a-92cf-f5262b5b2790",
   "metadata": {},
   "outputs": [
    {
     "data": {
      "text/plain": [
       "[1, 2, 123]"
      ]
     },
     "execution_count": 12,
     "metadata": {},
     "output_type": "execute_result"
    }
   ],
   "source": [
    "filter_list1([1, 2, \"aasf\", \"1\", \"123\", 123])"
   ]
  },
  {
   "cell_type": "markdown",
   "id": "9aca2175-ae4a-4877-a1c5-b3295cf6855f",
   "metadata": {},
   "source": [
    "Question 2\n",
    "The \"Reverser\" takes a string as input and returns that string in reverse order, with the opposite case.\n",
    "Examples\n",
    "reverse(\"Hello World\") ➞ \"DLROw OLLEh\"\n",
    "\n",
    "reverse(\"ReVeRsE\") ➞ \"eSrEvEr\"\n",
    "\n",
    "reverse(\"Radar\") ➞ \"RADAr\"\n"
   ]
  },
  {
   "cell_type": "code",
   "execution_count": 13,
   "id": "de299d36-2084-44b4-8984-f2104aac0467",
   "metadata": {},
   "outputs": [],
   "source": [
    "def reverse(txt):\n",
    "    # Reverse the string using slicing, and swap the case of each character using a list comprehension\n",
    "    reversed_txt = txt[::-1].swapcase()\n",
    "    # Return the reversed and case-swapped string\n",
    "    return reversed_txt"
   ]
  },
  {
   "cell_type": "code",
   "execution_count": 15,
   "id": "5c059fea-ed36-4b1a-a0c6-59393552dc65",
   "metadata": {},
   "outputs": [
    {
     "data": {
      "text/plain": [
       "'DLROw OLLEh'"
      ]
     },
     "execution_count": 15,
     "metadata": {},
     "output_type": "execute_result"
    }
   ],
   "source": [
    "reverse(\"Hello World\")"
   ]
  },
  {
   "cell_type": "code",
   "execution_count": 16,
   "id": "7d0bb73f-12c3-45dd-a0a7-ce2f352d8db6",
   "metadata": {},
   "outputs": [
    {
     "data": {
      "text/plain": [
       "'eSrEvEr'"
      ]
     },
     "execution_count": 16,
     "metadata": {},
     "output_type": "execute_result"
    }
   ],
   "source": [
    "reverse(\"ReVeRsE\")"
   ]
  },
  {
   "cell_type": "code",
   "execution_count": 17,
   "id": "01599134-1c1d-4ca8-9f3f-84aeadc626a0",
   "metadata": {},
   "outputs": [
    {
     "data": {
      "text/plain": [
       "'RADAr'"
      ]
     },
     "execution_count": 17,
     "metadata": {},
     "output_type": "execute_result"
    }
   ],
   "source": [
    "reverse(\"Radar\")"
   ]
  },
  {
   "cell_type": "markdown",
   "id": "039454d4-731a-4820-ba0f-a772e9c18630",
   "metadata": {},
   "source": [
    "Question3.\n",
    "You can assign variables from lists like this:\n",
    "lst = [1, 2, 3, 4, 5, 6]\n",
    "first = lst[0]\n",
    "middle = lst[1:-1]\n",
    "last = lst[-1]\n",
    "\n",
    "print(first) ➞ outputs 1\n",
    "print(middle) ➞ outputs [2, 3, 4, 5]\n",
    "print(last) ➞ outputs 6\n",
    "With Python 3, you can assign variables from lists in a much more succinct way. Create variables first, middle and last from the given list using destructuring assignment (check the Resources tab for some examples), where:\n",
    "first  ➞ 1\n",
    "\n",
    "middle ➞ [2, 3, 4, 5]\n",
    "\n",
    "last ➞ 6\n",
    "Your task is to unpack the list writeyourcodehere into three variables, being first, middle, and last, with middle being everything in between the first and last element. Then print all three variables.\n"
   ]
  },
  {
   "cell_type": "code",
   "execution_count": 8,
   "id": "bd4eb721-114a-4059-98e1-7d0457c16b4c",
   "metadata": {},
   "outputs": [],
   "source": [
    "def unpacking1(lst):\n",
    "    mid=lst[1:-1]\n",
    "    return mid"
   ]
  },
  {
   "cell_type": "code",
   "execution_count": 10,
   "id": "467f70cc-2ee0-42a0-86ce-9673524244f8",
   "metadata": {},
   "outputs": [
    {
     "data": {
      "text/plain": [
       "['2', '8']"
      ]
     },
     "execution_count": 10,
     "metadata": {},
     "output_type": "execute_result"
    }
   ],
   "source": [
    "unpacking1([\"1\",\"2\",\"8\",\"9\"])"
   ]
  },
  {
   "cell_type": "code",
   "execution_count": 11,
   "id": "00873f4e-9091-41e1-8615-05b4e61811c9",
   "metadata": {},
   "outputs": [
    {
     "name": "stdout",
     "output_type": "stream",
     "text": [
      "1\n",
      "[2, 3, 4, 5]\n",
      "6\n"
     ]
    }
   ],
   "source": [
    "writeyourcodehere = [1, 2, 3, 4, 5, 6]\n",
    "first, *middle, last = writeyourcodehere\n",
    "print(first)   # Output: 1\n",
    "print(middle)  # Output: [2, 3, 4, 5]\n",
    "print(last)    # Output: 6"
   ]
  },
  {
   "cell_type": "markdown",
   "id": "de2a35bf-6621-4eba-b2f4-6e7794d4c55d",
   "metadata": {},
   "source": [
    "Question 4\n",
    "Write a function that calculates the factorial of a number recursively.\n",
    "Examples\n",
    "factorial(5) ➞ 120\n",
    "\n",
    "factorial(3) ➞ 6\n",
    "\n",
    "factorial(1) ➞ 1\n",
    "\n",
    "factorial(0) ➞ 1"
   ]
  },
  {
   "cell_type": "code",
   "execution_count": 13,
   "id": "c0a31d63-8269-4cbb-81c8-ad0f4a9fdc10",
   "metadata": {},
   "outputs": [],
   "source": [
    "def factorial(num):\n",
    "    if num == 0 or num ==1:\n",
    "        return 1\n",
    "    else:\n",
    "        return num * factorial(num-1)"
   ]
  },
  {
   "cell_type": "code",
   "execution_count": 14,
   "id": "7d896415-e984-4a44-9a20-3c7804596ed1",
   "metadata": {},
   "outputs": [
    {
     "data": {
      "text/plain": [
       "3628800"
      ]
     },
     "execution_count": 14,
     "metadata": {},
     "output_type": "execute_result"
    }
   ],
   "source": [
    "factorial(10)"
   ]
  },
  {
   "cell_type": "code",
   "execution_count": null,
   "id": "2d714559-4a3e-4156-ae6e-25109fd9adce",
   "metadata": {},
   "outputs": [],
   "source": [
    "def factorial(n):\n",
    "    result = 1\n",
    "    for i in range(1, n+1):\n",
    "        result *= i\n",
    "    return result\n"
   ]
  },
  {
   "cell_type": "markdown",
   "id": "6e2d9d23-d5bd-4efb-8ab8-1c0c581e69fe",
   "metadata": {},
   "source": [
    "Question 5\n",
    "Write a function that moves all elements of one type to the end of the list.\n",
    "Examples\n",
    "move_to_end([1, 3, 2, 4, 4, 1], 1) ➞ [3, 2, 4, 4, 1, 1]\n",
    "# Move all the 1s to the end of the array.\n",
    "\n",
    "move_to_end([7, 8, 9, 1, 2, 3, 4], 9) ➞ [7, 8, 1, 2, 3, 4, 9]\n",
    "\n",
    "move_to_end([\"a\", \"a\", \"a\", \"b\"], \"a\") ➞ [\"b\", \"a\", \"a\", \"a\"]\n",
    "\n"
   ]
  },
  {
   "cell_type": "code",
   "execution_count": 15,
   "id": "58ac40e3-ce94-4f54-a279-dc726e2dcf32",
   "metadata": {},
   "outputs": [],
   "source": [
    "def move_to_end(lst, el):\n",
    "        #lst (list): The list to be modified.\n",
    "        #el: The element to be moved to the end of the list.\n",
    "\n",
    "    #Returns:\n",
    "        #The modified list.\n",
    "    # Initialize two pointers, i and j, at opposite ends of the list.\n",
    "    i, j = 0, len(lst)-1\n",
    "\n",
    "    # Move the pointers towards each other until they meet.\n",
    "    while i < j:\n",
    "        # If lst[i] is equal to el, swap it with lst[j] and move j leftwards.\n",
    "        if lst[i] == el:\n",
    "            lst[i], lst[j] = lst[j], lst[i]\n",
    "            j -= 1\n",
    "        # Otherwise, move i rightwards.\n",
    "        else:\n",
    "            i += 1\n",
    "\n",
    "    # Return the modified list.\n",
    "    return lst\n"
   ]
  },
  {
   "cell_type": "code",
   "execution_count": 18,
   "id": "72fa94b7-cbb4-4866-8d10-f71144522e87",
   "metadata": {},
   "outputs": [
    {
     "data": {
      "text/plain": [
       "[1, 1, 2, 4, 4, 3]"
      ]
     },
     "execution_count": 18,
     "metadata": {},
     "output_type": "execute_result"
    }
   ],
   "source": [
    "move_to_end([1, 3, 2, 4, 4, 1], 3)"
   ]
  },
  {
   "cell_type": "code",
   "execution_count": null,
   "id": "0d4d64cf-c9ac-441f-a1a5-517cb379fb11",
   "metadata": {},
   "outputs": [],
   "source": []
  }
 ],
 "metadata": {
  "kernelspec": {
   "display_name": "Python 3 (ipykernel)",
   "language": "python",
   "name": "python3"
  },
  "language_info": {
   "codemirror_mode": {
    "name": "ipython",
    "version": 3
   },
   "file_extension": ".py",
   "mimetype": "text/x-python",
   "name": "python",
   "nbconvert_exporter": "python",
   "pygments_lexer": "ipython3",
   "version": "3.10.6"
  }
 },
 "nbformat": 4,
 "nbformat_minor": 5
}
