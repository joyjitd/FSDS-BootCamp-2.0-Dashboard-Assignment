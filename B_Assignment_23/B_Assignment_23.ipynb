{
 "cells": [
  {
   "cell_type": "markdown",
   "id": "92eb1124",
   "metadata": {},
   "source": [
    "1. What is the result of the code, and why?\n",
    ">>> def func(a, b=6, c=8):\n",
    "print(a, b, c)\n",
    ">>> func(1, 2)\n"
   ]
  },
  {
   "cell_type": "code",
   "execution_count": 2,
   "id": "bd4e3049",
   "metadata": {},
   "outputs": [
    {
     "name": "stdout",
     "output_type": "stream",
     "text": [
      "1 2 8\n"
     ]
    }
   ],
   "source": [
    "def func(a, b=6, c=8):\n",
    "    print(a, b, c) # As in the paremeter tab the value of 6 is \n",
    "    #being replaced with the new value 2. \n",
    "    #Therefore valjue of b is overwritten .. \n",
    "    #then 1,2,8 occurs when abc is printed. \n",
    "func(1, 2)\n"
   ]
  },
  {
   "cell_type": "markdown",
   "id": "1e8a86c7",
   "metadata": {},
   "source": [
    "2. What is the result of this code, and why?\n",
    ">>> def func(a, b, c=5):\n",
    "print(a, b, c)\n",
    ">>> func(1, c=3, b=2)\n"
   ]
  },
  {
   "cell_type": "code",
   "execution_count": 5,
   "id": "21225ee0",
   "metadata": {},
   "outputs": [
    {
     "name": "stdout",
     "output_type": "stream",
     "text": [
      "1 2 3\n"
     ]
    }
   ],
   "source": [
    "def func1(a, b, c=5): # same function name cannot be used in same kernal \n",
    "    print(a, b, c)\n",
    "func1(1, c=3, b=2)"
   ]
  },
  {
   "cell_type": "markdown",
   "id": "50eff75f",
   "metadata": {},
   "source": [
    "The code defines a function called func() with three parameters: a, b, and c. The parameter c has a default value of 5.\n",
    "\n",
    "When the func() function is called with the arguments 1, c=3, and b=2, the value 1 is assigned to the parameter a, 2 is assigned to the parameter b, and 3 is explicitly assigned to the parameter c.\n",
    "\n",
    "Since all the arguments are explicitly provided with their respective parameter names, the order in which the arguments are passed does not matter. The values 1, 2, and 3 are passed to the corresponding parameters a, b, and c in the function call.\n",
    "\n",
    "When the print() statement inside the func() function is executed, it prints the values of the parameters a, b, and c, which are 1, 2, and 3, respectively.\n",
    "\n",
    "In summary, when calling the func() function, the provided arguments are matched with the corresponding parameters based on their names. The explicit assignment of 3 to c overrides the default value of 5. Hence, the output is 1 2 3."
   ]
  },
  {
   "cell_type": "markdown",
   "id": "26dad6e5",
   "metadata": {},
   "source": [
    "3. How about this code: what is its result, and why?\n",
    ">>> def func(a, *pargs):\n",
    "print(a, pargs)\n",
    ">>> func(1, 2, 3)\n"
   ]
  },
  {
   "cell_type": "code",
   "execution_count": 6,
   "id": "55b3b241",
   "metadata": {},
   "outputs": [
    {
     "name": "stdout",
     "output_type": "stream",
     "text": [
      "1 (2, 3)\n"
     ]
    }
   ],
   "source": [
    "def func3(a, *pargs):\n",
    "    print(a, pargs)\n",
    "func3(1, 2, 3)\n"
   ]
  },
  {
   "cell_type": "markdown",
   "id": "24743354",
   "metadata": {},
   "source": [
    "The code defines a function called func() with two parameters: a and *pargs. The *pargs parameter is preceded by an asterisk (*), which allows it to accept any number of additional positional arguments passed to the function.\n",
    "\n",
    "When the func() function is called with the arguments 1, 2, and 3, the value 1 is assigned to the parameter a, and the remaining values 2 and 3 are collected into a tuple and assigned to the *pargs parameter. The *pargs parameter acts as a catch-all for the additional positional arguments.\n",
    "\n",
    "When the print() statement inside the func() function is executed, it prints the value of a and the tuple pargs. In this case, a is 1, and pargs is the tuple (2, 3).\n",
    "\n",
    "In summary, the *pargs parameter allows the func() function to accept any number of additional positional arguments after the first parameter a. The additional arguments are collected into a tuple, which is then printed as (2, 3) alongside the value of a, which is 1."
   ]
  },
  {
   "cell_type": "markdown",
   "id": "690b0e08",
   "metadata": {},
   "source": [
    "4. What does this code print, and why?\n",
    ">>> def func(a, **kargs):\n",
    "print(a, kargs)\n",
    ">>> func(a=1, c=3, b=2)\n"
   ]
  },
  {
   "cell_type": "code",
   "execution_count": 1,
   "id": "a2678e40",
   "metadata": {},
   "outputs": [
    {
     "name": "stdout",
     "output_type": "stream",
     "text": [
      "1 {'c': 3, 'b': 2}\n"
     ]
    }
   ],
   "source": [
    "def func4(a, **kargs):\n",
    "    print(a, kargs)\n",
    "func4(a=1, c=3, b=2)"
   ]
  },
  {
   "cell_type": "markdown",
   "id": "563de259",
   "metadata": {},
   "source": [
    "The code defines a function called func() with two parameters: a and **kargs. The **kargs parameter is preceded by two asterisks (**), which allows it to accept any number of additional keyword arguments passed to the function.\n",
    "\n",
    "When the func() function is called with the keyword arguments a=1, c=3, and b=2, the value 1 is assigned to the parameter a, and the additional keyword arguments c=3 and b=2 are collected into a dictionary and assigned to the **kargs parameter. The **kargs parameter acts as a catch-all for the additional keyword arguments.\n",
    "\n",
    "When the print() statement inside the func() function is executed, it prints the value of a and the dictionary kargs. In this case, a is 1, and kargs is the dictionary {'c': 3, 'b': 2} containing the additional keyword arguments.\n",
    "\n",
    "In summary, the **kargs parameter allows the func() function to accept any number of additional keyword arguments after the first positional argument a. The additional arguments are collected into a dictionary, which is then printed alongside the value of a."
   ]
  },
  {
   "cell_type": "markdown",
   "id": "3ad0a986",
   "metadata": {},
   "source": [
    "5. What gets printed by this, and explain?\n",
    ">>> def func(a, b, c=8, d=5): print(a, b, c, d)\n",
    ">>> func(1, *(5, 6))\n"
   ]
  },
  {
   "cell_type": "code",
   "execution_count": 2,
   "id": "87299389",
   "metadata": {},
   "outputs": [
    {
     "name": "stdout",
     "output_type": "stream",
     "text": [
      "1 5 6 5\n"
     ]
    }
   ],
   "source": [
    "def func(a, b, c=8, d=5): print(a, b, c, d)\n",
    "func(1, *(5, 6))"
   ]
  },
  {
   "cell_type": "markdown",
   "id": "25567b4a",
   "metadata": {},
   "source": [
    "The code will print:\n",
    "\n",
    "```\n",
    "1 5 6 5\n",
    "```\n",
    "\n",
    "Here's an explanation of why this is the result:\n",
    "\n",
    "The code defines a function called `func()` with four parameters: `a`, `b`, `c`, and `d`. The parameters `c` and `d` have default values of `8` and `5`, respectively.\n",
    "\n",
    "When the `func()` function is called with the arguments `1`, `*(5, 6)`, the value `1` is assigned to the parameter `a`. The expression `*(5, 6)` is an example of sequence unpacking, where the tuple `(5, 6)` is unpacked into separate positional arguments. This means that `5` is assigned to the parameter `b` and `6` is discarded since there is no corresponding parameter.\n",
    "\n",
    "The default values for `c` and `d` are used since no explicit values are provided for them. The default value `8` is assigned to the parameter `c`, and the default value `5` is assigned to the parameter `d`.\n",
    "\n",
    "When the `print()` statement inside the `func()` function is executed, it prints the values of the parameters `a`, `b`, `c`, and `d`, which are `1`, `5`, `6`, and `5`, respectively.\n",
    "\n",
    "In summary, the `*(5, 6)` expression unpacks the tuple `(5, 6)` into separate positional arguments, which are then assigned to the corresponding parameters. The default values for `c` and `d` are used since no explicit values are provided. Hence, the output is `1 5 6 5`."
   ]
  },
  {
   "cell_type": "markdown",
   "id": "7cfabac8",
   "metadata": {},
   "source": [
    "6. what is the result of this, and explain?\n",
    ">>> def func(a, b, c): a = 2; b[0] = 'x'; c['a'] = 'y'\n",
    ">>> l=1; m=[1]; n={'a':0}\n",
    ">>> func(l, m, n)\n",
    ">>> l, m, n\n"
   ]
  },
  {
   "cell_type": "code",
   "execution_count": null,
   "id": "0430de6c",
   "metadata": {},
   "outputs": [],
   "source": [
    "(1, ['x'], {'a': 'y'})\n"
   ]
  },
  {
   "cell_type": "markdown",
   "id": "a2d71578",
   "metadata": {},
   "source": [
    "The result of the code will be:\n",
    "\n",
    "```\n",
    "(1, ['x'], {'a': 'y'})\n",
    "```\n",
    "\n",
    "Here's an explanation of why this is the result:\n",
    "\n",
    "The code defines a function called `func()` with three parameters: `a`, `b`, and `c`. Inside the `func()` function, the following assignments are made:\n",
    "\n",
    "- The variable `a` is assigned the value `2`.\n",
    "- The first element of the list `b` is modified, changing it to `'x'`.\n",
    "- The value associated with the key `'a'` in the dictionary `c` is modified, changing it to `'y'`.\n",
    "\n",
    "Outside the function, the variables `l`, `m`, and `n` are assigned initial values of `1`, `[1]`, and `{'a': 0}` respectively.\n",
    "\n",
    "When the `func()` function is called with the arguments `l`, `m`, and `n`, the values of `l`, `m`, and `n` are passed to the corresponding parameters `a`, `b`, and `c` in the function call. Since lists and dictionaries are mutable objects, modifications made to them within the function are reflected outside the function as well.\n",
    "\n",
    "After the `func()` function call, the values of `l`, `m`, and `n` are printed using `l, m, n`. The value of `l` remains unchanged since it is an immutable integer. The value of `m` is modified within the function by changing its first element to `'x'`, resulting in `['x']`. The value of `n` is also modified within the function by changing the value associated with the key `'a'` to `'y'`, resulting in `{'a': 'y'}`.\n",
    "\n",
    "In summary, the function `func()` modifies the local variable `a`, the list `b`, and the dictionary `c` within the function. The modifications made to the list and the dictionary are reflected outside the function. The values of `l`, `m`, and `n` after the function call reflect these modifications."
   ]
  }
 ],
 "metadata": {
  "kernelspec": {
   "display_name": "Python 3 (ipykernel)",
   "language": "python",
   "name": "python3"
  },
  "language_info": {
   "codemirror_mode": {
    "name": "ipython",
    "version": 3
   },
   "file_extension": ".py",
   "mimetype": "text/x-python",
   "name": "python",
   "nbconvert_exporter": "python",
   "pygments_lexer": "ipython3",
   "version": "3.9.13"
  }
 },
 "nbformat": 4,
 "nbformat_minor": 5
}
