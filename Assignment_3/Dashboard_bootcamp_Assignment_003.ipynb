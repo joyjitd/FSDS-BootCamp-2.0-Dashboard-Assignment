{
  "nbformat": 4,
  "nbformat_minor": 0,
  "metadata": {
    "colab": {
      "provenance": []
    },
    "kernelspec": {
      "name": "python3",
      "display_name": "Python 3"
    },
    "language_info": {
      "name": "python"
    }
  },
  "cells": [
    {
      "cell_type": "markdown",
      "source": [
        "#Dashboard_bootcamp_Assignment_003"
      ],
      "metadata": {
        "id": "W5yyBOjWM3JV"
      }
    },
    {
      "cell_type": "markdown",
      "source": [
        "# 1. Why are functions advantageous to have in your programs?\n",
        "\n",
        "#Answer\n",
        "Functions are advantageousto have in your programs because of the follwing reasons:\n",
        "- Improves the clarity of the code\n",
        "- Makes the code for reusuability purpose \n",
        "- Creating complex problem to small pieces \n",
        "- Easier to read\n",
        "- Reduce the need for duplicate code"
      ],
      "metadata": {
        "id": "eFtaP1nKM1Hc"
      }
    },
    {
      "cell_type": "markdown",
      "source": [
        "# 2. When does the code in a function run: when it's specified or when it's called?\n",
        "# Answer\n",
        "The code in a function run when a function is \"called\". To be specific the functions runs does not run when the function is defined. \n",
        "In order to call a function we use these synctax. Suppose the function is defined as bacon. The process of calling is \n",
        "\n",
        "bacon()\n",
        " \n",
        "The program leaves the current section of the code and starts to execute the first line of the function. \n",
        "\n"
      ],
      "metadata": {
        "id": "vvbpp-avNiP2"
      }
    },
    {
      "cell_type": "markdown",
      "source": [
        "#3. What statement creates a function?\n",
        "#Answer: \n",
        "\n",
        "The def statement defines (i.e. creates) a function.\n",
        "Eg .\n",
        "def my_func():\n",
        "pass"
      ],
      "metadata": {
        "id": "QojK0_-nOtCX"
      }
    },
    {
      "cell_type": "code",
      "source": [
        "def new_func():# def is a statement which defines a function to be created. \n",
        "  print(\"This is my first function \") \n",
        "  pass # pass allows the execute the statement new_func()"
      ],
      "metadata": {
        "id": "nvgXUbODO93t"
      },
      "execution_count": 4,
      "outputs": []
    },
    {
      "cell_type": "code",
      "source": [
        "new_func() # Calling the function"
      ],
      "metadata": {
        "colab": {
          "base_uri": "https://localhost:8080/"
        },
        "id": "ZBVKZ1EfRGxH",
        "outputId": "5b802a48-5bda-4ec9-8089-6dc1c0c7aa8d"
      },
      "execution_count": 5,
      "outputs": [
        {
          "output_type": "stream",
          "name": "stdout",
          "text": [
            "This is my first function \n"
          ]
        }
      ]
    },
    {
      "cell_type": "markdown",
      "source": [
        "Now we have defined in the new_func() to print (\"This is my first function \"). Therefore whenever we will call that function it will print the statement \"This is my first function\". "
      ],
      "metadata": {
        "id": "8TEQ_jgYQrqi"
      }
    },
    {
      "cell_type": "markdown",
      "source": [
        "Q4. What is the difference between a function and a function call?"
      ],
      "metadata": {
        "id": "sfjgMjKzPtHf"
      }
    },
    {
      "cell_type": "code",
      "source": [
        "# Defining of a function \n",
        "def new_func(): \n",
        "  print(\"This is my first function \") \n",
        "  pass \n",
        "new_func() # process to calling of function"
      ],
      "metadata": {
        "colab": {
          "base_uri": "https://localhost:8080/"
        },
        "id": "y5B3fEk5Pu5N",
        "outputId": "bdebc90d-d09e-4b22-88fe-1987dff4a12e"
      },
      "execution_count": 6,
      "outputs": [
        {
          "output_type": "stream",
          "name": "stdout",
          "text": [
            "This is my first function \n"
          ]
        }
      ]
    },
    {
      "cell_type": "markdown",
      "source": [
        "# 5. How many global scopes are there in a Python program? How many local scopes?\n",
        "#Answer \n",
        "There's only one global Python scope per program execution.\n",
        "A local scope is created whenever a function is called.\n"
      ],
      "metadata": {
        "id": "m8qTg3MFRQCv"
      }
    },
    {
      "cell_type": "markdown",
      "source": [
        "# 6. What happens to variables in a local scope when the function call returns?\n",
        "#Answer\n",
        "Local scope is destroyed.\n"
      ],
      "metadata": {
        "id": "jTYfer9aSG3_"
      }
    },
    {
      "cell_type": "markdown",
      "source": [
        "Q7. What is the concept of a return value? Is it possible to have a return value in an expression?\n",
        "#Answer \n",
        "A return value is the value that a function call evaluates to. Like any value, a return value can be used as part of an expression."
      ],
      "metadata": {
        "id": "lx1fs2RBkC21"
      }
    },
    {
      "cell_type": "markdown",
      "source": [
        "Q8. If a function does not have a return statement, what is the return value of a call to that function?\n",
        "#Answer \n",
        "If the funtion does not have a return statement it will not return anything."
      ],
      "metadata": {
        "id": "CIGV1rj2kOU4"
      }
    },
    {
      "cell_type": "markdown",
      "source": [
        "#Q9. How do you make a function variable refer to the global variable?\n",
        "#Answer\n",
        "To make function variable as a global variable you can use the global keyword to declare which variables are global."
      ],
      "metadata": {
        "id": "B1FDkXoMkZLv"
      }
    },
    {
      "cell_type": "markdown",
      "source": [
        "#Q10. What is the data type of None?\n",
        "#Answer \n",
        "The below example shows that when a function id define but nothing is there inside the function and a variable is assisgnement without any value to be called then its data type would be NoneType as it is seen the beelow. "
      ],
      "metadata": {
        "id": "-A5OFNsdkliD"
      }
    },
    {
      "cell_type": "code",
      "source": [
        "def fi():\n",
        "  return\n",
        "x=fi()\n",
        "print(x) \n",
        "type(x) # As x has nothing to assigned it shoows a None data type function. "
      ],
      "metadata": {
        "colab": {
          "base_uri": "https://localhost:8080/"
        },
        "id": "vbI7pJYrlak2",
        "outputId": "8d23cc30-e076-4dca-db51-cf0a1b2a617c"
      },
      "execution_count": 13,
      "outputs": [
        {
          "output_type": "stream",
          "name": "stdout",
          "text": [
            "None\n"
          ]
        },
        {
          "output_type": "execute_result",
          "data": {
            "text/plain": [
              "NoneType"
            ]
          },
          "metadata": {},
          "execution_count": 13
        }
      ]
    },
    {
      "cell_type": "code",
      "source": [
        "Q11. What does the sentence import areallyourpetsnamederic do?"
      ],
      "metadata": {
        "id": "HLdyl4mvm65-"
      },
      "execution_count": null,
      "outputs": []
    },
    {
      "cell_type": "code",
      "source": [
        "import areallyourpetsnamederic"
      ],
      "metadata": {
        "colab": {
          "base_uri": "https://localhost:8080/",
          "height": 317
        },
        "id": "xLFCAk-FnFnj",
        "outputId": "32560cdd-450e-4734-eb8f-938f269034ac"
      },
      "execution_count": 14,
      "outputs": [
        {
          "output_type": "error",
          "ename": "ModuleNotFoundError",
          "evalue": "ignored",
          "traceback": [
            "\u001b[0;31m---------------------------------------------------------------------------\u001b[0m",
            "\u001b[0;31mModuleNotFoundError\u001b[0m                       Traceback (most recent call last)",
            "\u001b[0;32m<ipython-input-14-b1ea9cb2228f>\u001b[0m in \u001b[0;36m<module>\u001b[0;34m\u001b[0m\n\u001b[0;32m----> 1\u001b[0;31m \u001b[0;32mimport\u001b[0m \u001b[0mareallyourpetsnamederic\u001b[0m\u001b[0;34m\u001b[0m\u001b[0;34m\u001b[0m\u001b[0m\n\u001b[0m",
            "\u001b[0;31mModuleNotFoundError\u001b[0m: No module named 'areallyourpetsnamederic'",
            "",
            "\u001b[0;31m---------------------------------------------------------------------------\u001b[0;32m\nNOTE: If your import is failing due to a missing package, you can\nmanually install dependencies using either !pip or !apt.\n\nTo view examples of installing some common dependencies, click the\n\"Open Examples\" button below.\n\u001b[0;31m---------------------------------------------------------------------------\u001b[0m\n"
          ],
          "errorDetails": {
            "actions": [
              {
                "action": "open_url",
                "actionText": "Open Examples",
                "url": "/notebooks/snippets/importing_libraries.ipynb"
              }
            ]
          }
        }
      ]
    },
    {
      "cell_type": "markdown",
      "source": [
        "That import statement imports a module named areallyourpetsnamederic. (But a module of this name doesnt exists in Python)"
      ],
      "metadata": {
        "id": "Duf3o_93nPYS"
      }
    },
    {
      "cell_type": "markdown",
      "source": [
        "#Q12. If you had a bacon() feature in a spam module, what would you call it after importing spam?\n",
        "#Answer \n",
        "import spam\n",
        "spam.bacon()\n"
      ],
      "metadata": {
        "id": "plP3AzTinSFb"
      }
    },
    {
      "cell_type": "markdown",
      "source": [
        "# Q13. What can you do to save a programme from crashing if it encounters an error?\n",
        "#Answer\n",
        "When it encounters an error, the control is passed to the except block, skipping the code in between. As seen in the below code, we have moved our code inside a try and except statement.\n"
      ],
      "metadata": {
        "id": "QrSBG9Q4nd7v"
      }
    },
    {
      "cell_type": "code",
      "source": [
        "def addNumbers(a, b):\n",
        "    try:\n",
        "        return a + b\n",
        "    except Exception as e:\n",
        "        return 'Error occurred : ' + str(e)\n",
        "print(addNumbers('', 10))"
      ],
      "metadata": {
        "colab": {
          "base_uri": "https://localhost:8080/"
        },
        "id": "15ybSg5Hnx0Y",
        "outputId": "87f3ad4f-4161-4bd5-918e-6e229f0e62cc"
      },
      "execution_count": 18,
      "outputs": [
        {
          "output_type": "stream",
          "name": "stdout",
          "text": [
            "Error occurred : can only concatenate str (not \"int\") to str\n"
          ]
        }
      ]
    },
    {
      "cell_type": "markdown",
      "source": [
        "# Q14. What is the purpose of the try clause? What is the purpose of the except clause?\n",
        "#Answer\n",
        "Try and Except clause is used to handle the errors within our code . The try block is used to check some code for errors i.e the code inside the try block will execute when there is no error in the program. Whereas the code inside the except block will execute whenever the program encounters some error in the try block.\n",
        "\n",
        "Example \n",
        "\n",
        "try:\n",
        "\n",
        "# Code <br>\n",
        "except:\n",
        "\n",
        "# Executed if error in the<br>\n",
        "# try block"
      ],
      "metadata": {
        "id": "WpmMguFVoGKa"
      }
    },
    {
      "cell_type": "markdown",
      "source": [],
      "metadata": {
        "id": "AQ2O3099m2Vh"
      }
    },
    {
      "cell_type": "markdown",
      "source": [],
      "metadata": {
        "id": "UFyMaShTM2fU"
      }
    }
  ]
}