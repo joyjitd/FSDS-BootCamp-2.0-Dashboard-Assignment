{
 "cells": [
  {
   "cell_type": "markdown",
   "id": "d40823fd",
   "metadata": {},
   "source": [
    "1. Assign the value 7 to the variable guess_me. Then, write the conditional tests (if, else, and elif) to print the string 'too low' if guess_me is less than 7, 'too high' if greater than 7, and 'just right' if equal to 7."
   ]
  },
  {
   "cell_type": "code",
   "execution_count": 1,
   "id": "cc7de2d2",
   "metadata": {},
   "outputs": [
    {
     "name": "stdout",
     "output_type": "stream",
     "text": [
      "just right\n"
     ]
    }
   ],
   "source": [
    "guess_me = 7\n",
    "\n",
    "if guess_me < 7:\n",
    "    print('too low')\n",
    "elif guess_me > 7:\n",
    "    print('too high')\n",
    "else:\n",
    "    print('just right')\n"
   ]
  },
  {
   "cell_type": "markdown",
   "id": "3afa555b",
   "metadata": {},
   "source": [
    "2. Assign the value 7 to the variable guess_me and the value 1 to the variable start. Write a while loop that compares start with guess_me. Print too low if start is less than guess me. If start equals guess_me, print 'found it!' and exit the loop. If start is greater than guess_me, print 'oops' and exit the loop. Increment start at the end of the loop."
   ]
  },
  {
   "cell_type": "code",
   "execution_count": 2,
   "id": "a5d889a8",
   "metadata": {},
   "outputs": [
    {
     "name": "stdout",
     "output_type": "stream",
     "text": [
      "too low\n",
      "too low\n",
      "too low\n",
      "too low\n",
      "too low\n",
      "too low\n",
      "found it!\n"
     ]
    }
   ],
   "source": [
    "guess_me = 7\n",
    "start = 1\n",
    "\n",
    "while start <= guess_me:\n",
    "    if start < guess_me:\n",
    "        print('too low')\n",
    "    elif start == guess_me:\n",
    "        print('found it!')\n",
    "        break\n",
    "    else:\n",
    "        print('oops')\n",
    "        break\n",
    "    start += 1\n"
   ]
  },
  {
   "cell_type": "markdown",
   "id": "ee111102",
   "metadata": {},
   "source": [
    "3. Print the following values of the list [3, 2, 1, 0] using a for loop."
   ]
  },
  {
   "cell_type": "code",
   "execution_count": 3,
   "id": "05b500b4",
   "metadata": {},
   "outputs": [
    {
     "name": "stdout",
     "output_type": "stream",
     "text": [
      "3\n",
      "2\n",
      "1\n",
      "0\n"
     ]
    }
   ],
   "source": [
    "my_list = [3, 2, 1, 0]\n",
    "\n",
    "for value in my_list:\n",
    "    print(value)\n"
   ]
  },
  {
   "cell_type": "markdown",
   "id": "2542401e",
   "metadata": {},
   "source": [
    "4. Use a list comprehension to make a list of the even numbers in range(10)"
   ]
  },
  {
   "cell_type": "markdown",
   "id": "564746d3",
   "metadata": {},
   "source": [
    "Certainly! Here's the code that uses a list comprehension to create a list of even numbers in the range from 0 to 9 (range(10)):"
   ]
  },
  {
   "cell_type": "code",
   "execution_count": 4,
   "id": "28a10176",
   "metadata": {},
   "outputs": [
    {
     "name": "stdout",
     "output_type": "stream",
     "text": [
      "[0, 2, 4, 6, 8]\n"
     ]
    }
   ],
   "source": [
    "even_numbers = [num for num in range(10) if num % 2 == 0]\n",
    "print(even_numbers)\n"
   ]
  },
  {
   "cell_type": "markdown",
   "id": "3d67a81e",
   "metadata": {},
   "source": [
    "In this code, the list comprehension is enclosed in square brackets [ ]. It iterates over the numbers in the range(10) and checks if each number (num) is divisible evenly by 2, using the condition num % 2 == 0. If the condition is true, the number is added to the even_numbers list."
   ]
  },
  {
   "cell_type": "markdown",
   "id": "d298f920",
   "metadata": {},
   "source": [
    "5. Use a dictionary comprehension to create the dictionary squares. Use range(10) to return the keys, and use the square of each key as its value."
   ]
  },
  {
   "cell_type": "markdown",
   "id": "d05223fb",
   "metadata": {},
   "source": [
    "Certainly! Here's the code that uses a dictionary comprehension to create the dictionary squares, where the keys are the numbers from 0 to 9 (using range(10)), and the values are the squares of each key:"
   ]
  },
  {
   "cell_type": "code",
   "execution_count": 5,
   "id": "72ecfe86",
   "metadata": {},
   "outputs": [
    {
     "name": "stdout",
     "output_type": "stream",
     "text": [
      "{0: 0, 1: 1, 2: 4, 3: 9, 4: 16, 5: 25, 6: 36, 7: 49, 8: 64, 9: 81}\n"
     ]
    }
   ],
   "source": [
    "squares = {num: num**2 for num in range(10)}\n",
    "print(squares)"
   ]
  },
  {
   "cell_type": "markdown",
   "id": "bbe790c9",
   "metadata": {},
   "source": [
    "6. Construct the set odd from the odd numbers in the range using a set comprehension (10)."
   ]
  },
  {
   "cell_type": "code",
   "execution_count": 6,
   "id": "e3b00818",
   "metadata": {},
   "outputs": [
    {
     "name": "stdout",
     "output_type": "stream",
     "text": [
      "{1, 3, 5, 7, 9}\n"
     ]
    }
   ],
   "source": [
    "odd = {num for num in range(10) if num % 2 != 0}\n",
    "print(odd)\n"
   ]
  },
  {
   "cell_type": "markdown",
   "id": "69a8016e",
   "metadata": {},
   "source": [
    "7. Use a generator comprehension to return the string 'Got ' and a number for the numbers in range(10). Iterate through this by using a for loop."
   ]
  },
  {
   "cell_type": "code",
   "execution_count": 7,
   "id": "2fabc283",
   "metadata": {},
   "outputs": [
    {
     "name": "stdout",
     "output_type": "stream",
     "text": [
      "Got 0\n",
      "Got 1\n",
      "Got 2\n",
      "Got 3\n",
      "Got 4\n",
      "Got 5\n",
      "Got 6\n",
      "Got 7\n",
      "Got 8\n",
      "Got 9\n"
     ]
    }
   ],
   "source": [
    "generator = ('Got ' + str(num) for num in range(10))\n",
    "\n",
    "for item in generator:\n",
    "    print(item)\n"
   ]
  },
  {
   "cell_type": "markdown",
   "id": "6883552e",
   "metadata": {},
   "source": [
    "8. Define a function called good that returns the list ['Harry', 'Ron', 'Hermione']."
   ]
  },
  {
   "cell_type": "code",
   "execution_count": 9,
   "id": "aa2e3dd5",
   "metadata": {},
   "outputs": [
    {
     "name": "stdout",
     "output_type": "stream",
     "text": [
      "['Harry', 'Ron', 'Hermione']\n"
     ]
    }
   ],
   "source": [
    "def good():\n",
    "    return ['Harry', 'Ron', 'Hermione']\n",
    "result = good()\n",
    "print(result)"
   ]
  },
  {
   "cell_type": "markdown",
   "id": "07d06f1e",
   "metadata": {},
   "source": [
    "9. Define a generator function called get_odds that returns the odd numbers from range(10). Use a for loop to find and print the third value returned."
   ]
  },
  {
   "cell_type": "code",
   "execution_count": 10,
   "id": "f69b4b8a",
   "metadata": {},
   "outputs": [
    {
     "name": "stdout",
     "output_type": "stream",
     "text": [
      "5\n"
     ]
    }
   ],
   "source": [
    "def get_odds():\n",
    "    for num in range(10):\n",
    "        if num % 2 != 0:\n",
    "            yield num\n",
    "\n",
    "count = 0\n",
    "for odd_num in get_odds():\n",
    "    count += 1\n",
    "    if count == 3:\n",
    "        print(odd_num)\n",
    "        break\n"
   ]
  },
  {
   "cell_type": "markdown",
   "id": "04f1ed7b",
   "metadata": {},
   "source": [
    "10. Define an exception called OopsException. Raise this exception to see what happens. Then write the code to catch this exception and print 'Caught an oops'."
   ]
  },
  {
   "cell_type": "code",
   "execution_count": 11,
   "id": "3d08fcda",
   "metadata": {},
   "outputs": [
    {
     "name": "stdout",
     "output_type": "stream",
     "text": [
      "Caught an oops\n"
     ]
    }
   ],
   "source": [
    "class OopsException(Exception):\n",
    "    pass\n",
    "\n",
    "try:\n",
    "    raise OopsException()\n",
    "except OopsException:\n",
    "    print('Caught an oops')\n"
   ]
  },
  {
   "cell_type": "markdown",
   "id": "7bc8380d",
   "metadata": {},
   "source": [
    "11. Use zip() to make a dictionary called movies that pairs these lists: titles = ['Creature of Habit', 'Crewel Fate'] and plots = ['A nun turns into a monster', 'A haunted yarn shop']."
   ]
  },
  {
   "cell_type": "code",
   "execution_count": 12,
   "id": "79778057",
   "metadata": {},
   "outputs": [
    {
     "name": "stdout",
     "output_type": "stream",
     "text": [
      "{'Creature of Habit': 'A nun turns into a monster', 'Crewel Fate': 'A haunted yarn shop'}\n"
     ]
    }
   ],
   "source": [
    "titles = ['Creature of Habit', 'Crewel Fate']\n",
    "plots = ['A nun turns into a monster', 'A haunted yarn shop']\n",
    "\n",
    "movies = dict(zip(titles, plots))\n",
    "print(movies)\n"
   ]
  }
 ],
 "metadata": {
  "kernelspec": {
   "display_name": "Python 3 (ipykernel)",
   "language": "python",
   "name": "python3"
  },
  "language_info": {
   "codemirror_mode": {
    "name": "ipython",
    "version": 3
   },
   "file_extension": ".py",
   "mimetype": "text/x-python",
   "name": "python",
   "nbconvert_exporter": "python",
   "pygments_lexer": "ipython3",
   "version": "3.9.13"
  }
 },
 "nbformat": 4,
 "nbformat_minor": 5
}
