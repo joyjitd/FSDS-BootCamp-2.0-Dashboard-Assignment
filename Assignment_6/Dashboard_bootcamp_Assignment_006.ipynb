{
  "nbformat": 4,
  "nbformat_minor": 0,
  "metadata": {
    "colab": {
      "provenance": []
    },
    "kernelspec": {
      "name": "python3",
      "display_name": "Python 3"
    },
    "language_info": {
      "name": "python"
    }
  },
  "cells": [
    {
      "cell_type": "code",
      "execution_count": null,
      "metadata": {
        "id": "sO3uLaigxBlR"
      },
      "outputs": [],
      "source": []
    },
    {
      "cell_type": "markdown",
      "source": [
        "#Dashboard_bootcamp_Assignment_006"
      ],
      "metadata": {
        "id": "2HD5-0kcxIL5"
      }
    },
    {
      "cell_type": "markdown",
      "source": [
        "# 1. What are escape characters, and how do you use them?\n",
        "#Answer \n",
        "Escape Character is used in order to insert an illegal character in a string. The escape character is a backlash \\ follwed by the character which is required to be inserted. Say for Examle :\n",
        "\n"
      ],
      "metadata": {
        "id": "x6LQwq8_xJo5"
      }
    },
    {
      "cell_type": "code",
      "source": [
        "txt = \"Hello, my name is \\\"Joyjit Dhar\\\" from Kolkata.\"\n",
        "print(txt)"
      ],
      "metadata": {
        "colab": {
          "base_uri": "https://localhost:8080/"
        },
        "id": "Fr6SwK7SxuDk",
        "outputId": "1650f0bf-5e14-4bb1-a827-5f6998e9acd6"
      },
      "execution_count": 2,
      "outputs": [
        {
          "output_type": "stream",
          "name": "stdout",
          "text": [
            "Hello, my name is \"Joyjit Dhar\" from Kolkata.\n"
          ]
        }
      ]
    },
    {
      "cell_type": "code",
      "source": [
        "#This is the most easiest way by using \"\" and ' alternatively.\n",
        "txt2 = 'Hello, my name is \"Joyjit Dhar\" from Kolkata.'\n",
        "print(txt2)"
      ],
      "metadata": {
        "colab": {
          "base_uri": "https://localhost:8080/"
        },
        "id": "AnO3omy6yV46",
        "outputId": "874985d1-f382-43a4-f9c5-4c5dc9cd93b3"
      },
      "execution_count": 3,
      "outputs": [
        {
          "output_type": "stream",
          "name": "stdout",
          "text": [
            "Hello, my name is \"Joyjit Dhar\" from Kolkata.\n"
          ]
        }
      ]
    },
    {
      "cell_type": "code",
      "source": [
        "txt3 = \"Hello, my name is 'Joyjit Dhar' from Kolkata.\"\n",
        "print(txt3)"
      ],
      "metadata": {
        "colab": {
          "base_uri": "https://localhost:8080/"
        },
        "id": "8ez0lEYPyi2x",
        "outputId": "aa8c2eed-5d9b-4f69-9fd4-1696e4992130"
      },
      "execution_count": 4,
      "outputs": [
        {
          "output_type": "stream",
          "name": "stdout",
          "text": [
            "Hello, my name is 'Joyjit Dhar' from Kolkata.\n"
          ]
        }
      ]
    },
    {
      "cell_type": "markdown",
      "source": [
        "# 2. What do the escape characters n and t stand for?\n",
        "#Answer \n",
        "\\n stands for newline \n",
        "\\t stands for tab"
      ],
      "metadata": {
        "id": "ZxX6336ey2ix"
      }
    },
    {
      "cell_type": "code",
      "source": [
        "txt3 = \"Hello, my name is 'Joyjit Dhar' from Kolkata.\"\n",
        "print(txt3)"
      ],
      "metadata": {
        "id": "jgOwpmNZzJUE"
      },
      "execution_count": null,
      "outputs": []
    },
    {
      "cell_type": "markdown",
      "source": [
        "#3. What is the way to include backslash characters in a string?\n"
      ],
      "metadata": {
        "id": "ZWWHyaMnzHaZ"
      }
    },
    {
      "cell_type": "code",
      "source": [
        "s = \"\\Tasks\" # This is the way to include backlash character in the string. double backslash will be inside double quatations. \n",
        "print(s)"
      ],
      "metadata": {
        "colab": {
          "base_uri": "https://localhost:8080/"
        },
        "id": "v3lC9G08zfBv",
        "outputId": "6bdd549c-ed5f-447e-84e9-9f4d0d910860"
      },
      "execution_count": 8,
      "outputs": [
        {
          "output_type": "stream",
          "name": "stdout",
          "text": [
            "\\Tasks\n"
          ]
        }
      ]
    },
    {
      "cell_type": "markdown",
      "source": [
        "#4. The string \"Howl's Moving Castle\" is a correct value. Why isn't the single quote character in the word Howl's not escaped a problem?\n",
        "#Answer\n",
        "  The single quote in Howl's is fine because we've used double quotes to mark the beginning and end of the string.\n",
        "  The single quote character in the word Howl's not escaped a problem because in defining string double quatations and single quatations has been used in order to distinguished. This is the reason for which Python is able to identify the escape character and not allowing it to form an error. Say for example:\n"
      ],
      "metadata": {
        "id": "qHfIS9s8y2nr"
      }
    },
    {
      "cell_type": "code",
      "source": [
        "a = \"Howl's Moving Castle\" #The single quote in Howl's is fine because we've used double quotes to mark the beginning and end of the string\n",
        "print(a) "
      ],
      "metadata": {
        "colab": {
          "base_uri": "https://localhost:8080/"
        },
        "id": "mkn4Hvdd0uIx",
        "outputId": "0f094c72-ffb2-4de4-9aaa-cb1d383f054c"
      },
      "execution_count": 9,
      "outputs": [
        {
          "output_type": "stream",
          "name": "stdout",
          "text": [
            "Howl's Moving Castle\n"
          ]
        }
      ]
    },
    {
      "cell_type": "markdown",
      "source": [
        "#5. How do you write a string of newlines if you don't want to use the n character?\n",
        "#Answer\n"
      ],
      "metadata": {
        "id": "VLvYeftM1Ga1"
      }
    },
    {
      "cell_type": "code",
      "source": [
        " print(\"Hello\\nWorld!\") # \\n is enabiling the split the words in a new line. "
      ],
      "metadata": {
        "colab": {
          "base_uri": "https://localhost:8080/"
        },
        "id": "EIiykZEqy18y",
        "outputId": "33f4d203-fc4a-4284-d89d-e8b475a7d752"
      },
      "execution_count": 11,
      "outputs": [
        {
          "output_type": "stream",
          "name": "stdout",
          "text": [
            "Hello\n",
            "World!\n"
          ]
        }
      ]
    },
    {
      "cell_type": "markdown",
      "source": [
        "The other way of enabiling newline in a string if I dont want to use the n character is in the Print Statement itself. "
      ],
      "metadata": {
        "id": "7tV30woO17cz"
      }
    },
    {
      "cell_type": "code",
      "source": [
        "print(\"Hello\") # By using two print statements in different lines. \n",
        "print(\"World!\")"
      ],
      "metadata": {
        "colab": {
          "base_uri": "https://localhost:8080/"
        },
        "id": "t3E7JB192JH9",
        "outputId": "42a3718f-5fd3-49cb-8289-5f2b087985d2"
      },
      "execution_count": 18,
      "outputs": [
        {
          "output_type": "stream",
          "name": "stdout",
          "text": [
            "Hello\n",
            "World!\n"
          ]
        }
      ]
    },
    {
      "cell_type": "markdown",
      "source": [
        "#6. What are the values of the given expressions?\n",
        "#'Hello, world!'[1]\n",
        "#'Hello, world!'[0:5]\n",
        "#'Hello, world!'[:5]\n",
        "#'Hello, world!'[3:]"
      ],
      "metadata": {
        "id": "Llx_C1eL3Mxq"
      }
    },
    {
      "cell_type": "code",
      "source": [
        " 0123456789    # In-Building Indexing in String \n",
        "'Hello, world!'[1]"
      ],
      "metadata": {
        "colab": {
          "base_uri": "https://localhost:8080/",
          "height": 36
        },
        "id": "gL8Tp44HyKdy",
        "outputId": "418f4b02-fb3f-4b7f-8d0a-1fb1151c6fe5"
      },
      "execution_count": 19,
      "outputs": [
        {
          "output_type": "execute_result",
          "data": {
            "text/plain": [
              "'e'"
            ],
            "application/vnd.google.colaboratory.intrinsic+json": {
              "type": "string"
            }
          },
          "metadata": {},
          "execution_count": 19
        }
      ]
    },
    {
      "cell_type": "code",
      "source": [
        "'Hello, world!'[0:5] # Output: Hello 5th Index will be excluded. "
      ],
      "metadata": {
        "colab": {
          "base_uri": "https://localhost:8080/",
          "height": 36
        },
        "id": "vZAS1mS93WQo",
        "outputId": "287dbd76-0b77-4021-9771-a8dcc11623ed"
      },
      "execution_count": 20,
      "outputs": [
        {
          "output_type": "execute_result",
          "data": {
            "text/plain": [
              "'Hello'"
            ],
            "application/vnd.google.colaboratory.intrinsic+json": {
              "type": "string"
            }
          },
          "metadata": {},
          "execution_count": 20
        }
      ]
    },
    {
      "cell_type": "code",
      "source": [
        "'Hello, world!'[:5] # Ends in 5th Index Excluding the fifth one.  Output: Hello"
      ],
      "metadata": {
        "colab": {
          "base_uri": "https://localhost:8080/",
          "height": 36
        },
        "id": "w501GLN33mCo",
        "outputId": "2de8709b-2b31-4621-db5a-4a5deb279be7"
      },
      "execution_count": 21,
      "outputs": [
        {
          "output_type": "execute_result",
          "data": {
            "text/plain": [
              "'Hello'"
            ],
            "application/vnd.google.colaboratory.intrinsic+json": {
              "type": "string"
            }
          },
          "metadata": {},
          "execution_count": 21
        }
      ]
    },
    {
      "cell_type": "code",
      "source": [
        "'Hello, world!'[3:] # Output: lo, world!"
      ],
      "metadata": {
        "colab": {
          "base_uri": "https://localhost:8080/",
          "height": 36
        },
        "id": "q60wZoQP30Do",
        "outputId": "b5547fa6-6b07-4375-a281-0b0ebaa805b5"
      },
      "execution_count": 22,
      "outputs": [
        {
          "output_type": "execute_result",
          "data": {
            "text/plain": [
              "'lo, world!'"
            ],
            "application/vnd.google.colaboratory.intrinsic+json": {
              "type": "string"
            }
          },
          "metadata": {},
          "execution_count": 22
        }
      ]
    },
    {
      "cell_type": "markdown",
      "source": [
        "#7. What are the values of the following expressions?\n",
        "'Hello'.upper()\n",
        "'Hello'.upper().isupper()\n",
        "'Hello'.upper().lower()\n",
        "#Answer:\n"
      ],
      "metadata": {
        "id": "E_rMYGcQ4BQy"
      }
    },
    {
      "cell_type": "code",
      "source": [
        "'Hello'.upper() # Output: HELLO -- .upper() makes all the characters in UPPER CASE. "
      ],
      "metadata": {
        "colab": {
          "base_uri": "https://localhost:8080/",
          "height": 36
        },
        "id": "ATfOq5GD36BY",
        "outputId": "db4f9eb5-5cc6-494d-8ef0-ba41c947e765"
      },
      "execution_count": 23,
      "outputs": [
        {
          "output_type": "execute_result",
          "data": {
            "text/plain": [
              "'HELLO'"
            ],
            "application/vnd.google.colaboratory.intrinsic+json": {
              "type": "string"
            }
          },
          "metadata": {},
          "execution_count": 23
        }
      ]
    },
    {
      "cell_type": "code",
      "source": [
        "'Hello'.upper().isupper() # upper() Changes to upper and then isupper() checks True or False wheather it is upper or not! #OUTPUT: True"
      ],
      "metadata": {
        "colab": {
          "base_uri": "https://localhost:8080/"
        },
        "id": "WdY8WKgT4OHQ",
        "outputId": "c3d18bdf-afbc-4856-b304-ffd61a784ec5"
      },
      "execution_count": 24,
      "outputs": [
        {
          "output_type": "execute_result",
          "data": {
            "text/plain": [
              "True"
            ]
          },
          "metadata": {},
          "execution_count": 24
        }
      ]
    },
    {
      "cell_type": "code",
      "source": [
        "'Hello'.upper().lower() # \"'Hello'.upper()\" -MAKES IT UPPER CASE -THEN .lower() -MAKES IT lower case. OUTPUT : hello "
      ],
      "metadata": {
        "colab": {
          "base_uri": "https://localhost:8080/",
          "height": 36
        },
        "id": "MP90xA3M4b14",
        "outputId": "2bb350c4-af70-4707-e62f-684a241dbbaa"
      },
      "execution_count": 25,
      "outputs": [
        {
          "output_type": "execute_result",
          "data": {
            "text/plain": [
              "'hello'"
            ],
            "application/vnd.google.colaboratory.intrinsic+json": {
              "type": "string"
            }
          },
          "metadata": {},
          "execution_count": 25
        }
      ]
    },
    {
      "cell_type": "markdown",
      "source": [
        "#8. What are the values of the following expressions?\n",
        "#'Remember, remember, the fifth of July.'.split()\n",
        "# '-'.join('There can only one.'.split())\n"
      ],
      "metadata": {
        "id": "7igtrjFO4vAk"
      }
    },
    {
      "cell_type": "code",
      "source": [
        "'Remember, remember, the fifth of July.'.split() # Expected Output: ['Remember,','remember,','the','fifth', 'of','July.'] -Split makes it to a list. "
      ],
      "metadata": {
        "colab": {
          "base_uri": "https://localhost:8080/"
        },
        "id": "UUMRn7PX4xfg",
        "outputId": "70f962fd-5241-4830-ccc4-387708915787"
      },
      "execution_count": 26,
      "outputs": [
        {
          "output_type": "execute_result",
          "data": {
            "text/plain": [
              "['Remember,', 'remember,', 'the', 'fifth', 'of', 'July.']"
            ]
          },
          "metadata": {},
          "execution_count": 26
        }
      ]
    },
    {
      "cell_type": "code",
      "source": [
        "'-'.join('There can only one.'.split()) # .join forms a single string"
      ],
      "metadata": {
        "colab": {
          "base_uri": "https://localhost:8080/",
          "height": 36
        },
        "id": "AmVGBXoK4onX",
        "outputId": "a28ffefa-7d1d-47cc-9edf-2b9ce08874c1"
      },
      "execution_count": 27,
      "outputs": [
        {
          "output_type": "execute_result",
          "data": {
            "text/plain": [
              "'There-can-only-one.'"
            ],
            "application/vnd.google.colaboratory.intrinsic+json": {
              "type": "string"
            }
          },
          "metadata": {},
          "execution_count": 27
        }
      ]
    },
    {
      "cell_type": "code",
      "source": [
        "type('-'.join('There can only one.'.split()))"
      ],
      "metadata": {
        "colab": {
          "base_uri": "https://localhost:8080/"
        },
        "id": "vmmHevJY5qrZ",
        "outputId": "89538cf3-9777-4ad0-c966-00d5e44e790c"
      },
      "execution_count": 28,
      "outputs": [
        {
          "output_type": "execute_result",
          "data": {
            "text/plain": [
              "str"
            ]
          },
          "metadata": {},
          "execution_count": 28
        }
      ]
    },
    {
      "cell_type": "markdown",
      "source": [
        "# 9. What are the methods for right-justifying, left-justifying, and centering a string?\n",
        "#Answer:\n",
        "These functions respectively left-justify, right-justify and center a string in a field of given width. They return a string that is at least width characters wide, created by padding the string s with the character fillchar (default is a space) until the given width on the right, left or both sides. The string is never truncated."
      ],
      "metadata": {
        "id": "l5WNAVFQ6BY8"
      }
    },
    {
      "cell_type": "markdown",
      "source": [],
      "metadata": {
        "id": "Klgc14lr61Rm"
      }
    },
    {
      "cell_type": "code",
      "source": [
        "a =\"JOJO\"\n",
        "a.center(20,'*')\n",
        "a.rjust(20,'*')\n",
        "a.ljust(20,'*')"
      ],
      "metadata": {
        "colab": {
          "base_uri": "https://localhost:8080/",
          "height": 36
        },
        "id": "IaK5RHzK50OX",
        "outputId": "032d6ae4-128d-4de7-84cd-537130dd54b6"
      },
      "execution_count": 34,
      "outputs": [
        {
          "output_type": "execute_result",
          "data": {
            "text/plain": [
              "'JOJO****************'"
            ],
            "application/vnd.google.colaboratory.intrinsic+json": {
              "type": "string"
            }
          },
          "metadata": {},
          "execution_count": 34
        }
      ]
    },
    {
      "cell_type": "markdown",
      "source": [
        "#10. What is the best way to remove whitespace characters from the start or end?\n"
      ],
      "metadata": {
        "id": "tGffpcue63PR"
      }
    },
    {
      "cell_type": "code",
      "source": [
        "a =\"    JOJO\"\n",
        "a.strip() # Use the . strip() method to remove whitespace and characters from the beginning and the end of a string."
      ],
      "metadata": {
        "colab": {
          "base_uri": "https://localhost:8080/",
          "height": 36
        },
        "id": "b77QW-ED6LEw",
        "outputId": "723de149-006d-4f5a-a7b5-f17e2f64b251"
      },
      "execution_count": 36,
      "outputs": [
        {
          "output_type": "execute_result",
          "data": {
            "text/plain": [
              "'JOJO'"
            ],
            "application/vnd.google.colaboratory.intrinsic+json": {
              "type": "string"
            }
          },
          "metadata": {},
          "execution_count": 36
        }
      ]
    },
    {
      "cell_type": "code",
      "source": [],
      "metadata": {
        "id": "iLRVZo2g7B5n"
      },
      "execution_count": null,
      "outputs": []
    }
  ]
}