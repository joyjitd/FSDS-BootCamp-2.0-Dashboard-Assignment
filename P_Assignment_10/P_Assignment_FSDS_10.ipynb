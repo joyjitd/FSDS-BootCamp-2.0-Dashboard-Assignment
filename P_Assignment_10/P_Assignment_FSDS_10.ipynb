{
 "cells": [
  {
   "cell_type": "markdown",
   "id": "e707260a-ef46-47d5-9911-bc8c9c2a6ce5",
   "metadata": {},
   "source": [
    "1.\tWrite a Python program to find sum of elements in list?"
   ]
  },
  {
   "cell_type": "code",
   "execution_count": 1,
   "id": "d93e07bc-7e04-41e8-9314-99f7e6a8a334",
   "metadata": {},
   "outputs": [
    {
     "name": "stdout",
     "output_type": "stream",
     "text": [
      "55\n"
     ]
    }
   ],
   "source": [
    "lst=[1,2,3,4,5,6,7,8,9,10]\n",
    "ad=0\n",
    "for i in range(0,len(lst)):\n",
    "    ad=ad+lst[i]\n",
    "print (ad)"
   ]
  },
  {
   "cell_type": "markdown",
   "id": "e4a6f57e-341f-4c67-b910-106f54ffad96",
   "metadata": {},
   "source": [
    "2.\tWrite a Python program to  Multiply all numbers in the list?"
   ]
  },
  {
   "cell_type": "code",
   "execution_count": 3,
   "id": "1a2cfd48-cc25-427c-8aaf-0087522c52f8",
   "metadata": {},
   "outputs": [
    {
     "name": "stdout",
     "output_type": "stream",
     "text": [
      "3628800\n"
     ]
    }
   ],
   "source": [
    "lst=[1,2,3,4,5,6,7,8,9,10]\n",
    "ad=1\n",
    "for i in range(0,len(lst)):\n",
    "    ad=ad*lst[i]\n",
    "print (ad)"
   ]
  },
  {
   "cell_type": "markdown",
   "id": "405d2541-ec90-4e3a-954f-ed61e7e4f39c",
   "metadata": {},
   "source": [
    "3.\tWrite a Python program to find smallest number in a list?"
   ]
  },
  {
   "cell_type": "code",
   "execution_count": 9,
   "id": "b0916089-7608-4e0d-bbfd-64dd76667ddc",
   "metadata": {},
   "outputs": [
    {
     "name": "stdout",
     "output_type": "stream",
     "text": [
      "The smallest element in the list is : 1\n"
     ]
    }
   ],
   "source": [
    "lst=[5,6,7,1,2,3,4,5,6,7,8,9,10]\n",
    "num=0\n",
    "lst.sort() # using the sorting function to find the smallest nmumber present in the list. \n",
    "print(f\"The smallest element in the list is : {lst[0]}\")"
   ]
  },
  {
   "cell_type": "markdown",
   "id": "1a9d8209-094e-41fb-97d7-9165e9c2ad11",
   "metadata": {},
   "source": [
    "4.\tWrite a Python program to find largest number in a list?"
   ]
  },
  {
   "cell_type": "code",
   "execution_count": 12,
   "id": "9ce68016-01e2-4d58-9c8b-3d7cf8aa4749",
   "metadata": {},
   "outputs": [
    {
     "name": "stdout",
     "output_type": "stream",
     "text": [
      "The smallest element in the list is : 10\n"
     ]
    }
   ],
   "source": [
    "lst=[5,6,7,1,2,3,4,5,6,7,8,9,10]\n",
    "num=0\n",
    "lst.sort() # using the sorting function to find the smallest nmumber present in the list. \n",
    "print(f\"The smallest element in the list is : {lst[len(lst)-1]}\") # -1 has been made due to the changes in the program index positions. "
   ]
  },
  {
   "cell_type": "markdown",
   "id": "7d9ad2b2-f40c-49c2-803d-57ff416a3226",
   "metadata": {},
   "source": [
    "5.\tWrite a Python program to find second largest number in a list?"
   ]
  },
  {
   "cell_type": "code",
   "execution_count": 15,
   "id": "a32c2a8a-d11b-46b1-a1ca-413240dd2624",
   "metadata": {},
   "outputs": [
    {
     "name": "stdout",
     "output_type": "stream",
     "text": [
      "The smallest element in the list is : 78\n"
     ]
    }
   ],
   "source": [
    "lst=[5,6,7,1,22,3,7,62,45,145,10,78]\n",
    "num=0\n",
    "lst.sort() # using the sorting function to find the smallest nmumber present in the list. \n",
    "print(f\"The smallest element in the list is : {lst[len(lst)-2]}\") # -1 has been made due to the changes in the program index positions. "
   ]
  },
  {
   "cell_type": "markdown",
   "id": "f33ac169-9183-4134-baa6-3240e8ff46d9",
   "metadata": {},
   "source": [
    "6.\tWrite a Python program to find N largest elements from a list?"
   ]
  },
  {
   "cell_type": "code",
   "execution_count": null,
   "id": "ae3a1b9a-a561-4c06-9bd1-8f9501288020",
   "metadata": {},
   "outputs": [],
   "source": [
    "def Nmaxelements(list1, N):\n",
    "    final_list = []\n",
    " \n",
    "    for i in range(0, N): # The Loop will run three times. \n",
    "        max1 = 0\n",
    "         \n",
    "        for j in range(len(list1)):    \n",
    "            if list1[j] > max1:\n",
    "                max1 = list1[j];\n",
    "                 \n",
    "        list1.remove(max1);\n",
    "        final_list.append(max1)\n",
    "         \n",
    "    print(final_list)\n",
    " \n",
    "# Driver code\n",
    "list1 = [2, 6, 41, 85, 0, 3, 7, 6, 10]\n",
    "N = 2"
   ]
  },
  {
   "cell_type": "markdown",
   "id": "59e206bf-89ac-474c-803e-f9d110ef61b8",
   "metadata": {},
   "source": [
    "7.\tWrite a Python program to print even numbers in a list?"
   ]
  },
  {
   "cell_type": "code",
   "execution_count": 19,
   "id": "5624f851-e704-43c4-8d81-162e66c8b3c2",
   "metadata": {},
   "outputs": [
    {
     "name": "stdout",
     "output_type": "stream",
     "text": [
      "[10, 4, 66]\n"
     ]
    }
   ],
   "source": [
    "\n",
    "# Python program to print Even Numbers in a List\n",
    " \n",
    "# list of numbers\n",
    "list1 = [10, 21, 4, 45, 66, 93]\n",
    "listeven=[]\n",
    "# iterating each number in list\n",
    "for num in list1:\n",
    "    # checking condition\n",
    "    if num % 2 == 0:\n",
    "        listeven.append(num)\n",
    "print(listeven)"
   ]
  },
  {
   "cell_type": "markdown",
   "id": "a6cb8807-9353-4d29-b00e-896c698d3ba6",
   "metadata": {},
   "source": [
    "8.\tWrite a Python program to print odd numbers in a List?"
   ]
  },
  {
   "cell_type": "code",
   "execution_count": 20,
   "id": "e0b491e0-03ca-41f8-b8cc-6f80668a85e2",
   "metadata": {},
   "outputs": [
    {
     "name": "stdout",
     "output_type": "stream",
     "text": [
      "[21, 45, 93]\n"
     ]
    }
   ],
   "source": [
    "list1 = [10, 21, 4, 45, 66, 93]\n",
    "listeven=[]\n",
    "# iterating each number in list\n",
    "for num in list1:\n",
    "    # checking condition\n",
    "    if num % 2 != 0:\n",
    "        listeven.append(num)\n",
    "print(listeven)"
   ]
  },
  {
   "cell_type": "markdown",
   "id": "a4ee6bc0-559a-4c55-9af1-f96746a334ae",
   "metadata": {},
   "source": [
    "9.\tWrite a Python program to Remove empty List from List?"
   ]
  },
  {
   "cell_type": "code",
   "execution_count": 23,
   "id": "2cd7d9f6-ce1d-4e0e-a168-3631088a298a",
   "metadata": {},
   "outputs": [
    {
     "name": "stdout",
     "output_type": "stream",
     "text": [
      "The original list is : [5, 6, [], 3, [], [], 9]\n",
      "List after empty list removal : [5, 6, 3, 9]\n"
     ]
    }
   ],
   "source": [
    "# Python3 code to Demonstrate Remove empty List\n",
    "# from List using list comprehension\n",
    "\n",
    "# Initializing list\n",
    "t_list = [5, 6, [], 3, [], [], 9]\n",
    "\n",
    "# printing original list\n",
    "print(\"The original list is : \" + str(t_list))\n",
    "\n",
    "# Remove empty List from List\n",
    "# using list comprehension\n",
    "res = [i for i in t_list if i != []]\n",
    "\n",
    "# printing result\n",
    "print(\"List after empty list removal : \" + str(res))\n"
   ]
  },
  {
   "cell_type": "markdown",
   "id": "cbd93c77-e7ef-454c-b7a9-2451f5607959",
   "metadata": {},
   "source": [
    "10.\tWrite a Python program to Cloning or Copying a list?"
   ]
  },
  {
   "cell_type": "code",
   "execution_count": 25,
   "id": "860b19a7-97c0-43fe-912f-56926a0728a0",
   "metadata": {},
   "outputs": [
    {
     "name": "stdout",
     "output_type": "stream",
     "text": [
      "Original List: [4, 8, 2, 10, 15, 18]\n",
      "After Cloning: [4, 8, 2, 10, 15, 18]\n"
     ]
    }
   ],
   "source": [
    "# Python program to copy or clone a list\n",
    "# Using the Slice Operator\n",
    "def Copy(li1):\n",
    "\tli_copy = li1[:]\n",
    "\treturn li_copy\n",
    "\n",
    "\n",
    "# Driver Code\n",
    "li1 = [4, 8, 2, 10, 15, 18]\n",
    "li2 = Copy(li1)\n",
    "print(\"Original List:\", li1)\n",
    "print(\"After Cloning:\", li2)"
   ]
  },
  {
   "cell_type": "markdown",
   "id": "a8f40284-3024-4548-9692-03ff420fadae",
   "metadata": {},
   "source": [
    "11.\tWrite a Python program to Count occurrences of an element in a list?"
   ]
  },
  {
   "cell_type": "code",
   "execution_count": 27,
   "id": "a38a829d-3448-4e3d-acb1-4196c47cf365",
   "metadata": {},
   "outputs": [
    {
     "name": "stdout",
     "output_type": "stream",
     "text": [
      "1 has occurred 0 times\n"
     ]
    }
   ],
   "source": [
    "# The simplest way is to use the count function to find the number of elements found in the given list. \n",
    "def countnum(lst, x):\n",
    "    return lst.count(x)\n",
    " \n",
    " \n",
    "# Driver Code\n",
    "lst = [8, 6, 8, 10, 8, 20, 10, 8, 8]\n",
    "x = 1\n",
    "print('{} has occurred {} times'.format(x,\n",
    "                                        countnum(lst, x))) # This is the old approuch for as .format has been used. "
   ]
  },
  {
   "cell_type": "code",
   "execution_count": null,
   "id": "4b04d36b-c33e-4545-ae14-681e68461b12",
   "metadata": {},
   "outputs": [],
   "source": []
  }
 ],
 "metadata": {
  "kernelspec": {
   "display_name": "Python 3 (ipykernel)",
   "language": "python",
   "name": "python3"
  },
  "language_info": {
   "codemirror_mode": {
    "name": "ipython",
    "version": 3
   },
   "file_extension": ".py",
   "mimetype": "text/x-python",
   "name": "python",
   "nbconvert_exporter": "python",
   "pygments_lexer": "ipython3",
   "version": "3.10.6"
  }
 },
 "nbformat": 4,
 "nbformat_minor": 5
}
