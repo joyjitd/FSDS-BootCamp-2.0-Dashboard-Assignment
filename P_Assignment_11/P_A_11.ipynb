{
 "cells": [
  {
   "cell_type": "markdown",
   "id": "0e33900d-eb00-4020-9f8b-3a28d255fd63",
   "metadata": {},
   "source": [
    "##Program_Assignment_11 "
   ]
  },
  {
   "cell_type": "code",
   "execution_count": null,
   "id": "940900dc-1afd-4c92-82c8-fb36c0b71f11",
   "metadata": {},
   "outputs": [],
   "source": [
    "1.\tWrite a Python program to find words which are greater than given length k?"
   ]
  },
  {
   "cell_type": "code",
   "execution_count": 6,
   "id": "2404609f-cbb6-4995-a031-792bc46130fa",
   "metadata": {},
   "outputs": [
    {
     "name": "stdin",
     "output_type": "stream",
     "text": [
      "Enter the sentence Hello, I have joined the course of ineuron in 17th September 2022.\n",
      "Enter the Given Length 5\n"
     ]
    },
    {
     "name": "stdout",
     "output_type": "stream",
     "text": [
      " Hello, is the given word found greater than 6 length in the given statement. \n",
      " joined is the given word found greater than 6 length in the given statement. \n",
      " course is the given word found greater than 6 length in the given statement. \n",
      " ineuron is the given word found greater than 7 length in the given statement. \n",
      " September is the given word found greater than 9 length in the given statement. \n"
     ]
    }
   ],
   "source": [
    "statement=input(\"Enter the sentence\")\n",
    "leng=int(input(\"Enter the Given Length \"))\n",
    "x=statement.split()\n",
    "cnt=0\n",
    "for i in x:\n",
    "    cnt=len(i)\n",
    "    if cnt>leng:\n",
    "        print (f\" {i} is the given word found greater than {cnt} length in the given statement. \")"
   ]
  },
  {
   "cell_type": "markdown",
   "id": "9b905b80-32a7-4d7d-a7a1-5ec0e5225b0c",
   "metadata": {},
   "source": [
    "2.\tWrite a Python program for removing i-th character from a string?"
   ]
  },
  {
   "cell_type": "code",
   "execution_count": 30,
   "id": "5825b492-e851-4bce-90f8-cb9f8bae3caf",
   "metadata": {},
   "outputs": [
    {
     "name": "stdout",
     "output_type": "stream",
     "text": [
      "Jyjit Dhar\n"
     ]
    }
   ],
   "source": [
    "def remove_string(word,index):\n",
    "    x=len(word) # 4\n",
    "    for i in range(0,x): # i=0,1,2,3\n",
    "        if i==index:\n",
    "            word=word.replace(word[i],\"\")\n",
    "            print(word)\n",
    "remove_string(\"Joyjit Dhar\",1)"
   ]
  },
  {
   "cell_type": "markdown",
   "id": "25e6b96c-c3f8-43a1-b2ff-ad4c25d2d266",
   "metadata": {},
   "source": [
    "3.\tWrite a Python program to split and join a string?"
   ]
  },
  {
   "cell_type": "code",
   "execution_count": 1,
   "id": "a43dafd0-0475-4d0d-804d-09084dd315aa",
   "metadata": {},
   "outputs": [
    {
     "name": "stdin",
     "output_type": "stream",
     "text": [
      "Enter the sentence My name is Jojo\n"
     ]
    },
    {
     "name": "stdout",
     "output_type": "stream",
     "text": [
      "The splited string is ['My', 'name', 'is', 'Jojo']\n"
     ]
    },
    {
     "name": "stdin",
     "output_type": "stream",
     "text": [
      "Enter the word need to be joined -\n"
     ]
    },
    {
     "name": "stdout",
     "output_type": "stream",
     "text": [
      "My-name-is-Jojo\n"
     ]
    }
   ],
   "source": [
    "statement=input(\"Enter the sentence\")\n",
    "x=statement.split()\n",
    "print(f\"The splited string is {x}\") # Spliting the setense in the form of List\n",
    "joinstatement=input(\"Enter the word need to be joined\")\n",
    "y=joinstatement.join(x) # Join is only possintion in a seprated list. \n",
    "print(y)"
   ]
  },
  {
   "cell_type": "markdown",
   "id": "a91b558b-efe0-49ef-8dc2-7fcd06616601",
   "metadata": {},
   "source": [
    "4.\tWrite a Python to check if a given string is binary string or not?\n"
   ]
  },
  {
   "cell_type": "code",
   "execution_count": 33,
   "id": "3d4c35af-7090-4cbf-b299-d4ea9016a290",
   "metadata": {},
   "outputs": [
    {
     "name": "stdin",
     "output_type": "stream",
     "text": [
      "Enter the string without inverted commans 010101\n"
     ]
    },
    {
     "name": "stdout",
     "output_type": "stream",
     "text": [
      "Yes\n"
     ]
    }
   ],
   "source": [
    "x=set(input(\"Enter the string without inverted commans\")) # Set does not repeat any object.\n",
    "s={'0','1'}\n",
    "s1={0,1}\n",
    "if x==s or x=={'0'} or x=={'1'} or x==s1:\n",
    "    print(\"Yes\")\n",
    "else:\n",
    "    print(\"No\")"
   ]
  },
  {
   "cell_type": "code",
   "execution_count": 19,
   "id": "e734030b-ca34-4eb0-8555-a2554303b686",
   "metadata": {},
   "outputs": [
    {
     "data": {
      "text/plain": [
       "{'0', '1'}"
      ]
     },
     "execution_count": 19,
     "metadata": {},
     "output_type": "execute_result"
    }
   ],
   "source": [
    "a=\"010101010\"\n",
    "set(a)"
   ]
  },
  {
   "cell_type": "markdown",
   "id": "76f780d2-40bf-4cec-80f3-2721578e6823",
   "metadata": {},
   "source": [
    "5.\tWrite a Python program to find uncommon words from two Strings? # Doubt"
   ]
  },
  {
   "cell_type": "code",
   "execution_count": 40,
   "id": "59735c7a-f1f0-42b3-9ba6-b4114df18802",
   "metadata": {},
   "outputs": [
    {
     "name": "stdout",
     "output_type": "stream",
     "text": [
      "1\n",
      "1\n",
      "1\n",
      "2\n"
     ]
    }
   ],
   "source": [
    "new_str=[]\n",
    "S1=['jojo','dhar','joyjit dhar',\"jojo\"]\n",
    "S2=['jojo','make','issue','ramext','make']\n",
    "# EXPECTED OUTCOME: ['joyjit', 'dhar','ramext', 'issue', 'make']\n",
    "a=set(S1)\n",
    "b=set(S2)\n",
    "def uncommon_words(s1, s2):\n",
    "    count = {}\n",
    "    for word in s1.split():\n",
    "        count[word] = count.get(word, 0) + 1\n",
    "    # words of string s2\n",
    "    for word in s2.split():\n",
    "        count[word] = count.get(word, 0) + 1\n",
    "    # return required list of words\n",
    "    return [word for word in count if count[word] == 1]\n",
    "\n",
    "s1=\"Studytonight\"\n",
    "s2=\"Welcome to Studytonight\"\n",
    "  \n",
    "# Print required answer\n",
    "print(uncommon_words(s1, s2))"
   ]
  },
  {
   "cell_type": "markdown",
   "id": "606f9f4e-7cbd-4bd8-92d3-39b5db736d6a",
   "metadata": {},
   "source": [
    "6.\tWrite a Python to find all duplicate characters in string? # Doubt\n"
   ]
  },
  {
   "cell_type": "code",
   "execution_count": 41,
   "id": "f4416545-b45d-416d-913c-bfc22be53cdc",
   "metadata": {},
   "outputs": [
    {
     "name": "stdout",
     "output_type": "stream",
     "text": [
      "Duplicate characters in a given string: \n",
      "r\n",
      "e\n",
      "t\n",
      "s\n",
      "i\n"
     ]
    }
   ],
   "source": [
    "string = \"Great responsibility\";  \n",
    "   \n",
    "print(\"Duplicate characters in a given string: \");  \n",
    "#Counts each character present in the string  \n",
    "for i in range(0, len(string)):  \n",
    "    count = 1;  \n",
    "    for j in range(i+1, len(string)):  \n",
    "        if(string[i] == string[j] and string[i] != ' '):  \n",
    "            count = count + 1;  \n",
    "            #Set string[j] to 0 to avoid printing visited character  \n",
    "            string = string[:j] + '0' + string[j+1:];  \n",
    "   \n",
    "    #A character is considered as duplicate if count is greater than 1  \n",
    "    if(count > 1 and string[i] != '0'):  \n",
    "        print(string[i]);  "
   ]
  },
  {
   "cell_type": "markdown",
   "id": "69cf9357-81b1-49ab-9260-1dec1477c7a7",
   "metadata": {},
   "source": [
    "7.\tWrite a Python Program to check if a string contains any special character?"
   ]
  },
  {
   "cell_type": "code",
   "execution_count": 49,
   "id": "c11719c3-6224-4b4c-a486-8a5345f9e8da",
   "metadata": {},
   "outputs": [
    {
     "ename": "SyntaxError",
     "evalue": "'(' was never closed (1497819927.py, line 8)",
     "output_type": "error",
     "traceback": [
      "\u001b[0;36m  Cell \u001b[0;32mIn [49], line 8\u001b[0;36m\u001b[0m\n\u001b[0;31m    print(\u001b[0m\n\u001b[0m         ^\u001b[0m\n\u001b[0;31mSyntaxError\u001b[0m\u001b[0;31m:\u001b[0m '(' was never closed\n"
     ]
    }
   ],
   "source": [
    "n=\"GJo#$@$F$(0290}0\"\n",
    "n.split()\n",
    "c=0\n",
    "s='[@_!#$%^&*()<>?/\\|}{~:]' # special character set\n",
    "for i in range(len(n)):# [0,1,2,3,4,5,6,7,8,7,9,10,11,12,13,14,15]\n",
    "    # checking if any special character is present in given string or not\n",
    "    if n[i] in s:\n",
    "        print(\"The following are the list of special character found in the string\")\n",
    "        print (n[i])\n",
    "        c+=1   # if special character found then add 1 to the c\n",
    " \n",
    "# if c value is greater than 0 then print no\n",
    "# means special character is found in string     \n",
    "if c>0:\n",
    "    print(\"string is not accepted\")\n",
    "else:\n",
    "    print(\"string accepted\")"
   ]
  },
  {
   "cell_type": "code",
   "execution_count": null,
   "id": "5cd87a6e-d66d-4086-9b92-2b5240cfb8e7",
   "metadata": {},
   "outputs": [],
   "source": []
  }
 ],
 "metadata": {
  "kernelspec": {
   "display_name": "Python 3 (ipykernel)",
   "language": "python",
   "name": "python3"
  },
  "language_info": {
   "codemirror_mode": {
    "name": "ipython",
    "version": 3
   },
   "file_extension": ".py",
   "mimetype": "text/x-python",
   "name": "python",
   "nbconvert_exporter": "python",
   "pygments_lexer": "ipython3",
   "version": "3.10.6"
  }
 },
 "nbformat": 4,
 "nbformat_minor": 5
}
