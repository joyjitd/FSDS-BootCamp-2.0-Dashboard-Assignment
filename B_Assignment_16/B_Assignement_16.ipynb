{
 "cells": [
  {
   "cell_type": "markdown",
   "id": "fcb7c0de",
   "metadata": {},
   "source": [
    "1. Create a list called years_list, starting with the year of your birth, and each year thereafter until the year of your fifth birthday. For example, if you were born in 1980. the list would be years_list = [1980, 1981, 1982, 1983, 1984, 1985]."
   ]
  },
  {
   "cell_type": "code",
   "execution_count": 1,
   "id": "d6dab590",
   "metadata": {},
   "outputs": [
    {
     "name": "stdout",
     "output_type": "stream",
     "text": [
      "[1994, 1995, 1996, 1997, 1998, 1999]\n"
     ]
    }
   ],
   "source": [
    "birth_year = 1994  # Replace with your birth year\n",
    "years_list = [birth_year + i for i in range(6)]\n",
    "\n",
    "print(years_list)\n"
   ]
  },
  {
   "cell_type": "markdown",
   "id": "541ce190",
   "metadata": {},
   "source": [
    "2. In which year in years_list was your third birthday? Remember, you were 0 years of age for your first year."
   ]
  },
  {
   "cell_type": "code",
   "execution_count": 8,
   "id": "278f6b06",
   "metadata": {},
   "outputs": [
    {
     "name": "stdout",
     "output_type": "stream",
     "text": [
      "1997\n"
     ]
    }
   ],
   "source": [
    "birth_year = 1994  # Replace with your birth year\n",
    "years_list = [birth_year + i for i in range(6)]\n",
    "\n",
    "third_birthday_year = years_list[3]\n",
    "\n",
    "print(third_birthday_year)\n"
   ]
  },
  {
   "cell_type": "code",
   "execution_count": 5,
   "id": "ce73a333",
   "metadata": {},
   "outputs": [
    {
     "name": "stdout",
     "output_type": "stream",
     "text": [
      "Object `oldest` not found.\n"
     ]
    }
   ],
   "source": [
    "3.In the years list, which year were you the oldest?\n"
   ]
  },
  {
   "cell_type": "code",
   "execution_count": 9,
   "id": "fd1ca40f",
   "metadata": {},
   "outputs": [
    {
     "name": "stdout",
     "output_type": "stream",
     "text": [
      "1999\n"
     ]
    }
   ],
   "source": [
    "years_list = [birth_year + i for i in range(6)]\n",
    "\n",
    "oldest_year = years_list[-1]\n",
    "\n",
    "print(oldest_year)\n"
   ]
  },
  {
   "cell_type": "markdown",
   "id": "f31caa28",
   "metadata": {},
   "source": [
    "4. Make a list called things with these three strings as elements: \"mozzarella\", \"cinderella\", \"salmonella\"."
   ]
  },
  {
   "cell_type": "code",
   "execution_count": 10,
   "id": "84539bf6",
   "metadata": {},
   "outputs": [
    {
     "name": "stdout",
     "output_type": "stream",
     "text": [
      "['mozzarella', 'cinderella', 'salmonella']\n"
     ]
    }
   ],
   "source": [
    "things = [\"mozzarella\", \"cinderella\", \"salmonella\"]\n",
    "\n",
    "print(things)\n"
   ]
  },
  {
   "cell_type": "markdown",
   "id": "6b443243",
   "metadata": {},
   "source": [
    "5. Capitalize the element in things that refers to a person and then print the list. Did it change the element in the list?"
   ]
  },
  {
   "cell_type": "code",
   "execution_count": 11,
   "id": "6d68c6b4",
   "metadata": {},
   "outputs": [
    {
     "name": "stdout",
     "output_type": "stream",
     "text": [
      "['mozzarella', 'Cinderella', 'salmonella']\n"
     ]
    }
   ],
   "source": [
    "things = [\"mozzarella\", \"cinderella\", \"salmonella\"]\n",
    "\n",
    "things[1] = things[1].capitalize() # Cinderalla refers to a person here. \n",
    "\n",
    "print(things) # Yes, there was a chnage in the list of elements in things. \n"
   ]
  },
  {
   "cell_type": "markdown",
   "id": "e5fa5f13",
   "metadata": {},
   "source": [
    "6. Make a surprise list with the elements \"Groucho,\" \"Chico,\" and \"Harpo.\""
   ]
  },
  {
   "cell_type": "code",
   "execution_count": 12,
   "id": "1ac25f8f",
   "metadata": {},
   "outputs": [
    {
     "name": "stdout",
     "output_type": "stream",
     "text": [
      "['Groucho', 'Chico', 'Harpo']\n"
     ]
    }
   ],
   "source": [
    "surprise = [\"Groucho\", \"Chico\", \"Harpo\"]\n",
    "\n",
    "print(surprise)\n"
   ]
  },
  {
   "cell_type": "markdown",
   "id": "99b6cd91",
   "metadata": {},
   "source": [
    "7. Lowercase the last element of the surprise list, reverse it, and then capitalize it."
   ]
  },
  {
   "cell_type": "code",
   "execution_count": 13,
   "id": "bbfd5243",
   "metadata": {},
   "outputs": [
    {
     "name": "stdout",
     "output_type": "stream",
     "text": [
      "['Groucho', 'Chico', 'Oprah']\n"
     ]
    }
   ],
   "source": [
    "surprise = [\"Groucho\", \"Chico\", \"Harpo\"]\n",
    "\n",
    "last_element = surprise[-1]\n",
    "lowercased = last_element.lower()\n",
    "reversed_string = lowercased[::-1]\n",
    "capitalized = reversed_string.capitalize()\n",
    "\n",
    "surprise[-1] = capitalized\n",
    "\n",
    "print(surprise)\n"
   ]
  },
  {
   "cell_type": "markdown",
   "id": "ddb64902",
   "metadata": {},
   "source": [
    "8. Make an English-to-French dictionary called e2f and print it. Here are your starter words: dog is chien, cat is chat, and walrus is morse."
   ]
  },
  {
   "cell_type": "code",
   "execution_count": 14,
   "id": "0536c051",
   "metadata": {},
   "outputs": [
    {
     "name": "stdout",
     "output_type": "stream",
     "text": [
      "{'dog': 'chien', 'cat': 'chat', 'walrus': 'morse'}\n"
     ]
    }
   ],
   "source": [
    "e2f = {\n",
    "    'dog': 'chien',\n",
    "    'cat': 'chat',\n",
    "    'walrus': 'morse'\n",
    "}\n",
    "\n",
    "print(e2f)\n"
   ]
  },
  {
   "cell_type": "markdown",
   "id": "e2beef27",
   "metadata": {},
   "source": [
    "In this code, we define a dictionary e2f where the English words are the keys and their corresponding French translations are the values. Each key-value pair is separated by a colon (:) and enclosed in curly braces ({}). The dictionary is printed using the print() function.\n",
    "\n",
    "The output shows the e2f dictionary containing the English-to-French word mappings:\n",
    "    The dictionary e2f now holds the mapping from English words to their French translations."
   ]
  },
  {
   "cell_type": "markdown",
   "id": "ee4c87c6",
   "metadata": {},
   "source": [
    "9. Write the French word for walrus in your three-word dictionary e2f."
   ]
  },
  {
   "cell_type": "markdown",
   "id": "a3504294",
   "metadata": {},
   "source": [
    "n the e2f dictionary, the French word for \"walrus\" is \"morse\"."
   ]
  },
  {
   "cell_type": "markdown",
   "id": "13c07176",
   "metadata": {},
   "source": [
    "10. Make a French-to-English dictionary called f2e from e2f. Use the items method."
   ]
  },
  {
   "cell_type": "code",
   "execution_count": null,
   "id": "6aae4a25",
   "metadata": {},
   "outputs": [],
   "source": [
    "e2f = {\n",
    "    'dog': 'chien',\n",
    "    'cat': 'chat',\n",
    "    'walrus': 'morse'\n",
    "}\n",
    "\n",
    "f2e = {value: key for key, value in e2f.items()}\n",
    "\n",
    "print(f2e)\n"
   ]
  },
  {
   "cell_type": "code",
   "execution_count": null,
   "id": "5cc34739",
   "metadata": {},
   "outputs": [],
   "source": [
    "{'chien': 'dog', 'chat': 'cat', 'morse': 'walrus'}\n"
   ]
  },
  {
   "cell_type": "markdown",
   "id": "e13018c6",
   "metadata": {},
   "source": [
    "11. Print the English version of the French word chien using f2e."
   ]
  },
  {
   "cell_type": "markdown",
   "id": "1803d278",
   "metadata": {},
   "source": [
    "f2e = {'chien': 'dog', 'chat': 'cat', 'morse': 'walrus'}\n",
    "\n",
    "english_word = f2e['chien']\n",
    "\n",
    "print(english_word)\n"
   ]
  },
  {
   "cell_type": "markdown",
   "id": "c77ca3c8",
   "metadata": {},
   "source": [
    "12. Make and print a set of English words from the keys in e2f."
   ]
  },
  {
   "cell_type": "code",
   "execution_count": null,
   "id": "00680790",
   "metadata": {},
   "outputs": [],
   "source": [
    "To create and print a set of English words from the keys in the e2f dictionary, you can use the set() function to convert the keys to a set. Here's the code:"
   ]
  },
  {
   "cell_type": "code",
   "execution_count": 15,
   "id": "b384e494",
   "metadata": {},
   "outputs": [
    {
     "name": "stdout",
     "output_type": "stream",
     "text": [
      "{'cat', 'walrus', 'dog'}\n"
     ]
    }
   ],
   "source": [
    "e2f = {\n",
    "    'dog': 'chien',\n",
    "    'cat': 'chat',\n",
    "    'walrus': 'morse'\n",
    "}\n",
    "\n",
    "english_words = set(e2f.keys())\n",
    "\n",
    "print(english_words)\n"
   ]
  },
  {
   "cell_type": "code",
   "execution_count": null,
   "id": "718894ac",
   "metadata": {},
   "outputs": [],
   "source": []
  },
  {
   "cell_type": "code",
   "execution_count": null,
   "id": "666a4f34",
   "metadata": {},
   "outputs": [],
   "source": [
    "In this code, e2f.keys() returns a list-like view object that contains the keys from the e2f dictionary. By passing this view object to the set() function, we convert the keys into a set, eliminating any duplicate values.\n",
    "\n",
    "The resulting set, english_words, contains the English words from the keys in the e2f dictionary. When printed, the output is:"
   ]
  },
  {
   "cell_type": "code",
   "execution_count": 16,
   "id": "b94d5117",
   "metadata": {},
   "outputs": [
    {
     "data": {
      "text/plain": [
       "{'cat', 'dog', 'walrus'}"
      ]
     },
     "execution_count": 16,
     "metadata": {},
     "output_type": "execute_result"
    }
   ],
   "source": [
    "{'walrus', 'dog', 'cat'}"
   ]
  },
  {
   "cell_type": "markdown",
   "id": "86d00d21",
   "metadata": {},
   "source": [
    "13. Make a multilevel dictionary called life. Use these strings for the topmost keys: 'animals', 'plants', and 'other'. Make the 'animals' key refer to another dictionary with the keys 'cats', 'octopi', and 'emus'. Make the 'cats' key refer to a list of strings with the values 'Henri', 'Grumpy', and 'Lucy'. Make all the other keys refer to empty dictionaries."
   ]
  },
  {
   "cell_type": "markdown",
   "id": "78868b8c",
   "metadata": {},
   "source": [
    "To create a multilevel dictionary called life with the specified structure, you can use the following code:"
   ]
  },
  {
   "cell_type": "code",
   "execution_count": 17,
   "id": "1a887990",
   "metadata": {},
   "outputs": [
    {
     "name": "stdout",
     "output_type": "stream",
     "text": [
      "{'animals': {'cats': ['Henri', 'Grumpy', 'Lucy'], 'octopi': {}, 'emus': {}}, 'plants': {}, 'other': {}}\n"
     ]
    }
   ],
   "source": [
    "life = {\n",
    "    'animals': {\n",
    "        'cats': ['Henri', 'Grumpy', 'Lucy'],\n",
    "        'octopi': {},\n",
    "        'emus': {}\n",
    "    },\n",
    "    'plants': {},\n",
    "    'other': {}\n",
    "}\n",
    "\n",
    "print(life)\n"
   ]
  },
  {
   "cell_type": "code",
   "execution_count": null,
   "id": "4ea11eac",
   "metadata": {},
   "outputs": [],
   "source": [
    "14. Print the top-level keys of life."
   ]
  },
  {
   "cell_type": "markdown",
   "id": "8dad3e31",
   "metadata": {},
   "source": [
    "To print the top-level keys of the life dictionary, you can use the keys() method. Here's the code:"
   ]
  },
  {
   "cell_type": "code",
   "execution_count": 18,
   "id": "da1a5866",
   "metadata": {},
   "outputs": [
    {
     "name": "stdout",
     "output_type": "stream",
     "text": [
      "dict_keys(['animals', 'plants', 'other'])\n"
     ]
    }
   ],
   "source": [
    "life = {\n",
    "    'animals': {\n",
    "        'cats': ['Henri', 'Grumpy', 'Lucy'],\n",
    "        'octopi': {},\n",
    "        'emus': {}\n",
    "    },\n",
    "    'plants': {},\n",
    "    'other': {}\n",
    "}\n",
    "\n",
    "top_level_keys = life.keys()\n",
    "\n",
    "print(top_level_keys)\n"
   ]
  },
  {
   "cell_type": "code",
   "execution_count": null,
   "id": "f5d05243",
   "metadata": {},
   "outputs": [],
   "source": [
    "15. Print the keys for life['animals']."
   ]
  },
  {
   "cell_type": "code",
   "execution_count": 19,
   "id": "aea5bf23",
   "metadata": {},
   "outputs": [
    {
     "name": "stdout",
     "output_type": "stream",
     "text": [
      "dict_keys(['cats', 'octopi', 'emus'])\n"
     ]
    }
   ],
   "source": [
    "life = {\n",
    "    'animals': {\n",
    "        'cats': ['Henri', 'Grumpy', 'Lucy'],\n",
    "        'octopi': {},\n",
    "        'emus': {}\n",
    "    },\n",
    "    'plants': {},\n",
    "    'other': {}\n",
    "}\n",
    "\n",
    "animal_keys = life['animals'].keys()\n",
    "\n",
    "print(animal_keys)\n"
   ]
  },
  {
   "cell_type": "code",
   "execution_count": 20,
   "id": "41f87c4c",
   "metadata": {},
   "outputs": [
    {
     "name": "stdout",
     "output_type": "stream",
     "text": [
      "['Henri', 'Grumpy', 'Lucy']\n"
     ]
    }
   ],
   "source": [
    "life = { #Q16\n",
    "    'animals': {\n",
    "        'cats': ['Henri', 'Grumpy', 'Lucy'],\n",
    "        'octopi': {},\n",
    "        'emus': {}\n",
    "    },\n",
    "    'plants': {},\n",
    "    'other': {}\n",
    "}\n",
    "\n",
    "cat_values = life['animals']['cats']\n",
    "\n",
    "print(cat_values)\n"
   ]
  }
 ],
 "metadata": {
  "kernelspec": {
   "display_name": "Python 3 (ipykernel)",
   "language": "python",
   "name": "python3"
  },
  "language_info": {
   "codemirror_mode": {
    "name": "ipython",
    "version": 3
   },
   "file_extension": ".py",
   "mimetype": "text/x-python",
   "name": "python",
   "nbconvert_exporter": "python",
   "pygments_lexer": "ipython3",
   "version": "3.9.13"
  }
 },
 "nbformat": 4,
 "nbformat_minor": 5
}
