{
 "cells": [
  {
   "cell_type": "markdown",
   "id": "8f760ff6-b06a-4c32-b00f-09ff5d28847f",
   "metadata": {},
   "source": [
    "#Program_Assignment_16"
   ]
  },
  {
   "cell_type": "raw",
   "id": "4fdf2b69-5487-4e42-b6f1-77e7b509d820",
   "metadata": {},
   "source": [
    "Question 1:Question1. Write a function that stutters a word as if someone is struggling to read it. The first two letters are repeated twice with an ellipsis ... and space after each, and then the word is pronounced with a question mark ?.\n",
    "Examples\n",
    "stutter(\"incredible\") ➞ \"in... in... incredible?\"\n",
    "\n",
    "stutter(\"enthusiastic\") ➞ \"en... en... enthusiastic?\"\n",
    "\n",
    "stutter(\"outstanding\") ➞ \"ou... ou... outstanding?\"\n",
    "\n",
    "Hint :- Assume all input is in lower case and at least two characters long\n"
   ]
  },
  {
   "cell_type": "code",
   "execution_count": 34,
   "id": "80681ab0-b832-47ee-85bf-08696afe1c6b",
   "metadata": {},
   "outputs": [],
   "source": [
    "def struggling(word): # A method has been defined...\n",
    "    word1=word.lower() # Changing the words to lower case \n",
    "    s=word1[:2]\n",
    "    return (2 * (s + '... ')) + word1 + '?'"
   ]
  },
  {
   "cell_type": "code",
   "execution_count": 35,
   "id": "479961cb-97e1-448a-b98f-330543460b0c",
   "metadata": {},
   "outputs": [
    {
     "data": {
      "text/plain": [
       "'in... in... incridible?'"
      ]
     },
     "execution_count": 35,
     "metadata": {},
     "output_type": "execute_result"
    }
   ],
   "source": [
    "struggling(\"INCRIDIBLE\")"
   ]
  },
  {
   "cell_type": "code",
   "execution_count": 36,
   "id": "8efabcf6-c330-4af9-8396-8ae2c0ba73a3",
   "metadata": {},
   "outputs": [
    {
     "data": {
      "text/plain": [
       "'en... en... enthusiastic?'"
      ]
     },
     "execution_count": 36,
     "metadata": {},
     "output_type": "execute_result"
    }
   ],
   "source": [
    "struggling(\"enthusiastic\")"
   ]
  },
  {
   "cell_type": "raw",
   "id": "9fa0b917-d416-491f-8f21-9555cfeb5018",
   "metadata": {},
   "source": [
    "Question 2.Create a function that takes an angle in radians and returns the corresponding angle in degrees rounded to one decimal place.\n",
    "Examples\n",
    "radians_to_degrees(1) ➞ 57.3\n",
    "\n",
    "radians_to_degrees(20) ➞ 1145.9\n",
    "\n",
    "radians_to_degrees(50) ➞ 2864.8"
   ]
  },
  {
   "cell_type": "code",
   "execution_count": 13,
   "id": "2a54860b-79e8-4458-9885-ff9d4eabd80f",
   "metadata": {},
   "outputs": [],
   "source": [
    "def RadianToDegree(Radian): # A function created to change the RadianToDegree \n",
    "    pi=3.14159\n",
    "    degree =Radian * (180/pi)\n",
    "    return degree"
   ]
  },
  {
   "cell_type": "code",
   "execution_count": 14,
   "id": "7c341e95-f28a-46b3-90bd-a62bd1d47acf",
   "metadata": {},
   "outputs": [
    {
     "data": {
      "text/plain": [
       "1145.9165581759555"
      ]
     },
     "execution_count": 14,
     "metadata": {},
     "output_type": "execute_result"
    }
   ],
   "source": [
    "RadianToDegree(20)"
   ]
  },
  {
   "cell_type": "raw",
   "id": "4c67027a-7aad-44ae-9068-e4d11db07c23",
   "metadata": {},
   "source": [
    "Question 3. In this challenge, establish if a given integer num is a Curzon number. If 1 plus 2 elevated to num is exactly divisible by 1 plus 2 multiplied by num, then num is a Curzon number.\n",
    "Given a non-negative integer num, implement a function that returns True if num is a Curzon number, or False otherwise.\n",
    "Examples\n",
    "is_curzon(5) ➞ True\n",
    "# 2 ** 5 + 1 = 33\n",
    "# 2 * 5 + 1 = 11\n",
    "# 33 is a multiple of 11\n",
    "\n",
    "is_curzon(10) ➞ False\n",
    "# 2 ** 10 + 1 = 1025\n",
    "# 2 * 10 + 1 = 21\n",
    "# 1025 is not a multiple of 21\n",
    "\n",
    "is_curzon(14) ➞ True\n",
    "# 2 ** 14 + 1 = 16385\n",
    "# 2 * 14 + 1 = 29\n",
    "# 16385 is a multiple of 29\n"
   ]
  },
  {
   "cell_type": "code",
   "execution_count": 43,
   "id": "9a47e801-0ace-48c4-ad80-5dc71e31b72d",
   "metadata": {},
   "outputs": [],
   "source": [
    "def is_curzon(num):\n",
    "    a= 2 ** num + 1 \n",
    "    b= 2 * num + 1\n",
    "    if a%b == 0:\n",
    "        print(\"True\")\n",
    "        print(a, \"is a multiple of\", b )\n",
    "    else:\n",
    "        print(\"False\")\n",
    "        print(a, \" is not a multiple of\",b)"
   ]
  },
  {
   "cell_type": "code",
   "execution_count": 44,
   "id": "f05f4c7e-6a69-402c-bb43-86a166593ff4",
   "metadata": {},
   "outputs": [
    {
     "name": "stdout",
     "output_type": "stream",
     "text": [
      "True\n",
      "33 is a multiple of 11\n"
     ]
    }
   ],
   "source": [
    "is_curzon(5)"
   ]
  },
  {
   "cell_type": "code",
   "execution_count": 45,
   "id": "7618e315-3517-4238-a9b5-83b272d4c0e8",
   "metadata": {},
   "outputs": [
    {
     "name": "stdout",
     "output_type": "stream",
     "text": [
      "False\n",
      "1025  is not a multiple of 21\n"
     ]
    }
   ],
   "source": [
    "is_curzon(10)"
   ]
  },
  {
   "cell_type": "raw",
   "id": "aadce3c1-253a-46eb-abb7-9f255ba12ee6",
   "metadata": {},
   "source": [
    "Question 4.Given the side length x find the area of a hexagon.\n",
    " \n",
    "Examples\n",
    "area_of_hexagon(1) ➞ 2.6\n",
    "\n",
    "area_of_hexagon(2) ➞ 10.4\n",
    "\n",
    "area_of_hexagon(3) ➞ 23.4\n",
    "\n"
   ]
  },
  {
   "cell_type": "code",
   "execution_count": 47,
   "id": "96a61584-9938-41d3-a064-ccf279cefc55",
   "metadata": {},
   "outputs": [
    {
     "name": "stdout",
     "output_type": "stream",
     "text": [
      "Area: 2.5981\n"
     ]
    }
   ],
   "source": [
    "# Python3 program to find\n",
    "# area of a Hexagon\n",
    "import math\n",
    "\n",
    "# Function for calculating\n",
    "# area of the hexagon.\n",
    "def hexagonArea(s):\n",
    "\t\n",
    "\treturn ((3 * math.sqrt(3) *\n",
    "\t\t\t(s * s)) / 2);\n",
    "\t\n",
    "# Driver code\t\n",
    "if __name__ == \"__main__\" :\n",
    "\n",
    "\t# length of a side.\n",
    "\ts = 1\n",
    "\n",
    "\tprint(\"Area:\",\"{0:.4f}\" .\n",
    "\t\tformat(hexagonArea(s)))\n",
    "\n",
    "\n"
   ]
  },
  {
   "cell_type": "raw",
   "id": "3a6c6f24-c546-42b1-828b-d672bc785f33",
   "metadata": {},
   "source": [
    "Question 5. Create a function that returns a base-2 (binary) representation of a base-10 (decimal) string number. To convert is simple: ((2) means base-2 and (10) means base-10) 010101001(2) = 1 + 8 + 32 + 128.\n",
    "Going from right to left, the value of the most right bit is 1, now from that every bit to the left will be x2 the value, value of an 8 bit binary numbers are (256, 128, 64, 32, 16, 8, 4, 2, 1).\n",
    "Examples\n",
    "binary(1) ➞ \"1\"\n",
    "# 1*1 = 1\n",
    "\n",
    "binary(5) ➞ \"101\"\n",
    "# 1*1 + 1*4 = 5\n",
    "\n",
    "binary(10) ➞ \"1010\"\n",
    "# 1*2 + 1*8 = 10\n"
   ]
  }
 ],
 "metadata": {
  "kernelspec": {
   "display_name": "Python 3 (ipykernel)",
   "language": "python",
   "name": "python3"
  },
  "language_info": {
   "codemirror_mode": {
    "name": "ipython",
    "version": 3
   },
   "file_extension": ".py",
   "mimetype": "text/x-python",
   "name": "python",
   "nbconvert_exporter": "python",
   "pygments_lexer": "ipython3",
   "version": "3.10.6"
  }
 },
 "nbformat": 4,
 "nbformat_minor": 5
}
