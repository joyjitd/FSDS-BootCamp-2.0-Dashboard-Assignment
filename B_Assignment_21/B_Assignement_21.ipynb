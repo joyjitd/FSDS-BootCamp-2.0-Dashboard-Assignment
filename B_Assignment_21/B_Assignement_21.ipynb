{
 "cells": [
  {
   "cell_type": "code",
   "execution_count": null,
   "id": "4bbd5451",
   "metadata": {},
   "outputs": [],
   "source": [
    "1. Add the current date to the text file today.txt as a string."
   ]
  },
  {
   "cell_type": "code",
   "execution_count": 2,
   "id": "80b5e4f4",
   "metadata": {},
   "outputs": [
    {
     "name": "stdout",
     "output_type": "stream",
     "text": [
      "DATATIME HAS BEEN inserted into the today.txt successfully.\n"
     ]
    }
   ],
   "source": [
    "import datetime\n",
    "\n",
    "# Get the current date\n",
    "current_date = datetime.date.today().strftime(\"%Y-%m-%d\")\n",
    "\n",
    "# Open the file in append mode and write the current date\n",
    "with open(\"today.txt\", \"a\") as file:\n",
    "    file.write(current_date + \"\\n\")\n",
    "print(\"DATATIME HAS BEEN inserted into the today.txt successfully.\")"
   ]
  },
  {
   "cell_type": "markdown",
   "id": "231d8a9e",
   "metadata": {},
   "source": [
    "2. Read the text file today.txt into the string today_string"
   ]
  },
  {
   "cell_type": "code",
   "execution_count": 3,
   "id": "a3d89014",
   "metadata": {},
   "outputs": [
    {
     "name": "stdout",
     "output_type": "stream",
     "text": [
      "2023-07-03\n",
      "2023-07-03\n",
      "\n"
     ]
    }
   ],
   "source": [
    "with open('today.txt', 'r') as file:\n",
    "    today_string = file.read()\n",
    "\n",
    "print(today_string)\n",
    "# As the previous question was run two times. Two Results has appeared. "
   ]
  },
  {
   "cell_type": "markdown",
   "id": "c28b17de",
   "metadata": {},
   "source": [
    "3. Parse the date from today_string."
   ]
  },
  {
   "cell_type": "code",
   "execution_count": 6,
   "id": "6fccd5b6",
   "metadata": {},
   "outputs": [
    {
     "name": "stdout",
     "output_type": "stream",
     "text": [
      "2023-07-03\n"
     ]
    }
   ],
   "source": [
    "from datetime import datetime\n",
    "\n",
    "today_string = \"2023-07-03\"\n",
    "\n",
    "# Assuming the date format in today_string is \"YYYY-MM-DD\"\n",
    "date_format = \"%Y-%m-%d\"\n",
    "parsed_date = datetime.strptime(today_string, date_format).date()\n",
    "\n",
    "print(parsed_date)\n"
   ]
  },
  {
   "cell_type": "markdown",
   "id": "bc0e4460",
   "metadata": {},
   "source": [
    "4. List the files in your current directory"
   ]
  },
  {
   "cell_type": "code",
   "execution_count": 7,
   "id": "3dded1b9",
   "metadata": {},
   "outputs": [
    {
     "name": "stdout",
     "output_type": "stream",
     "text": [
      ".bash_history\n",
      ".condarc\n",
      ".gitconfig\n",
      ".ipynb_checkpoints\n",
      "Assignment_7.ipynb\n",
      "books.csv\n",
      "books.db\n",
      "B_Assignement_10 .ipynb\n",
      "B_Assignement_11.ipynb\n",
      "B_Assignement_12.ipynb\n",
      "B_Assignement_13.ipynb\n",
      "B_Assignement_15.ipynb\n",
      "B_Assignement_16.ipynb\n",
      "B_Assignement_17.ipynb\n",
      "B_Assignement_21.ipynb\n",
      "B_Assignement_9.ipynb\n",
      "B_Assignment_14.ipynb\n",
      "B_Assignment_18.ipynb\n",
      "B_Assignment_19.ipynb\n",
      "B_Assignment_20.ipynb\n",
      "CYBERLINK .ipynb\n",
      "file.txt.txt\n",
      "mydata.bak\n",
      "mydata.dat\n",
      "mydata.dir\n",
      "test.txt\n",
      "today.txt\n"
     ]
    }
   ],
   "source": [
    "import os\n",
    "\n",
    "# Get the current directory\n",
    "current_directory = os.getcwd()\n",
    "\n",
    "# List the files in the current directory\n",
    "files = os.listdir(current_directory)\n",
    "\n",
    "# Print the files\n",
    "for file in files:\n",
    "    print(file)\n"
   ]
  },
  {
   "cell_type": "markdown",
   "id": "ab804cf7",
   "metadata": {},
   "source": [
    "5. Create a list of all of the files in your parent directory (minimum five files should be available)."
   ]
  },
  {
   "cell_type": "code",
   "execution_count": 8,
   "id": "ad4d98b9",
   "metadata": {},
   "outputs": [
    {
     "name": "stdout",
     "output_type": "stream",
     "text": [
      "desktop.ini\n",
      "Full Stack Data Science Boot Camp 2.0 - INEURON\n",
      "IVY_EXCEL\n",
      "IVY_POWEBI\n",
      "IVY_SQL_Assignments\n",
      "Jupyter Notebook (anaconda3).lnk\n",
      "Jupyter Notebook File\n",
      "Peerless Skill Acedemy\n"
     ]
    }
   ],
   "source": [
    "import os\n",
    "\n",
    "# Get the current directory\n",
    "current_directory = os.getcwd()\n",
    "\n",
    "# Get the parent directory\n",
    "parent_directory = os.path.dirname(current_directory)\n",
    "\n",
    "# List the files in the parent directory\n",
    "files = os.listdir(parent_directory)\n",
    "\n",
    "# Print the files\n",
    "for file in files:\n",
    "    print(file)\n"
   ]
  },
  {
   "cell_type": "markdown",
   "id": "a240c1f6",
   "metadata": {},
   "source": [
    "6. Use multiprocessing to create three separate processes. Make each one wait a random number of seconds between one and five, print the current time, and then exit."
   ]
  },
  {
   "cell_type": "code",
   "execution_count": 10,
   "id": "e93b0acd",
   "metadata": {},
   "outputs": [],
   "source": [
    "import multiprocessing\n",
    "import random\n",
    "import time\n",
    "from datetime import datetime\n",
    "\n",
    "def process_function():\n",
    "    # Generate a random sleep time between 1 and 5 seconds\n",
    "    sleep_time = random.randint(1, 5)\n",
    "\n",
    "    # Wait for the sleep time\n",
    "    time.sleep(sleep_time)\n",
    "\n",
    "    # Print the current time\n",
    "    current_time = datetime.now().strftime(\"%Y-%m-%d %H:%M:%S\")\n",
    "    print(\"Process ID:\", multiprocessing.current_process().pid, \"Current Time:\", current_time)\n",
    "\n",
    "if __name__ == \"__main__\":\n",
    "    # Create three separate processes\n",
    "    processes = [multiprocessing.Process(target=process_function) for _ in range(3)]\n",
    "\n",
    "    # Start each process\n",
    "    for process in processes:\n",
    "        process.start()\n",
    "\n",
    "    # Wait for each process to finish\n",
    "    for process in processes:\n",
    "        process.join()\n"
   ]
  },
  {
   "cell_type": "markdown",
   "id": "6f42c5e6",
   "metadata": {},
   "source": [
    "7. Create a date object of your day of birth."
   ]
  },
  {
   "cell_type": "code",
   "execution_count": 13,
   "id": "0500e966",
   "metadata": {},
   "outputs": [
    {
     "name": "stdout",
     "output_type": "stream",
     "text": [
      "1994-11-30\n"
     ]
    }
   ],
   "source": [
    "from datetime import date\n",
    "\n",
    "# Replace the year, month, and day with your own birthdate\n",
    "birthdate = date(1994, 11, 30)\n",
    "\n",
    "print(birthdate)\n"
   ]
  },
  {
   "cell_type": "markdown",
   "id": "1232c1b7",
   "metadata": {},
   "source": [
    "8. What day of the week was your day of birth?"
   ]
  },
  {
   "cell_type": "code",
   "execution_count": 14,
   "id": "2a3ddf18",
   "metadata": {},
   "outputs": [
    {
     "name": "stdout",
     "output_type": "stream",
     "text": [
      "Wednesday\n"
     ]
    }
   ],
   "source": [
    "from datetime import date\n",
    "\n",
    "# Replace the year, month, and day with your own birthdate\n",
    "\n",
    "# Determine the day of the week\n",
    "day_of_week = birthdate.strftime(\"%A\")\n",
    "\n",
    "print(day_of_week)\n"
   ]
  },
  {
   "cell_type": "markdown",
   "id": "ccd23f36",
   "metadata": {},
   "source": [
    "9. When will you be (or when were you) 10,000 days old?"
   ]
  },
  {
   "cell_type": "code",
   "execution_count": 15,
   "id": "4bbbaf70",
   "metadata": {},
   "outputs": [
    {
     "name": "stdout",
     "output_type": "stream",
     "text": [
      "2022-04-17\n"
     ]
    }
   ],
   "source": [
    "from datetime import date, timedelta\n",
    "\n",
    "# Replace the year, month, and day with your own starting date\n",
    "starting_date = date(1994, 11, 30)\n",
    "\n",
    "# Calculate the target date\n",
    "target_date = starting_date + timedelta(days=10000)\n",
    "\n",
    "print(target_date)\n"
   ]
  }
 ],
 "metadata": {
  "kernelspec": {
   "display_name": "Python 3 (ipykernel)",
   "language": "python",
   "name": "python3"
  },
  "language_info": {
   "codemirror_mode": {
    "name": "ipython",
    "version": 3
   },
   "file_extension": ".py",
   "mimetype": "text/x-python",
   "name": "python",
   "nbconvert_exporter": "python",
   "pygments_lexer": "ipython3",
   "version": "3.9.13"
  }
 },
 "nbformat": 4,
 "nbformat_minor": 5
}
