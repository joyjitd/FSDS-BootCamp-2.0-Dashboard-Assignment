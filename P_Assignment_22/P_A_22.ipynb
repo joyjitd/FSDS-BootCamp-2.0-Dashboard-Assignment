{
 "cells": [
  {
   "cell_type": "markdown",
   "id": "00026116-2f7f-41ea-86d9-15c4d51db680",
   "metadata": {},
   "source": [
    "## Program Assignment 22"
   ]
  },
  {
   "cell_type": "code",
   "execution_count": null,
   "id": "1232cff3-402d-4617-b121-248eeec503db",
   "metadata": {},
   "outputs": [],
   "source": [
    "Question1\n",
    "Create a function that takes three parameters where:\n",
    "•\tx is the start of the range (inclusive).\n",
    "•\ty is the end of the range (inclusive).\n",
    "•\tn is the divisor to be checked against.\n",
    "Return an ordered list with numbers in the range that are divisible by the third parameter n. Return an empty list if there are no numbers that are divisible by n.\n",
    "Examples\n",
    "list_operation(1, 10, 3) ➞ [3, 6, 9]\n",
    "\n",
    "list_operation(7, 9, 2) ➞ [8]\n",
    "\n",
    "list_operation(15, 20, 7) ➞ []"
   ]
  },
  {
   "cell_type": "code",
   "execution_count": 1,
   "id": "37d9ec74-6990-4cf7-b77f-4ed04917cb08",
   "metadata": {},
   "outputs": [],
   "source": [
    "def list_operation(x, y, n):\n",
    "    nums = []\n",
    "    for num in range(x, y+1):\n",
    "        if num % n == 0:\n",
    "            nums.append(num)\n",
    "    return nums"
   ]
  },
  {
   "cell_type": "code",
   "execution_count": 2,
   "id": "9b0aef3b-f2cb-4072-91a4-e443f778edb1",
   "metadata": {},
   "outputs": [
    {
     "name": "stdout",
     "output_type": "stream",
     "text": [
      "[3, 6, 9]\n"
     ]
    }
   ],
   "source": [
    "print(list_operation(1, 10, 3))"
   ]
  },
  {
   "cell_type": "markdown",
   "id": "51ded3fd-6d74-4aa4-9ac3-a693a238fb10",
   "metadata": {},
   "source": [
    "Question2\n",
    "Create a function that takes in two lists and returns True \n",
    "if the second list follows the first list by one element, and False otherwise. \n",
    "In other words, determine if the second list is the first list shifted to the right by 1.\n",
    "Examples\n",
    "simon_says([1, 2], [5, 1]) ➞ True\n",
    "simon_says([1, 2], [5, 5]) ➞ False\n",
    "simon_says([1, 2, 3, 4, 5], [0, 1, 2, 3, 4]) ➞ True\n",
    "simon_says([1, 2, 3, 4, 5], [5, 5, 1, 2, 3]) ➞ False\n",
    "Notes\n",
    "•\tBoth input lists will be of the same length, and will have a minimum length of 2.\n",
    "•\tThe values of the 0-indexed element in the second list and the n-1th indexed element in the first list do not matter."
   ]
  },
  {
   "cell_type": "code",
   "execution_count": 3,
   "id": "a0ab55f5-d982-482e-9236-8266be64c159",
   "metadata": {},
   "outputs": [],
   "source": [
    "def simon_says(lst1, lst2):\n",
    "    return lst1[:-1] == lst2[1:]"
   ]
  },
  {
   "cell_type": "code",
   "execution_count": 4,
   "id": "805268e6-6314-49c5-89df-7e876a4ea118",
   "metadata": {},
   "outputs": [
    {
     "name": "stdout",
     "output_type": "stream",
     "text": [
      "False\n"
     ]
    }
   ],
   "source": [
    "print(simon_says([1, 2], [5, 5]))"
   ]
  },
  {
   "cell_type": "markdown",
   "id": "78841f76-2f61-409f-961d-b6c54388afc0",
   "metadata": {},
   "source": [
    "#Question3\n",
    "A group of friends have decided to start a secret society. The name will be the first letter of each of their names, sorted in alphabetical order.\n",
    "Create a function that takes in a list of names and returns the name of the secret society.\n",
    "Examples\n",
    "society_name([\"Adam\", \"Sarah\", \"Malcolm\"]) ➞ \"AMS\"\n",
    "\n",
    "society_name([\"Harry\", \"Newt\", \"Luna\", \"Cho\"]) ➞ \"CHLN\"\n",
    "\n",
    "society_name([\"Phoebe\", \"Chandler\", \"Rachel\", \"Ross\", \"Monica\", \"Joey\"])"
   ]
  },
  {
   "cell_type": "code",
   "execution_count": 6,
   "id": "cbd01db7-5447-4a39-b5b8-ab861155da4b",
   "metadata": {},
   "outputs": [],
   "source": [
    "def society_name(names):\n",
    "    initials = [name[0] for name in names]  # Get first letter of each name\n",
    "    initials.sort()  # Sort the initials alphabetically\n",
    "    return ''.join(initials)  # Join the initials into a single string and return it"
   ]
  },
  {
   "cell_type": "code",
   "execution_count": 7,
   "id": "b8a38d92-90fb-490c-8bd3-47ad20af3690",
   "metadata": {},
   "outputs": [
    {
     "name": "stdout",
     "output_type": "stream",
     "text": [
      "AMS\n"
     ]
    }
   ],
   "source": [
    "print(society_name([\"Adam\", \"Sarah\", \"Malcolm\"]))"
   ]
  },
  {
   "cell_type": "code",
   "execution_count": null,
   "id": "4c05ad8e-b3d7-488a-8e1a-2836330c823c",
   "metadata": {},
   "outputs": [],
   "source": [
    "#Question4\n",
    "An isogram is a word that has no duplicate letters. Create a function that takes a string and returns either True or False depending on whether or not it's an \"isogram\".\n",
    "Examples\n",
    "is_isogram(\"Algorism\") ➞ True\n",
    "\n",
    "is_isogram(\"PasSword\") ➞ False\n",
    "# Not case sensitive.\n",
    "\n",
    "is_isogram(\"Consecutive\") ➞ False\n",
    "Notes\n",
    "•\tIgnore letter case (should not be case sensitive).\n",
    "•\tAll test cases contain valid one word strings.\n"
   ]
  },
  {
   "cell_type": "code",
   "execution_count": 8,
   "id": "950c73b3-ea72-4b30-8ed4-3d59cbf3115b",
   "metadata": {},
   "outputs": [],
   "source": [
    "def is_isogram(word):\n",
    "    # Convert the word to lowercase and remove any non-alphabetic characters\n",
    "    word = ''.join(c for c in word if c.isalpha()).lower()\n",
    "    # Check if the length of the set of letters in the word is equal to the length of the word\n",
    "    return len(set(word)) == len(word)"
   ]
  },
  {
   "cell_type": "code",
   "execution_count": 9,
   "id": "db7ca674-4242-480a-ad47-e052355b7f59",
   "metadata": {},
   "outputs": [
    {
     "name": "stdout",
     "output_type": "stream",
     "text": [
      "True\n"
     ]
    }
   ],
   "source": [
    "print(is_isogram(\"Algorism\"))"
   ]
  },
  {
   "cell_type": "markdown",
   "id": "46db3226-2d31-4375-9409-8df17d53cedd",
   "metadata": {},
   "source": [
    "#Question5\n",
    "Create a function that takes a string and returns True or False, depending on whether the characters are in order or not.\n",
    "Examples\n",
    "is_in_order(\"abc\") ➞ True\n",
    "is_in_order(\"edabit\") ➞ False\n",
    "is_in_order(\"123\") ➞ Truea\n",
    "is_in_order(\"xyzz\") ➞ True\n",
    "Notes\n",
    "You don't have to handle empty strings."
   ]
  },
  {
   "cell_type": "code",
   "execution_count": 10,
   "id": "662c6130-8e84-4e5d-a443-c7f831784ef8",
   "metadata": {},
   "outputs": [],
   "source": [
    "def is_in_order(txt):\n",
    "    # Convert the input string to a list of characters\n",
    "    chars = list(txt)\n",
    "    # Iterate over the list of characters\n",
    "    for i in range(1, len(chars)):\n",
    "        # If the current character is less than the previous character, the list is not in order\n",
    "        if chars[i] < chars[i-1]:\n",
    "            return False\n",
    "    # If we get to the end of the loop without returning False, the list is in order\n",
    "    return True\n"
   ]
  },
  {
   "cell_type": "code",
   "execution_count": 11,
   "id": "1074cbd7-52c4-4e50-8581-99549db20248",
   "metadata": {},
   "outputs": [
    {
     "name": "stdout",
     "output_type": "stream",
     "text": [
      "False\n"
     ]
    }
   ],
   "source": [
    "print(is_in_order(\"edabit\"))"
   ]
  },
  {
   "cell_type": "code",
   "execution_count": null,
   "id": "af6e5524-482d-434c-b516-3b254e349785",
   "metadata": {},
   "outputs": [],
   "source": []
  }
 ],
 "metadata": {
  "kernelspec": {
   "display_name": "Python 3 (ipykernel)",
   "language": "python",
   "name": "python3"
  },
  "language_info": {
   "codemirror_mode": {
    "name": "ipython",
    "version": 3
   },
   "file_extension": ".py",
   "mimetype": "text/x-python",
   "name": "python",
   "nbconvert_exporter": "python",
   "pygments_lexer": "ipython3",
   "version": "3.10.6"
  }
 },
 "nbformat": 4,
 "nbformat_minor": 5
}
