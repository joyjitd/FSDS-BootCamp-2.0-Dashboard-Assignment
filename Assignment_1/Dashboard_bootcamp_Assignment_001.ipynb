{
 "cells": [
  {
   "cell_type": "markdown",
   "metadata": {
    "id": "pjbS8V_P-twt"
   },
   "source": [
    "#**Dashboard_bootcamp_Assignment_001**"
   ]
  },
  {
   "cell_type": "markdown",
   "metadata": {
    "id": "SQMsCg8B6vMj"
   },
   "source": [
    "1. In the below elements which of them are values or an expression? eg:- values can be integer or string and expressions will be mathematical operators.\n",
    "* \n",
    "#'hello'\n",
    "#-87.8\n",
    "#- \n",
    "#/ \n",
    "#+\t\n",
    "#6 \n"
   ]
  },
  {
   "cell_type": "markdown",
   "metadata": {
    "id": "NKD8W9i56xnv"
   },
   "source": [
    "## ***Answer ***\n",
    "###'hello' ||   Value Datatype (STRING)\n",
    "\n",
    "###-87.8   ||   Value Datatype (INTEGER)\n",
    "\n",
    "###-    ||   Expression (Subtraction Mathamatical Operation)\n",
    "\n",
    "###/    ||  Expression (Division Mathamatical Operation)\n",
    "\n",
    "###+\t   ||  Expression (Additioon Mathamatical Operation)\n",
    "\n",
    "###6    ||  Value Datatype (INTEGER)"
   ]
  },
  {
   "cell_type": "markdown",
   "metadata": {
    "id": "BLczGTe98AYQ"
   },
   "source": [
    "## 2. What is the difference between string and variable?\n",
    "# Answer \n",
    "A string is a data type which is used to store a value of a sequence of character such as \"My name is Joyjit\". In strings the character might be repeated stored in the variable assignement. \n",
    "\n",
    "  Whereas \n",
    "\n",
    "  Variable is a data value which might change as per the condition or information passed in the program.\n"
   ]
  },
  {
   "cell_type": "markdown",
   "metadata": {
    "id": "48AhXmGO9J3D"
   },
   "source": [
    "## 3. Describe three different data types.\n",
    "#Answer\n",
    "The three difference data type are String, Integer, Float and Boolean. \n",
    "String assinged characteristics data such as alphabits and characterics. \n",
    "Integers assignes numerical data such as 1,20 and in this data type mathametical operation can be done. \n",
    "Float data type contains decimal data for helps to do decimal mathametical operation in python. \n",
    "Boolean data type can only store values in True(1) or False (0) character. \n"
   ]
  },
  {
   "cell_type": "markdown",
   "metadata": {
    "id": "AUL2goLD98Nz"
   },
   "source": [
    "## 4. What is an expression made up of? What do all expressions do?\n",
    " \n",
    " ![image.png](data:image/png;base64,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)\n",
    " "
   ]
  },
  {
   "cell_type": "markdown",
   "metadata": {
    "id": "z9a9oRj7-cBr"
   },
   "source": [
    "% Operation helps to find the remainder of a division operation. \n"
   ]
  },
  {
   "cell_type": "markdown",
   "metadata": {
    "id": "oTZtpF1j_CrS"
   },
   "source": [
    "## 5. This assignment statements, like spam = 10. What is the difference between an expression and a statement?"
   ]
  },
  {
   "cell_type": "code",
   "execution_count": null,
   "metadata": {
    "id": "nWemr8RY_HXU"
   },
   "outputs": [],
   "source": [
    "spam = 10 # spam is the variable name and 10 is the value which is assigned to the variable assigned.\n",
    "# spam =10 is a statement as like creating a variable or displaying a value. \n",
    "#On the other hand, a expression is something where mathamatical operation is takinh place 3+5 is an expression. An Expression always evaluates to a value. "
   ]
  },
  {
   "cell_type": "markdown",
   "metadata": {
    "id": "oq9W8cMkAJot"
   },
   "source": [
    "## 6. After running the following code, what does the variable bacon contain?\n",
    "bacon = 22\n",
    "bacon + 1"
   ]
  },
  {
   "cell_type": "code",
   "execution_count": null,
   "metadata": {
    "colab": {
     "base_uri": "https://localhost:8080/"
    },
    "id": "PytYJyPgAQ1n",
    "outputId": "91fab132-7b03-4d7f-afa7-2794942ee057"
   },
   "outputs": [
    {
     "data": {
      "text/plain": [
       "23"
      ]
     },
     "execution_count": 2,
     "metadata": {},
     "output_type": "execute_result"
    }
   ],
   "source": [
    "bacon = 22\n",
    "bacon + 1 # 22 + 1 =23 "
   ]
  },
  {
   "cell_type": "markdown",
   "metadata": {
    "id": "FmVSWGuWAX55"
   },
   "source": [
    "Value of the bacon variable is 22. In the second line of the code we are addition 1 to bacon variable for which 22+1 =23 is being displayed. But if bacon is printed then value is still reamins as 22 as it has not been changed. \n"
   ]
  },
  {
   "cell_type": "code",
   "execution_count": null,
   "metadata": {
    "colab": {
     "base_uri": "https://localhost:8080/"
    },
    "id": "2TdbJ1HnAvcJ",
    "outputId": "75793084-9cd0-48bf-8396-05dd304ec6c5"
   },
   "outputs": [
    {
     "data": {
      "text/plain": [
       "22"
      ]
     },
     "execution_count": 3,
     "metadata": {},
     "output_type": "execute_result"
    }
   ],
   "source": [
    "bacon"
   ]
  },
  {
   "cell_type": "markdown",
   "metadata": {
    "id": "zY-Slb8cAy64"
   },
   "source": [
    "\n",
    "## 7. What should the values of the following two terms be?\n",
    "'spam' + 'spamspam'\n",
    "'spam' * 3"
   ]
  },
  {
   "cell_type": "markdown",
   "metadata": {
    "id": "nyB66cwy-8PP"
   },
   "source": []
  },
  {
   "cell_type": "code",
   "execution_count": null,
   "metadata": {
    "colab": {
     "base_uri": "https://localhost:8080/",
     "height": 35
    },
    "id": "o4bafY4G-mnk",
    "outputId": "272c7249-2229-49de-9d9c-b7b14bfb8c65"
   },
   "outputs": [
    {
     "data": {
      "application/vnd.google.colaboratory.intrinsic+json": {
       "type": "string"
      },
      "text/plain": [
       "'spamspamspam'"
      ]
     },
     "execution_count": 5,
     "metadata": {},
     "output_type": "execute_result"
    }
   ],
   "source": [
    "'spam' + 'spamspam' # Two strings are being attached to form spamspamspam"
   ]
  },
  {
   "cell_type": "code",
   "execution_count": null,
   "metadata": {
    "colab": {
     "base_uri": "https://localhost:8080/",
     "height": 35
    },
    "id": "vUodMMbsHRxk",
    "outputId": "e2111691-0bf7-409a-cfc1-17e5514393ff"
   },
   "outputs": [
    {
     "data": {
      "application/vnd.google.colaboratory.intrinsic+json": {
       "type": "string"
      },
      "text/plain": [
       "'spamspamspam'"
      ]
     },
     "execution_count": 6,
     "metadata": {},
     "output_type": "execute_result"
    }
   ],
   "source": [
    " 'spam' * 3 # spam string  is being repeated 3 times to make it spamspamspam "
   ]
  },
  {
   "cell_type": "markdown",
   "metadata": {
    "id": "ZtzT1p8LHhNn"
   },
   "source": [
    "## 8. Why is eggs a valid variable name while 100 is invalid?\n",
    "# Answers \n",
    "eggs is a valid vairables name because it is an alphebet word and 100 is a numetric. The are certain contains which need to be fullfilled to create a variable in python which is represented in the following image.\n",
    "![image.png](data:image/png;base64,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)"
   ]
  },
  {
   "cell_type": "markdown",
   "metadata": {
    "id": "UErWh2I2_B4q"
   },
   "source": [
    "## 9. What three functions can be used to get the integer, floating-point number, or string version of a value?\n",
    "#Answer\n",
    "int(), float() and str() "
   ]
  },
  {
   "cell_type": "markdown",
   "metadata": {
    "id": "R--pHVzHJJ_o"
   },
   "source": [
    "## 10. Why does this expression cause an error? How can you fix it?\n",
    "\n",
    "'I have eaten ' + 99 + ' burritos.'\n",
    "\n"
   ]
  },
  {
   "cell_type": "code",
   "execution_count": null,
   "metadata": {
    "colab": {
     "base_uri": "https://localhost:8080/",
     "height": 166
    },
    "id": "NSikl63EI5Jb",
    "outputId": "27dbe0d8-06f9-4ed6-e371-8187842bbdc7"
   },
   "outputs": [
    {
     "ename": "TypeError",
     "evalue": "ignored",
     "output_type": "error",
     "traceback": [
      "\u001b[0;31m---------------------------------------------------------------------------\u001b[0m",
      "\u001b[0;31mTypeError\u001b[0m                                 Traceback (most recent call last)",
      "\u001b[0;32m<ipython-input-7-d24137131a5c>\u001b[0m in \u001b[0;36m<module>\u001b[0;34m\u001b[0m\n\u001b[0;32m----> 1\u001b[0;31m \u001b[0;34m'I have eaten '\u001b[0m \u001b[0;34m+\u001b[0m \u001b[0;36m99\u001b[0m \u001b[0;34m+\u001b[0m \u001b[0;34m' burritos.'\u001b[0m\u001b[0;34m\u001b[0m\u001b[0;34m\u001b[0m\u001b[0m\n\u001b[0m",
      "\u001b[0;31mTypeError\u001b[0m: can only concatenate str (not \"int\") to str"
     ]
    }
   ],
   "source": [
    "'I have eaten ' + 99 + ' burritos.' # These error occured because two data type cannot be concatrenate at the same time. It has to be typecasted in order to merge. "
   ]
  },
  {
   "cell_type": "code",
   "execution_count": null,
   "metadata": {
    "colab": {
     "base_uri": "https://localhost:8080/",
     "height": 35
    },
    "id": "ZU77LTZAJcye",
    "outputId": "f7435859-b10c-4034-8d12-d05580ef8f24"
   },
   "outputs": [
    {
     "data": {
      "application/vnd.google.colaboratory.intrinsic+json": {
       "type": "string"
      },
      "text/plain": [
       "'I have eaten 99 burritos.'"
      ]
     },
     "execution_count": 8,
     "metadata": {},
     "output_type": "execute_result"
    }
   ],
   "source": [
    "'I have eaten ' + \"99\" + ' burritos.' # Solved it by making 99 as string by using \"99\"."
   ]
  },
  {
   "cell_type": "markdown",
   "metadata": {
    "id": "dSYXQ45C-sv2"
   },
   "source": []
  }
 ],
 "metadata": {
  "colab": {
   "provenance": []
  },
  "kernelspec": {
   "display_name": "Python 3 (ipykernel)",
   "language": "python",
   "name": "python3"
  },
  "language_info": {
   "codemirror_mode": {
    "name": "ipython",
    "version": 3
   },
   "file_extension": ".py",
   "mimetype": "text/x-python",
   "name": "python",
   "nbconvert_exporter": "python",
   "pygments_lexer": "ipython3",
   "version": "3.9.12"
  }
 },
 "nbformat": 4,
 "nbformat_minor": 1
}
