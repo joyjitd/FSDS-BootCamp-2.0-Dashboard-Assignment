{
  "nbformat": 4,
  "nbformat_minor": 0,
  "metadata": {
    "colab": {
      "provenance": []
    },
    "kernelspec": {
      "name": "python3",
      "display_name": "Python 3"
    },
    "language_info": {
      "name": "python"
    }
  },
  "cells": [
    {
      "cell_type": "markdown",
      "source": [
        "# Dashboard_bootcamp_Assignment_004"
      ],
      "metadata": {
        "id": "oiPUU9Q-KRyX"
      }
    },
    {
      "cell_type": "markdown",
      "source": [
        "#1. What does an empty dictionary's code look like?\n",
        "#Answer \n"
      ],
      "metadata": {
        "id": "64eTLebsKTrH"
      }
    },
    {
      "cell_type": "code",
      "source": [
        "s1={} # empty dictionary's code\n",
        "type(s1)"
      ],
      "metadata": {
        "colab": {
          "base_uri": "https://localhost:8080/"
        },
        "id": "FoFROHdRKpAa",
        "outputId": "2ccf0137-6d36-4c26-e3a9-4e1afae11381"
      },
      "execution_count": 1,
      "outputs": [
        {
          "output_type": "execute_result",
          "data": {
            "text/plain": [
              "dict"
            ]
          },
          "metadata": {},
          "execution_count": 1
        }
      ]
    },
    {
      "cell_type": "markdown",
      "source": [
        "#2. What is the value of a dictionary value with the key 'foo' and the value 42?\n",
        "#Answer\n",
        "\n"
      ],
      "metadata": {
        "id": "9kmNdWUKKyLV"
      }
    },
    {
      "cell_type": "code",
      "source": [
        "a= {'foo':42} #{key:Value}\n",
        "print(f\"The key is 'foo' and the value is {a['foo']}\")\n",
        "type(a)"
      ],
      "metadata": {
        "colab": {
          "base_uri": "https://localhost:8080/"
        },
        "id": "Qsp3KkeOLSJP",
        "outputId": "db3714a1-24b8-460b-af18-a6b906d42f64"
      },
      "execution_count": 6,
      "outputs": [
        {
          "output_type": "stream",
          "name": "stdout",
          "text": [
            "The key is 'foo' and the value is 42\n"
          ]
        },
        {
          "output_type": "execute_result",
          "data": {
            "text/plain": [
              "dict"
            ]
          },
          "metadata": {},
          "execution_count": 6
        }
      ]
    },
    {
      "cell_type": "markdown",
      "source": [
        "#3.3. What is the most significant distinction between a dictionary and a list?\n",
        "# Answer \n",
        "List is created by placing elements in [ ] separated by commas “, “\n",
        "List Items. List items are ordered, changeable, and allow duplicate values. List items are indexed,\n",
        "----------\n",
        "WHEREAS\n",
        "----------\n",
        "Dictionary is created by placing elements in { } as “key”:”value”, each key value pair is separated by commas “, “\n",
        "Dictionary : iten in dictionary are unordered\n"
      ],
      "metadata": {
        "id": "rf15kHgnShHz"
      }
    },
    {
      "cell_type": "code",
      "source": [
        "a = [1,2,3,4,5]\n",
        "type(a)"
      ],
      "metadata": {
        "colab": {
          "base_uri": "https://localhost:8080/"
        },
        "id": "yKAWbbsmTbkO",
        "outputId": "e424a4a6-e9c4-4126-e60e-9cdab7c45c59"
      },
      "execution_count": 7,
      "outputs": [
        {
          "output_type": "execute_result",
          "data": {
            "text/plain": [
              "list"
            ]
          },
          "metadata": {},
          "execution_count": 7
        }
      ]
    },
    {
      "cell_type": "code",
      "source": [
        "d ={'A':1, 'B':2, 'C':3} \n",
        "type(d)"
      ],
      "metadata": {
        "colab": {
          "base_uri": "https://localhost:8080/"
        },
        "id": "nBxx38ShTg0q",
        "outputId": "6420f8b1-e9e3-4202-f3ff-7dd64019af03"
      },
      "execution_count": 9,
      "outputs": [
        {
          "output_type": "execute_result",
          "data": {
            "text/plain": [
              "dict"
            ]
          },
          "metadata": {},
          "execution_count": 9
        }
      ]
    },
    {
      "cell_type": "markdown",
      "source": [
        "# 4. What happens if you try to access spam['foo'] if spam is {'bar': 100}?"
      ],
      "metadata": {
        "id": "wjKwQ02zUHYe"
      }
    },
    {
      "cell_type": "code",
      "source": [
        "spam = {'bar':100}\n",
        "spam['foo']\n",
        "#This will give us key error"
      ],
      "metadata": {
        "colab": {
          "base_uri": "https://localhost:8080/",
          "height": 208
        },
        "id": "KjhXP2VYUJrl",
        "outputId": "413986f6-dcf6-4ebe-b65e-7c4c77a97fee"
      },
      "execution_count": 10,
      "outputs": [
        {
          "output_type": "error",
          "ename": "KeyError",
          "evalue": "ignored",
          "traceback": [
            "\u001b[0;31m---------------------------------------------------------------------------\u001b[0m",
            "\u001b[0;31mKeyError\u001b[0m                                  Traceback (most recent call last)",
            "\u001b[0;32m<ipython-input-10-3d68fc6babd3>\u001b[0m in \u001b[0;36m<module>\u001b[0;34m\u001b[0m\n\u001b[1;32m      1\u001b[0m \u001b[0mspam\u001b[0m \u001b[0;34m=\u001b[0m \u001b[0;34m{\u001b[0m\u001b[0;34m'bar'\u001b[0m\u001b[0;34m:\u001b[0m\u001b[0;36m100\u001b[0m\u001b[0;34m}\u001b[0m\u001b[0;34m\u001b[0m\u001b[0;34m\u001b[0m\u001b[0m\n\u001b[0;32m----> 2\u001b[0;31m \u001b[0mspam\u001b[0m\u001b[0;34m[\u001b[0m\u001b[0;34m'foo'\u001b[0m\u001b[0;34m]\u001b[0m\u001b[0;34m\u001b[0m\u001b[0;34m\u001b[0m\u001b[0m\n\u001b[0m\u001b[1;32m      3\u001b[0m \u001b[0;31m#This will give us key error\u001b[0m\u001b[0;34m\u001b[0m\u001b[0;34m\u001b[0m\u001b[0;34m\u001b[0m\u001b[0m\n",
            "\u001b[0;31mKeyError\u001b[0m: 'foo'"
          ]
        }
      ]
    },
    {
      "cell_type": "markdown",
      "source": [
        "#5. If a dictionary is stored in spam, what is the difference between the expressions 'cat' in spam and 'cat' in spam.keys()?"
      ],
      "metadata": {
        "id": "BnV7Hzx8UUa4"
      }
    },
    {
      "cell_type": "code",
      "source": [
        "spam={'cat':200}\n",
        "'cat' in spam #Output is True.  \"'cat' in spam\" checks wheather cat is found as a key in spam. "
      ],
      "metadata": {
        "colab": {
          "base_uri": "https://localhost:8080/"
        },
        "id": "6qfSXlSPVRO0",
        "outputId": "40d9d6ce-07c7-4ac5-8a32-652badeb9cff"
      },
      "execution_count": 11,
      "outputs": [
        {
          "output_type": "execute_result",
          "data": {
            "text/plain": [
              "True"
            ]
          },
          "metadata": {},
          "execution_count": 11
        }
      ]
    },
    {
      "cell_type": "code",
      "source": [
        "'cat' in spam.keys()#Output is True.  \"'cat' in spam\" checks wheather cat is found as a key in spam. "
      ],
      "metadata": {
        "colab": {
          "base_uri": "https://localhost:8080/"
        },
        "id": "16p54rcNVdIg",
        "outputId": "f856096a-831c-4ea6-915e-ab37c1f5c604"
      },
      "execution_count": 12,
      "outputs": [
        {
          "output_type": "execute_result",
          "data": {
            "text/plain": [
              "True"
            ]
          },
          "metadata": {},
          "execution_count": 12
        }
      ]
    },
    {
      "cell_type": "markdown",
      "source": [
        "# 6. If a dictionary is stored in spam, what is the difference between the expressions 'cat' in spam and 'cat' in spam.values()?"
      ],
      "metadata": {
        "id": "7JL2TM_GVrTg"
      }
    },
    {
      "cell_type": "code",
      "source": [
        "spam={'cat':200}\n",
        "'cat' in spam  # checks wheather cat is found as a key in spam. \n",
        "'cat' in spam.values() # checks wheather cat is found as a value in spam.\n",
        "if ('cat' in spam) != ('cat' in spam.values()):\n",
        "  print(\"There is a difference between cat is found as a key: spam.keys() and cat is found as a value\n",
        "  :spam.values() \")\n",
        "else:\n",
        "  print(\"There is a no difference\")"
      ],
      "metadata": {
        "colab": {
          "base_uri": "https://localhost:8080/"
        },
        "id": "H2FYLWOUVuVN",
        "outputId": "ffb12007-7b8e-4345-ef16-1c42758bbc12"
      },
      "execution_count": 14,
      "outputs": [
        {
          "output_type": "stream",
          "name": "stdout",
          "text": [
            "There is a difference between cat is found as a key and cat is found as a value\n"
          ]
        }
      ]
    },
    {
      "cell_type": "markdown",
      "source": [
        "This is the difference! \n",
        "'cat' in spam  # checks wheather cat is found as a key in spam. \n",
        "'cat' in spam.values() # checks wheather cat is found as a value in spam."
      ],
      "metadata": {
        "id": "xqYgZshhWpCh"
      }
    },
    {
      "cell_type": "markdown",
      "source": [
        "# 7. What is a shortcut for the following code?\n",
        "if 'color' not in spam:\n",
        "spam['color'] = 'black'\n"
      ],
      "metadata": {
        "id": "SJBPuEnXWsjJ"
      }
    },
    {
      "cell_type": "code",
      "source": [
        "spam ={'cat':100}\n",
        "spam.setdefault('color','black')\n",
        "print(spam)"
      ],
      "metadata": {
        "colab": {
          "base_uri": "https://localhost:8080/"
        },
        "id": "b-XIh2W-Wwrf",
        "outputId": "cc770945-9c2e-41ed-886d-225a75c0ccb8"
      },
      "execution_count": 20,
      "outputs": [
        {
          "output_type": "stream",
          "name": "stdout",
          "text": [
            "{'cat': 100, 'color': 'black'}\n"
          ]
        }
      ]
    },
    {
      "cell_type": "markdown",
      "source": [
        "# 8. How do you \"pretty print\" dictionary values using which module and function?"
      ],
      "metadata": {
        "id": "ur4PS1FaYzyO"
      }
    },
    {
      "cell_type": "code",
      "source": [
        "import pprint # Importing Libraries \n",
        "DATA_DIST = [ {'Name': 'Shiva', 'Age': '23', 'Country': 'India'},\n",
        "  {'Name': 'Anna', 'Age': '44', 'Country': 'China'},\n",
        "  {'Name': 'Joe', 'Age': '29', 'Country': 'UK'},\n",
        "  {'Name': 'Chumlee', 'Age': '35', 'Country': 'USA'}\n",
        "]\n",
        "pprint.pprint(DATA_DIST) # Using print operation we are printing the datas "
      ],
      "metadata": {
        "colab": {
          "base_uri": "https://localhost:8080/"
        },
        "id": "CXCgkns4Y1kr",
        "outputId": "702afaa6-d8d5-48e5-c3ac-49e68f8c628c"
      },
      "execution_count": 21,
      "outputs": [
        {
          "output_type": "stream",
          "name": "stdout",
          "text": [
            "[{'Age': '23', 'Country': 'India', 'Name': 'Shiva'},\n",
            " {'Age': '44', 'Country': 'China', 'Name': 'Anna'},\n",
            " {'Age': '29', 'Country': 'UK', 'Name': 'Joe'},\n",
            " {'Age': '35', 'Country': 'USA', 'Name': 'Chumlee'}]\n"
          ]
        }
      ]
    },
    {
      "cell_type": "code",
      "source": [],
      "metadata": {
        "colab": {
          "base_uri": "https://localhost:8080/",
          "height": 36
        },
        "id": "Xl1l4S0EYFHM",
        "outputId": "ba1c7d16-cee7-4db8-ef35-882936b7c973"
      },
      "execution_count": 19,
      "outputs": [
        {
          "output_type": "execute_result",
          "data": {
            "text/plain": [
              "'Mustang'"
            ],
            "application/vnd.google.colaboratory.intrinsic+json": {
              "type": "string"
            }
          },
          "metadata": {},
          "execution_count": 19
        }
      ]
    },
    {
      "cell_type": "markdown",
      "source": [],
      "metadata": {
        "id": "cciRk4TCTgGF"
      }
    },
    {
      "cell_type": "markdown",
      "source": [],
      "metadata": {
        "id": "tgxNCVxkTaDM"
      }
    },
    {
      "cell_type": "markdown",
      "source": [],
      "metadata": {
        "id": "iRI_BFReKZd3"
      }
    },
    {
      "cell_type": "markdown",
      "source": [],
      "metadata": {
        "id": "7ZdwAijnKRZP"
      }
    }
  ]
}