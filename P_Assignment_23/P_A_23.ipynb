{
 "cells": [
  {
   "cell_type": "markdown",
   "id": "f70d3112-9179-4592-a65b-28854be9f859",
   "metadata": {},
   "source": [
    "#Program Assignment 23"
   ]
  },
  {
   "cell_type": "markdown",
   "id": "1b7e36f4-5ce1-4683-9e30-89ea8d941134",
   "metadata": {},
   "source": [
    "#Question 1\n",
    "Create a function that takes a number as an argument and returns True or False depending on whether the number is symmetrical or not. A number is symmetrical when it is the same as its reverse.\n",
    "Examples\n",
    "is_symmetrical(7227) ➞ True\n",
    "is_symmetrical(12567) ➞ False\n",
    "is_symmetrical(44444444) ➞ True\n",
    "is_symmetrical(9939) ➞ False\n",
    "is_symmetrical(1112111) ➞ True"
   ]
  },
  {
   "cell_type": "code",
   "execution_count": 1,
   "id": "933d243c-3754-4f73-bcf4-629e8d8db6e0",
   "metadata": {},
   "outputs": [],
   "source": [
    "def is_symmetrical(num):\n",
    "    # Convert the number to a string and get its reverse\n",
    "    str_num = str(num)\n",
    "    str_num_reverse = str_num[::-1]\n",
    "    \n",
    "    # Check if the original string is equal to its reverse\n",
    "    return str_num == str_num_reverse\n"
   ]
  },
  {
   "cell_type": "code",
   "execution_count": 2,
   "id": "79c97510-c792-440a-b977-baea2aba9a68",
   "metadata": {},
   "outputs": [
    {
     "data": {
      "text/plain": [
       "True"
      ]
     },
     "execution_count": 2,
     "metadata": {},
     "output_type": "execute_result"
    }
   ],
   "source": [
    "is_symmetrical(7227)"
   ]
  },
  {
   "cell_type": "markdown",
   "id": "54f7d286-726b-498f-8511-1e4934c63ea0",
   "metadata": {},
   "source": [
    "#Question 2\n",
    "Given a string of numbers separated by a comma and space, return the product of the numbers.\n",
    "Examples\n",
    "multiply_nums(\"2, 3\") ➞ 6\n",
    "\n",
    "multiply_nums(\"1, 2, 3, 4\") ➞ 24\n",
    "\n",
    "multiply_nums(\"54, 75, 453, 0\") ➞ 0\n",
    "\n",
    "multiply_nums(\"10, -2\") ➞ -20\n",
    "\n"
   ]
  },
  {
   "cell_type": "code",
   "execution_count": 4,
   "id": "5fe1987e-ee16-41cf-a159-d2035647da80",
   "metadata": {},
   "outputs": [],
   "source": [
    "def multiply_nums(nums):\n",
    "    # Split the string into a list of strings\n",
    "    nums_list = nums.split(', ')\n",
    "    \n",
    "    # Convert the strings to integers and multiply them together\n",
    "    product = 1\n",
    "    for num in nums_list:\n",
    "        product *= int(num)\n",
    "    \n",
    "    return product"
   ]
  },
  {
   "cell_type": "code",
   "execution_count": 5,
   "id": "aa5ffaeb-9204-4a2a-aa6b-2a29434ef3dc",
   "metadata": {},
   "outputs": [
    {
     "data": {
      "text/plain": [
       "6"
      ]
     },
     "execution_count": 5,
     "metadata": {},
     "output_type": "execute_result"
    }
   ],
   "source": [
    "multiply_nums(\"2, 3\")"
   ]
  },
  {
   "cell_type": "markdown",
   "id": "02ebf71a-7ef8-4090-a7f5-f7a9ca59d172",
   "metadata": {},
   "source": [
    "#Question 3\n",
    "Create a function that squares every digit of a number.\n",
    "Examples\n",
    "square_digits(9119) ➞ 811181\n",
    "\n",
    "square_digits(2483) ➞ 416649\n",
    "\n",
    "square_digits(3212) ➞ 9414\n",
    "Notes\n",
    "The function receives an integer and must return an integer."
   ]
  },
  {
   "cell_type": "code",
   "execution_count": 7,
   "id": "f78a6ff2-bbec-4e4b-b010-b95c4419eb11",
   "metadata": {},
   "outputs": [],
   "source": [
    "def square_digits(num):\n",
    "    result_str = \"\"\n",
    "    for char in str(num):\n",
    "        square = int(char) ** 2\n",
    "        result_str += str(square)\n",
    "    return int(result_str)"
   ]
  },
  {
   "cell_type": "code",
   "execution_count": 8,
   "id": "db2cdfe7-e27c-4843-97e6-61cfd1996881",
   "metadata": {},
   "outputs": [
    {
     "name": "stdout",
     "output_type": "stream",
     "text": [
      "811181\n"
     ]
    }
   ],
   "source": [
    "print(square_digits(9119)) "
   ]
  },
  {
   "cell_type": "markdown",
   "id": "97f1d70e-9a3f-45a9-8bcd-5bb664f445c3",
   "metadata": {},
   "source": [
    "#Question 4\n",
    "Create a function that sorts a list and removes all duplicate items from it.\n",
    "Examples\n",
    "setify([1, 3, 3, 5, 5]) ➞ [1, 3, 5]\n",
    "\n",
    "setify([4, 4, 4, 4]) ➞ [4]\n",
    "\n",
    "setify([5, 7, 8, 9, 10, 15]) ➞ [5, 7, 8, 9, 10, 15]\n",
    "\n",
    "setify([3, 3, 3, 2, 1]) ➞ [1, 2, 3]\n"
   ]
  },
  {
   "cell_type": "code",
   "execution_count": 10,
   "id": "47850a39-768c-4d2d-b104-a1de3f6f0924",
   "metadata": {},
   "outputs": [],
   "source": [
    "def setify(lst):\n",
    "    return sorted(list(set(lst)))"
   ]
  },
  {
   "cell_type": "code",
   "execution_count": 11,
   "id": "f6785337-7615-4d08-aaa1-6e236ce7b56c",
   "metadata": {},
   "outputs": [
    {
     "data": {
      "text/plain": [
       "[1, 3, 5]"
      ]
     },
     "execution_count": 11,
     "metadata": {},
     "output_type": "execute_result"
    }
   ],
   "source": [
    "setify([1, 3, 3, 5, 5])"
   ]
  },
  {
   "cell_type": "code",
   "execution_count": null,
   "id": "08afd94f-1ca0-4e3a-b871-54380fe8531d",
   "metadata": {},
   "outputs": [],
   "source": []
  }
 ],
 "metadata": {
  "kernelspec": {
   "display_name": "Python 3 (ipykernel)",
   "language": "python",
   "name": "python3"
  },
  "language_info": {
   "codemirror_mode": {
    "name": "ipython",
    "version": 3
   },
   "file_extension": ".py",
   "mimetype": "text/x-python",
   "name": "python",
   "nbconvert_exporter": "python",
   "pygments_lexer": "ipython3",
   "version": "3.10.6"
  }
 },
 "nbformat": 4,
 "nbformat_minor": 5
}
